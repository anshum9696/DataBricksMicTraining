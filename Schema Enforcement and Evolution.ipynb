{
 "cells": [
  {
   "cell_type": "markdown",
   "metadata": {
    "application/vnd.databricks.v1+cell": {
     "cellMetadata": {},
     "inputWidgets": {},
     "nuid": "8ec43ec0-a504-47db-9941-adbdc7fa1ee1",
     "showTitle": false,
     "tableResultSettingsMap": {},
     "title": ""
    }
   },
   "source": [
    "# Prerequestie"
   ]
  },
  {
   "cell_type": "markdown",
   "metadata": {
    "application/vnd.databricks.v1+cell": {
     "cellMetadata": {},
     "inputWidgets": {},
     "nuid": "3b5dee14-97f2-4903-a093-d5e9cd84d8ce",
     "showTitle": false,
     "tableResultSettingsMap": {},
     "title": ""
    }
   },
   "source": [
    "## Create DeltaTable"
   ]
  },
  {
   "cell_type": "code",
   "execution_count": 0,
   "metadata": {
    "application/vnd.databricks.v1+cell": {
     "cellMetadata": {
      "byteLimit": 2048000,
      "implicitDf": true,
      "rowLimit": 10000
     },
     "inputWidgets": {},
     "nuid": "5f3de342-7733-4e56-855b-e4f85985afaa",
     "showTitle": false,
     "tableResultSettingsMap": {},
     "title": ""
    }
   },
   "outputs": [],
   "source": [
    "%sql\n",
    "\n",
    "USE CATALOG dwlabdatabrickstest96_2249171740111810;\n",
    " \n",
    "CREATE TABLE quickstart_schema.users (\n",
    "  id INT,\n",
    "  name STRING,\n",
    "  dob DATE,\n",
    "  email STRING,\n",
    "  gender STRING,\n",
    "  country STRING,\n",
    "  region STRING,\n",
    "  city STRING,\n",
    "  asset INT,\n",
    "  marital_status STRING\n",
    ")"
   ]
  },
  {
   "cell_type": "code",
   "execution_count": 0,
   "metadata": {
    "application/vnd.databricks.v1+cell": {
     "cellMetadata": {
      "byteLimit": 2048000,
      "rowLimit": 10000
     },
     "inputWidgets": {},
     "nuid": "a482e7cc-3ae6-4c8e-a9df-42e06d95aae3",
     "showTitle": false,
     "tableResultSettingsMap": {},
     "title": ""
    }
   },
   "outputs": [],
   "source": [
    "df = spark.read.csv(\n",
    "    path=\"/Volumes/dwlabdatabrickstest96_2249171740111810/quickstart_schema/sandbox/dataset/user_dataset/users_001.csv\",\n",
    "    header=True,\n",
    "    inferSchema=True\n",
    ")\n",
    "df.write.saveAsTable(\"quickstart_schema.users\", mode=\"overwrite\")"
   ]
  },
  {
   "cell_type": "markdown",
   "metadata": {
    "application/vnd.databricks.v1+cell": {
     "cellMetadata": {},
     "inputWidgets": {},
     "nuid": "adaf6779-edd4-4e69-b1f3-3bbd2d3db286",
     "showTitle": false,
     "tableResultSettingsMap": {},
     "title": ""
    }
   },
   "source": [
    "## Read Delta Table"
   ]
  },
  {
   "cell_type": "code",
   "execution_count": 0,
   "metadata": {
    "application/vnd.databricks.v1+cell": {
     "cellMetadata": {
      "byteLimit": 2048000,
      "rowLimit": 10000
     },
     "inputWidgets": {},
     "nuid": "aaf11765-ffd5-4fc2-92f7-36a57197000c",
     "showTitle": false,
     "tableResultSettingsMap": {},
     "title": ""
    }
   },
   "outputs": [],
   "source": [
    "delta_Table = spark.read.table(\"quickstart_schema.users\")\n",
    "delta_Table.display()"
   ]
  },
  {
   "cell_type": "markdown",
   "metadata": {
    "application/vnd.databricks.v1+cell": {
     "cellMetadata": {},
     "inputWidgets": {},
     "nuid": "dae41b51-58e6-4584-b127-4804bd6013bb",
     "showTitle": false,
     "tableResultSettingsMap": {},
     "title": ""
    }
   },
   "source": [
    "## Read another file for schema enforcement\n",
    "> It will throw error"
   ]
  },
  {
   "cell_type": "code",
   "execution_count": 0,
   "metadata": {
    "application/vnd.databricks.v1+cell": {
     "cellMetadata": {
      "byteLimit": 2048000,
      "rowLimit": 10000
     },
     "inputWidgets": {},
     "nuid": "ac51a5fe-f0d4-4882-8d64-f48df817f36a",
     "showTitle": false,
     "tableResultSettingsMap": {},
     "title": ""
    }
   },
   "outputs": [],
   "source": [
    "spark.read.csv(\n",
    "    path=\"/Volumes/dwlabdatabrickstest96_2249171740111810/quickstart_schema/sandbox/dataset/user_dataset/users_006_new_column_education.csv\",\n",
    "    header=True,\n",
    "    inferSchema=True\n",
    ").write.mode(\"append\").saveAsTable(\"quickstart_schema.users\", mode=\"overwrite\")\n"
   ]
  },
  {
   "cell_type": "markdown",
   "metadata": {
    "application/vnd.databricks.v1+cell": {
     "cellMetadata": {},
     "inputWidgets": {},
     "nuid": "11d68bb9-5156-4212-b7e9-0f747d6cf7b4",
     "showTitle": false,
     "tableResultSettingsMap": {},
     "title": ""
    }
   },
   "source": [
    "## Solution - Schema Evolution \n",
    "1. Additional COlumn\n",
    "2.  Missing COlumn\n",
    "3.  Differnt DataTypes"
   ]
  },
  {
   "cell_type": "code",
   "execution_count": 0,
   "metadata": {
    "application/vnd.databricks.v1+cell": {
     "cellMetadata": {
      "byteLimit": 2048000,
      "rowLimit": 10000
     },
     "inputWidgets": {},
     "nuid": "768e24ad-4d18-49ed-853e-4d3fe1b4ac3d",
     "showTitle": false,
     "tableResultSettingsMap": {},
     "title": ""
    }
   },
   "outputs": [],
   "source": [
    "spark.read.csv(\n",
    "    path=\"/Volumes/dwlabdatabrickstest96_2249171740111810/quickstart_schema/sandbox/dataset/user_dataset/users_006_new_column_education.csv\",\n",
    "    header=True,\n",
    "    inferSchema=True\n",
    ").write.option(\"mergeSchema\", \"true\").mode(\"append\").saveAsTable(\"quickstart_schema.users\", mode=\"overwrite\")\n",
    "delta_Table.display()"
   ]
  },
  {
   "cell_type": "code",
   "execution_count": 0,
   "metadata": {
    "application/vnd.databricks.v1+cell": {
     "cellMetadata": {
      "byteLimit": 2048000,
      "implicitDf": true,
      "rowLimit": 10000
     },
     "inputWidgets": {},
     "nuid": "47cc8fa7-daa0-454c-8872-3351581e4f9e",
     "showTitle": false,
     "tableResultSettingsMap": {},
     "title": ""
    }
   },
   "outputs": [],
   "source": [
    "%sql \n",
    "DESCRIBE TABLE quickstart_schema.users;"
   ]
  },
  {
   "cell_type": "code",
   "execution_count": 0,
   "metadata": {
    "application/vnd.databricks.v1+cell": {
     "cellMetadata": {
      "byteLimit": 2048000,
      "implicitDf": true,
      "rowLimit": 10000
     },
     "inputWidgets": {},
     "nuid": "f9564bb3-1896-4d34-b344-4a84f9be5ff5",
     "showTitle": false,
     "tableResultSettingsMap": {},
     "title": ""
    }
   },
   "outputs": [],
   "source": [
    "%sql\n",
    "SELECT * FROM quickstart_schema.users WHERE id>2501 LIMIT 4"
   ]
  },
  {
   "cell_type": "markdown",
   "metadata": {
    "application/vnd.databricks.v1+cell": {
     "cellMetadata": {},
     "inputWidgets": {},
     "nuid": "ceb68d39-044c-4278-9310-a726217e1946",
     "showTitle": false,
     "tableResultSettingsMap": {},
     "title": ""
    }
   },
   "source": [
    "## Source with Less Columns - It will allow"
   ]
  },
  {
   "cell_type": "code",
   "execution_count": 0,
   "metadata": {
    "application/vnd.databricks.v1+cell": {
     "cellMetadata": {
      "byteLimit": 2048000,
      "rowLimit": 10000
     },
     "inputWidgets": {},
     "nuid": "d182ba2c-908c-43e2-9741-4585a609c57f",
     "showTitle": false,
     "tableResultSettingsMap": {},
     "title": ""
    }
   },
   "outputs": [],
   "source": [
    "df_less = spark.read.csv(\n",
    "    path=\"/Volumes/dwlabdatabrickstest96_2249171740111810/quickstart_schema/sandbox/dataset/user_dataset/users_012_less_columns.csv\",\n",
    "    header=True,\n",
    "    inferSchema=True\n",
    ")\n",
    "df_less.write.mode(\"append\").saveAsTable(\"quickstart_schema.users\", mode=\"overwrite\")\n",
    "delta_Table.display()"
   ]
  },
  {
   "cell_type": "code",
   "execution_count": 0,
   "metadata": {
    "application/vnd.databricks.v1+cell": {
     "cellMetadata": {
      "byteLimit": 2048000,
      "implicitDf": true,
      "rowLimit": 10000
     },
     "inputWidgets": {},
     "nuid": "1c7070fc-4454-4677-9c88-182d4cd318aa",
     "showTitle": false,
     "tableResultSettingsMap": {},
     "title": ""
    }
   },
   "outputs": [],
   "source": [
    "%sql\n",
    "SELECT * FROM quickstart_schema.users WHERE id>5501 LIMIT 4"
   ]
  },
  {
   "cell_type": "markdown",
   "metadata": {
    "application/vnd.databricks.v1+cell": {
     "cellMetadata": {},
     "inputWidgets": {},
     "nuid": "2124e86e-1591-414b-bbc1-011578a0d330",
     "showTitle": false,
     "tableResultSettingsMap": {},
     "title": ""
    }
   },
   "source": [
    "## Column with differnt Column names - Fail"
   ]
  },
  {
   "cell_type": "code",
   "execution_count": 0,
   "metadata": {
    "application/vnd.databricks.v1+cell": {
     "cellMetadata": {
      "byteLimit": 2048000,
      "rowLimit": 10000
     },
     "inputWidgets": {},
     "nuid": "d0a7c94f-08dd-49a3-8420-8b92db3d0189",
     "showTitle": false,
     "tableResultSettingsMap": {},
     "title": ""
    }
   },
   "outputs": [],
   "source": [
    "df_ColumnheaderNotMatching = spark.read.csv(\n",
    "    path=\"/Volumes/dwlabdatabrickstest96_2249171740111810/quickstart_schema/sandbox/dataset/user_dataset/users_013_less_columns_with_different_column_names.csv\",\n",
    "    header=True,\n",
    "    inferSchema=True\n",
    ")\n",
    "df_ColumnheaderNotMatching.write.mode(\"append\").saveAsTable(\"quickstart_schema.users\", mode=\"overwrite\")\n",
    "\n"
   ]
  },
  {
   "cell_type": "code",
   "execution_count": 0,
   "metadata": {
    "application/vnd.databricks.v1+cell": {
     "cellMetadata": {
      "byteLimit": 2048000,
      "rowLimit": 10000
     },
     "inputWidgets": {},
     "nuid": "a8ccff05-59b8-4b55-9de7-2383e22dd238",
     "showTitle": false,
     "tableResultSettingsMap": {},
     "title": ""
    }
   },
   "outputs": [],
   "source": [
    "df_ColumnheaderNotMatching.printSchema()"
   ]
  },
  {
   "cell_type": "markdown",
   "metadata": {
    "application/vnd.databricks.v1+cell": {
     "cellMetadata": {},
     "inputWidgets": {},
     "nuid": "8125155e-8573-4cd4-b9b0-29504722edee",
     "showTitle": false,
     "tableResultSettingsMap": {},
     "title": ""
    }
   },
   "source": [
    "### Solution 1  - Custom Schema"
   ]
  },
  {
   "cell_type": "code",
   "execution_count": 0,
   "metadata": {
    "application/vnd.databricks.v1+cell": {
     "cellMetadata": {
      "byteLimit": 2048000,
      "rowLimit": 10000
     },
     "inputWidgets": {},
     "nuid": "5feaee3a-266b-4d4c-b3eb-f78e8c8e7975",
     "showTitle": false,
     "tableResultSettingsMap": {},
     "title": ""
    }
   },
   "outputs": [],
   "source": [
    "from pyspark.sql.types import *\n",
    " \n",
    "USER_SCHEMA = StructType([\n",
    "    StructField(\"id\", IntegerType()),\n",
    "    StructField(\"name\", StringType()),\n",
    "    StructField(\"dob\", DateType()),\n",
    "    StructField(\"email\", StringType()),\n",
    "    StructField(\"gender\", StringType()),\n",
    "    StructField(\"country\", StringType()),\n",
    "    StructField(\"region\", StringType()),\n",
    "    StructField(\"city\", StringType()),\n",
    "    StructField(\"asset\", IntegerType()),\n",
    "    StructField(\"marital_status\", StringType()),\n",
    "    StructField(\"education\", StringType()),\n",
    "])\n",
    " \n",
    "df_ColumnheaderNotMatching = spark.read.csv(\n",
    "    path=\"/Volumes/dwlabdatabrickstest96_2249171740111810/quickstart_schema/sandbox/dataset/user_dataset/users_013_less_columns_with_different_column_names.csv\",\n",
    "    header=True,\n",
    "    inferSchema=True,\n",
    "    schema=USER_SCHEMA\n",
    ")\n",
    "df_ColumnheaderNotMatching.printSchema()\n",
    "df_ColumnheaderNotMatching.write.mode(\"append\").saveAsTable(\"quickstart_schema.users\")"
   ]
  },
  {
   "cell_type": "code",
   "execution_count": 0,
   "metadata": {
    "application/vnd.databricks.v1+cell": {
     "cellMetadata": {
      "byteLimit": 2048000,
      "rowLimit": 10000
     },
     "inputWidgets": {},
     "nuid": "33512ca6-a01d-4d84-a2f2-2b4c565968eb",
     "showTitle": false,
     "tableResultSettingsMap": {},
     "title": ""
    }
   },
   "outputs": [],
   "source": [
    "delta_Table.display()"
   ]
  },
  {
   "cell_type": "markdown",
   "metadata": {
    "application/vnd.databricks.v1+cell": {
     "cellMetadata": {},
     "inputWidgets": {},
     "nuid": "85c5e609-83de-47ae-aa8b-7cedca65b843",
     "showTitle": false,
     "tableResultSettingsMap": {},
     "title": ""
    }
   },
   "source": [
    "### Solution 02 - Adding ALIAS"
   ]
  },
  {
   "cell_type": "code",
   "execution_count": 0,
   "metadata": {
    "application/vnd.databricks.v1+cell": {
     "cellMetadata": {
      "byteLimit": 2048000,
      "rowLimit": 10000
     },
     "inputWidgets": {},
     "nuid": "bc2cc60a-9cbf-44c9-99b3-218d3a66e402",
     "showTitle": false,
     "tableResultSettingsMap": {},
     "title": ""
    }
   },
   "outputs": [],
   "source": [
    "from pyspark.sql.functions import col\n",
    "df_diffColName = spark.read.csv(\n",
    "    path=\"/Volumes/dwlabdatabrickstest96_2249171740111810/quickstart_schema/sandbox/dataset/user_dataset/users_013_less_columns_with_different_column_names.csv\",\n",
    "    header=True,\n",
    "    inferSchema=True\n",
    ")\n",
    "df_diffColName.printSchema()\n",
    "df_diffColName.select(col(\"user_id\").alias(\"id\"), col(\"full_name\").alias(\"name\")).write.mode(\n",
    "    \"append\"\n",
    ").saveAsTable(\"quickstart_schema.users\")"
   ]
  },
  {
   "cell_type": "code",
   "execution_count": 0,
   "metadata": {
    "application/vnd.databricks.v1+cell": {
     "cellMetadata": {
      "byteLimit": 2048000,
      "implicitDf": true,
      "rowLimit": 10000
     },
     "inputWidgets": {},
     "nuid": "aad606a0-ef02-4118-90f4-9f6b5ba4fe46",
     "showTitle": false,
     "tableResultSettingsMap": {
      "0": {
       "dataGridStateBlob": null,
       "filterBlob": "{\"version\":1,\"filterGroups\":[],\"syncTimestamp\":1760420833643}",
       "queryPlanFiltersBlob": "[]",
       "tableResultIndex": 0
      }
     },
     "title": ""
    }
   },
   "outputs": [],
   "source": [
    "%sql\n",
    "SELECT * FROM quickstart_schema.users WHERE id>5501 "
   ]
  },
  {
   "cell_type": "markdown",
   "metadata": {
    "application/vnd.databricks.v1+cell": {
     "cellMetadata": {},
     "inputWidgets": {},
     "nuid": "1802b2a4-e1f4-4010-b2f0-ed476a556c5f",
     "showTitle": false,
     "tableResultSettingsMap": {},
     "title": ""
    }
   },
   "source": [
    "## Source with Differnt Datatype "
   ]
  },
  {
   "cell_type": "markdown",
   "metadata": {
    "application/vnd.databricks.v1+cell": {
     "cellMetadata": {},
     "inputWidgets": {},
     "nuid": "13a141fc-3240-427c-b9d8-6ad7f2ef63a2",
     "showTitle": false,
     "tableResultSettingsMap": {},
     "title": ""
    }
   },
   "source": [
    "### Fail"
   ]
  },
  {
   "cell_type": "code",
   "execution_count": 0,
   "metadata": {
    "application/vnd.databricks.v1+cell": {
     "cellMetadata": {
      "byteLimit": 2048000,
      "rowLimit": 10000
     },
     "inputWidgets": {},
     "nuid": "38308fd9-33ab-472d-bd92-00e769c49e16",
     "showTitle": false,
     "tableResultSettingsMap": {},
     "title": ""
    }
   },
   "outputs": [],
   "source": [
    "df_diffDataType = spark.read.csv(\n",
    "    path=\"/Volumes/dwlabdatabrickstest96_2249171740111810/quickstart_schema/sandbox/dataset/user_dataset/users_013_datatype_mismatch_dob.csv\",\n",
    "    header=True,\n",
    "    inferSchema=True\n",
    ")\n",
    "\n",
    "df_diffDataType.write.option(\"mergeSchema\", \"true\").mode(\"append\").saveAsTable(\"quickstart_schema.users\", mode=\"overwrite\")\n",
    "delta_Table.display()"
   ]
  }
 ],
 "metadata": {
  "application/vnd.databricks.v1+notebook": {
   "computePreferences": null,
   "dashboards": [],
   "environmentMetadata": {
    "base_environment": "",
    "environment_version": "4"
   },
   "inputWidgetPreferences": null,
   "language": "python",
   "notebookMetadata": {
    "mostRecentlyExecutedCommandWithImplicitDF": {
     "commandId": 4959902439330347,
     "dataframes": [
      "_sqldf"
     ]
    },
    "pythonIndentUnit": 4
   },
   "notebookName": "Schema Enforcement and Evolution",
   "widgets": {}
  },
  "language_info": {
   "name": "python"
  }
 },
 "nbformat": 4,
 "nbformat_minor": 0
}
