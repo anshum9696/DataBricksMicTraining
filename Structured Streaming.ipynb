{
 "cells": [
  {
   "cell_type": "markdown",
   "metadata": {
    "application/vnd.databricks.v1+cell": {
     "cellMetadata": {},
     "inputWidgets": {},
     "nuid": "ad92980f-49dd-4f91-a290-409d483feec2",
     "showTitle": false,
     "tableResultSettingsMap": {},
     "title": ""
    }
   },
   "source": [
    "# Structure Stream "
   ]
  },
  {
   "cell_type": "code",
   "execution_count": 0,
   "metadata": {
    "application/vnd.databricks.v1+cell": {
     "cellMetadata": {
      "byteLimit": 2048000,
      "rowLimit": 10000
     },
     "inputWidgets": {},
     "nuid": "81be5c56-b342-4d49-a992-3b3d5e32dd6b",
     "showTitle": false,
     "tableResultSettingsMap": {},
     "title": ""
    }
   },
   "outputs": [],
   "source": [
    "from pyspark.sql.functions import *\n",
    " \n",
    "CRIME_SCHEMA = StructType([\n",
    "    StructField(\"code\", StringType()),\n",
    "    StructField(\"region\", StringType()),\n",
    "    StructField(\"type\", StringType()),\n",
    "])\n",
    " \n",
    "input_df = spark.readStream.load(format=\"csv\",\n",
    "                                 path=\"/Volumes/dwlabdatabrickstest96_3634670058799488/quickstart_schema/sandbox/dataset/crime_data/input/\",\n",
    "                                 schema=CRIME_SCHEMA)\n",
    " \n",
    "#  Incremental Query\n",
    "result_df = input_df.filter(col(\"region\")==\"Downtown\")\n",
    " \n",
    "result_df.writeStream.format(\"delta\").option(\"checkpointLocation\",\"/Volumes/dwlabdatabrickstest96_3634670058799488/quickstart_schema/sandbox/dataset/crime_data/crime_input/\").outputMode(\"APPEND\").toTable(\"dwlabdatabrickstest96_3634670058799488.quickstart_schema.crime\")"
   ]
  },
  {
   "cell_type": "code",
   "execution_count": 0,
   "metadata": {
    "application/vnd.databricks.v1+cell": {
     "cellMetadata": {
      "byteLimit": 2048000,
      "implicitDf": true,
      "rowLimit": 10000
     },
     "inputWidgets": {},
     "nuid": "a08003d6-b697-4710-88a4-35b88a291983",
     "showTitle": false,
     "tableResultSettingsMap": {},
     "title": ""
    }
   },
   "outputs": [],
   "source": [
    "%sql\n",
    "Select * from dwlabdatabrickstest96_3634670058799488.quickstart_schema.crime;"
   ]
  },
  {
   "cell_type": "code",
   "execution_count": 0,
   "metadata": {
    "application/vnd.databricks.v1+cell": {
     "cellMetadata": {
      "byteLimit": 2048000,
      "implicitDf": true,
      "rowLimit": 10000
     },
     "inputWidgets": {},
     "nuid": "58044c6c-338e-40d2-b1e7-d449959243cc",
     "showTitle": false,
     "tableResultSettingsMap": {
      "0": {
       "dataGridStateBlob": "{\"version\":1,\"tableState\":{\"columnPinning\":{\"left\":[\"#row_number#\"],\"right\":[]},\"columnSizing\":{},\"columnVisibility\":{}},\"settings\":{\"columns\":{}},\"syncTimestamp\":1760509337391}",
       "filterBlob": null,
       "queryPlanFiltersBlob": null,
       "tableResultIndex": 0
      }
     },
     "title": ""
    }
   },
   "outputs": [],
   "source": [
    "%sql\n",
    "Select * from dwlabdatabrickstest96_3634670058799488.quickstart_schema.crime;"
   ]
  },
  {
   "cell_type": "code",
   "execution_count": 0,
   "metadata": {
    "application/vnd.databricks.v1+cell": {
     "cellMetadata": {
      "byteLimit": 2048000,
      "rowLimit": 10000
     },
     "inputWidgets": {},
     "nuid": "d830a50a-72d1-4e9f-af58-3ab765e6b2d1",
     "showTitle": false,
     "tableResultSettingsMap": {},
     "title": ""
    }
   },
   "outputs": [],
   "source": [
    "from pyspark.sql.functions import *\n",
    " \n",
    "CRIME_SCHEMA = StructType([\n",
    "    StructField(\"code\", StringType()),\n",
    "    StructField(\"region\", StringType()),\n",
    "    StructField(\"type\", StringType()),\n",
    "])\n",
    " \n",
    "input_df = spark.readStream.load(format=\"csv\",\n",
    "                                 path=\"/Volumes/dwlabdatabrickstest96_3634670058799488/quickstart_schema/sandbox/dataset/crime_data/input/\",\n",
    "                                 schema=CRIME_SCHEMA)\n",
    " \n",
    "#  Incremental Query\n",
    "result_df = input_df.groupBy(\"region\").count().withColumnRenamed(\"count\", \"Newcount\")\n",
    " \n",
    "result_df.writeStream.format(\"delta\").option(\"checkpointLocation\",\"/Volumes/dwlabdatabrickstest96_3634670058799488/quickstart_schema/sandbox/dataset/crime_data/crime_input_new\").outputMode(\"COMPLETE\").toTable(\"dwlabdatabrickstest96_3634670058799488.quickstart_schema.crimenew\")"
   ]
  },
  {
   "cell_type": "code",
   "execution_count": 0,
   "metadata": {
    "application/vnd.databricks.v1+cell": {
     "cellMetadata": {
      "byteLimit": 2048000,
      "implicitDf": true,
      "rowLimit": 10000
     },
     "inputWidgets": {},
     "nuid": "ce35e74b-cb49-454c-a54e-10f434f5f412",
     "showTitle": false,
     "tableResultSettingsMap": {},
     "title": ""
    }
   },
   "outputs": [],
   "source": [
    "%sql\n",
    "Select * from dwlabdatabrickstest96_3634670058799488.quickstart_schema.crimenew;"
   ]
  }
 ],
 "metadata": {
  "application/vnd.databricks.v1+notebook": {
   "computePreferences": null,
   "dashboards": [],
   "environmentMetadata": {
    "base_environment": "",
    "environment_version": "4"
   },
   "inputWidgetPreferences": null,
   "language": "python",
   "notebookMetadata": {
    "mostRecentlyExecutedCommandWithImplicitDF": {
     "commandId": 7414159401739390,
     "dataframes": [
      "_sqldf"
     ]
    },
    "pythonIndentUnit": 4
   },
   "notebookName": "Structured Streaming",
   "widgets": {}
  },
  "language_info": {
   "name": "python"
  }
 },
 "nbformat": 4,
 "nbformat_minor": 0
}
