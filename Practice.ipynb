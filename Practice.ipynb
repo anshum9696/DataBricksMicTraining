{
 "cells": [
  {
   "cell_type": "code",
   "execution_count": 0,
   "metadata": {
    "application/vnd.databricks.v1+cell": {
     "cellMetadata": {
      "byteLimit": 2048000,
      "rowLimit": 10000
     },
     "inputWidgets": {},
     "nuid": "37e35f4f-24ad-411f-8ce7-4210e5b0464d",
     "showTitle": false,
     "tableResultSettingsMap": {},
     "title": ""
    }
   },
   "outputs": [],
   "source": [
    "df = (spark.read\n",
    "  .format(\"jdbc\")\n",
    "  .option(\"url\", \"jdbc:mysql://sql12.freesqldatabase.com:3306/sql12802532\")\n",
    "  .option(\"dbtable\", \"Customers\")\n",
    "  .option(\"user\", \"sql12802532\")\n",
    "  .option(\"password\", \"Gw7sc5YjJ2\")\n",
    "  .load()\n",
    ")\n",
    "\n",
    "df.show()\n"
   ]
  },
  {
   "cell_type": "code",
   "execution_count": 0,
   "metadata": {
    "application/vnd.databricks.v1+cell": {
     "cellMetadata": {
      "byteLimit": 2048000,
      "rowLimit": 10000
     },
     "inputWidgets": {},
     "nuid": "9d002f68-26aa-41bc-b94b-e761bc0c1bd8",
     "showTitle": false,
     "tableResultSettingsMap": {},
     "title": ""
    }
   },
   "outputs": [],
   "source": [
    "jdbc_url = \"jdbc:mysql://sql12.freesqldatabase.com:3306/sql12802532\"\n",
    "jdbc_properties = {\"user\": \"sql12802532\", \"password\": \"Gw7sc5YjJ2\"}\n",
    " \n",
    "spark.read.jdbc(url=jdbc_url, table=\"Customers\", properties=jdbc_properties).display()"
   ]
  }
 ],
 "metadata": {
  "application/vnd.databricks.v1+notebook": {
   "computePreferences": null,
   "dashboards": [],
   "environmentMetadata": {
    "base_environment": "",
    "environment_version": "4"
   },
   "inputWidgetPreferences": null,
   "language": "python",
   "notebookMetadata": {
    "pythonIndentUnit": 4
   },
   "notebookName": "Practice",
   "widgets": {}
  },
  "language_info": {
   "name": "python"
  }
 },
 "nbformat": 4,
 "nbformat_minor": 0
}
