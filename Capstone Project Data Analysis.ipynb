{
 "cells": [
  {
   "cell_type": "markdown",
   "metadata": {
    "application/vnd.databricks.v1+cell": {
     "cellMetadata": {
      "byteLimit": 2048000,
      "rowLimit": 10000
     },
     "inputWidgets": {},
     "nuid": "2731a2f9-1702-489c-ae06-020d75ef8f37",
     "showTitle": false,
     "tableResultSettingsMap": {},
     "title": ""
    }
   },
   "source": [
    "### Distinct Country name in Dropdown"
   ]
  },
  {
   "cell_type": "code",
   "execution_count": 0,
   "metadata": {
    "application/vnd.databricks.v1+cell": {
     "cellMetadata": {
      "byteLimit": 2048000,
      "rowLimit": 10000
     },
     "inputWidgets": {},
     "nuid": "d8e0ebc5-4e38-46b5-8be7-37fedbbc91ed",
     "showTitle": false,
     "tableResultSettingsMap": {
      "0": {
       "dataGridStateBlob": "{\"version\":1,\"tableState\":{\"columnPinning\":{\"left\":[\"#row_number#\"],\"right\":[]},\"columnSizing\":{},\"columnVisibility\":{}},\"settings\":{\"columns\":{}},\"syncTimestamp\":1760074221097}",
       "filterBlob": null,
       "queryPlanFiltersBlob": null,
       "tableResultIndex": 0
      }
     },
     "title": ""
    }
   },
   "outputs": [],
   "source": [
    "df = spark.read.csv(\n",
    "    path=\"/Volumes/quickstart_catalog/quickstart_schema/sandbox/dataset/user_dataset/users_002.csv\",\n",
    "    header=True,\n",
    "    inferSchema=True, \n",
    "    sep=\",\"  \n",
    ")\n",
    "df.display()"
   ]
  },
  {
   "cell_type": "code",
   "execution_count": 0,
   "metadata": {
    "application/vnd.databricks.v1+cell": {
     "cellMetadata": {
      "byteLimit": 2048000,
      "rowLimit": 10000
     },
     "inputWidgets": {},
     "nuid": "ff6b01b0-bb9d-4f8d-a00e-6f4578551ba6",
     "showTitle": false,
     "tableResultSettingsMap": {},
     "title": ""
    }
   },
   "outputs": [],
   "source": [
    "from pyspark.sql.functions import col\n",
    "\n",
    "def get_unique_country_names(user_df):\n",
    "    countryNames = (\n",
    "        user_df.select(col(\"country\"))\n",
    "        .distinct()\n",
    "        .rdd.map(lambda x: x.country)\n",
    "        .collect()\n",
    "    )\n",
    "    countryNames.insert(0, \"SELECT\")\n",
    "    return countryNames\n",
    "\n",
    "get_unique_country_names(df)"
   ]
  },
  {
   "cell_type": "markdown",
   "metadata": {
    "application/vnd.databricks.v1+cell": {
     "cellMetadata": {
      "byteLimit": 2048000,
      "rowLimit": 10000
     },
     "inputWidgets": {},
     "nuid": "6e8beb70-e1ea-4561-9b45-3ab729c6f5af",
     "showTitle": false,
     "tableResultSettingsMap": {},
     "title": ""
    }
   },
   "source": [
    "### Populate Country Name"
   ]
  },
  {
   "cell_type": "code",
   "execution_count": 0,
   "metadata": {
    "application/vnd.databricks.v1+cell": {
     "cellMetadata": {
      "byteLimit": 2048000,
      "rowLimit": 10000
     },
     "inputWidgets": {},
     "nuid": "3529f04c-545e-4334-b0e2-c2ed57da9fb2",
     "showTitle": false,
     "tableResultSettingsMap": {},
     "title": ""
    }
   },
   "outputs": [],
   "source": [
    "dbutils.widgets.dropdown(name=\"List of Countries\",\n",
    "                         defaultValue=\"SELECT\",\n",
    "                         choices=get_unique_country_names(df),\n",
    "                         )"
   ]
  },
  {
   "cell_type": "markdown",
   "metadata": {
    "application/vnd.databricks.v1+cell": {
     "cellMetadata": {
      "byteLimit": 2048000,
      "rowLimit": 10000
     },
     "inputWidgets": {},
     "nuid": "4649d417-0579-4b60-b867-683009215d82",
     "showTitle": false,
     "tableResultSettingsMap": {},
     "title": ""
    }
   },
   "source": [
    "### Populate State Droupdown based on Country Selected"
   ]
  },
  {
   "cell_type": "code",
   "execution_count": 0,
   "metadata": {
    "application/vnd.databricks.v1+cell": {
     "cellMetadata": {
      "byteLimit": 2048000,
      "rowLimit": 10000
     },
     "inputWidgets": {},
     "nuid": "94afc544-fd0f-4d87-bdda-662ac763f970",
     "showTitle": false,
     "tableResultSettingsMap": {},
     "title": ""
    }
   },
   "outputs": [],
   "source": [
    "def get_region_names_for(Country, user_df):\n",
    "    regionName = (\n",
    "        user_df.filter(col(\"country\") == Country)\n",
    "        .select(col(\"region\"))\n",
    "        .distinct()\n",
    "        .rdd.map(lambda x: x.region)\n",
    "        .collect()\n",
    "    )\n",
    "    regionName.insert(0, \"SELECT\")\n",
    "    return regionName\n",
    "\n",
    "get_region_names_for(\"India\", df)"
   ]
  },
  {
   "cell_type": "code",
   "execution_count": 0,
   "metadata": {
    "application/vnd.databricks.v1+cell": {
     "cellMetadata": {
      "byteLimit": 2048000,
      "rowLimit": 10000
     },
     "inputWidgets": {},
     "nuid": "a65b202f-4d7e-4ec6-9433-c958d5b02f15",
     "showTitle": false,
     "tableResultSettingsMap": {},
     "title": ""
    }
   },
   "outputs": [],
   "source": [
    "selected_country = dbutils.widgets.get(\"List of Countries\")\n",
    "regions = get_region_names_for(selected_country,df)\n",
    "print(f\"Selected Country= {selected_country}, Regions= {regions}\")\n",
    "\n",
    " \n",
    " \n",
    " "
   ]
  },
  {
   "cell_type": "code",
   "execution_count": 0,
   "metadata": {
    "application/vnd.databricks.v1+cell": {
     "cellMetadata": {
      "byteLimit": 2048000,
      "rowLimit": 10000
     },
     "inputWidgets": {},
     "nuid": "5b795e30-4d90-4edb-8a11-f8aee8561be1",
     "showTitle": false,
     "tableResultSettingsMap": {},
     "title": ""
    }
   },
   "outputs": [],
   "source": [
    "dbutils.widgets.dropdown(name=\"region\",\n",
    "                         defaultValue=\"SELECT\",\n",
    "                         choices=get_region_names_for(selected_country,df),\n",
    "                         )"
   ]
  },
  {
   "cell_type": "markdown",
   "metadata": {
    "application/vnd.databricks.v1+cell": {
     "cellMetadata": {
      "byteLimit": 2048000,
      "rowLimit": 10000
     },
     "inputWidgets": {},
     "nuid": "12b16e0c-152a-4218-b599-809f3209b014",
     "showTitle": false,
     "tableResultSettingsMap": {},
     "title": ""
    }
   },
   "source": [
    "## Analysis"
   ]
  },
  {
   "cell_type": "code",
   "execution_count": 0,
   "metadata": {
    "application/vnd.databricks.v1+cell": {
     "cellMetadata": {
      "byteLimit": 2048000,
      "rowLimit": 10000
     },
     "inputWidgets": {},
     "nuid": "5bfe0b78-8e2d-4a09-bcb7-039111e0a952",
     "showTitle": false,
     "tableResultSettingsMap": {},
     "title": ""
    }
   },
   "outputs": [
    {
     "output_type": "display_data",
     "data": {
      "text/plain": [
       "Databricks visualization. Run in Databricks to view."
      ]
     },
     "metadata": {
      "application/vnd.databricks.v1.subcommand+json": {
       "baseErrorDetails": null,
       "bindings": {},
       "collapsed": false,
       "command": "%python\n__backend_agg_display_orig = display\n__backend_agg_dfs = []\ndef __backend_agg_display_new(df):\n    __backend_agg_df_modules = [\"pandas.core.frame\", \"databricks.koalas.frame\", \"pyspark.sql.dataframe\", \"pyspark.pandas.frame\", \"pyspark.sql.connect.dataframe\"]\n    if (type(df).__module__ in __backend_agg_df_modules and type(df).__name__ == 'DataFrame') or isinstance(df, list):\n        __backend_agg_dfs.append(df)\n\ndisplay = __backend_agg_display_new\n\ndef __backend_agg_user_code_fn():\n    import base64\n    exec(base64.standard_b64decode(\"ZnJvbSBweXNwYXJrLnNxbC5mdW5jdGlvbnMgaW1wb3J0IGNvdW50CnNlbGVjdGVkX2NvdW50cnkgPSBkYnV0aWxzLndpZGdldHMuZ2V0KCJMaXN0IG9mIENvdW50cmllcyIpCnNlbGVjdGVkX3JlZ2lvbiA9IGRidXRpbHMud2lkZ2V0cy5nZXQoInJlZ2lvbiIpCmRmLmdyb3VwQnkoImNvdW50cnkiKS5hZ2coY291bnQoIioiKSkuZGlzcGxheSgp\").decode())\n\ntry:\n    # run user code\n    __backend_agg_user_code_fn()\n\n    #reset display function\n    display = __backend_agg_display_orig\n\n    if len(__backend_agg_dfs) > 0:\n        # create a temp view\n        if type(__backend_agg_dfs[0]).__module__ == \"databricks.koalas.frame\":\n            # koalas dataframe\n            __backend_agg_dfs[0].to_spark().createOrReplaceTempView(\"DatabricksView2a0f903\")\n        elif type(__backend_agg_dfs[0]).__module__ == \"pandas.core.frame\" or isinstance(__backend_agg_dfs[0], list):\n            # pandas dataframe\n            spark.createDataFrame(__backend_agg_dfs[0]).createOrReplaceTempView(\"DatabricksView2a0f903\")\n        else:\n            __backend_agg_dfs[0].createOrReplaceTempView(\"DatabricksView2a0f903\")\n        #run backend agg\n        display(spark.sql(\"\"\"WITH q AS (select * from DatabricksView2a0f903) SELECT `country`,COUNT(`country`) `column_1674103b278` FROM q GROUP BY `country`\"\"\"))\n    else:\n        displayHTML(\"dataframe no longer exists. If you're using dataframe.display(), use display(dataframe) instead.\")\n\n\nfinally:\n    spark.sql(\"drop view if exists DatabricksView2a0f903\")\n    display = __backend_agg_display_orig\n    del __backend_agg_display_new\n    del __backend_agg_display_orig\n    del __backend_agg_dfs\n    del __backend_agg_user_code_fn\n\n",
       "commandTitle": "Visualization 1",
       "commandType": "auto",
       "commandVersion": 0,
       "commentThread": [],
       "commentsVisible": false,
       "contentSha256Hex": null,
       "customPlotOptions": {
        "redashChart": [
         {
          "key": "type",
          "value": "CHART"
         },
         {
          "key": "options",
          "value": {
           "alignYAxesAtZero": true,
           "coefficient": 1,
           "columnConfigurationMap": {
            "x": {
             "column": "country",
             "id": "column_1674103b272"
            },
            "y": [
             {
              "column": "country",
              "id": "column_1674103b278",
              "transform": "COUNT"
             }
            ]
           },
           "dateTimeFormat": "DD/MM/YYYY HH:mm",
           "direction": {
            "type": "counterclockwise"
           },
           "error_y": {
            "type": "data",
            "visible": true
           },
           "globalSeriesType": "pie",
           "isAggregationOn": true,
           "legend": {
            "traceorder": "normal"
           },
           "missingValuesAsZero": true,
           "numberFormat": "0,0.[00000]",
           "percentFormat": "0[.]00%",
           "series": {
            "error_y": {
             "type": "data",
             "visible": true
            },
            "stacking": null
           },
           "seriesOptions": {
            "column_1674103b278": {
             "type": "pie",
             "yAxis": 0
            }
           },
           "showDataLabels": true,
           "sizemode": "diameter",
           "sortX": true,
           "sortY": true,
           "swappedAxes": false,
           "textFormat": "",
           "useAggregationsUi": true,
           "valuesOptions": {},
           "version": 2,
           "xAxis": {
            "labels": {
             "enabled": true
            },
            "type": "-"
           },
           "yAxis": [
            {
             "type": "-"
            },
            {
             "opposite": true,
             "type": "-"
            }
           ]
          }
         }
        ]
       },
       "datasetPreviewNameToCmdIdMap": {},
       "diffDeletes": [],
       "diffInserts": [],
       "displayType": "redashChart",
       "error": null,
       "errorDetails": null,
       "errorSummary": null,
       "errorTraceType": null,
       "finishTime": 1760077381752,
       "globalVars": {},
       "guid": "",
       "height": "auto",
       "hideCommandCode": false,
       "hideCommandResult": false,
       "iPythonMetadata": null,
       "inputWidgets": {},
       "isLockedInExamMode": false,
       "latestAssumeRoleInfo": null,
       "latestUser": "a user",
       "latestUserId": null,
       "listResultMetadata": [
        [
         "table",
         2
        ],
        [
         "mimeBundle",
         null
        ]
       ],
       "metadata": {
        "byteLimit": 2048000,
        "rowLimit": 10000
       },
       "nuid": "728b8113-9a41-4b27-8caa-798ccb67ce7f",
       "origId": 0,
       "parentHierarchy": [],
       "pivotAggregation": null,
       "pivotColumns": null,
       "position": 10.0,
       "resultDbfsErrorMessage": null,
       "resultDbfsStatus": "INLINED_IN_TREE",
       "results": null,
       "showCommandTitle": false,
       "startTime": 1760077381356,
       "state": "input",
       "streamStates": {},
       "subcommandOptions": {
        "queryPlan": {
         "groups": [
          {
           "column": "country",
           "type": "column"
          }
         ],
         "selects": [
          {
           "column": "country",
           "type": "column"
          },
          {
           "alias": "column_1674103b278",
           "args": [
            {
             "column": "country",
             "type": "column"
            }
           ],
           "function": "COUNT",
           "type": "function"
          }
         ]
        }
       },
       "submitTime": 1760077380948,
       "subtype": "tableResultSubCmd.visualization",
       "tableResultIndex": 0,
       "tableResultSettingsMap": {},
       "useConsistentColors": false,
       "version": "CommandV1",
       "width": "auto",
       "workflows": null,
       "xColumns": null,
       "yColumns": null
      }
     },
     "output_type": "display_data"
    }
   ],
   "source": [
    "from pyspark.sql.functions import count\n",
    "selected_country = dbutils.widgets.get(\"List of Countries\")\n",
    "selected_region = dbutils.widgets.get(\"region\")\n",
    "df.groupBy(\"country\").agg(count(\"*\")).display()"
   ]
  },
  {
   "cell_type": "code",
   "execution_count": 0,
   "metadata": {
    "application/vnd.databricks.v1+cell": {
     "cellMetadata": {
      "byteLimit": 2048000,
      "rowLimit": 10000
     },
     "inputWidgets": {},
     "nuid": "cd392b27-d66e-44a6-a23b-688dc418912b",
     "showTitle": false,
     "tableResultSettingsMap": {},
     "title": ""
    }
   },
   "outputs": [],
   "source": [
    "def get_city_names_for(regions, user_df):\n",
    "    cityName = (\n",
    "        user_df.filter(col(\"region\") == regions)\n",
    "        .select(col(\"city\"))\n",
    "        .distinct()\n",
    "        .rdd.map(lambda x: x.city)\n",
    "        .collect()\n",
    "    )\n",
    "    cityName.insert(0, \"SELECT\")\n",
    "    return cityName\n",
    "\n",
    "get_city_names_for(\"Lakshadweep\", df)"
   ]
  },
  {
   "cell_type": "code",
   "execution_count": 0,
   "metadata": {
    "application/vnd.databricks.v1+cell": {
     "cellMetadata": {
      "byteLimit": 2048000,
      "rowLimit": 10000
     },
     "inputWidgets": {},
     "nuid": "57a60a9a-7e36-48f0-b175-72d44f98e88a",
     "showTitle": false,
     "tableResultSettingsMap": {},
     "title": ""
    }
   },
   "outputs": [],
   "source": [
    "selected_region = dbutils.widgets.get(\"region\")\n",
    "allcity = get_city_names_for(selected_region,df)\n",
    "print(f\"Selected Country= {selected_country}, Regions= {regions}, City= {allcity}\")\n"
   ]
  },
  {
   "cell_type": "code",
   "execution_count": 0,
   "metadata": {
    "application/vnd.databricks.v1+cell": {
     "cellMetadata": {
      "byteLimit": 2048000,
      "rowLimit": 10000
     },
     "inputWidgets": {},
     "nuid": "a04b5fab-6a25-4605-a419-897a8c268899",
     "showTitle": false,
     "tableResultSettingsMap": {},
     "title": ""
    }
   },
   "outputs": [],
   "source": [
    "dbutils.widgets.dropdown(name=\"cities\",\n",
    "                         defaultValue=\"SELECT\",\n",
    "                         choices= get_city_names_for(selected_region,df),\n",
    "                         )"
   ]
  },
  {
   "cell_type": "markdown",
   "metadata": {
    "application/vnd.databricks.v1+cell": {
     "cellMetadata": {},
     "inputWidgets": {},
     "nuid": "e0cef367-f71e-48ea-b861-060433804a02",
     "showTitle": false,
     "tableResultSettingsMap": {},
     "title": ""
    }
   },
   "source": [
    "#### What percentage of Male and Female for the Selected city"
   ]
  },
  {
   "cell_type": "code",
   "execution_count": 0,
   "metadata": {
    "application/vnd.databricks.v1+cell": {
     "cellMetadata": {
      "byteLimit": 2048000,
      "rowLimit": 10000
     },
     "inputWidgets": {},
     "nuid": "d406c9d1-323d-46b2-a1bf-fed83fcc949d",
     "showTitle": false,
     "tableResultSettingsMap": {},
     "title": ""
    }
   },
   "outputs": [],
   "source": [
    "selected_country = dbutils.widgets.get(\"List of Countries\")\n",
    "selected_region = dbutils.widgets.get(\"region\")\n",
    "selected_city = dbutils.widgets.get(\"cities\")\n"
   ]
  },
  {
   "cell_type": "code",
   "execution_count": 0,
   "metadata": {
    "application/vnd.databricks.v1+cell": {
     "cellMetadata": {
      "byteLimit": 2048000,
      "rowLimit": 10000
     },
     "inputWidgets": {},
     "nuid": "ee3281ab-09f0-4623-8705-642599068ca9",
     "showTitle": false,
     "tableResultSettingsMap": {},
     "title": ""
    }
   },
   "outputs": [],
   "source": [
    "from pyspark.sql.functions import col, count\n",
    "def calculate_percentage_for(country, region, city):\n",
    "    filtered_records = df.filter(\n",
    "        (col(\"country\") == country) & (col(\"region\") == region) & (col(\"city\") == city)\n",
    "    )\n",
    "    total_count = filtered_records.count()\n",
    "    if total_count > 0:\n",
    "        gender_counts = filtered_records.groupBy(\"gender\").agg(\n",
    "            count(\"*\").alias(\"count\")\n",
    "        )\n",
    "        percentage_df = gender_counts.withColumn(\n",
    "            \"percentage\", (col(\"count\") / total_count) * 100\n",
    "        )\n",
    "        return percentage_df\n",
    "    else:\n",
    "        return 0\n",
    "\n",
    "calculate_percentage_for(selected_country, selected_region, selected_city)\n",
    "    "
   ]
  },
  {
   "cell_type": "code",
   "execution_count": 0,
   "metadata": {
    "application/vnd.databricks.v1+cell": {
     "cellMetadata": {
      "byteLimit": 2048000,
      "rowLimit": 10000
     },
     "inputWidgets": {},
     "nuid": "70acf78c-4bd1-4a07-92b1-c9064a060676",
     "showTitle": false,
     "tableResultSettingsMap": {},
     "title": ""
    }
   },
   "outputs": [
    {
     "output_type": "display_data",
     "data": {
      "text/plain": [
       "Databricks visualization. Run in Databricks to view."
      ]
     },
     "metadata": {
      "application/vnd.databricks.v1.subcommand+json": {
       "baseErrorDetails": null,
       "bindings": {},
       "collapsed": false,
       "command": "%python\n__backend_agg_display_orig = display\n__backend_agg_dfs = []\ndef __backend_agg_display_new(df):\n    __backend_agg_df_modules = [\"pandas.core.frame\", \"databricks.koalas.frame\", \"pyspark.sql.dataframe\", \"pyspark.pandas.frame\", \"pyspark.sql.connect.dataframe\"]\n    if (type(df).__module__ in __backend_agg_df_modules and type(df).__name__ == 'DataFrame') or isinstance(df, list):\n        __backend_agg_dfs.append(df)\n\ndisplay = __backend_agg_display_new\n\ndef __backend_agg_user_code_fn():\n    import base64\n    exec(base64.standard_b64decode(\"ZGlzcGxheShjYWxjdWxhdGVfcGVyY2VudGFnZV9mb3Ioc2VsZWN0ZWRfY291bnRyeSwgc2VsZWN0ZWRfcmVnaW9uLCBzZWxlY3RlZF9jaXR5KSk=\").decode())\n\ntry:\n    # run user code\n    __backend_agg_user_code_fn()\n\n    #reset display function\n    display = __backend_agg_display_orig\n\n    if len(__backend_agg_dfs) > 0:\n        # create a temp view\n        if type(__backend_agg_dfs[0]).__module__ == \"databricks.koalas.frame\":\n            # koalas dataframe\n            __backend_agg_dfs[0].to_spark().createOrReplaceTempView(\"DatabricksViewe235873\")\n        elif type(__backend_agg_dfs[0]).__module__ == \"pandas.core.frame\" or isinstance(__backend_agg_dfs[0], list):\n            # pandas dataframe\n            spark.createDataFrame(__backend_agg_dfs[0]).createOrReplaceTempView(\"DatabricksViewe235873\")\n        else:\n            __backend_agg_dfs[0].createOrReplaceTempView(\"DatabricksViewe235873\")\n        #run backend agg\n        display(spark.sql(\"\"\"WITH q AS (select * from DatabricksViewe235873) SELECT `gender`,SUM(`percentage`) `column_1674103b322`,`count` FROM q GROUP BY `count`,`gender`\"\"\"))\n    else:\n        displayHTML(\"dataframe no longer exists. If you're using dataframe.display(), use display(dataframe) instead.\")\n\n\nfinally:\n    spark.sql(\"drop view if exists DatabricksViewe235873\")\n    display = __backend_agg_display_orig\n    del __backend_agg_display_new\n    del __backend_agg_display_orig\n    del __backend_agg_dfs\n    del __backend_agg_user_code_fn\n\n",
       "commandTitle": "Visualization 1",
       "commandType": "auto",
       "commandVersion": 0,
       "commentThread": [],
       "commentsVisible": false,
       "contentSha256Hex": null,
       "customPlotOptions": {
        "redashChart": [
         {
          "key": "type",
          "value": "CHART"
         },
         {
          "key": "options",
          "value": {
           "alignYAxesAtZero": true,
           "coefficient": 1,
           "columnConfigurationMap": {
            "series": {
             "column": "count",
             "id": "column_1674103b326"
            },
            "x": {
             "column": "gender",
             "id": "column_1674103b324"
            },
            "y": [
             {
              "column": "percentage",
              "id": "column_1674103b322",
              "transform": "SUM"
             }
            ]
           },
           "dateTimeFormat": "DD/MM/YYYY HH:mm",
           "direction": {
            "type": "counterclockwise"
           },
           "error_y": {
            "type": "data",
            "visible": true
           },
           "globalSeriesType": "pie",
           "isAggregationOn": true,
           "legend": {
            "traceorder": "normal"
           },
           "missingValuesAsZero": true,
           "numberFormat": "0,0.[00000]",
           "percentFormat": "0[.]00%",
           "series": {
            "error_y": {
             "type": "data",
             "visible": true
            },
            "stacking": null
           },
           "seriesOptions": {
            "column_1674103b322": {
             "name": "percentage",
             "type": "pie",
             "yAxis": 0
            }
           },
           "showDataLabels": true,
           "sizemode": "diameter",
           "sortX": true,
           "sortY": true,
           "swappedAxes": false,
           "textFormat": "",
           "useAggregationsUi": true,
           "valuesOptions": {},
           "version": 2,
           "xAxis": {
            "labels": {
             "enabled": true
            },
            "type": "-"
           },
           "yAxis": [
            {
             "type": "-"
            },
            {
             "opposite": true,
             "type": "-"
            }
           ]
          }
         }
        ]
       },
       "datasetPreviewNameToCmdIdMap": {},
       "diffDeletes": [],
       "diffInserts": [],
       "displayType": "redashChart",
       "error": null,
       "errorDetails": null,
       "errorSummary": null,
       "errorTraceType": null,
       "finishTime": 0,
       "globalVars": {},
       "guid": "",
       "height": "auto",
       "hideCommandCode": false,
       "hideCommandResult": false,
       "iPythonMetadata": null,
       "inputWidgets": {},
       "isLockedInExamMode": false,
       "latestAssumeRoleInfo": null,
       "latestUser": "a user",
       "latestUserId": null,
       "listResultMetadata": null,
       "metadata": {},
       "nuid": "2814efc6-27bd-4dff-986d-d5f6de61eca6",
       "origId": 0,
       "parentHierarchy": [],
       "pivotAggregation": null,
       "pivotColumns": null,
       "position": 17.0,
       "resultDbfsErrorMessage": null,
       "resultDbfsStatus": "INLINED_IN_TREE",
       "results": null,
       "showCommandTitle": false,
       "startTime": 0,
       "state": "input",
       "streamStates": {},
       "subcommandOptions": {
        "queryPlan": {
         "groups": [
          {
           "column": "gender",
           "type": "column"
          },
          {
           "column": "count",
           "type": "column"
          }
         ],
         "selects": [
          {
           "column": "gender",
           "type": "column"
          },
          {
           "alias": "column_1674103b322",
           "args": [
            {
             "column": "percentage",
             "type": "column"
            }
           ],
           "function": "SUM",
           "type": "function"
          },
          {
           "column": "count",
           "type": "column"
          }
         ]
        }
       },
       "submitTime": 0,
       "subtype": "tableResultSubCmd.visualization",
       "tableResultIndex": 0,
       "tableResultSettingsMap": {},
       "useConsistentColors": false,
       "version": "CommandV1",
       "width": "auto",
       "workflows": null,
       "xColumns": null,
       "yColumns": null
      }
     },
     "output_type": "display_data"
    }
   ],
   "source": [
    "display(calculate_percentage_for(selected_country, selected_region, selected_city))"
   ]
  },
  {
   "cell_type": "markdown",
   "metadata": {
    "application/vnd.databricks.v1+cell": {
     "cellMetadata": {},
     "inputWidgets": {},
     "nuid": "531796cc-2255-46ee-a126-d8412fae4bc0",
     "showTitle": false,
     "tableResultSettingsMap": {},
     "title": ""
    }
   },
   "source": [
    "### Trainer Code"
   ]
  },
  {
   "cell_type": "code",
   "execution_count": 0,
   "metadata": {
    "application/vnd.databricks.v1+cell": {
     "cellMetadata": {},
     "inputWidgets": {},
     "nuid": "5ec4e287-4547-46c2-b5cb-f17a3f21afd8",
     "showTitle": false,
     "tableResultSettingsMap": {},
     "title": ""
    }
   },
   "outputs": [],
   "source": [
    "from pyspark.sql.functions import col, count, round\n",
    " \n",
    "def calculate_percentage_for(country, region):\n",
    "    filtered_records = user_df.filter((col(\"country\") == country) & (col(\"region\") == region))\n",
    "    total_records = filtered_records.count()\n",
    " \n",
    "    result = (filtered_records.groupBy(\"gender\")\n",
    "              .agg(count(\"*\").alias(\"count\"))\n",
    "              .withColumn(\"percentage\", round((col(\"count\") / total_records) * 100, 2))\n",
    "             )\n",
    "    return result\n",
    " \n",
    "result = calculate_percentage_for(dbutils.widgets.get(\"countries\"), dbutils.widgets.get(\"region\"))\n",
    "display(result.select(\"gender\",\"percentage\"))"
   ]
  },
  {
   "cell_type": "markdown",
   "metadata": {
    "application/vnd.databricks.v1+cell": {
     "cellMetadata": {},
     "inputWidgets": {},
     "nuid": "ffc8498d-cf5e-40bd-ab8d-73ed7e18a41b",
     "showTitle": false,
     "tableResultSettingsMap": {},
     "title": ""
    }
   },
   "source": [
    "## Topics to learn \n",
    "  1. Learn about JOIN Using Dataframe\n",
    "  2. FreeSQLDatabase -- Connect and read data \n"
   ]
  }
 ],
 "metadata": {
  "application/vnd.databricks.v1+notebook": {
   "computePreferences": null,
   "dashboards": [],
   "environmentMetadata": {
    "base_environment": "",
    "environment_version": "4"
   },
   "inputWidgetPreferences": null,
   "language": "python",
   "notebookMetadata": {
    "pythonIndentUnit": 4
   },
   "notebookName": "Capstone Project Data Analysis",
   "widgets": {
    "List of Countries": {
     "currentValue": "India",
     "nuid": "e93d2184-83a3-4200-a20a-8c3cb6273a1c",
     "typedWidgetInfo": {
      "autoCreated": false,
      "defaultValue": "SELECT",
      "label": null,
      "name": "List of Countries",
      "options": {
       "widgetDisplayType": "Dropdown",
       "choices": [
        "SELECT",
        "United States",
        "India"
       ],
       "fixedDomain": true,
       "multiselect": false
      },
      "parameterDataType": "String"
     },
     "widgetInfo": {
      "widgetType": "dropdown",
      "defaultValue": "SELECT",
      "label": null,
      "name": "List of Countries",
      "options": {
       "widgetType": "dropdown",
       "autoCreated": null,
       "choices": [
        "SELECT",
        "United States",
        "India"
       ]
      }
     }
    },
    "cities": {
     "currentValue": "Kohima",
     "nuid": "3357f3a8-4fa9-4135-bb9a-f7575cbb1c47",
     "typedWidgetInfo": {
      "autoCreated": false,
      "defaultValue": "SELECT",
      "label": null,
      "name": "cities",
      "options": {
       "widgetDisplayType": "Dropdown",
       "choices": [
        "SELECT",
        "Kohima"
       ],
       "fixedDomain": true,
       "multiselect": false
      },
      "parameterDataType": "String"
     },
     "widgetInfo": {
      "widgetType": "dropdown",
      "defaultValue": "SELECT",
      "label": null,
      "name": "cities",
      "options": {
       "widgetType": "dropdown",
       "autoCreated": null,
       "choices": [
        "SELECT",
        "Kohima"
       ]
      }
     }
    },
    "region": {
     "currentValue": "Nagaland",
     "nuid": "7f6aa3c3-cde2-49de-aed1-247e4634684e",
     "typedWidgetInfo": {
      "autoCreated": false,
      "defaultValue": "SELECT",
      "label": null,
      "name": "region",
      "options": {
       "widgetDisplayType": "Dropdown",
       "choices": [
        "SELECT",
        "Utah",
        "Hawaii",
        "Minnesota",
        "Ohio",
        "Arkansas",
        "Oregon",
        "Texas",
        "Pennsylvania",
        "Connecticut",
        "Nebraska",
        "Vermont",
        "Nevada",
        "Washington",
        "Illinois",
        "Oklahoma",
        "Delaware",
        "Alaska",
        "Missouri",
        "Georgia",
        "Montana",
        "Virginia",
        "Michigan",
        "Wyoming",
        "Kansas",
        "Maryland",
        "Alabama",
        "Arizona",
        "Iowa",
        "Massachusetts",
        "Kentucky",
        "Louisiana",
        "Mississippi",
        "Tennessee",
        "Florida",
        "Indiana",
        "Idaho",
        "California",
        "Wisconsin",
        "Colorado",
        "Maine"
       ],
       "fixedDomain": true,
       "multiselect": false
      },
      "parameterDataType": "String"
     },
     "widgetInfo": {
      "widgetType": "dropdown",
      "defaultValue": "SELECT",
      "label": null,
      "name": "region",
      "options": {
       "widgetType": "dropdown",
       "autoCreated": null,
       "choices": [
        "SELECT",
        "Utah",
        "Hawaii",
        "Minnesota",
        "Ohio",
        "Arkansas",
        "Oregon",
        "Texas",
        "Pennsylvania",
        "Connecticut",
        "Nebraska",
        "Vermont",
        "Nevada",
        "Washington",
        "Illinois",
        "Oklahoma",
        "Delaware",
        "Alaska",
        "Missouri",
        "Georgia",
        "Montana",
        "Virginia",
        "Michigan",
        "Wyoming",
        "Kansas",
        "Maryland",
        "Alabama",
        "Arizona",
        "Iowa",
        "Massachusetts",
        "Kentucky",
        "Louisiana",
        "Mississippi",
        "Tennessee",
        "Florida",
        "Indiana",
        "Idaho",
        "California",
        "Wisconsin",
        "Colorado",
        "Maine"
       ]
      }
     }
    }
   }
  },
  "language_info": {
   "name": "python"
  }
 },
 "nbformat": 4,
 "nbformat_minor": 0
}
