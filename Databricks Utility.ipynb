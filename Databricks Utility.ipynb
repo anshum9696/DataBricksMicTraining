{
 "cells": [
  {
   "cell_type": "markdown",
   "metadata": {
    "application/vnd.databricks.v1+cell": {
     "cellMetadata": {},
     "inputWidgets": {},
     "nuid": "e4573b5e-8813-42c2-a62c-f308bdabcf6a",
     "showTitle": false,
     "tableResultSettingsMap": {},
     "title": ""
    }
   },
   "source": [
    "# Introduction to Databricks Utilities\n",
    "> Databricks Utlities (dbutils) is a set of tools provided by databricks to enhance the functionality of notebook and workflows in DB environment.\n",
    "\n",
    "## Types of Databricks Utilities\n",
    " 1. File System Utilities\n",
    " 2. Notebook Utilities\n",
    " 3. widgets Utilities\n"
   ]
  },
  {
   "cell_type": "markdown",
   "metadata": {
    "application/vnd.databricks.v1+cell": {
     "cellMetadata": {},
     "inputWidgets": {},
     "nuid": "078a905d-ddfd-4a40-8939-e25855023226",
     "showTitle": false,
     "tableResultSettingsMap": {},
     "title": ""
    }
   },
   "source": [
    "### File System Utilities"
   ]
  },
  {
   "cell_type": "code",
   "execution_count": 0,
   "metadata": {
    "application/vnd.databricks.v1+cell": {
     "cellMetadata": {
      "byteLimit": 2048000,
      "rowLimit": 10000
     },
     "inputWidgets": {},
     "nuid": "b445376e-5e50-46dd-9a64-569babed8396",
     "showTitle": false,
     "tableResultSettingsMap": {},
     "title": ""
    }
   },
   "outputs": [],
   "source": [
    "dbutils.fs.help()\n"
   ]
  },
  {
   "cell_type": "markdown",
   "metadata": {
    "application/vnd.databricks.v1+cell": {
     "cellMetadata": {},
     "inputWidgets": {},
     "nuid": "018fc1bd-da70-484a-a4da-a35d3856926d",
     "showTitle": false,
     "tableResultSettingsMap": {},
     "title": ""
    }
   },
   "source": [
    "### Widget Utilities"
   ]
  },
  {
   "cell_type": "code",
   "execution_count": 0,
   "metadata": {
    "application/vnd.databricks.v1+cell": {
     "cellMetadata": {
      "byteLimit": 2048000,
      "rowLimit": 10000
     },
     "inputWidgets": {},
     "nuid": "1bad36f6-7d82-45e9-817f-3e90a5591e18",
     "showTitle": false,
     "tableResultSettingsMap": {},
     "title": ""
    }
   },
   "outputs": [],
   "source": [
    "dbutils.widgets.help()"
   ]
  },
  {
   "cell_type": "code",
   "execution_count": 0,
   "metadata": {
    "application/vnd.databricks.v1+cell": {
     "cellMetadata": {
      "byteLimit": 2048000,
      "rowLimit": 10000
     },
     "inputWidgets": {},
     "nuid": "405149bf-4e41-4b10-95a0-1fb1bdc45e0d",
     "showTitle": false,
     "tableResultSettingsMap": {},
     "title": ""
    }
   },
   "outputs": [],
   "source": [
    "dbutils.widgets.combobox(name=\"param_combo_top_n_records\",\n",
    "                         defaultValue=\"1\",\n",
    "                         choices=[\"1\", \"2\", \"3\", \"4\", \"5\"],\n",
    "                         label=\"Top N Records\")"
   ]
  },
  {
   "cell_type": "code",
   "execution_count": 0,
   "metadata": {
    "application/vnd.databricks.v1+cell": {
     "cellMetadata": {
      "byteLimit": 2048000,
      "rowLimit": 10000
     },
     "inputWidgets": {},
     "nuid": "d77b2d73-7024-495f-9c3e-9367d6054062",
     "showTitle": false,
     "tableResultSettingsMap": {},
     "title": ""
    }
   },
   "outputs": [],
   "source": [
    "dbutils.widgets.get(\"param_combo_top_n_records\")"
   ]
  },
  {
   "cell_type": "code",
   "execution_count": 0,
   "metadata": {
    "application/vnd.databricks.v1+cell": {
     "cellMetadata": {
      "byteLimit": 2048000,
      "rowLimit": 10000
     },
     "inputWidgets": {},
     "nuid": "574682bf-f570-4776-a00f-a9146b3fed6b",
     "showTitle": false,
     "tableResultSettingsMap": {},
     "title": ""
    }
   },
   "outputs": [],
   "source": [
    "dbutils.widgets.dropdown(name=\"environment\",\n",
    "                         defaultValue=\"DEV\",\n",
    "                         choices=[\"DEV\",\"PROD\"],\n",
    "                         label=\"Environment\")"
   ]
  },
  {
   "cell_type": "code",
   "execution_count": 0,
   "metadata": {
    "application/vnd.databricks.v1+cell": {
     "cellMetadata": {
      "byteLimit": 2048000,
      "rowLimit": 10000
     },
     "inputWidgets": {},
     "nuid": "b85b7d5d-911d-4517-a310-cf11da4ded52",
     "showTitle": false,
     "tableResultSettingsMap": {},
     "title": ""
    }
   },
   "outputs": [],
   "source": [
    "dbutils.widgets.multiselect(name=\"user_input\",\n",
    "                         defaultValue=\"2G\",\n",
    "                         choices=[\"2G\",\"3G\",\"4G\",\"5G\"],\n",
    "                         label=\"Techology\")"
   ]
  },
  {
   "cell_type": "markdown",
   "metadata": {
    "application/vnd.databricks.v1+cell": {
     "cellMetadata": {},
     "inputWidgets": {},
     "nuid": "3868090d-80b1-444e-b258-3c2cd7c137fa",
     "showTitle": false,
     "tableResultSettingsMap": {},
     "title": ""
    }
   },
   "source": [
    "### Notebook Utilities"
   ]
  },
  {
   "cell_type": "code",
   "execution_count": 0,
   "metadata": {
    "application/vnd.databricks.v1+cell": {
     "cellMetadata": {},
     "inputWidgets": {},
     "nuid": "a35d8d3a-44f5-47f8-8849-d86a77d99cda",
     "showTitle": false,
     "tableResultSettingsMap": {},
     "title": ""
    }
   },
   "outputs": [],
   "source": []
  }
 ],
 "metadata": {
  "application/vnd.databricks.v1+notebook": {
   "computePreferences": null,
   "dashboards": [],
   "environmentMetadata": {
    "base_environment": "",
    "environment_version": "4"
   },
   "inputWidgetPreferences": null,
   "language": "python",
   "notebookMetadata": {
    "pythonIndentUnit": 4
   },
   "notebookName": "Databricks Utility",
   "widgets": {
    "environment": {
     "currentValue": "DEV",
     "nuid": "5aced143-0d05-47f1-a1f5-792e432ed12d",
     "typedWidgetInfo": {
      "autoCreated": false,
      "defaultValue": "DEV",
      "label": "Environment",
      "name": "environment",
      "options": {
       "widgetDisplayType": "Dropdown",
       "choices": [
        "DEV",
        "PROD"
       ],
       "fixedDomain": true,
       "multiselect": false
      },
      "parameterDataType": "String"
     },
     "widgetInfo": {
      "widgetType": "dropdown",
      "defaultValue": "DEV",
      "label": "Environment",
      "name": "environment",
      "options": {
       "widgetType": "dropdown",
       "autoCreated": false,
       "choices": [
        "DEV",
        "PROD"
       ]
      }
     }
    },
    "param_combo_top_n_records": {
     "currentValue": "2",
     "nuid": "2e58760f-ab74-496a-bc9c-0db6b653367a",
     "typedWidgetInfo": {
      "autoCreated": false,
      "defaultValue": "1",
      "label": "Top N Records",
      "name": "param_combo_top_n_records",
      "options": {
       "widgetDisplayType": "Dropdown",
       "choices": [
        "1",
        "2",
        "3",
        "4",
        "5"
       ],
       "fixedDomain": false,
       "multiselect": false
      },
      "parameterDataType": "String"
     },
     "widgetInfo": {
      "widgetType": "combobox",
      "defaultValue": "1",
      "label": "Top N Records",
      "name": "param_combo_top_n_records",
      "options": {
       "widgetType": "dropdown",
       "autoCreated": false,
       "choices": [
        "1",
        "2",
        "3",
        "4",
        "5"
       ]
      }
     }
    },
    "user_input": {
     "currentValue": "2G,3G",
     "nuid": "0e2514c0-5606-407f-9488-502d35f8cf24",
     "typedWidgetInfo": {
      "autoCreated": false,
      "defaultValue": "2G",
      "label": "Techology",
      "name": "user_input",
      "options": {
       "widgetDisplayType": "Dropdown",
       "choices": [
        "2G",
        "3G",
        "4G",
        "5G"
       ],
       "fixedDomain": true,
       "multiselect": true
      },
      "parameterDataType": "String"
     },
     "widgetInfo": {
      "widgetType": "multiselect",
      "defaultValue": "2G",
      "label": "Techology",
      "name": "user_input",
      "options": {
       "widgetType": "dropdown",
       "autoCreated": false,
       "choices": [
        "2G",
        "3G",
        "4G",
        "5G"
       ]
      }
     }
    }
   }
  },
  "language_info": {
   "name": "python"
  }
 },
 "nbformat": 4,
 "nbformat_minor": 0
}
