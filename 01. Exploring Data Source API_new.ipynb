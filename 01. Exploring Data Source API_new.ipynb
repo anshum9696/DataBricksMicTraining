{
 "cells": [
  {
   "cell_type": "code",
   "execution_count": 0,
   "metadata": {
    "application/vnd.databricks.v1+cell": {
     "cellMetadata": {
      "byteLimit": 2048000,
      "rowLimit": 10000
     },
     "inputWidgets": {},
     "nuid": "9fc3ecb1-2f2b-4b31-aa45-31c9b47de255",
     "showTitle": false,
     "tableResultSettingsMap": {},
     "title": ""
    }
   },
   "outputs": [
    {
     "output_type": "execute_result",
     "data": {
      "text/plain": [
       "pyspark.sql.connect.session.SparkSession"
      ]
     },
     "execution_count": 3,
     "metadata": {},
     "output_type": "execute_result"
    }
   ],
   "source": [
    "type(spark)"
   ]
  },
  {
   "cell_type": "code",
   "execution_count": 0,
   "metadata": {
    "application/vnd.databricks.v1+cell": {
     "cellMetadata": {
      "byteLimit": 2048000,
      "rowLimit": 10000
     },
     "inputWidgets": {},
     "nuid": "7f8af6b0-222f-4806-bb2c-4a2f911baed8",
     "showTitle": false,
     "tableResultSettingsMap": {},
     "title": ""
    }
   },
   "outputs": [
    {
     "output_type": "stream",
     "name": "stdout",
     "output_type": "stream",
     "text": [
      "<class 'pyspark.sql.connect.readwriter.DataFrameReader'>\n"
     ]
    }
   ],
   "source": [
    "dfr = spark.read\n",
    "print(type(dfr))"
   ]
  },
  {
   "cell_type": "markdown",
   "metadata": {
    "application/vnd.databricks.v1+cell": {
     "cellMetadata": {},
     "inputWidgets": {},
     "nuid": "3af4e66d-280a-4f37-a85b-96414e9fb56d",
     "showTitle": false,
     "tableResultSettingsMap": {},
     "title": ""
    }
   },
   "source": [
    "## Create DataFrame From CSV"
   ]
  },
  {
   "cell_type": "code",
   "execution_count": 0,
   "metadata": {
    "application/vnd.databricks.v1+cell": {
     "cellMetadata": {
      "byteLimit": 2048000,
      "rowLimit": 10000
     },
     "inputWidgets": {},
     "nuid": "01456cee-ea61-4176-970a-32ad07ec2904",
     "showTitle": false,
     "tableResultSettingsMap": {},
     "title": ""
    }
   },
   "outputs": [
    {
     "output_type": "display_data",
     "data": {
      "text/html": [
       "<style scoped>\n",
       "  .ansiout {\n",
       "    display: block;\n",
       "    unicode-bidi: embed;\n",
       "    white-space: pre-wrap;\n",
       "    word-wrap: break-word;\n",
       "    word-break: break-all;\n",
       "    font-family: \"Menlo\", \"Monaco\", \"Consolas\", \"Ubuntu Mono\", \"Source Code Pro\", monospace;\n",
       "    font-size: 13px;\n",
       "    color: #555;\n",
       "    margin-left: 4px;\n",
       "    line-height: 19px;\n",
       "  }\n",
       "</style>"
      ]
     },
     "metadata": {
      "application/vnd.databricks.v1+output": {
       "arguments": {},
       "data": "",
       "errorSummary": "The cluster was unhealthy or has been terminated. Please restart the cluster or attach this notebook to a different cluster.",
       "errorTraceType": null,
       "metadata": {},
       "type": "ipynbError"
      }
     },
     "output_type": "display_data"
    }
   ],
   "source": [
    "dfr = spark.read\n",
    "df = dfr.csv(\"/Volumes/quickstart_catalog/quickstart_schema/sandbox/dataset/sample_dataset/users_001.csv\")\n",
    "print(type(df))"
   ]
  },
  {
   "cell_type": "code",
   "execution_count": 0,
   "metadata": {
    "application/vnd.databricks.v1+cell": {
     "cellMetadata": {
      "byteLimit": 2048000,
      "rowLimit": 10000
     },
     "collapsed": true,
     "inputWidgets": {},
     "nuid": "ac22d14a-27f0-44d5-afdb-8915668e6821",
     "showTitle": false,
     "tableResultSettingsMap": {},
     "title": ""
    }
   },
   "outputs": [
    {
     "output_type": "display_data",
     "data": {
      "text/html": [
       "<style scoped>\n",
       "  .table-result-container {\n",
       "    max-height: 300px;\n",
       "    overflow: auto;\n",
       "  }\n",
       "  table, th, td {\n",
       "    border: 1px solid black;\n",
       "    border-collapse: collapse;\n",
       "  }\n",
       "  th, td {\n",
       "    padding: 5px;\n",
       "  }\n",
       "  th {\n",
       "    text-align: left;\n",
       "  }\n",
       "</style><div class='table-result-container'><table class='table-result'><thead style='background-color: white'><tr><th>_c0</th><th>_c1</th><th>_c2</th><th>_c3</th><th>_c4</th></tr></thead><tbody><tr><td>id</td><td>age</td><td>gen</td><td>designation</td><td>salary</td></tr><tr><td>1</td><td>26</td><td>M</td><td>Technician</td><td>85711</td></tr><tr><td>2</td><td>53</td><td>F</td><td>Other</td><td>94043</td></tr><tr><td>3</td><td>23</td><td>M</td><td>Writer</td><td>32067</td></tr><tr><td>4</td><td>26</td><td>M</td><td>technician</td><td>43537</td></tr><tr><td>5</td><td>33</td><td>F</td><td>Other</td><td>15213</td></tr><tr><td>6</td><td>42</td><td>M</td><td>Cheif Executive Officer</td><td>98101</td></tr><tr><td>7</td><td>57</td><td>M</td><td>Administrator</td><td>91344</td></tr><tr><td>8</td><td>36</td><td>M</td><td>Administrator</td><td>05201</td></tr><tr><td>9</td><td>29</td><td>M</td><td>Student</td><td>01002</td></tr><tr><td>10</td><td>53</td><td>M</td><td>Lawyer</td><td>90703</td></tr><tr><td>11</td><td>39</td><td>F</td><td>Other</td><td>30329</td></tr><tr><td>12</td><td>28</td><td>F</td><td>Other</td><td>06405</td></tr><tr><td>13</td><td>47</td><td>M</td><td>Educator</td><td>29206</td></tr><tr><td>14</td><td>45</td><td>M</td><td>Scientist</td><td>55106</td></tr><tr><td>15</td><td>49</td><td>F</td><td>Educator</td><td>97301</td></tr><tr><td>16</td><td>21</td><td>M</td><td>Entertainment</td><td>10309</td></tr><tr><td>17</td><td>30</td><td>M</td><td>Programmer</td><td>06355</td></tr><tr><td>18</td><td>35</td><td>F</td><td>Other</td><td>37212</td></tr><tr><td>19</td><td>40</td><td>M</td><td>Librarian</td><td>02138</td></tr><tr><td>20</td><td>42</td><td>F</td><td>Homemaker</td><td>95660</td></tr><tr><td>21</td><td>26</td><td>M</td><td>Writer</td><td>30068</td></tr><tr><td>22</td><td>25</td><td>M</td><td>Writer</td><td>40206</td></tr><tr><td>23</td><td>30</td><td>F</td><td>Artist</td><td>48197</td></tr><tr><td>24</td><td>21</td><td>F</td><td>Artist</td><td>94533</td></tr><tr><td>25</td><td>39</td><td>M</td><td>Engineer</td><td>55107</td></tr><tr><td>26</td><td>49</td><td>M</td><td>Engineer</td><td>21044</td></tr><tr><td>27</td><td>40</td><td>F</td><td>Librarian</td><td>30030</td></tr><tr><td>28</td><td>32</td><td>M</td><td>Writer</td><td>55369</td></tr><tr><td>29</td><td>41</td><td>M</td><td>Programmer</td><td>94043</td></tr><tr><td>30</td><td>7</td><td>M</td><td>Student</td><td>55436</td></tr><tr><td>31</td><td>24</td><td>M</td><td>Artist</td><td>10003</td></tr><tr><td>32</td><td>28</td><td>F</td><td>Student</td><td>78741</td></tr><tr><td>33</td><td>23</td><td>M</td><td>Student</td><td>27510</td></tr><tr><td>34</td><td>38</td><td>F</td><td>Administrator</td><td>42141</td></tr><tr><td>35</td><td>20</td><td>F</td><td>Homemaker</td><td>42459</td></tr><tr><td>36</td><td>19</td><td>F</td><td>Student</td><td>93117</td></tr><tr><td>37</td><td>23</td><td>M</td><td>Student</td><td>55105</td></tr><tr><td>38</td><td>28</td><td>F</td><td>Other</td><td>54467</td></tr><tr><td>39</td><td>41</td><td>M</td><td>Entertainment</td><td>01040</td></tr><tr><td>40</td><td>38</td><td>M</td><td>Scientist</td><td>27514</td></tr><tr><td>41</td><td>33</td><td>M</td><td>Engineer</td><td>80525</td></tr><tr><td>42</td><td>30</td><td>M</td><td>Administrator</td><td>17870</td></tr><tr><td>43</td><td>29</td><td>F</td><td>Librarian</td><td>20854</td></tr><tr><td>44</td><td>26</td><td>M</td><td>Technician</td><td>46260</td></tr><tr><td>45</td><td>29</td><td>M</td><td>Programmer</td><td>50233</td></tr><tr><td>46</td><td>27</td><td>F</td><td>marketing</td><td>46538</td></tr><tr><td>47</td><td>53</td><td>M</td><td>marketing</td><td>07102</td></tr><tr><td>48</td><td>45</td><td>M</td><td>Administrator</td><td>12550</td></tr><tr><td>49</td><td>23</td><td>F</td><td>Student</td><td>76111</td></tr><tr><td>50</td><td>21</td><td>M</td><td>Writer</td><td>52245</td></tr><tr><td>51</td><td>28</td><td>M</td><td>Educator</td><td>16509</td></tr><tr><td>52</td><td>18</td><td>F</td><td>Student</td><td>55105</td></tr><tr><td>53</td><td>26</td><td>M</td><td>Programmer</td><td>55414</td></tr><tr><td>54</td><td>22</td><td>M</td><td>Cheif Executive Officer</td><td>66315</td></tr><tr><td>55</td><td>37</td><td>M</td><td>Programmer</td><td>01331</td></tr><tr><td>56</td><td>25</td><td>M</td><td>Librarian</td><td>46260</td></tr><tr><td>57</td><td>16</td><td>M</td><td>Cheif Executive Officer</td><td>84010</td></tr><tr><td>58</td><td>27</td><td>M</td><td>Programmer</td><td>52246</td></tr><tr><td>59</td><td>49</td><td>M</td><td>Educator</td><td>08403</td></tr><tr><td>60</td><td>50</td><td>M</td><td>healthcare</td><td>06472</td></tr><tr><td>61</td><td>36</td><td>M</td><td>Engineer</td><td>30040</td></tr><tr><td>62</td><td>27</td><td>F</td><td>Administrator</td><td>97214</td></tr><tr><td>63</td><td>31</td><td>M</td><td>marketing</td><td>75240</td></tr><tr><td>64</td><td>32</td><td>M</td><td>Educator</td><td>43202</td></tr><tr><td>65</td><td>51</td><td>F</td><td>Educator</td><td>48118</td></tr><tr><td>66</td><td>23</td><td>M</td><td>Student</td><td>80521</td></tr><tr><td>67</td><td>17</td><td>M</td><td>Student</td><td>60402</td></tr><tr><td>68</td><td>19</td><td>M</td><td>Student</td><td>22904</td></tr><tr><td>69</td><td>24</td><td>M</td><td>Engineer</td><td>55337</td></tr><tr><td>70</td><td>27</td><td>M</td><td>Engineer</td><td>60067</td></tr><tr><td>71</td><td>39</td><td>M</td><td>Scientist</td><td>98034</td></tr><tr><td>72</td><td>48</td><td>F</td><td>Administrator</td><td>73034</td></tr><tr><td>73</td><td>24</td><td>M</td><td>Student</td><td>41850</td></tr><tr><td>74</td><td>39</td><td>M</td><td>Scientist</td><td>41850</td></tr><tr><td>75</td><td>24</td><td>M</td><td>Entertainment</td><td>08816</td></tr><tr><td>76</td><td>20</td><td>M</td><td>Student</td><td>02215</td></tr><tr><td>77</td><td>30</td><td>M</td><td>Technician</td><td>29379</td></tr><tr><td>78</td><td>26</td><td>M</td><td>Administrator</td><td>61801</td></tr><tr><td>79</td><td>39</td><td>F</td><td>Administrator</td><td>03755</td></tr><tr><td>80</td><td>34</td><td>F</td><td>Administrator</td><td>52241</td></tr><tr><td>81</td><td>21</td><td>M</td><td>Student</td><td>21218</td></tr><tr><td>82</td><td>50</td><td>M</td><td>Programmer</td><td>22902</td></tr><tr><td>83</td><td>40</td><td>M</td><td>Other</td><td>44133</td></tr><tr><td>84</td><td>32</td><td>M</td><td>Cheif Executive Officer</td><td>55369</td></tr><tr><td>85</td><td>51</td><td>M</td><td>Educator</td><td>20003</td></tr><tr><td>86</td><td>26</td><td>M</td><td>Administrator</td><td>46005</td></tr><tr><td>87</td><td>47</td><td>M</td><td>Administrator</td><td>89503</td></tr><tr><td>88</td><td>49</td><td>F</td><td>Librarian</td><td>11701</td></tr><tr><td>89</td><td>43</td><td>F</td><td>Administrator</td><td>68106</td></tr><tr><td>90</td><td>60</td><td>M</td><td>Educator</td><td>78155</td></tr><tr><td>91</td><td>55</td><td>M</td><td>marketing</td><td>01913</td></tr><tr><td>92</td><td>32</td><td>M</td><td>Entertainment</td><td>80525</td></tr><tr><td>93</td><td>48</td><td>M</td><td>Cheif Executive Officer</td><td>23112</td></tr><tr><td>94</td><td>26</td><td>M</td><td>Student</td><td>71457</td></tr><tr><td>95</td><td>31</td><td>M</td><td>Administrator</td><td>10707</td></tr><tr><td>96</td><td>25</td><td>F</td><td>Artist</td><td>75206</td></tr><tr><td>97</td><td>43</td><td>M</td><td>Artist</td><td>98006</td></tr><tr><td>98</td><td>49</td><td>F</td><td>Cheif Executive Officer</td><td>90291</td></tr><tr><td>99</td><td>20</td><td>M</td><td>Student</td><td>63129</td></tr><tr><td>100</td><td>36</td><td>M</td><td>Cheif Executive Officer</td><td>90254</td></tr><tr><td>101</td><td>15</td><td>M</td><td>Student</td><td>05146</td></tr><tr><td>102</td><td>38</td><td>M</td><td>Programmer</td><td>30220</td></tr><tr><td>103</td><td>26</td><td>M</td><td>Student</td><td>55108</td></tr><tr><td>104</td><td>27</td><td>M</td><td>Student</td><td>55108</td></tr><tr><td>105</td><td>24</td><td>M</td><td>Engineer</td><td>94043</td></tr><tr><td>106</td><td>61</td><td>M</td><td>retired</td><td>55125</td></tr><tr><td>107</td><td>39</td><td>M</td><td>Scientist</td><td>60466</td></tr><tr><td>108</td><td>44</td><td>M</td><td>Educator</td><td>63130</td></tr><tr><td>109</td><td>29</td><td>M</td><td>Other</td><td>55423</td></tr><tr><td>110</td><td>19</td><td>M</td><td>Student</td><td>77840</td></tr><tr><td>111</td><td>57</td><td>M</td><td>Engineer</td><td>90630</td></tr><tr><td>112</td><td>30</td><td>M</td><td>salesman</td><td>60613</td></tr><tr><td>113</td><td>47</td><td>M</td><td>Cheif Executive Officer</td><td>95032</td></tr><tr><td>114</td><td>27</td><td>M</td><td>Programmer</td><td>75013</td></tr><tr><td>115</td><td>31</td><td>M</td><td>Engineer</td><td>17110</td></tr><tr><td>116</td><td>40</td><td>M</td><td>healthcare</td><td>97232</td></tr><tr><td>117</td><td>20</td><td>M</td><td>Student</td><td>16125</td></tr><tr><td>118</td><td>21</td><td>M</td><td>Administrator</td><td>90210</td></tr><tr><td>119</td><td>32</td><td>M</td><td>Programmer</td><td>67401</td></tr><tr><td>120</td><td>47</td><td>F</td><td>Other</td><td>06260</td></tr><tr><td>121</td><td>54</td><td>M</td><td>Librarian</td><td>99603</td></tr><tr><td>122</td><td>32</td><td>F</td><td>Writer</td><td>22206</td></tr><tr><td>123</td><td>48</td><td>F</td><td>Artist</td><td>20008</td></tr><tr><td>124</td><td>34</td><td>M</td><td>Student</td><td>60615</td></tr><tr><td>125</td><td>30</td><td>M</td><td>Lawyer</td><td>22202</td></tr><tr><td>126</td><td>28</td><td>F</td><td>Lawyer</td><td>20015</td></tr><tr><td>127</td><td>33</td><td>M</td><td>cheif Cheif Executive Officer Officer</td><td>73439</td></tr><tr><td>128</td><td>24</td><td>F</td><td>marketing</td><td>20009</td></tr><tr><td>129</td><td>36</td><td>F</td><td>marketing</td><td>07039</td></tr><tr><td>130</td><td>20</td><td>M</td><td>cheif Cheif Executive Officer Officer</td><td>60115</td></tr><tr><td>131</td><td>59</td><td>F</td><td>Administrator</td><td>15237</td></tr><tr><td>132</td><td>24</td><td>M</td><td>Other</td><td>94612</td></tr><tr><td>133</td><td>53</td><td>M</td><td>Engineer</td><td>78602</td></tr><tr><td>134</td><td>31</td><td>M</td><td>Programmer</td><td>80236</td></tr><tr><td>135</td><td>23</td><td>M</td><td>Student</td><td>38401</td></tr><tr><td>136</td><td>51</td><td>M</td><td>Other</td><td>97365</td></tr><tr><td>137</td><td>50</td><td>M</td><td>Educator</td><td>84408</td></tr><tr><td>138</td><td>46</td><td>M</td><td>doctor</td><td>53211</td></tr><tr><td>139</td><td>20</td><td>M</td><td>Student</td><td>08904</td></tr><tr><td>140</td><td>30</td><td>F</td><td>Student</td><td>32250</td></tr><tr><td>141</td><td>49</td><td>M</td><td>Programmer</td><td>36117</td></tr><tr><td>142</td><td>13</td><td>M</td><td>Other</td><td>48118</td></tr><tr><td>143</td><td>42</td><td>M</td><td>Technician</td><td>08832</td></tr><tr><td>144</td><td>53</td><td>M</td><td>Programmer</td><td>20910</td></tr><tr><td>145</td><td>31</td><td>M</td><td>Entertainment</td><td>20910</td></tr><tr><td>146</td><td>45</td><td>M</td><td>Artist</td><td>83814</td></tr><tr><td>147</td><td>40</td><td>F</td><td>Librarian</td><td>02143</td></tr><tr><td>148</td><td>33</td><td>M</td><td>Engineer</td><td>97006</td></tr><tr><td>149</td><td>35</td><td>F</td><td>marketing</td><td>17325</td></tr><tr><td>150</td><td>20</td><td>F</td><td>Artist</td><td>02139</td></tr><tr><td>151</td><td>38</td><td>F</td><td>Administrator</td><td>48103</td></tr><tr><td>152</td><td>33</td><td>F</td><td>Educator</td><td>68767</td></tr><tr><td>153</td><td>25</td><td>M</td><td>Student</td><td>60641</td></tr><tr><td>154</td><td>25</td><td>M</td><td>Student</td><td>53703</td></tr><tr><td>155</td><td>32</td><td>F</td><td>Other</td><td>11217</td></tr><tr><td>156</td><td>25</td><td>M</td><td>Educator</td><td>08360</td></tr><tr><td>157</td><td>57</td><td>M</td><td>Engineer</td><td>70808</td></tr><tr><td>158</td><td>50</td><td>M</td><td>Educator</td><td>27606</td></tr><tr><td>159</td><td>23</td><td>F</td><td>Student</td><td>55346</td></tr><tr><td>160</td><td>27</td><td>M</td><td>Programmer</td><td>66215</td></tr><tr><td>161</td><td>50</td><td>M</td><td>Lawyer</td><td>55104</td></tr><tr><td>162</td><td>25</td><td>M</td><td>Artist</td><td>15610</td></tr><tr><td>163</td><td>49</td><td>M</td><td>Administrator</td><td>97212</td></tr><tr><td>164</td><td>47</td><td>M</td><td>healthcare</td><td>80123</td></tr><tr><td>165</td><td>20</td><td>F</td><td>Other</td><td>53715</td></tr><tr><td>166</td><td>47</td><td>M</td><td>Educator</td><td>55113</td></tr><tr><td>167</td><td>37</td><td>M</td><td>Other</td><td>55113</td></tr><tr><td>168</td><td>48</td><td>M</td><td>Other</td><td>80127</td></tr><tr><td>169</td><td>52</td><td>F</td><td>Other</td><td>53705</td></tr><tr><td>170</td><td>53</td><td>F</td><td>healthcare</td><td>30067</td></tr><tr><td>171</td><td>48</td><td>F</td><td>Educator</td><td>78750</td></tr><tr><td>172</td><td>55</td><td>M</td><td>marketing</td><td>22207</td></tr><tr><td>173</td><td>56</td><td>M</td><td>Other</td><td>22306</td></tr><tr><td>174</td><td>30</td><td>F</td><td>Administrator</td><td>52302</td></tr><tr><td>175</td><td>26</td><td>F</td><td>Scientist</td><td>21911</td></tr><tr><td>176</td><td>28</td><td>M</td><td>Scientist</td><td>07030</td></tr><tr><td>177</td><td>20</td><td>M</td><td>Programmer</td><td>19104</td></tr><tr><td>178</td><td>26</td><td>M</td><td>Other</td><td>49512</td></tr><tr><td>179</td><td>15</td><td>M</td><td>Entertainment</td><td>20755</td></tr><tr><td>180</td><td>22</td><td>F</td><td>Administrator</td><td>60202</td></tr><tr><td>181</td><td>26</td><td>M</td><td>Cheif Executive Officer</td><td>21218</td></tr><tr><td>182</td><td>36</td><td>M</td><td>Programmer</td><td>33884</td></tr><tr><td>183</td><td>33</td><td>M</td><td>Scientist</td><td>27708</td></tr><tr><td>184</td><td>37</td><td>M</td><td>Librarian</td><td>76013</td></tr><tr><td>185</td><td>53</td><td>F</td><td>Librarian</td><td>97403</td></tr><tr><td>186</td><td>39</td><td>F</td><td>Cheif Executive Officer</td><td>00000</td></tr><tr><td>187</td><td>26</td><td>M</td><td>Educator</td><td>16801</td></tr><tr><td>188</td><td>42</td><td>M</td><td>Student</td><td>29440</td></tr><tr><td>189</td><td>32</td><td>M</td><td>Artist</td><td>95014</td></tr><tr><td>190</td><td>30</td><td>M</td><td>Administrator</td><td>95938</td></tr><tr><td>191</td><td>33</td><td>M</td><td>Administrator</td><td>95161</td></tr><tr><td>192</td><td>42</td><td>M</td><td>Educator</td><td>90840</td></tr><tr><td>193</td><td>29</td><td>M</td><td>Student</td><td>49931</td></tr><tr><td>194</td><td>38</td><td>M</td><td>Administrator</td><td>02154</td></tr><tr><td>195</td><td>42</td><td>M</td><td>Scientist</td><td>93555</td></tr><tr><td>196</td><td>49</td><td>M</td><td>Writer</td><td>55105</td></tr><tr><td>197</td><td>55</td><td>M</td><td>Technician</td><td>75094</td></tr><tr><td>198</td><td>21</td><td>F</td><td>Student</td><td>55414</td></tr><tr><td>199</td><td>30</td><td>M</td><td>Writer</td><td>17604</td></tr><tr><td>200</td><td>40</td><td>M</td><td>Programmer</td><td>93402</td></tr><tr><td>201</td><td>27</td><td>M</td><td>Writer</td><td>93402</td></tr><tr><td>202</td><td>41</td><td>F</td><td>Educator</td><td>60201</td></tr><tr><td>203</td><td>25</td><td>F</td><td>Student</td><td>32301</td></tr><tr><td>204</td><td>52</td><td>F</td><td>Librarian</td><td>10960</td></tr><tr><td>205</td><td>47</td><td>M</td><td>Lawyer</td><td>06371</td></tr><tr><td>206</td><td>14</td><td>F</td><td>Student</td><td>53115</td></tr><tr><td>207</td><td>39</td><td>M</td><td>marketing</td><td>92037</td></tr><tr><td>208</td><td>43</td><td>M</td><td>Engineer</td><td>01720</td></tr><tr><td>209</td><td>33</td><td>F</td><td>Educator</td><td>85710</td></tr><tr><td>210</td><td>39</td><td>M</td><td>Engineer</td><td>03060</td></tr><tr><td>211</td><td>66</td><td>M</td><td>salesman</td><td>32605</td></tr><tr><td>212</td><td>49</td><td>F</td><td>Educator</td><td>61401</td></tr><tr><td>213</td><td>33</td><td>M</td><td>Cheif Executive Officer</td><td>55345</td></tr><tr><td>214</td><td>26</td><td>F</td><td>Librarian</td><td>11231</td></tr><tr><td>215</td><td>35</td><td>M</td><td>Programmer</td><td>63033</td></tr><tr><td>216</td><td>22</td><td>M</td><td>Engineer</td><td>02215</td></tr><tr><td>217</td><td>22</td><td>M</td><td>Other</td><td>11727</td></tr><tr><td>218</td><td>37</td><td>M</td><td>Administrator</td><td>06513</td></tr><tr><td>219</td><td>32</td><td>M</td><td>Programmer</td><td>43212</td></tr><tr><td>220</td><td>30</td><td>M</td><td>Librarian</td><td>78205</td></tr><tr><td>221</td><td>19</td><td>M</td><td>Student</td><td>20685</td></tr><tr><td>222</td><td>29</td><td>M</td><td>Programmer</td><td>27502</td></tr><tr><td>223</td><td>19</td><td>F</td><td>Student</td><td>47906</td></tr><tr><td>224</td><td>31</td><td>F</td><td>Educator</td><td>43512</td></tr><tr><td>225</td><td>51</td><td>F</td><td>Administrator</td><td>58202</td></tr><tr><td>226</td><td>28</td><td>M</td><td>Student</td><td>92103</td></tr><tr><td>227</td><td>46</td><td>M</td><td>Cheif Executive Officer</td><td>60659</td></tr><tr><td>228</td><td>21</td><td>F</td><td>Student</td><td>22003</td></tr><tr><td>229</td><td>29</td><td>F</td><td>Librarian</td><td>22903</td></tr><tr><td>230</td><td>28</td><td>F</td><td>Student</td><td>14476</td></tr><tr><td>231</td><td>48</td><td>M</td><td>Librarian</td><td>01080</td></tr><tr><td>232</td><td>45</td><td>M</td><td>Scientist</td><td>99709</td></tr><tr><td>233</td><td>38</td><td>M</td><td>Engineer</td><td>98682</td></tr><tr><td>234</td><td>60</td><td>M</td><td>retired</td><td>94702</td></tr><tr><td>235</td><td>37</td><td>M</td><td>Educator</td><td>22973</td></tr><tr><td>236</td><td>44</td><td>F</td><td>Writer</td><td>53214</td></tr><tr><td>237</td><td>49</td><td>M</td><td>Administrator</td><td>63146</td></tr><tr><td>238</td><td>42</td><td>F</td><td>Administrator</td><td>44124</td></tr><tr><td>239</td><td>39</td><td>M</td><td>Artist</td><td>95628</td></tr><tr><td>240</td><td>23</td><td>F</td><td>Educator</td><td>20784</td></tr><tr><td>241</td><td>26</td><td>F</td><td>Student</td><td>20001</td></tr><tr><td>242</td><td>33</td><td>M</td><td>Educator</td><td>31404</td></tr><tr><td>243</td><td>33</td><td>M</td><td>Educator</td><td>60201</td></tr><tr><td>244</td><td>28</td><td>M</td><td>Technician</td><td>100005</td></tr><tr><td>245</td><td>26</td><td>F</td><td>Technician</td><td>110000</td></tr></tbody></table></div>"
      ]
     },
     "metadata": {
      "application/vnd.databricks.v1+output": {
       "addedWidgets": {},
       "aggData": [],
       "aggError": "",
       "aggOverflow": false,
       "aggSchema": [],
       "aggSeriesLimitReached": false,
       "aggType": "",
       "arguments": {},
       "columnCustomDisplayInfos": {},
       "data": [
        [
         "id",
         "age",
         "gen",
         "designation",
         "salary"
        ],
        [
         "1",
         "26",
         "M",
         "Technician",
         "85711"
        ],
        [
         "2",
         "53",
         "F",
         "Other",
         "94043"
        ],
        [
         "3",
         "23",
         "M",
         "Writer",
         "32067"
        ],
        [
         "4",
         "26",
         "M",
         "technician",
         "43537"
        ],
        [
         "5",
         "33",
         "F",
         "Other",
         "15213"
        ],
        [
         "6",
         "42",
         "M",
         "Cheif Executive Officer",
         "98101"
        ],
        [
         "7",
         "57",
         "M",
         "Administrator",
         "91344"
        ],
        [
         "8",
         "36",
         "M",
         "Administrator",
         "05201"
        ],
        [
         "9",
         "29",
         "M",
         "Student",
         "01002"
        ],
        [
         "10",
         "53",
         "M",
         "Lawyer",
         "90703"
        ],
        [
         "11",
         "39",
         "F",
         "Other",
         "30329"
        ],
        [
         "12",
         "28",
         "F",
         "Other",
         "06405"
        ],
        [
         "13",
         "47",
         "M",
         "Educator",
         "29206"
        ],
        [
         "14",
         "45",
         "M",
         "Scientist",
         "55106"
        ],
        [
         "15",
         "49",
         "F",
         "Educator",
         "97301"
        ],
        [
         "16",
         "21",
         "M",
         "Entertainment",
         "10309"
        ],
        [
         "17",
         "30",
         "M",
         "Programmer",
         "06355"
        ],
        [
         "18",
         "35",
         "F",
         "Other",
         "37212"
        ],
        [
         "19",
         "40",
         "M",
         "Librarian",
         "02138"
        ],
        [
         "20",
         "42",
         "F",
         "Homemaker",
         "95660"
        ],
        [
         "21",
         "26",
         "M",
         "Writer",
         "30068"
        ],
        [
         "22",
         "25",
         "M",
         "Writer",
         "40206"
        ],
        [
         "23",
         "30",
         "F",
         "Artist",
         "48197"
        ],
        [
         "24",
         "21",
         "F",
         "Artist",
         "94533"
        ],
        [
         "25",
         "39",
         "M",
         "Engineer",
         "55107"
        ],
        [
         "26",
         "49",
         "M",
         "Engineer",
         "21044"
        ],
        [
         "27",
         "40",
         "F",
         "Librarian",
         "30030"
        ],
        [
         "28",
         "32",
         "M",
         "Writer",
         "55369"
        ],
        [
         "29",
         "41",
         "M",
         "Programmer",
         "94043"
        ],
        [
         "30",
         "7",
         "M",
         "Student",
         "55436"
        ],
        [
         "31",
         "24",
         "M",
         "Artist",
         "10003"
        ],
        [
         "32",
         "28",
         "F",
         "Student",
         "78741"
        ],
        [
         "33",
         "23",
         "M",
         "Student",
         "27510"
        ],
        [
         "34",
         "38",
         "F",
         "Administrator",
         "42141"
        ],
        [
         "35",
         "20",
         "F",
         "Homemaker",
         "42459"
        ],
        [
         "36",
         "19",
         "F",
         "Student",
         "93117"
        ],
        [
         "37",
         "23",
         "M",
         "Student",
         "55105"
        ],
        [
         "38",
         "28",
         "F",
         "Other",
         "54467"
        ],
        [
         "39",
         "41",
         "M",
         "Entertainment",
         "01040"
        ],
        [
         "40",
         "38",
         "M",
         "Scientist",
         "27514"
        ],
        [
         "41",
         "33",
         "M",
         "Engineer",
         "80525"
        ],
        [
         "42",
         "30",
         "M",
         "Administrator",
         "17870"
        ],
        [
         "43",
         "29",
         "F",
         "Librarian",
         "20854"
        ],
        [
         "44",
         "26",
         "M",
         "Technician",
         "46260"
        ],
        [
         "45",
         "29",
         "M",
         "Programmer",
         "50233"
        ],
        [
         "46",
         "27",
         "F",
         "marketing",
         "46538"
        ],
        [
         "47",
         "53",
         "M",
         "marketing",
         "07102"
        ],
        [
         "48",
         "45",
         "M",
         "Administrator",
         "12550"
        ],
        [
         "49",
         "23",
         "F",
         "Student",
         "76111"
        ],
        [
         "50",
         "21",
         "M",
         "Writer",
         "52245"
        ],
        [
         "51",
         "28",
         "M",
         "Educator",
         "16509"
        ],
        [
         "52",
         "18",
         "F",
         "Student",
         "55105"
        ],
        [
         "53",
         "26",
         "M",
         "Programmer",
         "55414"
        ],
        [
         "54",
         "22",
         "M",
         "Cheif Executive Officer",
         "66315"
        ],
        [
         "55",
         "37",
         "M",
         "Programmer",
         "01331"
        ],
        [
         "56",
         "25",
         "M",
         "Librarian",
         "46260"
        ],
        [
         "57",
         "16",
         "M",
         "Cheif Executive Officer",
         "84010"
        ],
        [
         "58",
         "27",
         "M",
         "Programmer",
         "52246"
        ],
        [
         "59",
         "49",
         "M",
         "Educator",
         "08403"
        ],
        [
         "60",
         "50",
         "M",
         "healthcare",
         "06472"
        ],
        [
         "61",
         "36",
         "M",
         "Engineer",
         "30040"
        ],
        [
         "62",
         "27",
         "F",
         "Administrator",
         "97214"
        ],
        [
         "63",
         "31",
         "M",
         "marketing",
         "75240"
        ],
        [
         "64",
         "32",
         "M",
         "Educator",
         "43202"
        ],
        [
         "65",
         "51",
         "F",
         "Educator",
         "48118"
        ],
        [
         "66",
         "23",
         "M",
         "Student",
         "80521"
        ],
        [
         "67",
         "17",
         "M",
         "Student",
         "60402"
        ],
        [
         "68",
         "19",
         "M",
         "Student",
         "22904"
        ],
        [
         "69",
         "24",
         "M",
         "Engineer",
         "55337"
        ],
        [
         "70",
         "27",
         "M",
         "Engineer",
         "60067"
        ],
        [
         "71",
         "39",
         "M",
         "Scientist",
         "98034"
        ],
        [
         "72",
         "48",
         "F",
         "Administrator",
         "73034"
        ],
        [
         "73",
         "24",
         "M",
         "Student",
         "41850"
        ],
        [
         "74",
         "39",
         "M",
         "Scientist",
         "41850"
        ],
        [
         "75",
         "24",
         "M",
         "Entertainment",
         "08816"
        ],
        [
         "76",
         "20",
         "M",
         "Student",
         "02215"
        ],
        [
         "77",
         "30",
         "M",
         "Technician",
         "29379"
        ],
        [
         "78",
         "26",
         "M",
         "Administrator",
         "61801"
        ],
        [
         "79",
         "39",
         "F",
         "Administrator",
         "03755"
        ],
        [
         "80",
         "34",
         "F",
         "Administrator",
         "52241"
        ],
        [
         "81",
         "21",
         "M",
         "Student",
         "21218"
        ],
        [
         "82",
         "50",
         "M",
         "Programmer",
         "22902"
        ],
        [
         "83",
         "40",
         "M",
         "Other",
         "44133"
        ],
        [
         "84",
         "32",
         "M",
         "Cheif Executive Officer",
         "55369"
        ],
        [
         "85",
         "51",
         "M",
         "Educator",
         "20003"
        ],
        [
         "86",
         "26",
         "M",
         "Administrator",
         "46005"
        ],
        [
         "87",
         "47",
         "M",
         "Administrator",
         "89503"
        ],
        [
         "88",
         "49",
         "F",
         "Librarian",
         "11701"
        ],
        [
         "89",
         "43",
         "F",
         "Administrator",
         "68106"
        ],
        [
         "90",
         "60",
         "M",
         "Educator",
         "78155"
        ],
        [
         "91",
         "55",
         "M",
         "marketing",
         "01913"
        ],
        [
         "92",
         "32",
         "M",
         "Entertainment",
         "80525"
        ],
        [
         "93",
         "48",
         "M",
         "Cheif Executive Officer",
         "23112"
        ],
        [
         "94",
         "26",
         "M",
         "Student",
         "71457"
        ],
        [
         "95",
         "31",
         "M",
         "Administrator",
         "10707"
        ],
        [
         "96",
         "25",
         "F",
         "Artist",
         "75206"
        ],
        [
         "97",
         "43",
         "M",
         "Artist",
         "98006"
        ],
        [
         "98",
         "49",
         "F",
         "Cheif Executive Officer",
         "90291"
        ],
        [
         "99",
         "20",
         "M",
         "Student",
         "63129"
        ],
        [
         "100",
         "36",
         "M",
         "Cheif Executive Officer",
         "90254"
        ],
        [
         "101",
         "15",
         "M",
         "Student",
         "05146"
        ],
        [
         "102",
         "38",
         "M",
         "Programmer",
         "30220"
        ],
        [
         "103",
         "26",
         "M",
         "Student",
         "55108"
        ],
        [
         "104",
         "27",
         "M",
         "Student",
         "55108"
        ],
        [
         "105",
         "24",
         "M",
         "Engineer",
         "94043"
        ],
        [
         "106",
         "61",
         "M",
         "retired",
         "55125"
        ],
        [
         "107",
         "39",
         "M",
         "Scientist",
         "60466"
        ],
        [
         "108",
         "44",
         "M",
         "Educator",
         "63130"
        ],
        [
         "109",
         "29",
         "M",
         "Other",
         "55423"
        ],
        [
         "110",
         "19",
         "M",
         "Student",
         "77840"
        ],
        [
         "111",
         "57",
         "M",
         "Engineer",
         "90630"
        ],
        [
         "112",
         "30",
         "M",
         "salesman",
         "60613"
        ],
        [
         "113",
         "47",
         "M",
         "Cheif Executive Officer",
         "95032"
        ],
        [
         "114",
         "27",
         "M",
         "Programmer",
         "75013"
        ],
        [
         "115",
         "31",
         "M",
         "Engineer",
         "17110"
        ],
        [
         "116",
         "40",
         "M",
         "healthcare",
         "97232"
        ],
        [
         "117",
         "20",
         "M",
         "Student",
         "16125"
        ],
        [
         "118",
         "21",
         "M",
         "Administrator",
         "90210"
        ],
        [
         "119",
         "32",
         "M",
         "Programmer",
         "67401"
        ],
        [
         "120",
         "47",
         "F",
         "Other",
         "06260"
        ],
        [
         "121",
         "54",
         "M",
         "Librarian",
         "99603"
        ],
        [
         "122",
         "32",
         "F",
         "Writer",
         "22206"
        ],
        [
         "123",
         "48",
         "F",
         "Artist",
         "20008"
        ],
        [
         "124",
         "34",
         "M",
         "Student",
         "60615"
        ],
        [
         "125",
         "30",
         "M",
         "Lawyer",
         "22202"
        ],
        [
         "126",
         "28",
         "F",
         "Lawyer",
         "20015"
        ],
        [
         "127",
         "33",
         "M",
         "cheif Cheif Executive Officer Officer",
         "73439"
        ],
        [
         "128",
         "24",
         "F",
         "marketing",
         "20009"
        ],
        [
         "129",
         "36",
         "F",
         "marketing",
         "07039"
        ],
        [
         "130",
         "20",
         "M",
         "cheif Cheif Executive Officer Officer",
         "60115"
        ],
        [
         "131",
         "59",
         "F",
         "Administrator",
         "15237"
        ],
        [
         "132",
         "24",
         "M",
         "Other",
         "94612"
        ],
        [
         "133",
         "53",
         "M",
         "Engineer",
         "78602"
        ],
        [
         "134",
         "31",
         "M",
         "Programmer",
         "80236"
        ],
        [
         "135",
         "23",
         "M",
         "Student",
         "38401"
        ],
        [
         "136",
         "51",
         "M",
         "Other",
         "97365"
        ],
        [
         "137",
         "50",
         "M",
         "Educator",
         "84408"
        ],
        [
         "138",
         "46",
         "M",
         "doctor",
         "53211"
        ],
        [
         "139",
         "20",
         "M",
         "Student",
         "08904"
        ],
        [
         "140",
         "30",
         "F",
         "Student",
         "32250"
        ],
        [
         "141",
         "49",
         "M",
         "Programmer",
         "36117"
        ],
        [
         "142",
         "13",
         "M",
         "Other",
         "48118"
        ],
        [
         "143",
         "42",
         "M",
         "Technician",
         "08832"
        ],
        [
         "144",
         "53",
         "M",
         "Programmer",
         "20910"
        ],
        [
         "145",
         "31",
         "M",
         "Entertainment",
         "20910"
        ],
        [
         "146",
         "45",
         "M",
         "Artist",
         "83814"
        ],
        [
         "147",
         "40",
         "F",
         "Librarian",
         "02143"
        ],
        [
         "148",
         "33",
         "M",
         "Engineer",
         "97006"
        ],
        [
         "149",
         "35",
         "F",
         "marketing",
         "17325"
        ],
        [
         "150",
         "20",
         "F",
         "Artist",
         "02139"
        ],
        [
         "151",
         "38",
         "F",
         "Administrator",
         "48103"
        ],
        [
         "152",
         "33",
         "F",
         "Educator",
         "68767"
        ],
        [
         "153",
         "25",
         "M",
         "Student",
         "60641"
        ],
        [
         "154",
         "25",
         "M",
         "Student",
         "53703"
        ],
        [
         "155",
         "32",
         "F",
         "Other",
         "11217"
        ],
        [
         "156",
         "25",
         "M",
         "Educator",
         "08360"
        ],
        [
         "157",
         "57",
         "M",
         "Engineer",
         "70808"
        ],
        [
         "158",
         "50",
         "M",
         "Educator",
         "27606"
        ],
        [
         "159",
         "23",
         "F",
         "Student",
         "55346"
        ],
        [
         "160",
         "27",
         "M",
         "Programmer",
         "66215"
        ],
        [
         "161",
         "50",
         "M",
         "Lawyer",
         "55104"
        ],
        [
         "162",
         "25",
         "M",
         "Artist",
         "15610"
        ],
        [
         "163",
         "49",
         "M",
         "Administrator",
         "97212"
        ],
        [
         "164",
         "47",
         "M",
         "healthcare",
         "80123"
        ],
        [
         "165",
         "20",
         "F",
         "Other",
         "53715"
        ],
        [
         "166",
         "47",
         "M",
         "Educator",
         "55113"
        ],
        [
         "167",
         "37",
         "M",
         "Other",
         "55113"
        ],
        [
         "168",
         "48",
         "M",
         "Other",
         "80127"
        ],
        [
         "169",
         "52",
         "F",
         "Other",
         "53705"
        ],
        [
         "170",
         "53",
         "F",
         "healthcare",
         "30067"
        ],
        [
         "171",
         "48",
         "F",
         "Educator",
         "78750"
        ],
        [
         "172",
         "55",
         "M",
         "marketing",
         "22207"
        ],
        [
         "173",
         "56",
         "M",
         "Other",
         "22306"
        ],
        [
         "174",
         "30",
         "F",
         "Administrator",
         "52302"
        ],
        [
         "175",
         "26",
         "F",
         "Scientist",
         "21911"
        ],
        [
         "176",
         "28",
         "M",
         "Scientist",
         "07030"
        ],
        [
         "177",
         "20",
         "M",
         "Programmer",
         "19104"
        ],
        [
         "178",
         "26",
         "M",
         "Other",
         "49512"
        ],
        [
         "179",
         "15",
         "M",
         "Entertainment",
         "20755"
        ],
        [
         "180",
         "22",
         "F",
         "Administrator",
         "60202"
        ],
        [
         "181",
         "26",
         "M",
         "Cheif Executive Officer",
         "21218"
        ],
        [
         "182",
         "36",
         "M",
         "Programmer",
         "33884"
        ],
        [
         "183",
         "33",
         "M",
         "Scientist",
         "27708"
        ],
        [
         "184",
         "37",
         "M",
         "Librarian",
         "76013"
        ],
        [
         "185",
         "53",
         "F",
         "Librarian",
         "97403"
        ],
        [
         "186",
         "39",
         "F",
         "Cheif Executive Officer",
         "00000"
        ],
        [
         "187",
         "26",
         "M",
         "Educator",
         "16801"
        ],
        [
         "188",
         "42",
         "M",
         "Student",
         "29440"
        ],
        [
         "189",
         "32",
         "M",
         "Artist",
         "95014"
        ],
        [
         "190",
         "30",
         "M",
         "Administrator",
         "95938"
        ],
        [
         "191",
         "33",
         "M",
         "Administrator",
         "95161"
        ],
        [
         "192",
         "42",
         "M",
         "Educator",
         "90840"
        ],
        [
         "193",
         "29",
         "M",
         "Student",
         "49931"
        ],
        [
         "194",
         "38",
         "M",
         "Administrator",
         "02154"
        ],
        [
         "195",
         "42",
         "M",
         "Scientist",
         "93555"
        ],
        [
         "196",
         "49",
         "M",
         "Writer",
         "55105"
        ],
        [
         "197",
         "55",
         "M",
         "Technician",
         "75094"
        ],
        [
         "198",
         "21",
         "F",
         "Student",
         "55414"
        ],
        [
         "199",
         "30",
         "M",
         "Writer",
         "17604"
        ],
        [
         "200",
         "40",
         "M",
         "Programmer",
         "93402"
        ],
        [
         "201",
         "27",
         "M",
         "Writer",
         "93402"
        ],
        [
         "202",
         "41",
         "F",
         "Educator",
         "60201"
        ],
        [
         "203",
         "25",
         "F",
         "Student",
         "32301"
        ],
        [
         "204",
         "52",
         "F",
         "Librarian",
         "10960"
        ],
        [
         "205",
         "47",
         "M",
         "Lawyer",
         "06371"
        ],
        [
         "206",
         "14",
         "F",
         "Student",
         "53115"
        ],
        [
         "207",
         "39",
         "M",
         "marketing",
         "92037"
        ],
        [
         "208",
         "43",
         "M",
         "Engineer",
         "01720"
        ],
        [
         "209",
         "33",
         "F",
         "Educator",
         "85710"
        ],
        [
         "210",
         "39",
         "M",
         "Engineer",
         "03060"
        ],
        [
         "211",
         "66",
         "M",
         "salesman",
         "32605"
        ],
        [
         "212",
         "49",
         "F",
         "Educator",
         "61401"
        ],
        [
         "213",
         "33",
         "M",
         "Cheif Executive Officer",
         "55345"
        ],
        [
         "214",
         "26",
         "F",
         "Librarian",
         "11231"
        ],
        [
         "215",
         "35",
         "M",
         "Programmer",
         "63033"
        ],
        [
         "216",
         "22",
         "M",
         "Engineer",
         "02215"
        ],
        [
         "217",
         "22",
         "M",
         "Other",
         "11727"
        ],
        [
         "218",
         "37",
         "M",
         "Administrator",
         "06513"
        ],
        [
         "219",
         "32",
         "M",
         "Programmer",
         "43212"
        ],
        [
         "220",
         "30",
         "M",
         "Librarian",
         "78205"
        ],
        [
         "221",
         "19",
         "M",
         "Student",
         "20685"
        ],
        [
         "222",
         "29",
         "M",
         "Programmer",
         "27502"
        ],
        [
         "223",
         "19",
         "F",
         "Student",
         "47906"
        ],
        [
         "224",
         "31",
         "F",
         "Educator",
         "43512"
        ],
        [
         "225",
         "51",
         "F",
         "Administrator",
         "58202"
        ],
        [
         "226",
         "28",
         "M",
         "Student",
         "92103"
        ],
        [
         "227",
         "46",
         "M",
         "Cheif Executive Officer",
         "60659"
        ],
        [
         "228",
         "21",
         "F",
         "Student",
         "22003"
        ],
        [
         "229",
         "29",
         "F",
         "Librarian",
         "22903"
        ],
        [
         "230",
         "28",
         "F",
         "Student",
         "14476"
        ],
        [
         "231",
         "48",
         "M",
         "Librarian",
         "01080"
        ],
        [
         "232",
         "45",
         "M",
         "Scientist",
         "99709"
        ],
        [
         "233",
         "38",
         "M",
         "Engineer",
         "98682"
        ],
        [
         "234",
         "60",
         "M",
         "retired",
         "94702"
        ],
        [
         "235",
         "37",
         "M",
         "Educator",
         "22973"
        ],
        [
         "236",
         "44",
         "F",
         "Writer",
         "53214"
        ],
        [
         "237",
         "49",
         "M",
         "Administrator",
         "63146"
        ],
        [
         "238",
         "42",
         "F",
         "Administrator",
         "44124"
        ],
        [
         "239",
         "39",
         "M",
         "Artist",
         "95628"
        ],
        [
         "240",
         "23",
         "F",
         "Educator",
         "20784"
        ],
        [
         "241",
         "26",
         "F",
         "Student",
         "20001"
        ],
        [
         "242",
         "33",
         "M",
         "Educator",
         "31404"
        ],
        [
         "243",
         "33",
         "M",
         "Educator",
         "60201"
        ],
        [
         "244",
         "28",
         "M",
         "Technician",
         "100005"
        ],
        [
         "245",
         "26",
         "F",
         "Technician",
         "110000"
        ]
       ],
       "datasetInfos": [],
       "dbfsResultPath": null,
       "isJsonSchema": true,
       "metadata": {},
       "overflow": false,
       "plotOptions": {
        "customPlotOptions": {},
        "displayType": "table",
        "pivotAggregation": null,
        "pivotColumns": null,
        "xColumns": null,
        "yColumns": null
       },
       "removedWidgets": [],
       "schema": [
        {
         "metadata": "{}",
         "name": "_c0",
         "type": "\"string\""
        },
        {
         "metadata": "{}",
         "name": "_c1",
         "type": "\"string\""
        },
        {
         "metadata": "{}",
         "name": "_c2",
         "type": "\"string\""
        },
        {
         "metadata": "{}",
         "name": "_c3",
         "type": "\"string\""
        },
        {
         "metadata": "{}",
         "name": "_c4",
         "type": "\"string\""
        }
       ],
       "type": "table"
      }
     },
     "output_type": "display_data"
    }
   ],
   "source": [
    "df = spark.read.csv(\"/Volumes/quickstart_catalog/quickstart_schema/sandbox/dataset/sample_dataset/users_001.csv\")\n",
    "df.display()"
   ]
  },
  {
   "cell_type": "code",
   "execution_count": 0,
   "metadata": {
    "application/vnd.databricks.v1+cell": {
     "cellMetadata": {
      "byteLimit": 2048000,
      "rowLimit": 10000
     },
     "inputWidgets": {},
     "nuid": "ff5e0b15-bfd4-49de-b55b-07941f858451",
     "showTitle": false,
     "tableResultSettingsMap": {},
     "title": ""
    }
   },
   "outputs": [
    {
     "output_type": "stream",
     "name": "stdout",
     "output_type": "stream",
     "text": [
      "root\n |-- id: string (nullable = true)\n |-- age: string (nullable = true)\n |-- gen: string (nullable = true)\n |-- designation: string (nullable = true)\n |-- salary: string (nullable = true)\n\n"
     ]
    }
   ],
   "source": [
    "df = spark.read.csv(\n",
    "    path=\"/Volumes/quickstart_catalog/quickstart_schema/sandbox/dataset/sample_dataset/users_001.csv\",\n",
    "    header=True,\n",
    "    inferschmena= True\n",
    ")\n",
    "# df.display()  // This is used to display.\n",
    "df.printSchema() # This is used to print Datatype of each column"
   ]
  },
  {
   "cell_type": "markdown",
   "metadata": {
    "application/vnd.databricks.v1+cell": {
     "cellMetadata": {},
     "inputWidgets": {},
     "nuid": "21c8195f-0f11-4119-9e51-d5ff64b722e9",
     "showTitle": false,
     "tableResultSettingsMap": {},
     "title": ""
    }
   },
   "source": [
    "## Create data from Custom Delimiter"
   ]
  },
  {
   "cell_type": "code",
   "execution_count": 0,
   "metadata": {
    "application/vnd.databricks.v1+cell": {
     "cellMetadata": {
      "byteLimit": 2048000,
      "rowLimit": 10000
     },
     "inputWidgets": {},
     "nuid": "62ef225a-9c0a-4910-8107-e9f8c9a7e16f",
     "showTitle": false,
     "tableResultSettingsMap": {},
     "title": ""
    }
   },
   "outputs": [
    {
     "output_type": "display_data",
     "data": {
      "text/html": [
       "<style scoped>\n",
       "  .table-result-container {\n",
       "    max-height: 300px;\n",
       "    overflow: auto;\n",
       "  }\n",
       "  table, th, td {\n",
       "    border: 1px solid black;\n",
       "    border-collapse: collapse;\n",
       "  }\n",
       "  th, td {\n",
       "    padding: 5px;\n",
       "  }\n",
       "  th {\n",
       "    text-align: left;\n",
       "  }\n",
       "</style><div class='table-result-container'><table class='table-result'><thead style='background-color: white'><tr><th>id</th><th>age</th><th>gen</th><th>designation</th><th>salary</th></tr></thead><tbody><tr><td>1</td><td>26</td><td>M</td><td>Technician</td><td>85711</td></tr><tr><td>2</td><td>53</td><td>F</td><td>Other</td><td>94043</td></tr><tr><td>3</td><td>23</td><td>M</td><td>Writer</td><td>32067</td></tr><tr><td>4</td><td>26</td><td>M</td><td>technician</td><td>43537</td></tr><tr><td>5</td><td>33</td><td>F</td><td>Other</td><td>15213</td></tr><tr><td>6</td><td>42</td><td>M</td><td>Cheif Executive Officer</td><td>98101</td></tr><tr><td>7</td><td>57</td><td>M</td><td>Administrator</td><td>91344</td></tr><tr><td>8</td><td>36</td><td>M</td><td>Administrator</td><td>5201</td></tr><tr><td>9</td><td>29</td><td>M</td><td>Student</td><td>1002</td></tr><tr><td>10</td><td>53</td><td>M</td><td>Lawyer</td><td>90703</td></tr><tr><td>11</td><td>39</td><td>F</td><td>Other</td><td>30329</td></tr><tr><td>12</td><td>28</td><td>F</td><td>Other</td><td>6405</td></tr><tr><td>13</td><td>47</td><td>M</td><td>Educator</td><td>29206</td></tr><tr><td>14</td><td>45</td><td>M</td><td>Scientist</td><td>55106</td></tr><tr><td>15</td><td>49</td><td>F</td><td>Educator</td><td>97301</td></tr><tr><td>16</td><td>21</td><td>M</td><td>Entertainment</td><td>10309</td></tr><tr><td>17</td><td>30</td><td>M</td><td>Programmer</td><td>6355</td></tr><tr><td>18</td><td>35</td><td>F</td><td>Other</td><td>37212</td></tr><tr><td>19</td><td>40</td><td>M</td><td>Librarian</td><td>2138</td></tr><tr><td>20</td><td>42</td><td>F</td><td>Homemaker</td><td>95660</td></tr><tr><td>21</td><td>26</td><td>M</td><td>Writer</td><td>30068</td></tr><tr><td>22</td><td>25</td><td>M</td><td>Writer</td><td>40206</td></tr><tr><td>23</td><td>30</td><td>F</td><td>Artist</td><td>48197</td></tr><tr><td>24</td><td>21</td><td>F</td><td>Artist</td><td>94533</td></tr><tr><td>25</td><td>39</td><td>M</td><td>Engineer</td><td>55107</td></tr><tr><td>26</td><td>49</td><td>M</td><td>Engineer</td><td>21044</td></tr><tr><td>27</td><td>40</td><td>F</td><td>Librarian</td><td>30030</td></tr><tr><td>28</td><td>32</td><td>M</td><td>Writer</td><td>55369</td></tr><tr><td>29</td><td>41</td><td>M</td><td>Programmer</td><td>94043</td></tr><tr><td>30</td><td>7</td><td>M</td><td>Student</td><td>55436</td></tr><tr><td>31</td><td>24</td><td>M</td><td>Artist</td><td>10003</td></tr><tr><td>32</td><td>28</td><td>F</td><td>Student</td><td>78741</td></tr><tr><td>33</td><td>23</td><td>M</td><td>Student</td><td>27510</td></tr><tr><td>34</td><td>38</td><td>F</td><td>Administrator</td><td>42141</td></tr><tr><td>35</td><td>20</td><td>F</td><td>Homemaker</td><td>42459</td></tr><tr><td>36</td><td>19</td><td>F</td><td>Student</td><td>93117</td></tr><tr><td>37</td><td>23</td><td>M</td><td>Student</td><td>55105</td></tr><tr><td>38</td><td>28</td><td>F</td><td>Other</td><td>54467</td></tr><tr><td>39</td><td>41</td><td>M</td><td>Entertainment</td><td>1040</td></tr><tr><td>40</td><td>38</td><td>M</td><td>Scientist</td><td>27514</td></tr><tr><td>41</td><td>33</td><td>M</td><td>Engineer</td><td>80525</td></tr><tr><td>42</td><td>30</td><td>M</td><td>Administrator</td><td>17870</td></tr><tr><td>43</td><td>29</td><td>F</td><td>Librarian</td><td>20854</td></tr><tr><td>44</td><td>26</td><td>M</td><td>Technician</td><td>46260</td></tr><tr><td>45</td><td>29</td><td>M</td><td>Programmer</td><td>50233</td></tr><tr><td>46</td><td>27</td><td>F</td><td>marketing</td><td>46538</td></tr><tr><td>47</td><td>53</td><td>M</td><td>marketing</td><td>7102</td></tr><tr><td>48</td><td>45</td><td>M</td><td>Administrator</td><td>12550</td></tr><tr><td>49</td><td>23</td><td>F</td><td>Student</td><td>76111</td></tr><tr><td>50</td><td>21</td><td>M</td><td>Writer</td><td>52245</td></tr><tr><td>51</td><td>28</td><td>M</td><td>Educator</td><td>16509</td></tr><tr><td>52</td><td>18</td><td>F</td><td>Student</td><td>55105</td></tr><tr><td>53</td><td>26</td><td>M</td><td>Programmer</td><td>55414</td></tr><tr><td>54</td><td>22</td><td>M</td><td>Cheif Executive Officer</td><td>66315</td></tr><tr><td>55</td><td>37</td><td>M</td><td>Programmer</td><td>1331</td></tr><tr><td>56</td><td>25</td><td>M</td><td>Librarian</td><td>46260</td></tr><tr><td>57</td><td>16</td><td>M</td><td>Cheif Cheif Executive Officer Officer</td><td>84010</td></tr><tr><td>58</td><td>27</td><td>M</td><td>Programmer</td><td>52246</td></tr><tr><td>59</td><td>49</td><td>M</td><td>Educator</td><td>8403</td></tr><tr><td>60</td><td>50</td><td>M</td><td>healthcare</td><td>6472</td></tr><tr><td>61</td><td>36</td><td>M</td><td>Engineer</td><td>30040</td></tr><tr><td>62</td><td>27</td><td>F</td><td>Administrator</td><td>97214</td></tr><tr><td>63</td><td>31</td><td>M</td><td>marketing</td><td>75240</td></tr><tr><td>64</td><td>32</td><td>M</td><td>Educator</td><td>43202</td></tr><tr><td>65</td><td>51</td><td>F</td><td>Educator</td><td>48118</td></tr><tr><td>66</td><td>23</td><td>M</td><td>Student</td><td>80521</td></tr><tr><td>67</td><td>17</td><td>M</td><td>Student</td><td>60402</td></tr><tr><td>68</td><td>19</td><td>M</td><td>Student</td><td>22904</td></tr><tr><td>69</td><td>24</td><td>M</td><td>Engineer</td><td>55337</td></tr><tr><td>70</td><td>27</td><td>M</td><td>Engineer</td><td>60067</td></tr><tr><td>71</td><td>39</td><td>M</td><td>Scientist</td><td>98034</td></tr><tr><td>72</td><td>48</td><td>F</td><td>Administrator</td><td>73034</td></tr><tr><td>73</td><td>24</td><td>M</td><td>Student</td><td>41850</td></tr><tr><td>74</td><td>39</td><td>M</td><td>Scientist</td><td>41850</td></tr><tr><td>75</td><td>24</td><td>M</td><td>Entertainment</td><td>8816</td></tr><tr><td>76</td><td>20</td><td>M</td><td>Student</td><td>2215</td></tr><tr><td>77</td><td>30</td><td>M</td><td>Technician</td><td>29379</td></tr><tr><td>78</td><td>26</td><td>M</td><td>Administrator</td><td>61801</td></tr><tr><td>79</td><td>39</td><td>F</td><td>Administrator</td><td>3755</td></tr><tr><td>80</td><td>34</td><td>F</td><td>Administrator</td><td>52241</td></tr><tr><td>81</td><td>21</td><td>M</td><td>Student</td><td>21218</td></tr><tr><td>82</td><td>50</td><td>M</td><td>Programmer</td><td>22902</td></tr><tr><td>83</td><td>40</td><td>M</td><td>Other</td><td>44133</td></tr><tr><td>84</td><td>32</td><td>M</td><td>Cheif Executive Officer</td><td>55369</td></tr><tr><td>85</td><td>51</td><td>M</td><td>Educator</td><td>20003</td></tr><tr><td>86</td><td>26</td><td>M</td><td>Administrator</td><td>46005</td></tr><tr><td>87</td><td>47</td><td>M</td><td>Administrator</td><td>89503</td></tr><tr><td>88</td><td>49</td><td>F</td><td>Librarian</td><td>11701</td></tr><tr><td>89</td><td>43</td><td>F</td><td>Administrator</td><td>68106</td></tr><tr><td>90</td><td>60</td><td>M</td><td>Educator</td><td>78155</td></tr><tr><td>91</td><td>55</td><td>M</td><td>marketing</td><td>1913</td></tr><tr><td>92</td><td>32</td><td>M</td><td>Entertainment</td><td>80525</td></tr><tr><td>93</td><td>48</td><td>M</td><td>Cheif Executive Officer</td><td>23112</td></tr><tr><td>94</td><td>26</td><td>M</td><td>Student</td><td>71457</td></tr><tr><td>95</td><td>31</td><td>M</td><td>Administrator</td><td>10707</td></tr><tr><td>96</td><td>25</td><td>F</td><td>Artist</td><td>75206</td></tr><tr><td>97</td><td>43</td><td>M</td><td>Artist</td><td>98006</td></tr><tr><td>98</td><td>49</td><td>F</td><td>Cheif Executive Officer</td><td>90291</td></tr><tr><td>99</td><td>20</td><td>M</td><td>Student</td><td>63129</td></tr><tr><td>100</td><td>36</td><td>M</td><td>Cheif Executive Officer</td><td>90254</td></tr><tr><td>101</td><td>15</td><td>M</td><td>Student</td><td>5146</td></tr><tr><td>102</td><td>38</td><td>M</td><td>Programmer</td><td>30220</td></tr><tr><td>103</td><td>26</td><td>M</td><td>Student</td><td>55108</td></tr><tr><td>104</td><td>27</td><td>M</td><td>Student</td><td>55108</td></tr><tr><td>105</td><td>24</td><td>M</td><td>Engineer</td><td>94043</td></tr><tr><td>106</td><td>61</td><td>M</td><td>retired</td><td>55125</td></tr><tr><td>107</td><td>39</td><td>M</td><td>Scientist</td><td>60466</td></tr><tr><td>108</td><td>44</td><td>M</td><td>Educator</td><td>63130</td></tr><tr><td>109</td><td>29</td><td>M</td><td>Other</td><td>55423</td></tr><tr><td>110</td><td>19</td><td>M</td><td>Student</td><td>77840</td></tr><tr><td>111</td><td>57</td><td>M</td><td>Engineer</td><td>90630</td></tr><tr><td>112</td><td>30</td><td>M</td><td>salesman</td><td>60613</td></tr><tr><td>113</td><td>47</td><td>M</td><td>Cheif Executive Officer</td><td>95032</td></tr><tr><td>114</td><td>27</td><td>M</td><td>Programmer</td><td>75013</td></tr><tr><td>115</td><td>31</td><td>M</td><td>Engineer</td><td>17110</td></tr><tr><td>116</td><td>40</td><td>M</td><td>healthcare</td><td>97232</td></tr><tr><td>117</td><td>20</td><td>M</td><td>Student</td><td>16125</td></tr><tr><td>118</td><td>21</td><td>M</td><td>Administrator</td><td>90210</td></tr><tr><td>119</td><td>32</td><td>M</td><td>Programmer</td><td>67401</td></tr><tr><td>120</td><td>47</td><td>F</td><td>Other</td><td>6260</td></tr><tr><td>121</td><td>54</td><td>M</td><td>Librarian</td><td>99603</td></tr><tr><td>122</td><td>32</td><td>F</td><td>Writer</td><td>22206</td></tr><tr><td>123</td><td>48</td><td>F</td><td>Artist</td><td>20008</td></tr><tr><td>124</td><td>34</td><td>M</td><td>Student</td><td>60615</td></tr><tr><td>125</td><td>30</td><td>M</td><td>Lawyer</td><td>22202</td></tr><tr><td>126</td><td>28</td><td>F</td><td>Lawyer</td><td>20015</td></tr><tr><td>127</td><td>33</td><td>M</td><td>cheif Cheif Executive Officer Officer</td><td>73439</td></tr><tr><td>128</td><td>24</td><td>F</td><td>marketing</td><td>20009</td></tr><tr><td>129</td><td>36</td><td>F</td><td>marketing</td><td>7039</td></tr><tr><td>130</td><td>20</td><td>M</td><td>cheif Cheif Executive Officer Officer</td><td>60115</td></tr><tr><td>131</td><td>59</td><td>F</td><td>Administrator</td><td>15237</td></tr><tr><td>132</td><td>24</td><td>M</td><td>Other</td><td>94612</td></tr><tr><td>133</td><td>53</td><td>M</td><td>Engineer</td><td>78602</td></tr><tr><td>134</td><td>31</td><td>M</td><td>Programmer</td><td>80236</td></tr><tr><td>135</td><td>23</td><td>M</td><td>Student</td><td>38401</td></tr><tr><td>136</td><td>51</td><td>M</td><td>Other</td><td>97365</td></tr><tr><td>137</td><td>50</td><td>M</td><td>Educator</td><td>84408</td></tr><tr><td>138</td><td>46</td><td>M</td><td>doctor</td><td>53211</td></tr><tr><td>139</td><td>20</td><td>M</td><td>Student</td><td>8904</td></tr><tr><td>140</td><td>30</td><td>F</td><td>Student</td><td>32250</td></tr><tr><td>141</td><td>49</td><td>M</td><td>Programmer</td><td>36117</td></tr><tr><td>142</td><td>13</td><td>M</td><td>Other</td><td>48118</td></tr><tr><td>143</td><td>42</td><td>M</td><td>Technician</td><td>8832</td></tr><tr><td>144</td><td>53</td><td>M</td><td>Programmer</td><td>20910</td></tr><tr><td>145</td><td>31</td><td>M</td><td>Entertainment</td><td>20910</td></tr><tr><td>146</td><td>45</td><td>M</td><td>Artist</td><td>83814</td></tr><tr><td>147</td><td>40</td><td>F</td><td>Librarian</td><td>2143</td></tr><tr><td>148</td><td>33</td><td>M</td><td>Engineer</td><td>97006</td></tr><tr><td>149</td><td>35</td><td>F</td><td>marketing</td><td>17325</td></tr><tr><td>150</td><td>20</td><td>F</td><td>Artist</td><td>2139</td></tr><tr><td>151</td><td>38</td><td>F</td><td>Administrator</td><td>48103</td></tr><tr><td>152</td><td>33</td><td>F</td><td>Educator</td><td>68767</td></tr><tr><td>153</td><td>25</td><td>M</td><td>Student</td><td>60641</td></tr><tr><td>154</td><td>25</td><td>M</td><td>Student</td><td>53703</td></tr><tr><td>155</td><td>32</td><td>F</td><td>Other</td><td>11217</td></tr><tr><td>156</td><td>25</td><td>M</td><td>Educator</td><td>8360</td></tr><tr><td>157</td><td>57</td><td>M</td><td>Engineer</td><td>70808</td></tr><tr><td>158</td><td>50</td><td>M</td><td>Educator</td><td>27606</td></tr><tr><td>159</td><td>23</td><td>F</td><td>Student</td><td>55346</td></tr><tr><td>160</td><td>27</td><td>M</td><td>Programmer</td><td>66215</td></tr><tr><td>161</td><td>50</td><td>M</td><td>Lawyer</td><td>55104</td></tr><tr><td>162</td><td>25</td><td>M</td><td>Artist</td><td>15610</td></tr><tr><td>163</td><td>49</td><td>M</td><td>Administrator</td><td>97212</td></tr><tr><td>164</td><td>47</td><td>M</td><td>healthcare</td><td>80123</td></tr><tr><td>165</td><td>20</td><td>F</td><td>Other</td><td>53715</td></tr><tr><td>166</td><td>47</td><td>M</td><td>Educator</td><td>55113</td></tr><tr><td>167</td><td>37</td><td>M</td><td>Other</td><td>55113</td></tr><tr><td>168</td><td>48</td><td>M</td><td>Other</td><td>80127</td></tr><tr><td>169</td><td>52</td><td>F</td><td>Other</td><td>53705</td></tr><tr><td>170</td><td>53</td><td>F</td><td>healthcare</td><td>30067</td></tr><tr><td>171</td><td>48</td><td>F</td><td>Educator</td><td>78750</td></tr><tr><td>172</td><td>55</td><td>M</td><td>marketing</td><td>22207</td></tr><tr><td>173</td><td>56</td><td>M</td><td>Other</td><td>22306</td></tr><tr><td>174</td><td>30</td><td>F</td><td>Administrator</td><td>52302</td></tr><tr><td>175</td><td>26</td><td>F</td><td>Scientist</td><td>21911</td></tr><tr><td>176</td><td>28</td><td>M</td><td>Scientist</td><td>7030</td></tr><tr><td>177</td><td>20</td><td>M</td><td>Programmer</td><td>19104</td></tr><tr><td>178</td><td>26</td><td>M</td><td>Other</td><td>49512</td></tr><tr><td>179</td><td>15</td><td>M</td><td>Entertainment</td><td>20755</td></tr><tr><td>180</td><td>22</td><td>F</td><td>Administrator</td><td>60202</td></tr><tr><td>181</td><td>26</td><td>M</td><td>Cheif Executive Officer</td><td>21218</td></tr><tr><td>182</td><td>36</td><td>M</td><td>Programmer</td><td>33884</td></tr><tr><td>183</td><td>33</td><td>M</td><td>Scientist</td><td>27708</td></tr><tr><td>184</td><td>37</td><td>M</td><td>Librarian</td><td>76013</td></tr><tr><td>185</td><td>53</td><td>F</td><td>Librarian</td><td>97403</td></tr><tr><td>186</td><td>39</td><td>F</td><td>Cheif Executive Officer</td><td>0</td></tr><tr><td>187</td><td>26</td><td>M</td><td>Educator</td><td>16801</td></tr><tr><td>188</td><td>42</td><td>M</td><td>Student</td><td>29440</td></tr><tr><td>189</td><td>32</td><td>M</td><td>Artist</td><td>95014</td></tr><tr><td>190</td><td>30</td><td>M</td><td>Administrator</td><td>95938</td></tr><tr><td>191</td><td>33</td><td>M</td><td>Administrator</td><td>95161</td></tr><tr><td>192</td><td>42</td><td>M</td><td>Educator</td><td>90840</td></tr><tr><td>193</td><td>29</td><td>M</td><td>Student</td><td>49931</td></tr><tr><td>194</td><td>38</td><td>M</td><td>Administrator</td><td>2154</td></tr><tr><td>195</td><td>42</td><td>M</td><td>Scientist</td><td>93555</td></tr><tr><td>196</td><td>49</td><td>M</td><td>Writer</td><td>55105</td></tr><tr><td>197</td><td>55</td><td>M</td><td>Technician</td><td>75094</td></tr><tr><td>198</td><td>21</td><td>F</td><td>Student</td><td>55414</td></tr><tr><td>199</td><td>30</td><td>M</td><td>Writer</td><td>17604</td></tr><tr><td>200</td><td>40</td><td>M</td><td>Programmer</td><td>93402</td></tr><tr><td>201</td><td>27</td><td>M</td><td>Writer</td><td>93402</td></tr><tr><td>202</td><td>41</td><td>F</td><td>Educator</td><td>60201</td></tr><tr><td>203</td><td>25</td><td>F</td><td>Student</td><td>32301</td></tr><tr><td>204</td><td>52</td><td>F</td><td>Librarian</td><td>10960</td></tr><tr><td>205</td><td>47</td><td>M</td><td>Lawyer</td><td>6371</td></tr><tr><td>206</td><td>14</td><td>F</td><td>Student</td><td>53115</td></tr><tr><td>207</td><td>39</td><td>M</td><td>marketing</td><td>92037</td></tr><tr><td>208</td><td>43</td><td>M</td><td>Engineer</td><td>1720</td></tr><tr><td>209</td><td>33</td><td>F</td><td>Educator</td><td>85710</td></tr><tr><td>210</td><td>39</td><td>M</td><td>Engineer</td><td>3060</td></tr><tr><td>211</td><td>66</td><td>M</td><td>salesman</td><td>32605</td></tr><tr><td>212</td><td>49</td><td>F</td><td>Educator</td><td>61401</td></tr><tr><td>213</td><td>33</td><td>M</td><td>Cheif Executive Officer</td><td>55345</td></tr><tr><td>214</td><td>26</td><td>F</td><td>Librarian</td><td>11231</td></tr><tr><td>215</td><td>35</td><td>M</td><td>Programmer</td><td>63033</td></tr><tr><td>216</td><td>22</td><td>M</td><td>Engineer</td><td>2215</td></tr><tr><td>217</td><td>22</td><td>M</td><td>Other</td><td>11727</td></tr><tr><td>218</td><td>37</td><td>M</td><td>Administrator</td><td>6513</td></tr><tr><td>219</td><td>32</td><td>M</td><td>Programmer</td><td>43212</td></tr><tr><td>220</td><td>30</td><td>M</td><td>Librarian</td><td>78205</td></tr><tr><td>221</td><td>19</td><td>M</td><td>Student</td><td>20685</td></tr><tr><td>222</td><td>29</td><td>M</td><td>Programmer</td><td>27502</td></tr><tr><td>223</td><td>19</td><td>F</td><td>Student</td><td>47906</td></tr><tr><td>224</td><td>31</td><td>F</td><td>Educator</td><td>43512</td></tr><tr><td>225</td><td>51</td><td>F</td><td>Administrator</td><td>58202</td></tr><tr><td>226</td><td>28</td><td>M</td><td>Student</td><td>92103</td></tr><tr><td>227</td><td>46</td><td>M</td><td>Cheif Executive Officer</td><td>60659</td></tr><tr><td>228</td><td>21</td><td>F</td><td>Student</td><td>22003</td></tr><tr><td>229</td><td>29</td><td>F</td><td>Librarian</td><td>22903</td></tr><tr><td>230</td><td>28</td><td>F</td><td>Student</td><td>14476</td></tr><tr><td>231</td><td>48</td><td>M</td><td>Librarian</td><td>1080</td></tr><tr><td>232</td><td>45</td><td>M</td><td>Scientist</td><td>99709</td></tr><tr><td>233</td><td>38</td><td>M</td><td>Engineer</td><td>98682</td></tr><tr><td>234</td><td>60</td><td>M</td><td>retired</td><td>94702</td></tr><tr><td>235</td><td>37</td><td>M</td><td>Educator</td><td>22973</td></tr><tr><td>236</td><td>44</td><td>F</td><td>Writer</td><td>53214</td></tr><tr><td>237</td><td>49</td><td>M</td><td>Administrator</td><td>63146</td></tr><tr><td>238</td><td>42</td><td>F</td><td>Administrator</td><td>44124</td></tr><tr><td>239</td><td>39</td><td>M</td><td>Artist</td><td>95628</td></tr><tr><td>240</td><td>23</td><td>F</td><td>Educator</td><td>20784</td></tr><tr><td>241</td><td>26</td><td>F</td><td>Student</td><td>20001</td></tr><tr><td>242</td><td>33</td><td>M</td><td>Educator</td><td>31404</td></tr><tr><td>243</td><td>33</td><td>M</td><td>Educator</td><td>60201</td></tr><tr><td>244</td><td>28</td><td>M</td><td>Technician</td><td>100005</td></tr><tr><td>245</td><td>26</td><td>F</td><td>Technician</td><td>110000</td></tr></tbody></table></div>"
      ]
     },
     "metadata": {
      "application/vnd.databricks.v1+output": {
       "addedWidgets": {},
       "aggData": [],
       "aggError": "",
       "aggOverflow": false,
       "aggSchema": [],
       "aggSeriesLimitReached": false,
       "aggType": "",
       "arguments": {},
       "columnCustomDisplayInfos": {},
       "data": [
        [
         1,
         26,
         "M",
         "Technician",
         85711
        ],
        [
         2,
         53,
         "F",
         "Other",
         94043
        ],
        [
         3,
         23,
         "M",
         "Writer",
         32067
        ],
        [
         4,
         26,
         "M",
         "technician",
         43537
        ],
        [
         5,
         33,
         "F",
         "Other",
         15213
        ],
        [
         6,
         42,
         "M",
         "Cheif Executive Officer",
         98101
        ],
        [
         7,
         57,
         "M",
         "Administrator",
         91344
        ],
        [
         8,
         36,
         "M",
         "Administrator",
         5201
        ],
        [
         9,
         29,
         "M",
         "Student",
         1002
        ],
        [
         10,
         53,
         "M",
         "Lawyer",
         90703
        ],
        [
         11,
         39,
         "F",
         "Other",
         30329
        ],
        [
         12,
         28,
         "F",
         "Other",
         6405
        ],
        [
         13,
         47,
         "M",
         "Educator",
         29206
        ],
        [
         14,
         45,
         "M",
         "Scientist",
         55106
        ],
        [
         15,
         49,
         "F",
         "Educator",
         97301
        ],
        [
         16,
         21,
         "M",
         "Entertainment",
         10309
        ],
        [
         17,
         30,
         "M",
         "Programmer",
         6355
        ],
        [
         18,
         35,
         "F",
         "Other",
         37212
        ],
        [
         19,
         40,
         "M",
         "Librarian",
         2138
        ],
        [
         20,
         42,
         "F",
         "Homemaker",
         95660
        ],
        [
         21,
         26,
         "M",
         "Writer",
         30068
        ],
        [
         22,
         25,
         "M",
         "Writer",
         40206
        ],
        [
         23,
         30,
         "F",
         "Artist",
         48197
        ],
        [
         24,
         21,
         "F",
         "Artist",
         94533
        ],
        [
         25,
         39,
         "M",
         "Engineer",
         55107
        ],
        [
         26,
         49,
         "M",
         "Engineer",
         21044
        ],
        [
         27,
         40,
         "F",
         "Librarian",
         30030
        ],
        [
         28,
         32,
         "M",
         "Writer",
         55369
        ],
        [
         29,
         41,
         "M",
         "Programmer",
         94043
        ],
        [
         30,
         7,
         "M",
         "Student",
         55436
        ],
        [
         31,
         24,
         "M",
         "Artist",
         10003
        ],
        [
         32,
         28,
         "F",
         "Student",
         78741
        ],
        [
         33,
         23,
         "M",
         "Student",
         27510
        ],
        [
         34,
         38,
         "F",
         "Administrator",
         42141
        ],
        [
         35,
         20,
         "F",
         "Homemaker",
         42459
        ],
        [
         36,
         19,
         "F",
         "Student",
         93117
        ],
        [
         37,
         23,
         "M",
         "Student",
         55105
        ],
        [
         38,
         28,
         "F",
         "Other",
         54467
        ],
        [
         39,
         41,
         "M",
         "Entertainment",
         1040
        ],
        [
         40,
         38,
         "M",
         "Scientist",
         27514
        ],
        [
         41,
         33,
         "M",
         "Engineer",
         80525
        ],
        [
         42,
         30,
         "M",
         "Administrator",
         17870
        ],
        [
         43,
         29,
         "F",
         "Librarian",
         20854
        ],
        [
         44,
         26,
         "M",
         "Technician",
         46260
        ],
        [
         45,
         29,
         "M",
         "Programmer",
         50233
        ],
        [
         46,
         27,
         "F",
         "marketing",
         46538
        ],
        [
         47,
         53,
         "M",
         "marketing",
         7102
        ],
        [
         48,
         45,
         "M",
         "Administrator",
         12550
        ],
        [
         49,
         23,
         "F",
         "Student",
         76111
        ],
        [
         50,
         21,
         "M",
         "Writer",
         52245
        ],
        [
         51,
         28,
         "M",
         "Educator",
         16509
        ],
        [
         52,
         18,
         "F",
         "Student",
         55105
        ],
        [
         53,
         26,
         "M",
         "Programmer",
         55414
        ],
        [
         54,
         22,
         "M",
         "Cheif Executive Officer",
         66315
        ],
        [
         55,
         37,
         "M",
         "Programmer",
         1331
        ],
        [
         56,
         25,
         "M",
         "Librarian",
         46260
        ],
        [
         57,
         16,
         "M",
         "Cheif Cheif Executive Officer Officer",
         84010
        ],
        [
         58,
         27,
         "M",
         "Programmer",
         52246
        ],
        [
         59,
         49,
         "M",
         "Educator",
         8403
        ],
        [
         60,
         50,
         "M",
         "healthcare",
         6472
        ],
        [
         61,
         36,
         "M",
         "Engineer",
         30040
        ],
        [
         62,
         27,
         "F",
         "Administrator",
         97214
        ],
        [
         63,
         31,
         "M",
         "marketing",
         75240
        ],
        [
         64,
         32,
         "M",
         "Educator",
         43202
        ],
        [
         65,
         51,
         "F",
         "Educator",
         48118
        ],
        [
         66,
         23,
         "M",
         "Student",
         80521
        ],
        [
         67,
         17,
         "M",
         "Student",
         60402
        ],
        [
         68,
         19,
         "M",
         "Student",
         22904
        ],
        [
         69,
         24,
         "M",
         "Engineer",
         55337
        ],
        [
         70,
         27,
         "M",
         "Engineer",
         60067
        ],
        [
         71,
         39,
         "M",
         "Scientist",
         98034
        ],
        [
         72,
         48,
         "F",
         "Administrator",
         73034
        ],
        [
         73,
         24,
         "M",
         "Student",
         41850
        ],
        [
         74,
         39,
         "M",
         "Scientist",
         41850
        ],
        [
         75,
         24,
         "M",
         "Entertainment",
         8816
        ],
        [
         76,
         20,
         "M",
         "Student",
         2215
        ],
        [
         77,
         30,
         "M",
         "Technician",
         29379
        ],
        [
         78,
         26,
         "M",
         "Administrator",
         61801
        ],
        [
         79,
         39,
         "F",
         "Administrator",
         3755
        ],
        [
         80,
         34,
         "F",
         "Administrator",
         52241
        ],
        [
         81,
         21,
         "M",
         "Student",
         21218
        ],
        [
         82,
         50,
         "M",
         "Programmer",
         22902
        ],
        [
         83,
         40,
         "M",
         "Other",
         44133
        ],
        [
         84,
         32,
         "M",
         "Cheif Executive Officer",
         55369
        ],
        [
         85,
         51,
         "M",
         "Educator",
         20003
        ],
        [
         86,
         26,
         "M",
         "Administrator",
         46005
        ],
        [
         87,
         47,
         "M",
         "Administrator",
         89503
        ],
        [
         88,
         49,
         "F",
         "Librarian",
         11701
        ],
        [
         89,
         43,
         "F",
         "Administrator",
         68106
        ],
        [
         90,
         60,
         "M",
         "Educator",
         78155
        ],
        [
         91,
         55,
         "M",
         "marketing",
         1913
        ],
        [
         92,
         32,
         "M",
         "Entertainment",
         80525
        ],
        [
         93,
         48,
         "M",
         "Cheif Executive Officer",
         23112
        ],
        [
         94,
         26,
         "M",
         "Student",
         71457
        ],
        [
         95,
         31,
         "M",
         "Administrator",
         10707
        ],
        [
         96,
         25,
         "F",
         "Artist",
         75206
        ],
        [
         97,
         43,
         "M",
         "Artist",
         98006
        ],
        [
         98,
         49,
         "F",
         "Cheif Executive Officer",
         90291
        ],
        [
         99,
         20,
         "M",
         "Student",
         63129
        ],
        [
         100,
         36,
         "M",
         "Cheif Executive Officer",
         90254
        ],
        [
         101,
         15,
         "M",
         "Student",
         5146
        ],
        [
         102,
         38,
         "M",
         "Programmer",
         30220
        ],
        [
         103,
         26,
         "M",
         "Student",
         55108
        ],
        [
         104,
         27,
         "M",
         "Student",
         55108
        ],
        [
         105,
         24,
         "M",
         "Engineer",
         94043
        ],
        [
         106,
         61,
         "M",
         "retired",
         55125
        ],
        [
         107,
         39,
         "M",
         "Scientist",
         60466
        ],
        [
         108,
         44,
         "M",
         "Educator",
         63130
        ],
        [
         109,
         29,
         "M",
         "Other",
         55423
        ],
        [
         110,
         19,
         "M",
         "Student",
         77840
        ],
        [
         111,
         57,
         "M",
         "Engineer",
         90630
        ],
        [
         112,
         30,
         "M",
         "salesman",
         60613
        ],
        [
         113,
         47,
         "M",
         "Cheif Executive Officer",
         95032
        ],
        [
         114,
         27,
         "M",
         "Programmer",
         75013
        ],
        [
         115,
         31,
         "M",
         "Engineer",
         17110
        ],
        [
         116,
         40,
         "M",
         "healthcare",
         97232
        ],
        [
         117,
         20,
         "M",
         "Student",
         16125
        ],
        [
         118,
         21,
         "M",
         "Administrator",
         90210
        ],
        [
         119,
         32,
         "M",
         "Programmer",
         67401
        ],
        [
         120,
         47,
         "F",
         "Other",
         6260
        ],
        [
         121,
         54,
         "M",
         "Librarian",
         99603
        ],
        [
         122,
         32,
         "F",
         "Writer",
         22206
        ],
        [
         123,
         48,
         "F",
         "Artist",
         20008
        ],
        [
         124,
         34,
         "M",
         "Student",
         60615
        ],
        [
         125,
         30,
         "M",
         "Lawyer",
         22202
        ],
        [
         126,
         28,
         "F",
         "Lawyer",
         20015
        ],
        [
         127,
         33,
         "M",
         "cheif Cheif Executive Officer Officer",
         73439
        ],
        [
         128,
         24,
         "F",
         "marketing",
         20009
        ],
        [
         129,
         36,
         "F",
         "marketing",
         7039
        ],
        [
         130,
         20,
         "M",
         "cheif Cheif Executive Officer Officer",
         60115
        ],
        [
         131,
         59,
         "F",
         "Administrator",
         15237
        ],
        [
         132,
         24,
         "M",
         "Other",
         94612
        ],
        [
         133,
         53,
         "M",
         "Engineer",
         78602
        ],
        [
         134,
         31,
         "M",
         "Programmer",
         80236
        ],
        [
         135,
         23,
         "M",
         "Student",
         38401
        ],
        [
         136,
         51,
         "M",
         "Other",
         97365
        ],
        [
         137,
         50,
         "M",
         "Educator",
         84408
        ],
        [
         138,
         46,
         "M",
         "doctor",
         53211
        ],
        [
         139,
         20,
         "M",
         "Student",
         8904
        ],
        [
         140,
         30,
         "F",
         "Student",
         32250
        ],
        [
         141,
         49,
         "M",
         "Programmer",
         36117
        ],
        [
         142,
         13,
         "M",
         "Other",
         48118
        ],
        [
         143,
         42,
         "M",
         "Technician",
         8832
        ],
        [
         144,
         53,
         "M",
         "Programmer",
         20910
        ],
        [
         145,
         31,
         "M",
         "Entertainment",
         20910
        ],
        [
         146,
         45,
         "M",
         "Artist",
         83814
        ],
        [
         147,
         40,
         "F",
         "Librarian",
         2143
        ],
        [
         148,
         33,
         "M",
         "Engineer",
         97006
        ],
        [
         149,
         35,
         "F",
         "marketing",
         17325
        ],
        [
         150,
         20,
         "F",
         "Artist",
         2139
        ],
        [
         151,
         38,
         "F",
         "Administrator",
         48103
        ],
        [
         152,
         33,
         "F",
         "Educator",
         68767
        ],
        [
         153,
         25,
         "M",
         "Student",
         60641
        ],
        [
         154,
         25,
         "M",
         "Student",
         53703
        ],
        [
         155,
         32,
         "F",
         "Other",
         11217
        ],
        [
         156,
         25,
         "M",
         "Educator",
         8360
        ],
        [
         157,
         57,
         "M",
         "Engineer",
         70808
        ],
        [
         158,
         50,
         "M",
         "Educator",
         27606
        ],
        [
         159,
         23,
         "F",
         "Student",
         55346
        ],
        [
         160,
         27,
         "M",
         "Programmer",
         66215
        ],
        [
         161,
         50,
         "M",
         "Lawyer",
         55104
        ],
        [
         162,
         25,
         "M",
         "Artist",
         15610
        ],
        [
         163,
         49,
         "M",
         "Administrator",
         97212
        ],
        [
         164,
         47,
         "M",
         "healthcare",
         80123
        ],
        [
         165,
         20,
         "F",
         "Other",
         53715
        ],
        [
         166,
         47,
         "M",
         "Educator",
         55113
        ],
        [
         167,
         37,
         "M",
         "Other",
         55113
        ],
        [
         168,
         48,
         "M",
         "Other",
         80127
        ],
        [
         169,
         52,
         "F",
         "Other",
         53705
        ],
        [
         170,
         53,
         "F",
         "healthcare",
         30067
        ],
        [
         171,
         48,
         "F",
         "Educator",
         78750
        ],
        [
         172,
         55,
         "M",
         "marketing",
         22207
        ],
        [
         173,
         56,
         "M",
         "Other",
         22306
        ],
        [
         174,
         30,
         "F",
         "Administrator",
         52302
        ],
        [
         175,
         26,
         "F",
         "Scientist",
         21911
        ],
        [
         176,
         28,
         "M",
         "Scientist",
         7030
        ],
        [
         177,
         20,
         "M",
         "Programmer",
         19104
        ],
        [
         178,
         26,
         "M",
         "Other",
         49512
        ],
        [
         179,
         15,
         "M",
         "Entertainment",
         20755
        ],
        [
         180,
         22,
         "F",
         "Administrator",
         60202
        ],
        [
         181,
         26,
         "M",
         "Cheif Executive Officer",
         21218
        ],
        [
         182,
         36,
         "M",
         "Programmer",
         33884
        ],
        [
         183,
         33,
         "M",
         "Scientist",
         27708
        ],
        [
         184,
         37,
         "M",
         "Librarian",
         76013
        ],
        [
         185,
         53,
         "F",
         "Librarian",
         97403
        ],
        [
         186,
         39,
         "F",
         "Cheif Executive Officer",
         0
        ],
        [
         187,
         26,
         "M",
         "Educator",
         16801
        ],
        [
         188,
         42,
         "M",
         "Student",
         29440
        ],
        [
         189,
         32,
         "M",
         "Artist",
         95014
        ],
        [
         190,
         30,
         "M",
         "Administrator",
         95938
        ],
        [
         191,
         33,
         "M",
         "Administrator",
         95161
        ],
        [
         192,
         42,
         "M",
         "Educator",
         90840
        ],
        [
         193,
         29,
         "M",
         "Student",
         49931
        ],
        [
         194,
         38,
         "M",
         "Administrator",
         2154
        ],
        [
         195,
         42,
         "M",
         "Scientist",
         93555
        ],
        [
         196,
         49,
         "M",
         "Writer",
         55105
        ],
        [
         197,
         55,
         "M",
         "Technician",
         75094
        ],
        [
         198,
         21,
         "F",
         "Student",
         55414
        ],
        [
         199,
         30,
         "M",
         "Writer",
         17604
        ],
        [
         200,
         40,
         "M",
         "Programmer",
         93402
        ],
        [
         201,
         27,
         "M",
         "Writer",
         93402
        ],
        [
         202,
         41,
         "F",
         "Educator",
         60201
        ],
        [
         203,
         25,
         "F",
         "Student",
         32301
        ],
        [
         204,
         52,
         "F",
         "Librarian",
         10960
        ],
        [
         205,
         47,
         "M",
         "Lawyer",
         6371
        ],
        [
         206,
         14,
         "F",
         "Student",
         53115
        ],
        [
         207,
         39,
         "M",
         "marketing",
         92037
        ],
        [
         208,
         43,
         "M",
         "Engineer",
         1720
        ],
        [
         209,
         33,
         "F",
         "Educator",
         85710
        ],
        [
         210,
         39,
         "M",
         "Engineer",
         3060
        ],
        [
         211,
         66,
         "M",
         "salesman",
         32605
        ],
        [
         212,
         49,
         "F",
         "Educator",
         61401
        ],
        [
         213,
         33,
         "M",
         "Cheif Executive Officer",
         55345
        ],
        [
         214,
         26,
         "F",
         "Librarian",
         11231
        ],
        [
         215,
         35,
         "M",
         "Programmer",
         63033
        ],
        [
         216,
         22,
         "M",
         "Engineer",
         2215
        ],
        [
         217,
         22,
         "M",
         "Other",
         11727
        ],
        [
         218,
         37,
         "M",
         "Administrator",
         6513
        ],
        [
         219,
         32,
         "M",
         "Programmer",
         43212
        ],
        [
         220,
         30,
         "M",
         "Librarian",
         78205
        ],
        [
         221,
         19,
         "M",
         "Student",
         20685
        ],
        [
         222,
         29,
         "M",
         "Programmer",
         27502
        ],
        [
         223,
         19,
         "F",
         "Student",
         47906
        ],
        [
         224,
         31,
         "F",
         "Educator",
         43512
        ],
        [
         225,
         51,
         "F",
         "Administrator",
         58202
        ],
        [
         226,
         28,
         "M",
         "Student",
         92103
        ],
        [
         227,
         46,
         "M",
         "Cheif Executive Officer",
         60659
        ],
        [
         228,
         21,
         "F",
         "Student",
         22003
        ],
        [
         229,
         29,
         "F",
         "Librarian",
         22903
        ],
        [
         230,
         28,
         "F",
         "Student",
         14476
        ],
        [
         231,
         48,
         "M",
         "Librarian",
         1080
        ],
        [
         232,
         45,
         "M",
         "Scientist",
         99709
        ],
        [
         233,
         38,
         "M",
         "Engineer",
         98682
        ],
        [
         234,
         60,
         "M",
         "retired",
         94702
        ],
        [
         235,
         37,
         "M",
         "Educator",
         22973
        ],
        [
         236,
         44,
         "F",
         "Writer",
         53214
        ],
        [
         237,
         49,
         "M",
         "Administrator",
         63146
        ],
        [
         238,
         42,
         "F",
         "Administrator",
         44124
        ],
        [
         239,
         39,
         "M",
         "Artist",
         95628
        ],
        [
         240,
         23,
         "F",
         "Educator",
         20784
        ],
        [
         241,
         26,
         "F",
         "Student",
         20001
        ],
        [
         242,
         33,
         "M",
         "Educator",
         31404
        ],
        [
         243,
         33,
         "M",
         "Educator",
         60201
        ],
        [
         244,
         28,
         "M",
         "Technician",
         100005
        ],
        [
         245,
         26,
         "F",
         "Technician",
         110000
        ]
       ],
       "datasetInfos": [],
       "dbfsResultPath": null,
       "isJsonSchema": true,
       "metadata": {},
       "overflow": false,
       "plotOptions": {
        "customPlotOptions": {},
        "displayType": "table",
        "pivotAggregation": null,
        "pivotColumns": null,
        "xColumns": null,
        "yColumns": null
       },
       "removedWidgets": [],
       "schema": [
        {
         "metadata": "{}",
         "name": "id",
         "type": "\"integer\""
        },
        {
         "metadata": "{}",
         "name": "age",
         "type": "\"integer\""
        },
        {
         "metadata": "{}",
         "name": "gen",
         "type": "\"string\""
        },
        {
         "metadata": "{}",
         "name": "designation",
         "type": "\"string\""
        },
        {
         "metadata": "{}",
         "name": "salary",
         "type": "\"integer\""
        }
       ],
       "type": "table"
      }
     },
     "output_type": "display_data"
    }
   ],
   "source": [
    "spark.read.csv(\n",
    "    path=\"/Volumes/quickstart_catalog/quickstart_schema/sandbox/dataset/sample_dataset/users_001.dat\",\n",
    "    header=True,\n",
    "    inferSchema=True,\n",
    "    sep=\"|\",\n",
    ").display()\n"
   ]
  },
  {
   "cell_type": "markdown",
   "metadata": {
    "application/vnd.databricks.v1+cell": {
     "cellMetadata": {},
     "inputWidgets": {},
     "nuid": "1dd42539-d5d2-46ab-869c-9eac52885668",
     "showTitle": false,
     "tableResultSettingsMap": {},
     "title": ""
    }
   },
   "source": [
    "## Create data from JSON"
   ]
  },
  {
   "cell_type": "code",
   "execution_count": 0,
   "metadata": {
    "application/vnd.databricks.v1+cell": {
     "cellMetadata": {
      "byteLimit": 2048000,
      "rowLimit": 10000
     },
     "inputWidgets": {},
     "nuid": "3eec69eb-9ccf-4c7f-92de-ec323b339867",
     "showTitle": false,
     "tableResultSettingsMap": {},
     "title": ""
    }
   },
   "outputs": [
    {
     "output_type": "display_data",
     "data": {
      "text/html": [
       "<style scoped>\n",
       "  .table-result-container {\n",
       "    max-height: 300px;\n",
       "    overflow: auto;\n",
       "  }\n",
       "  table, th, td {\n",
       "    border: 1px solid black;\n",
       "    border-collapse: collapse;\n",
       "  }\n",
       "  th, td {\n",
       "    padding: 5px;\n",
       "  }\n",
       "  th {\n",
       "    text-align: left;\n",
       "  }\n",
       "</style><div class='table-result-container'><table class='table-result'><thead style='background-color: white'><tr><th>age</th><th>designation</th><th>gender</th><th>id</th><th>salary</th></tr></thead><tbody><tr><td>0</td><td>technician</td><td>M</td><td>1</td><td>85711</td></tr><tr><td>53</td><td>other</td><td>F</td><td>2</td><td>94043</td></tr></tbody></table></div>"
      ]
     },
     "metadata": {
      "application/vnd.databricks.v1+output": {
       "addedWidgets": {},
       "aggData": [],
       "aggError": "",
       "aggOverflow": false,
       "aggSchema": [],
       "aggSeriesLimitReached": false,
       "aggType": "",
       "arguments": {},
       "columnCustomDisplayInfos": {},
       "data": [
        [
         0,
         "technician",
         "M",
         1,
         85711
        ],
        [
         53,
         "other",
         "F",
         2,
         94043
        ]
       ],
       "datasetInfos": [],
       "dbfsResultPath": null,
       "isJsonSchema": true,
       "metadata": {},
       "overflow": false,
       "plotOptions": {
        "customPlotOptions": {},
        "displayType": "table",
        "pivotAggregation": null,
        "pivotColumns": null,
        "xColumns": null,
        "yColumns": null
       },
       "removedWidgets": [],
       "schema": [
        {
         "metadata": "{}",
         "name": "age",
         "type": "\"long\""
        },
        {
         "metadata": "{}",
         "name": "designation",
         "type": "\"string\""
        },
        {
         "metadata": "{}",
         "name": "gender",
         "type": "\"string\""
        },
        {
         "metadata": "{}",
         "name": "id",
         "type": "\"long\""
        },
        {
         "metadata": "{}",
         "name": "salary",
         "type": "\"long\""
        }
       ],
       "type": "table"
      }
     },
     "output_type": "display_data"
    }
   ],
   "source": [
    "spark.read.json(\n",
    "    path=\"/Volumes/quickstart_catalog/quickstart_schema/sandbox/dataset/sample_dataset/users_004.json\",\n",
    "    multiLine=True,\n",
    ").display()"
   ]
  },
  {
   "cell_type": "markdown",
   "metadata": {
    "application/vnd.databricks.v1+cell": {
     "cellMetadata": {},
     "inputWidgets": {},
     "nuid": "51a4bb18-b61b-4e93-907b-4da864eb2d70",
     "showTitle": false,
     "tableResultSettingsMap": {},
     "title": ""
    }
   },
   "source": [
    "## Create data from Parquet -- This is a columunar format"
   ]
  },
  {
   "cell_type": "code",
   "execution_count": 0,
   "metadata": {
    "application/vnd.databricks.v1+cell": {
     "cellMetadata": {
      "byteLimit": 2048000,
      "rowLimit": 10000
     },
     "inputWidgets": {},
     "nuid": "d78ebc38-09fe-4f1b-a839-f5532e40f53d",
     "showTitle": false,
     "tableResultSettingsMap": {},
     "title": ""
    }
   },
   "outputs": [
    {
     "output_type": "display_data",
     "data": {
      "text/html": [
       "<style scoped>\n",
       "  .table-result-container {\n",
       "    max-height: 300px;\n",
       "    overflow: auto;\n",
       "  }\n",
       "  table, th, td {\n",
       "    border: 1px solid black;\n",
       "    border-collapse: collapse;\n",
       "  }\n",
       "  th, td {\n",
       "    padding: 5px;\n",
       "  }\n",
       "  th {\n",
       "    text-align: left;\n",
       "  }\n",
       "</style><div class='table-result-container'><table class='table-result'><thead style='background-color: white'><tr><th>id</th><th>age</th><th>gender</th><th>designation</th><th>salary</th></tr></thead><tbody><tr><td>1</td><td>0</td><td>M</td><td>technician</td><td>85711</td></tr><tr><td>2</td><td>53</td><td>F</td><td>other</td><td>94043</td></tr><tr><td>3</td><td>23</td><td>M</td><td>writer</td><td>32067</td></tr><tr><td>4</td><td>0</td><td>M</td><td>technician</td><td>43537</td></tr><tr><td>5</td><td>33</td><td>F</td><td>other</td><td>15213</td></tr><tr><td>6</td><td>42</td><td>M</td><td>Cheif Executive Officer</td><td>98101</td></tr><tr><td>7</td><td>57</td><td>M</td><td>administrator</td><td>91344</td></tr><tr><td>8</td><td>36</td><td>M</td><td>administrator</td><td>5201</td></tr><tr><td>9</td><td>29</td><td>M</td><td>student</td><td>1002</td></tr><tr><td>10</td><td>53</td><td>M</td><td>lawyer</td><td>90703</td></tr><tr><td>11</td><td>39</td><td>F</td><td>other</td><td>30329</td></tr><tr><td>12</td><td>28</td><td>F</td><td>other</td><td>6405</td></tr><tr><td>13</td><td>47</td><td>M</td><td>educator</td><td>29206</td></tr><tr><td>14</td><td>45</td><td>M</td><td>scientist</td><td>55106</td></tr><tr><td>15</td><td>49</td><td>F</td><td>educator</td><td>97301</td></tr><tr><td>16</td><td>21</td><td>M</td><td>entertainment</td><td>10309</td></tr><tr><td>17</td><td>30</td><td>M</td><td>programmer</td><td>6355</td></tr><tr><td>18</td><td>35</td><td>F</td><td>other</td><td>37212</td></tr><tr><td>19</td><td>40</td><td>M</td><td>librarian</td><td>2138</td></tr><tr><td>20</td><td>42</td><td>F</td><td>homemaker</td><td>95660</td></tr><tr><td>21</td><td>26</td><td>M</td><td>writer</td><td>30068</td></tr><tr><td>22</td><td>25</td><td>M</td><td>writer</td><td>40206</td></tr><tr><td>23</td><td>30</td><td>F</td><td>artist</td><td>48197</td></tr><tr><td>24</td><td>21</td><td>F</td><td>artist</td><td>94533</td></tr><tr><td>25</td><td>39</td><td>M</td><td>engineer</td><td>55107</td></tr><tr><td>26</td><td>49</td><td>M</td><td>engineer</td><td>21044</td></tr><tr><td>27</td><td>40</td><td>F</td><td>librarian</td><td>30030</td></tr><tr><td>28</td><td>32</td><td>M</td><td>writer</td><td>55369</td></tr><tr><td>29</td><td>41</td><td>M</td><td>programmer</td><td>94043</td></tr><tr><td>30</td><td>7</td><td>M</td><td>student</td><td>55436</td></tr><tr><td>31</td><td>24</td><td>M</td><td>artist</td><td>10003</td></tr><tr><td>32</td><td>28</td><td>F</td><td>student</td><td>78741</td></tr><tr><td>33</td><td>23</td><td>M</td><td>student</td><td>27510</td></tr><tr><td>34</td><td>38</td><td>F</td><td>administrator</td><td>42141</td></tr><tr><td>35</td><td>20</td><td>F</td><td>homemaker</td><td>42459</td></tr><tr><td>36</td><td>19</td><td>F</td><td>student</td><td>93117</td></tr><tr><td>37</td><td>23</td><td>M</td><td>student</td><td>55105</td></tr><tr><td>38</td><td>28</td><td>F</td><td>other</td><td>54467</td></tr><tr><td>39</td><td>41</td><td>M</td><td>entertainment</td><td>1040</td></tr><tr><td>40</td><td>38</td><td>M</td><td>scientist</td><td>27514</td></tr><tr><td>41</td><td>33</td><td>M</td><td>engineer</td><td>80525</td></tr><tr><td>42</td><td>30</td><td>M</td><td>administrator</td><td>17870</td></tr><tr><td>43</td><td>29</td><td>F</td><td>librarian</td><td>20854</td></tr><tr><td>44</td><td>26</td><td>M</td><td>technician</td><td>46260</td></tr><tr><td>45</td><td>29</td><td>M</td><td>programmer</td><td>50233</td></tr><tr><td>46</td><td>27</td><td>F</td><td>marketing</td><td>46538</td></tr><tr><td>47</td><td>53</td><td>M</td><td>marketing</td><td>7102</td></tr><tr><td>48</td><td>45</td><td>M</td><td>administrator</td><td>12550</td></tr><tr><td>49</td><td>23</td><td>F</td><td>student</td><td>76111</td></tr><tr><td>50</td><td>21</td><td>M</td><td>writer</td><td>52245</td></tr><tr><td>51</td><td>28</td><td>M</td><td>educator</td><td>16509</td></tr><tr><td>52</td><td>18</td><td>F</td><td>student</td><td>55105</td></tr><tr><td>53</td><td>26</td><td>M</td><td>programmer</td><td>55414</td></tr><tr><td>54</td><td>22</td><td>M</td><td>Cheif Executive Officer</td><td>66315</td></tr><tr><td>55</td><td>37</td><td>M</td><td>programmer</td><td>1331</td></tr><tr><td>56</td><td>25</td><td>M</td><td>librarian</td><td>46260</td></tr><tr><td>57</td><td>16</td><td>M</td><td>Cheif Cheif Executive Officer Officer</td><td>84010</td></tr><tr><td>58</td><td>27</td><td>M</td><td>programmer</td><td>52246</td></tr><tr><td>59</td><td>49</td><td>M</td><td>educator</td><td>8403</td></tr><tr><td>60</td><td>50</td><td>M</td><td>healthcare</td><td>6472</td></tr><tr><td>61</td><td>36</td><td>M</td><td>engineer</td><td>30040</td></tr><tr><td>62</td><td>27</td><td>F</td><td>administrator</td><td>97214</td></tr><tr><td>63</td><td>31</td><td>M</td><td>marketing</td><td>75240</td></tr><tr><td>64</td><td>32</td><td>M</td><td>educator</td><td>43202</td></tr><tr><td>65</td><td>51</td><td>F</td><td>educator</td><td>48118</td></tr><tr><td>66</td><td>23</td><td>M</td><td>student</td><td>80521</td></tr><tr><td>67</td><td>17</td><td>M</td><td>student</td><td>60402</td></tr><tr><td>68</td><td>19</td><td>M</td><td>student</td><td>22904</td></tr><tr><td>69</td><td>24</td><td>M</td><td>engineer</td><td>55337</td></tr><tr><td>70</td><td>27</td><td>M</td><td>engineer</td><td>60067</td></tr><tr><td>71</td><td>39</td><td>M</td><td>scientist</td><td>98034</td></tr><tr><td>72</td><td>48</td><td>F</td><td>administrator</td><td>73034</td></tr><tr><td>73</td><td>24</td><td>M</td><td>student</td><td>41850</td></tr><tr><td>74</td><td>39</td><td>M</td><td>scientist</td><td>41850</td></tr><tr><td>75</td><td>24</td><td>M</td><td>entertainment</td><td>8816</td></tr><tr><td>76</td><td>20</td><td>M</td><td>student</td><td>2215</td></tr><tr><td>77</td><td>30</td><td>M</td><td>technician</td><td>29379</td></tr><tr><td>78</td><td>26</td><td>M</td><td>administrator</td><td>61801</td></tr><tr><td>79</td><td>39</td><td>F</td><td>administrator</td><td>3755</td></tr><tr><td>80</td><td>34</td><td>F</td><td>administrator</td><td>52241</td></tr><tr><td>81</td><td>21</td><td>M</td><td>student</td><td>21218</td></tr><tr><td>82</td><td>50</td><td>M</td><td>programmer</td><td>22902</td></tr><tr><td>83</td><td>40</td><td>M</td><td>other</td><td>44133</td></tr><tr><td>84</td><td>32</td><td>M</td><td>Cheif Executive Officer</td><td>55369</td></tr><tr><td>85</td><td>51</td><td>M</td><td>educator</td><td>20003</td></tr><tr><td>86</td><td>26</td><td>M</td><td>administrator</td><td>46005</td></tr><tr><td>87</td><td>47</td><td>M</td><td>administrator</td><td>89503</td></tr><tr><td>88</td><td>49</td><td>F</td><td>librarian</td><td>11701</td></tr><tr><td>89</td><td>43</td><td>F</td><td>administrator</td><td>68106</td></tr><tr><td>90</td><td>60</td><td>M</td><td>educator</td><td>78155</td></tr><tr><td>91</td><td>55</td><td>M</td><td>marketing</td><td>1913</td></tr><tr><td>92</td><td>32</td><td>M</td><td>entertainment</td><td>80525</td></tr><tr><td>93</td><td>48</td><td>M</td><td>Cheif Executive Officer</td><td>23112</td></tr><tr><td>94</td><td>26</td><td>M</td><td>student</td><td>71457</td></tr><tr><td>95</td><td>31</td><td>M</td><td>administrator</td><td>10707</td></tr><tr><td>96</td><td>25</td><td>F</td><td>artist</td><td>75206</td></tr><tr><td>97</td><td>43</td><td>M</td><td>artist</td><td>98006</td></tr><tr><td>98</td><td>49</td><td>F</td><td>Cheif Executive Officer</td><td>90291</td></tr><tr><td>99</td><td>20</td><td>M</td><td>student</td><td>63129</td></tr><tr><td>100</td><td>36</td><td>M</td><td>Cheif Executive Officer</td><td>90254</td></tr><tr><td>101</td><td>15</td><td>M</td><td>student</td><td>5146</td></tr><tr><td>102</td><td>38</td><td>M</td><td>programmer</td><td>30220</td></tr><tr><td>103</td><td>26</td><td>M</td><td>student</td><td>55108</td></tr><tr><td>104</td><td>27</td><td>M</td><td>student</td><td>55108</td></tr><tr><td>105</td><td>24</td><td>M</td><td>engineer</td><td>94043</td></tr><tr><td>106</td><td>61</td><td>M</td><td>retired</td><td>55125</td></tr><tr><td>107</td><td>39</td><td>M</td><td>scientist</td><td>60466</td></tr><tr><td>108</td><td>44</td><td>M</td><td>educator</td><td>63130</td></tr><tr><td>109</td><td>29</td><td>M</td><td>other</td><td>55423</td></tr><tr><td>110</td><td>19</td><td>M</td><td>student</td><td>77840</td></tr><tr><td>111</td><td>57</td><td>M</td><td>engineer</td><td>90630</td></tr><tr><td>112</td><td>30</td><td>M</td><td>salesman</td><td>60613</td></tr><tr><td>113</td><td>47</td><td>M</td><td>Cheif Executive Officer</td><td>95032</td></tr><tr><td>114</td><td>27</td><td>M</td><td>programmer</td><td>75013</td></tr><tr><td>115</td><td>31</td><td>M</td><td>engineer</td><td>17110</td></tr><tr><td>116</td><td>40</td><td>M</td><td>healthcare</td><td>97232</td></tr><tr><td>117</td><td>20</td><td>M</td><td>student</td><td>16125</td></tr><tr><td>118</td><td>21</td><td>M</td><td>administrator</td><td>90210</td></tr><tr><td>119</td><td>32</td><td>M</td><td>programmer</td><td>67401</td></tr><tr><td>120</td><td>47</td><td>F</td><td>other</td><td>6260</td></tr><tr><td>121</td><td>54</td><td>M</td><td>librarian</td><td>99603</td></tr><tr><td>122</td><td>32</td><td>F</td><td>writer</td><td>22206</td></tr><tr><td>123</td><td>48</td><td>F</td><td>artist</td><td>20008</td></tr><tr><td>124</td><td>34</td><td>M</td><td>student</td><td>60615</td></tr><tr><td>125</td><td>30</td><td>M</td><td>lawyer</td><td>22202</td></tr><tr><td>126</td><td>28</td><td>F</td><td>lawyer</td><td>20015</td></tr><tr><td>127</td><td>33</td><td>M</td><td>cheif Cheif Executive Officer Officer</td><td>73439</td></tr><tr><td>128</td><td>24</td><td>F</td><td>marketing</td><td>20009</td></tr><tr><td>129</td><td>36</td><td>F</td><td>marketing</td><td>7039</td></tr><tr><td>130</td><td>20</td><td>M</td><td>cheif Cheif Executive Officer Officer</td><td>60115</td></tr><tr><td>131</td><td>59</td><td>F</td><td>administrator</td><td>15237</td></tr><tr><td>132</td><td>24</td><td>M</td><td>other</td><td>94612</td></tr><tr><td>133</td><td>53</td><td>M</td><td>engineer</td><td>78602</td></tr><tr><td>134</td><td>31</td><td>M</td><td>programmer</td><td>80236</td></tr><tr><td>135</td><td>23</td><td>M</td><td>student</td><td>38401</td></tr><tr><td>136</td><td>51</td><td>M</td><td>other</td><td>97365</td></tr><tr><td>137</td><td>50</td><td>M</td><td>educator</td><td>84408</td></tr><tr><td>138</td><td>46</td><td>M</td><td>doctor</td><td>53211</td></tr><tr><td>139</td><td>20</td><td>M</td><td>student</td><td>8904</td></tr><tr><td>140</td><td>30</td><td>F</td><td>student</td><td>32250</td></tr><tr><td>141</td><td>49</td><td>M</td><td>programmer</td><td>36117</td></tr><tr><td>142</td><td>13</td><td>M</td><td>other</td><td>48118</td></tr><tr><td>143</td><td>42</td><td>M</td><td>technician</td><td>8832</td></tr><tr><td>144</td><td>53</td><td>M</td><td>programmer</td><td>20910</td></tr><tr><td>145</td><td>31</td><td>M</td><td>entertainment</td><td>20910</td></tr><tr><td>146</td><td>45</td><td>M</td><td>artist</td><td>83814</td></tr><tr><td>147</td><td>40</td><td>F</td><td>librarian</td><td>2143</td></tr><tr><td>148</td><td>33</td><td>M</td><td>engineer</td><td>97006</td></tr><tr><td>149</td><td>35</td><td>F</td><td>marketing</td><td>17325</td></tr><tr><td>150</td><td>20</td><td>F</td><td>artist</td><td>2139</td></tr><tr><td>151</td><td>38</td><td>F</td><td>administrator</td><td>48103</td></tr><tr><td>152</td><td>33</td><td>F</td><td>educator</td><td>68767</td></tr><tr><td>153</td><td>25</td><td>M</td><td>student</td><td>60641</td></tr><tr><td>154</td><td>25</td><td>M</td><td>student</td><td>53703</td></tr><tr><td>155</td><td>32</td><td>F</td><td>other</td><td>11217</td></tr><tr><td>156</td><td>25</td><td>M</td><td>educator</td><td>8360</td></tr><tr><td>157</td><td>57</td><td>M</td><td>engineer</td><td>70808</td></tr><tr><td>158</td><td>50</td><td>M</td><td>educator</td><td>27606</td></tr><tr><td>159</td><td>23</td><td>F</td><td>student</td><td>55346</td></tr><tr><td>160</td><td>27</td><td>M</td><td>programmer</td><td>66215</td></tr><tr><td>161</td><td>50</td><td>M</td><td>lawyer</td><td>55104</td></tr><tr><td>162</td><td>25</td><td>M</td><td>artist</td><td>15610</td></tr><tr><td>163</td><td>49</td><td>M</td><td>administrator</td><td>97212</td></tr><tr><td>164</td><td>47</td><td>M</td><td>healthcare</td><td>80123</td></tr><tr><td>165</td><td>20</td><td>F</td><td>other</td><td>53715</td></tr><tr><td>166</td><td>47</td><td>M</td><td>educator</td><td>55113</td></tr><tr><td>167</td><td>37</td><td>M</td><td>other</td><td>55113</td></tr><tr><td>168</td><td>48</td><td>M</td><td>other</td><td>80127</td></tr><tr><td>169</td><td>52</td><td>F</td><td>other</td><td>53705</td></tr><tr><td>170</td><td>53</td><td>F</td><td>healthcare</td><td>30067</td></tr><tr><td>171</td><td>48</td><td>F</td><td>educator</td><td>78750</td></tr><tr><td>172</td><td>55</td><td>M</td><td>marketing</td><td>22207</td></tr><tr><td>173</td><td>56</td><td>M</td><td>other</td><td>22306</td></tr><tr><td>174</td><td>30</td><td>F</td><td>administrator</td><td>52302</td></tr><tr><td>175</td><td>26</td><td>F</td><td>scientist</td><td>21911</td></tr><tr><td>176</td><td>28</td><td>M</td><td>scientist</td><td>7030</td></tr><tr><td>177</td><td>20</td><td>M</td><td>programmer</td><td>19104</td></tr><tr><td>178</td><td>26</td><td>M</td><td>other</td><td>49512</td></tr><tr><td>179</td><td>15</td><td>M</td><td>entertainment</td><td>20755</td></tr><tr><td>180</td><td>22</td><td>F</td><td>administrator</td><td>60202</td></tr><tr><td>181</td><td>26</td><td>M</td><td>Cheif Executive Officer</td><td>21218</td></tr><tr><td>182</td><td>36</td><td>M</td><td>programmer</td><td>33884</td></tr><tr><td>183</td><td>33</td><td>M</td><td>scientist</td><td>27708</td></tr><tr><td>184</td><td>37</td><td>M</td><td>librarian</td><td>76013</td></tr><tr><td>185</td><td>53</td><td>F</td><td>librarian</td><td>97403</td></tr><tr><td>186</td><td>39</td><td>F</td><td>Cheif Executive Officer</td><td>0</td></tr><tr><td>187</td><td>26</td><td>M</td><td>educator</td><td>16801</td></tr><tr><td>188</td><td>42</td><td>M</td><td>student</td><td>29440</td></tr><tr><td>189</td><td>32</td><td>M</td><td>artist</td><td>95014</td></tr><tr><td>190</td><td>30</td><td>M</td><td>administrator</td><td>95938</td></tr><tr><td>191</td><td>33</td><td>M</td><td>administrator</td><td>95161</td></tr><tr><td>192</td><td>42</td><td>M</td><td>educator</td><td>90840</td></tr><tr><td>193</td><td>29</td><td>M</td><td>student</td><td>49931</td></tr><tr><td>194</td><td>38</td><td>M</td><td>administrator</td><td>2154</td></tr><tr><td>195</td><td>42</td><td>M</td><td>scientist</td><td>93555</td></tr><tr><td>196</td><td>49</td><td>M</td><td>writer</td><td>55105</td></tr><tr><td>197</td><td>55</td><td>M</td><td>technician</td><td>75094</td></tr><tr><td>198</td><td>21</td><td>F</td><td>student</td><td>55414</td></tr><tr><td>199</td><td>30</td><td>M</td><td>writer</td><td>17604</td></tr><tr><td>200</td><td>40</td><td>M</td><td>programmer</td><td>93402</td></tr><tr><td>201</td><td>27</td><td>M</td><td>writer</td><td>93402</td></tr><tr><td>202</td><td>41</td><td>F</td><td>educator</td><td>60201</td></tr><tr><td>203</td><td>25</td><td>F</td><td>student</td><td>32301</td></tr><tr><td>204</td><td>52</td><td>F</td><td>librarian</td><td>10960</td></tr><tr><td>205</td><td>47</td><td>M</td><td>lawyer</td><td>6371</td></tr><tr><td>206</td><td>14</td><td>F</td><td>student</td><td>53115</td></tr><tr><td>207</td><td>39</td><td>M</td><td>marketing</td><td>92037</td></tr><tr><td>208</td><td>43</td><td>M</td><td>engineer</td><td>1720</td></tr><tr><td>209</td><td>33</td><td>F</td><td>educator</td><td>85710</td></tr><tr><td>210</td><td>39</td><td>M</td><td>engineer</td><td>3060</td></tr><tr><td>211</td><td>66</td><td>M</td><td>salesman</td><td>32605</td></tr><tr><td>212</td><td>49</td><td>F</td><td>educator</td><td>61401</td></tr><tr><td>213</td><td>33</td><td>M</td><td>Cheif Executive Officer</td><td>55345</td></tr><tr><td>214</td><td>26</td><td>F</td><td>librarian</td><td>11231</td></tr><tr><td>215</td><td>35</td><td>M</td><td>programmer</td><td>63033</td></tr><tr><td>216</td><td>22</td><td>M</td><td>engineer</td><td>2215</td></tr><tr><td>217</td><td>22</td><td>M</td><td>other</td><td>11727</td></tr><tr><td>218</td><td>37</td><td>M</td><td>administrator</td><td>6513</td></tr><tr><td>219</td><td>32</td><td>M</td><td>programmer</td><td>43212</td></tr><tr><td>220</td><td>30</td><td>M</td><td>librarian</td><td>78205</td></tr><tr><td>221</td><td>19</td><td>M</td><td>student</td><td>20685</td></tr><tr><td>222</td><td>29</td><td>M</td><td>programmer</td><td>27502</td></tr><tr><td>223</td><td>19</td><td>F</td><td>student</td><td>47906</td></tr><tr><td>224</td><td>31</td><td>F</td><td>educator</td><td>43512</td></tr><tr><td>225</td><td>51</td><td>F</td><td>administrator</td><td>58202</td></tr><tr><td>226</td><td>28</td><td>M</td><td>student</td><td>92103</td></tr><tr><td>227</td><td>46</td><td>M</td><td>Cheif Executive Officer</td><td>60659</td></tr><tr><td>228</td><td>21</td><td>F</td><td>student</td><td>22003</td></tr><tr><td>229</td><td>29</td><td>F</td><td>librarian</td><td>22903</td></tr><tr><td>230</td><td>28</td><td>F</td><td>student</td><td>14476</td></tr><tr><td>231</td><td>48</td><td>M</td><td>librarian</td><td>1080</td></tr><tr><td>232</td><td>45</td><td>M</td><td>scientist</td><td>99709</td></tr><tr><td>233</td><td>38</td><td>M</td><td>engineer</td><td>98682</td></tr><tr><td>234</td><td>60</td><td>M</td><td>retired</td><td>94702</td></tr><tr><td>235</td><td>37</td><td>M</td><td>educator</td><td>22973</td></tr><tr><td>236</td><td>44</td><td>F</td><td>writer</td><td>53214</td></tr><tr><td>237</td><td>49</td><td>M</td><td>administrator</td><td>63146</td></tr><tr><td>238</td><td>42</td><td>F</td><td>administrator</td><td>44124</td></tr><tr><td>239</td><td>39</td><td>M</td><td>artist</td><td>95628</td></tr><tr><td>240</td><td>23</td><td>F</td><td>educator</td><td>20784</td></tr><tr><td>241</td><td>26</td><td>F</td><td>student</td><td>20001</td></tr><tr><td>242</td><td>33</td><td>M</td><td>educator</td><td>31404</td></tr><tr><td>243</td><td>33</td><td>M</td><td>educator</td><td>60201</td></tr><tr><td>244</td><td>28</td><td>M</td><td>technician</td><td>100005</td></tr><tr><td>245</td><td>26</td><td>F</td><td>technician</td><td>110000</td></tr></tbody></table></div>"
      ]
     },
     "metadata": {
      "application/vnd.databricks.v1+output": {
       "addedWidgets": {},
       "aggData": [],
       "aggError": "",
       "aggOverflow": false,
       "aggSchema": [],
       "aggSeriesLimitReached": false,
       "aggType": "",
       "arguments": {},
       "columnCustomDisplayInfos": {},
       "data": [
        [
         1,
         0,
         "M",
         "technician",
         85711
        ],
        [
         2,
         53,
         "F",
         "other",
         94043
        ],
        [
         3,
         23,
         "M",
         "writer",
         32067
        ],
        [
         4,
         0,
         "M",
         "technician",
         43537
        ],
        [
         5,
         33,
         "F",
         "other",
         15213
        ],
        [
         6,
         42,
         "M",
         "Cheif Executive Officer",
         98101
        ],
        [
         7,
         57,
         "M",
         "administrator",
         91344
        ],
        [
         8,
         36,
         "M",
         "administrator",
         5201
        ],
        [
         9,
         29,
         "M",
         "student",
         1002
        ],
        [
         10,
         53,
         "M",
         "lawyer",
         90703
        ],
        [
         11,
         39,
         "F",
         "other",
         30329
        ],
        [
         12,
         28,
         "F",
         "other",
         6405
        ],
        [
         13,
         47,
         "M",
         "educator",
         29206
        ],
        [
         14,
         45,
         "M",
         "scientist",
         55106
        ],
        [
         15,
         49,
         "F",
         "educator",
         97301
        ],
        [
         16,
         21,
         "M",
         "entertainment",
         10309
        ],
        [
         17,
         30,
         "M",
         "programmer",
         6355
        ],
        [
         18,
         35,
         "F",
         "other",
         37212
        ],
        [
         19,
         40,
         "M",
         "librarian",
         2138
        ],
        [
         20,
         42,
         "F",
         "homemaker",
         95660
        ],
        [
         21,
         26,
         "M",
         "writer",
         30068
        ],
        [
         22,
         25,
         "M",
         "writer",
         40206
        ],
        [
         23,
         30,
         "F",
         "artist",
         48197
        ],
        [
         24,
         21,
         "F",
         "artist",
         94533
        ],
        [
         25,
         39,
         "M",
         "engineer",
         55107
        ],
        [
         26,
         49,
         "M",
         "engineer",
         21044
        ],
        [
         27,
         40,
         "F",
         "librarian",
         30030
        ],
        [
         28,
         32,
         "M",
         "writer",
         55369
        ],
        [
         29,
         41,
         "M",
         "programmer",
         94043
        ],
        [
         30,
         7,
         "M",
         "student",
         55436
        ],
        [
         31,
         24,
         "M",
         "artist",
         10003
        ],
        [
         32,
         28,
         "F",
         "student",
         78741
        ],
        [
         33,
         23,
         "M",
         "student",
         27510
        ],
        [
         34,
         38,
         "F",
         "administrator",
         42141
        ],
        [
         35,
         20,
         "F",
         "homemaker",
         42459
        ],
        [
         36,
         19,
         "F",
         "student",
         93117
        ],
        [
         37,
         23,
         "M",
         "student",
         55105
        ],
        [
         38,
         28,
         "F",
         "other",
         54467
        ],
        [
         39,
         41,
         "M",
         "entertainment",
         1040
        ],
        [
         40,
         38,
         "M",
         "scientist",
         27514
        ],
        [
         41,
         33,
         "M",
         "engineer",
         80525
        ],
        [
         42,
         30,
         "M",
         "administrator",
         17870
        ],
        [
         43,
         29,
         "F",
         "librarian",
         20854
        ],
        [
         44,
         26,
         "M",
         "technician",
         46260
        ],
        [
         45,
         29,
         "M",
         "programmer",
         50233
        ],
        [
         46,
         27,
         "F",
         "marketing",
         46538
        ],
        [
         47,
         53,
         "M",
         "marketing",
         7102
        ],
        [
         48,
         45,
         "M",
         "administrator",
         12550
        ],
        [
         49,
         23,
         "F",
         "student",
         76111
        ],
        [
         50,
         21,
         "M",
         "writer",
         52245
        ],
        [
         51,
         28,
         "M",
         "educator",
         16509
        ],
        [
         52,
         18,
         "F",
         "student",
         55105
        ],
        [
         53,
         26,
         "M",
         "programmer",
         55414
        ],
        [
         54,
         22,
         "M",
         "Cheif Executive Officer",
         66315
        ],
        [
         55,
         37,
         "M",
         "programmer",
         1331
        ],
        [
         56,
         25,
         "M",
         "librarian",
         46260
        ],
        [
         57,
         16,
         "M",
         "Cheif Cheif Executive Officer Officer",
         84010
        ],
        [
         58,
         27,
         "M",
         "programmer",
         52246
        ],
        [
         59,
         49,
         "M",
         "educator",
         8403
        ],
        [
         60,
         50,
         "M",
         "healthcare",
         6472
        ],
        [
         61,
         36,
         "M",
         "engineer",
         30040
        ],
        [
         62,
         27,
         "F",
         "administrator",
         97214
        ],
        [
         63,
         31,
         "M",
         "marketing",
         75240
        ],
        [
         64,
         32,
         "M",
         "educator",
         43202
        ],
        [
         65,
         51,
         "F",
         "educator",
         48118
        ],
        [
         66,
         23,
         "M",
         "student",
         80521
        ],
        [
         67,
         17,
         "M",
         "student",
         60402
        ],
        [
         68,
         19,
         "M",
         "student",
         22904
        ],
        [
         69,
         24,
         "M",
         "engineer",
         55337
        ],
        [
         70,
         27,
         "M",
         "engineer",
         60067
        ],
        [
         71,
         39,
         "M",
         "scientist",
         98034
        ],
        [
         72,
         48,
         "F",
         "administrator",
         73034
        ],
        [
         73,
         24,
         "M",
         "student",
         41850
        ],
        [
         74,
         39,
         "M",
         "scientist",
         41850
        ],
        [
         75,
         24,
         "M",
         "entertainment",
         8816
        ],
        [
         76,
         20,
         "M",
         "student",
         2215
        ],
        [
         77,
         30,
         "M",
         "technician",
         29379
        ],
        [
         78,
         26,
         "M",
         "administrator",
         61801
        ],
        [
         79,
         39,
         "F",
         "administrator",
         3755
        ],
        [
         80,
         34,
         "F",
         "administrator",
         52241
        ],
        [
         81,
         21,
         "M",
         "student",
         21218
        ],
        [
         82,
         50,
         "M",
         "programmer",
         22902
        ],
        [
         83,
         40,
         "M",
         "other",
         44133
        ],
        [
         84,
         32,
         "M",
         "Cheif Executive Officer",
         55369
        ],
        [
         85,
         51,
         "M",
         "educator",
         20003
        ],
        [
         86,
         26,
         "M",
         "administrator",
         46005
        ],
        [
         87,
         47,
         "M",
         "administrator",
         89503
        ],
        [
         88,
         49,
         "F",
         "librarian",
         11701
        ],
        [
         89,
         43,
         "F",
         "administrator",
         68106
        ],
        [
         90,
         60,
         "M",
         "educator",
         78155
        ],
        [
         91,
         55,
         "M",
         "marketing",
         1913
        ],
        [
         92,
         32,
         "M",
         "entertainment",
         80525
        ],
        [
         93,
         48,
         "M",
         "Cheif Executive Officer",
         23112
        ],
        [
         94,
         26,
         "M",
         "student",
         71457
        ],
        [
         95,
         31,
         "M",
         "administrator",
         10707
        ],
        [
         96,
         25,
         "F",
         "artist",
         75206
        ],
        [
         97,
         43,
         "M",
         "artist",
         98006
        ],
        [
         98,
         49,
         "F",
         "Cheif Executive Officer",
         90291
        ],
        [
         99,
         20,
         "M",
         "student",
         63129
        ],
        [
         100,
         36,
         "M",
         "Cheif Executive Officer",
         90254
        ],
        [
         101,
         15,
         "M",
         "student",
         5146
        ],
        [
         102,
         38,
         "M",
         "programmer",
         30220
        ],
        [
         103,
         26,
         "M",
         "student",
         55108
        ],
        [
         104,
         27,
         "M",
         "student",
         55108
        ],
        [
         105,
         24,
         "M",
         "engineer",
         94043
        ],
        [
         106,
         61,
         "M",
         "retired",
         55125
        ],
        [
         107,
         39,
         "M",
         "scientist",
         60466
        ],
        [
         108,
         44,
         "M",
         "educator",
         63130
        ],
        [
         109,
         29,
         "M",
         "other",
         55423
        ],
        [
         110,
         19,
         "M",
         "student",
         77840
        ],
        [
         111,
         57,
         "M",
         "engineer",
         90630
        ],
        [
         112,
         30,
         "M",
         "salesman",
         60613
        ],
        [
         113,
         47,
         "M",
         "Cheif Executive Officer",
         95032
        ],
        [
         114,
         27,
         "M",
         "programmer",
         75013
        ],
        [
         115,
         31,
         "M",
         "engineer",
         17110
        ],
        [
         116,
         40,
         "M",
         "healthcare",
         97232
        ],
        [
         117,
         20,
         "M",
         "student",
         16125
        ],
        [
         118,
         21,
         "M",
         "administrator",
         90210
        ],
        [
         119,
         32,
         "M",
         "programmer",
         67401
        ],
        [
         120,
         47,
         "F",
         "other",
         6260
        ],
        [
         121,
         54,
         "M",
         "librarian",
         99603
        ],
        [
         122,
         32,
         "F",
         "writer",
         22206
        ],
        [
         123,
         48,
         "F",
         "artist",
         20008
        ],
        [
         124,
         34,
         "M",
         "student",
         60615
        ],
        [
         125,
         30,
         "M",
         "lawyer",
         22202
        ],
        [
         126,
         28,
         "F",
         "lawyer",
         20015
        ],
        [
         127,
         33,
         "M",
         "cheif Cheif Executive Officer Officer",
         73439
        ],
        [
         128,
         24,
         "F",
         "marketing",
         20009
        ],
        [
         129,
         36,
         "F",
         "marketing",
         7039
        ],
        [
         130,
         20,
         "M",
         "cheif Cheif Executive Officer Officer",
         60115
        ],
        [
         131,
         59,
         "F",
         "administrator",
         15237
        ],
        [
         132,
         24,
         "M",
         "other",
         94612
        ],
        [
         133,
         53,
         "M",
         "engineer",
         78602
        ],
        [
         134,
         31,
         "M",
         "programmer",
         80236
        ],
        [
         135,
         23,
         "M",
         "student",
         38401
        ],
        [
         136,
         51,
         "M",
         "other",
         97365
        ],
        [
         137,
         50,
         "M",
         "educator",
         84408
        ],
        [
         138,
         46,
         "M",
         "doctor",
         53211
        ],
        [
         139,
         20,
         "M",
         "student",
         8904
        ],
        [
         140,
         30,
         "F",
         "student",
         32250
        ],
        [
         141,
         49,
         "M",
         "programmer",
         36117
        ],
        [
         142,
         13,
         "M",
         "other",
         48118
        ],
        [
         143,
         42,
         "M",
         "technician",
         8832
        ],
        [
         144,
         53,
         "M",
         "programmer",
         20910
        ],
        [
         145,
         31,
         "M",
         "entertainment",
         20910
        ],
        [
         146,
         45,
         "M",
         "artist",
         83814
        ],
        [
         147,
         40,
         "F",
         "librarian",
         2143
        ],
        [
         148,
         33,
         "M",
         "engineer",
         97006
        ],
        [
         149,
         35,
         "F",
         "marketing",
         17325
        ],
        [
         150,
         20,
         "F",
         "artist",
         2139
        ],
        [
         151,
         38,
         "F",
         "administrator",
         48103
        ],
        [
         152,
         33,
         "F",
         "educator",
         68767
        ],
        [
         153,
         25,
         "M",
         "student",
         60641
        ],
        [
         154,
         25,
         "M",
         "student",
         53703
        ],
        [
         155,
         32,
         "F",
         "other",
         11217
        ],
        [
         156,
         25,
         "M",
         "educator",
         8360
        ],
        [
         157,
         57,
         "M",
         "engineer",
         70808
        ],
        [
         158,
         50,
         "M",
         "educator",
         27606
        ],
        [
         159,
         23,
         "F",
         "student",
         55346
        ],
        [
         160,
         27,
         "M",
         "programmer",
         66215
        ],
        [
         161,
         50,
         "M",
         "lawyer",
         55104
        ],
        [
         162,
         25,
         "M",
         "artist",
         15610
        ],
        [
         163,
         49,
         "M",
         "administrator",
         97212
        ],
        [
         164,
         47,
         "M",
         "healthcare",
         80123
        ],
        [
         165,
         20,
         "F",
         "other",
         53715
        ],
        [
         166,
         47,
         "M",
         "educator",
         55113
        ],
        [
         167,
         37,
         "M",
         "other",
         55113
        ],
        [
         168,
         48,
         "M",
         "other",
         80127
        ],
        [
         169,
         52,
         "F",
         "other",
         53705
        ],
        [
         170,
         53,
         "F",
         "healthcare",
         30067
        ],
        [
         171,
         48,
         "F",
         "educator",
         78750
        ],
        [
         172,
         55,
         "M",
         "marketing",
         22207
        ],
        [
         173,
         56,
         "M",
         "other",
         22306
        ],
        [
         174,
         30,
         "F",
         "administrator",
         52302
        ],
        [
         175,
         26,
         "F",
         "scientist",
         21911
        ],
        [
         176,
         28,
         "M",
         "scientist",
         7030
        ],
        [
         177,
         20,
         "M",
         "programmer",
         19104
        ],
        [
         178,
         26,
         "M",
         "other",
         49512
        ],
        [
         179,
         15,
         "M",
         "entertainment",
         20755
        ],
        [
         180,
         22,
         "F",
         "administrator",
         60202
        ],
        [
         181,
         26,
         "M",
         "Cheif Executive Officer",
         21218
        ],
        [
         182,
         36,
         "M",
         "programmer",
         33884
        ],
        [
         183,
         33,
         "M",
         "scientist",
         27708
        ],
        [
         184,
         37,
         "M",
         "librarian",
         76013
        ],
        [
         185,
         53,
         "F",
         "librarian",
         97403
        ],
        [
         186,
         39,
         "F",
         "Cheif Executive Officer",
         0
        ],
        [
         187,
         26,
         "M",
         "educator",
         16801
        ],
        [
         188,
         42,
         "M",
         "student",
         29440
        ],
        [
         189,
         32,
         "M",
         "artist",
         95014
        ],
        [
         190,
         30,
         "M",
         "administrator",
         95938
        ],
        [
         191,
         33,
         "M",
         "administrator",
         95161
        ],
        [
         192,
         42,
         "M",
         "educator",
         90840
        ],
        [
         193,
         29,
         "M",
         "student",
         49931
        ],
        [
         194,
         38,
         "M",
         "administrator",
         2154
        ],
        [
         195,
         42,
         "M",
         "scientist",
         93555
        ],
        [
         196,
         49,
         "M",
         "writer",
         55105
        ],
        [
         197,
         55,
         "M",
         "technician",
         75094
        ],
        [
         198,
         21,
         "F",
         "student",
         55414
        ],
        [
         199,
         30,
         "M",
         "writer",
         17604
        ],
        [
         200,
         40,
         "M",
         "programmer",
         93402
        ],
        [
         201,
         27,
         "M",
         "writer",
         93402
        ],
        [
         202,
         41,
         "F",
         "educator",
         60201
        ],
        [
         203,
         25,
         "F",
         "student",
         32301
        ],
        [
         204,
         52,
         "F",
         "librarian",
         10960
        ],
        [
         205,
         47,
         "M",
         "lawyer",
         6371
        ],
        [
         206,
         14,
         "F",
         "student",
         53115
        ],
        [
         207,
         39,
         "M",
         "marketing",
         92037
        ],
        [
         208,
         43,
         "M",
         "engineer",
         1720
        ],
        [
         209,
         33,
         "F",
         "educator",
         85710
        ],
        [
         210,
         39,
         "M",
         "engineer",
         3060
        ],
        [
         211,
         66,
         "M",
         "salesman",
         32605
        ],
        [
         212,
         49,
         "F",
         "educator",
         61401
        ],
        [
         213,
         33,
         "M",
         "Cheif Executive Officer",
         55345
        ],
        [
         214,
         26,
         "F",
         "librarian",
         11231
        ],
        [
         215,
         35,
         "M",
         "programmer",
         63033
        ],
        [
         216,
         22,
         "M",
         "engineer",
         2215
        ],
        [
         217,
         22,
         "M",
         "other",
         11727
        ],
        [
         218,
         37,
         "M",
         "administrator",
         6513
        ],
        [
         219,
         32,
         "M",
         "programmer",
         43212
        ],
        [
         220,
         30,
         "M",
         "librarian",
         78205
        ],
        [
         221,
         19,
         "M",
         "student",
         20685
        ],
        [
         222,
         29,
         "M",
         "programmer",
         27502
        ],
        [
         223,
         19,
         "F",
         "student",
         47906
        ],
        [
         224,
         31,
         "F",
         "educator",
         43512
        ],
        [
         225,
         51,
         "F",
         "administrator",
         58202
        ],
        [
         226,
         28,
         "M",
         "student",
         92103
        ],
        [
         227,
         46,
         "M",
         "Cheif Executive Officer",
         60659
        ],
        [
         228,
         21,
         "F",
         "student",
         22003
        ],
        [
         229,
         29,
         "F",
         "librarian",
         22903
        ],
        [
         230,
         28,
         "F",
         "student",
         14476
        ],
        [
         231,
         48,
         "M",
         "librarian",
         1080
        ],
        [
         232,
         45,
         "M",
         "scientist",
         99709
        ],
        [
         233,
         38,
         "M",
         "engineer",
         98682
        ],
        [
         234,
         60,
         "M",
         "retired",
         94702
        ],
        [
         235,
         37,
         "M",
         "educator",
         22973
        ],
        [
         236,
         44,
         "F",
         "writer",
         53214
        ],
        [
         237,
         49,
         "M",
         "administrator",
         63146
        ],
        [
         238,
         42,
         "F",
         "administrator",
         44124
        ],
        [
         239,
         39,
         "M",
         "artist",
         95628
        ],
        [
         240,
         23,
         "F",
         "educator",
         20784
        ],
        [
         241,
         26,
         "F",
         "student",
         20001
        ],
        [
         242,
         33,
         "M",
         "educator",
         31404
        ],
        [
         243,
         33,
         "M",
         "educator",
         60201
        ],
        [
         244,
         28,
         "M",
         "technician",
         100005
        ],
        [
         245,
         26,
         "F",
         "technician",
         110000
        ]
       ],
       "datasetInfos": [],
       "dbfsResultPath": null,
       "isJsonSchema": true,
       "metadata": {},
       "overflow": false,
       "plotOptions": {
        "customPlotOptions": {},
        "displayType": "table",
        "pivotAggregation": null,
        "pivotColumns": null,
        "xColumns": null,
        "yColumns": null
       },
       "removedWidgets": [],
       "schema": [
        {
         "metadata": "{}",
         "name": "id",
         "type": "\"integer\""
        },
        {
         "metadata": "{}",
         "name": "age",
         "type": "\"integer\""
        },
        {
         "metadata": "{}",
         "name": "gender",
         "type": "\"string\""
        },
        {
         "metadata": "{}",
         "name": "designation",
         "type": "\"string\""
        },
        {
         "metadata": "{}",
         "name": "salary",
         "type": "\"integer\""
        }
       ],
       "type": "table"
      }
     },
     "output_type": "display_data"
    }
   ],
   "source": [
    "spark.read.parquet(\n",
    "    \"/Volumes/quickstart_catalog/quickstart_schema/sandbox/dataset/sample_dataset/users.parquet\"\n",
    ").display()"
   ]
  },
  {
   "cell_type": "markdown",
   "metadata": {
    "application/vnd.databricks.v1+cell": {
     "cellMetadata": {},
     "inputWidgets": {},
     "nuid": "f65781e1-856b-4483-a859-36da4ff35d87",
     "showTitle": false,
     "tableResultSettingsMap": {},
     "title": ""
    }
   },
   "source": [
    "## Create DataFrame Cloud Storage (ADLS) using access key"
   ]
  },
  {
   "cell_type": "code",
   "execution_count": 0,
   "metadata": {
    "application/vnd.databricks.v1+cell": {
     "cellMetadata": {
      "byteLimit": 2048000,
      "rowLimit": 10000
     },
     "inputWidgets": {},
     "nuid": "9474292f-a132-4eb6-8523-d5dc9e50b297",
     "showTitle": false,
     "tableResultSettingsMap": {},
     "title": ""
    }
   },
   "outputs": [
    {
     "output_type": "display_data",
     "data": {
      "text/plain": [
       "\u001B[0;31m---------------------------------------------------------------------------\u001B[0m\n",
       "\u001B[0;31mSparkConnectGrpcException\u001B[0m                 Traceback (most recent call last)\n",
       "File \u001B[0;32m<command-5729732916150092>, line 12\u001B[0m\n",
       "\u001B[1;32m      5\u001B[0m file_path \u001B[38;5;241m=\u001B[39m \u001B[38;5;124mf\u001B[39m\u001B[38;5;124m\"\u001B[39m\u001B[38;5;124mabfss://\u001B[39m\u001B[38;5;132;01m{\u001B[39;00mcontainer_name\u001B[38;5;132;01m}\u001B[39;00m\u001B[38;5;124m@\u001B[39m\u001B[38;5;132;01m{\u001B[39;00mstorage_account_name\u001B[38;5;132;01m}\u001B[39;00m\u001B[38;5;124m.dfs.core.windows.net/users_001.csv\u001B[39m\u001B[38;5;124m\"\u001B[39m\n",
       "\u001B[1;32m      7\u001B[0m spark_conf_key_for_access \u001B[38;5;241m=\u001B[39m (\n",
       "\u001B[1;32m      8\u001B[0m     \u001B[38;5;124mf\u001B[39m\u001B[38;5;124m\"\u001B[39m\u001B[38;5;124mfs.azure.account.key.\u001B[39m\u001B[38;5;132;01m{\u001B[39;00mstorage_account_name\u001B[38;5;132;01m}\u001B[39;00m\u001B[38;5;124m.dfs.core.windows.net\u001B[39m\u001B[38;5;124m\"\u001B[39m\n",
       "\u001B[1;32m      9\u001B[0m )\n",
       "\u001B[1;32m     10\u001B[0m spark\u001B[38;5;241m.\u001B[39mread\u001B[38;5;241m.\u001B[39moption(spark_conf_key_for_access, azure_access_keys)\u001B[38;5;241m.\u001B[39mcsv(\n",
       "\u001B[1;32m     11\u001B[0m     path\u001B[38;5;241m=\u001B[39mfile_path, header\u001B[38;5;241m=\u001B[39m\u001B[38;5;28;01mTrue\u001B[39;00m, inferSchema\u001B[38;5;241m=\u001B[39m\u001B[38;5;28;01mTrue\u001B[39;00m\n",
       "\u001B[0;32m---> 12\u001B[0m )\u001B[38;5;241m.\u001B[39mdisplay()\n",
       "\n",
       "File \u001B[0;32m/databricks/python_shell/lib/dbruntime/monkey_patches.py:72\u001B[0m, in \u001B[0;36mapply_dataframe_display_patch.<locals>.df_display\u001B[0;34m(df, *args, **kwargs)\u001B[0m\n",
       "\u001B[1;32m     68\u001B[0m \u001B[38;5;28;01mdef\u001B[39;00m \u001B[38;5;21mdf_display\u001B[39m(df, \u001B[38;5;241m*\u001B[39margs, \u001B[38;5;241m*\u001B[39m\u001B[38;5;241m*\u001B[39mkwargs):\n",
       "\u001B[1;32m     69\u001B[0m \u001B[38;5;250m    \u001B[39m\u001B[38;5;124;03m\"\"\"\u001B[39;00m\n",
       "\u001B[1;32m     70\u001B[0m \u001B[38;5;124;03m    df.display() is an alias for display(df). Run help(display) for more information.\u001B[39;00m\n",
       "\u001B[1;32m     71\u001B[0m \u001B[38;5;124;03m    \"\"\"\u001B[39;00m\n",
       "\u001B[0;32m---> 72\u001B[0m     display(df, \u001B[38;5;241m*\u001B[39margs, \u001B[38;5;241m*\u001B[39m\u001B[38;5;241m*\u001B[39mkwargs)\n",
       "\n",
       "File \u001B[0;32m/databricks/python_shell/lib/dbruntime/display.py:133\u001B[0m, in \u001B[0;36mDisplay.display\u001B[0;34m(self, input, *args, **kwargs)\u001B[0m\n",
       "\u001B[1;32m    131\u001B[0m     \u001B[38;5;28;01mpass\u001B[39;00m\n",
       "\u001B[1;32m    132\u001B[0m \u001B[38;5;28;01melif\u001B[39;00m \u001B[38;5;28mself\u001B[39m\u001B[38;5;241m.\u001B[39m_cf_helper \u001B[38;5;129;01mis\u001B[39;00m \u001B[38;5;129;01mnot\u001B[39;00m \u001B[38;5;28;01mNone\u001B[39;00m \u001B[38;5;129;01mand\u001B[39;00m \u001B[38;5;28misinstance\u001B[39m(\u001B[38;5;28minput\u001B[39m, ConnectDataFrame):\n",
       "\u001B[0;32m--> 133\u001B[0m     \u001B[38;5;28mself\u001B[39m\u001B[38;5;241m.\u001B[39mdisplay_connect_table(\u001B[38;5;28minput\u001B[39m, \u001B[38;5;241m*\u001B[39m\u001B[38;5;241m*\u001B[39mkwargs)\n",
       "\u001B[1;32m    134\u001B[0m \u001B[38;5;28;01melif\u001B[39;00m \u001B[38;5;28misinstance\u001B[39m(\u001B[38;5;28minput\u001B[39m, ConnectDataFrame):\n",
       "\u001B[1;32m    135\u001B[0m     \u001B[38;5;28;01mif\u001B[39;00m \u001B[38;5;28minput\u001B[39m\u001B[38;5;241m.\u001B[39misStreaming:\n",
       "\n",
       "File \u001B[0;32m/databricks/python_shell/lib/dbruntime/display.py:93\u001B[0m, in \u001B[0;36mDisplay.display_connect_table\u001B[0;34m(self, df, **kwargs)\u001B[0m\n",
       "\u001B[1;32m     88\u001B[0m \u001B[38;5;28;01mexcept\u001B[39;00m \u001B[38;5;167;01mException\u001B[39;00m \u001B[38;5;28;01mas\u001B[39;00m e:\n",
       "\u001B[1;32m     89\u001B[0m     \u001B[38;5;28;01mraise\u001B[39;00m \u001B[38;5;28mtype\u001B[39m(\n",
       "\u001B[1;32m     90\u001B[0m         e\n",
       "\u001B[1;32m     91\u001B[0m     )(\u001B[38;5;124m\"\u001B[39m\u001B[38;5;124mIPython shell encountered an error or was missing data, please restart the notebook or contact Databricks support\u001B[39m\u001B[38;5;124m\"\u001B[39m\n",
       "\u001B[1;32m     92\u001B[0m       ) \u001B[38;5;28;01mfrom\u001B[39;00m \u001B[38;5;21;01me\u001B[39;00m\n",
       "\u001B[0;32m---> 93\u001B[0m \u001B[38;5;28;01mif\u001B[39;00m df\u001B[38;5;241m.\u001B[39misStreaming:\n",
       "\u001B[1;32m     94\u001B[0m     \u001B[38;5;28mself\u001B[39m\u001B[38;5;241m.\u001B[39mcf_helper\u001B[38;5;241m.\u001B[39mdisplay_streaming_dataframe(df, config, \u001B[38;5;28mself\u001B[39m\u001B[38;5;241m.\u001B[39mstreaming_listener,\n",
       "\u001B[1;32m     95\u001B[0m                                                \u001B[38;5;241m*\u001B[39m\u001B[38;5;241m*\u001B[39mkwargs)\n",
       "\u001B[1;32m     96\u001B[0m \u001B[38;5;28;01melse\u001B[39;00m:\n",
       "\n",
       "File \u001B[0;32m/usr/lib/python3.12/functools.py:995\u001B[0m, in \u001B[0;36mcached_property.__get__\u001B[0;34m(self, instance, owner)\u001B[0m\n",
       "\u001B[1;32m    993\u001B[0m val \u001B[38;5;241m=\u001B[39m cache\u001B[38;5;241m.\u001B[39mget(\u001B[38;5;28mself\u001B[39m\u001B[38;5;241m.\u001B[39mattrname, _NOT_FOUND)\n",
       "\u001B[1;32m    994\u001B[0m \u001B[38;5;28;01mif\u001B[39;00m val \u001B[38;5;129;01mis\u001B[39;00m _NOT_FOUND:\n",
       "\u001B[0;32m--> 995\u001B[0m     val \u001B[38;5;241m=\u001B[39m \u001B[38;5;28mself\u001B[39m\u001B[38;5;241m.\u001B[39mfunc(instance)\n",
       "\u001B[1;32m    996\u001B[0m     \u001B[38;5;28;01mtry\u001B[39;00m:\n",
       "\u001B[1;32m    997\u001B[0m         cache[\u001B[38;5;28mself\u001B[39m\u001B[38;5;241m.\u001B[39mattrname] \u001B[38;5;241m=\u001B[39m val\n",
       "\n",
       "File \u001B[0;32m/databricks/python/lib/python3.12/site-packages/pyspark/sql/connect/dataframe.py:2067\u001B[0m, in \u001B[0;36mDataFrame.isStreaming\u001B[0;34m(self)\u001B[0m\n",
       "\u001B[1;32m   2064\u001B[0m \u001B[38;5;129m@functools\u001B[39m\u001B[38;5;241m.\u001B[39mcached_property\n",
       "\u001B[1;32m   2065\u001B[0m \u001B[38;5;28;01mdef\u001B[39;00m \u001B[38;5;21misStreaming\u001B[39m(\u001B[38;5;28mself\u001B[39m) \u001B[38;5;241m-\u001B[39m\u001B[38;5;241m>\u001B[39m \u001B[38;5;28mbool\u001B[39m:\n",
       "\u001B[1;32m   2066\u001B[0m     query \u001B[38;5;241m=\u001B[39m \u001B[38;5;28mself\u001B[39m\u001B[38;5;241m.\u001B[39m_plan\u001B[38;5;241m.\u001B[39mto_proto(\u001B[38;5;28mself\u001B[39m\u001B[38;5;241m.\u001B[39m_session\u001B[38;5;241m.\u001B[39mclient)\n",
       "\u001B[0;32m-> 2067\u001B[0m     result \u001B[38;5;241m=\u001B[39m \u001B[38;5;28mself\u001B[39m\u001B[38;5;241m.\u001B[39m_session\u001B[38;5;241m.\u001B[39mclient\u001B[38;5;241m.\u001B[39m_analyze(method\u001B[38;5;241m=\u001B[39m\u001B[38;5;124m\"\u001B[39m\u001B[38;5;124mis_streaming\u001B[39m\u001B[38;5;124m\"\u001B[39m, plan\u001B[38;5;241m=\u001B[39mquery)\u001B[38;5;241m.\u001B[39mis_streaming\n",
       "\u001B[1;32m   2068\u001B[0m     \u001B[38;5;28;01massert\u001B[39;00m result \u001B[38;5;129;01mis\u001B[39;00m \u001B[38;5;129;01mnot\u001B[39;00m \u001B[38;5;28;01mNone\u001B[39;00m\n",
       "\u001B[1;32m   2069\u001B[0m     \u001B[38;5;28;01mreturn\u001B[39;00m result\n",
       "\n",
       "File \u001B[0;32m/databricks/python/lib/python3.12/site-packages/pyspark/sql/connect/client/core.py:1745\u001B[0m, in \u001B[0;36mSparkConnectClient._analyze\u001B[0;34m(self, method, **kwargs)\u001B[0m\n",
       "\u001B[1;32m   1743\u001B[0m     \u001B[38;5;28;01mraise\u001B[39;00m SparkConnectException(\u001B[38;5;124m\"\u001B[39m\u001B[38;5;124mInvalid state during retry exception handling.\u001B[39m\u001B[38;5;124m\"\u001B[39m)\n",
       "\u001B[1;32m   1744\u001B[0m \u001B[38;5;28;01mexcept\u001B[39;00m \u001B[38;5;167;01mException\u001B[39;00m \u001B[38;5;28;01mas\u001B[39;00m error:\n",
       "\u001B[0;32m-> 1745\u001B[0m     \u001B[38;5;28mself\u001B[39m\u001B[38;5;241m.\u001B[39m_handle_error(error)\n",
       "\n",
       "File \u001B[0;32m/databricks/python/lib/python3.12/site-packages/pyspark/sql/connect/client/core.py:2268\u001B[0m, in \u001B[0;36mSparkConnectClient._handle_error\u001B[0;34m(self, error)\u001B[0m\n",
       "\u001B[1;32m   2266\u001B[0m \u001B[38;5;28mself\u001B[39m\u001B[38;5;241m.\u001B[39mthread_local\u001B[38;5;241m.\u001B[39minside_error_handling \u001B[38;5;241m=\u001B[39m \u001B[38;5;28;01mTrue\u001B[39;00m\n",
       "\u001B[1;32m   2267\u001B[0m \u001B[38;5;28;01mif\u001B[39;00m \u001B[38;5;28misinstance\u001B[39m(error, grpc\u001B[38;5;241m.\u001B[39mRpcError):\n",
       "\u001B[0;32m-> 2268\u001B[0m     \u001B[38;5;28mself\u001B[39m\u001B[38;5;241m.\u001B[39m_handle_rpc_error(error)\n",
       "\u001B[1;32m   2269\u001B[0m \u001B[38;5;28;01melif\u001B[39;00m \u001B[38;5;28misinstance\u001B[39m(error, \u001B[38;5;167;01mValueError\u001B[39;00m):\n",
       "\u001B[1;32m   2270\u001B[0m     \u001B[38;5;28;01mif\u001B[39;00m \u001B[38;5;124m\"\u001B[39m\u001B[38;5;124mCannot invoke RPC\u001B[39m\u001B[38;5;124m\"\u001B[39m \u001B[38;5;129;01min\u001B[39;00m \u001B[38;5;28mstr\u001B[39m(error) \u001B[38;5;129;01mand\u001B[39;00m \u001B[38;5;124m\"\u001B[39m\u001B[38;5;124mclosed\u001B[39m\u001B[38;5;124m\"\u001B[39m \u001B[38;5;129;01min\u001B[39;00m \u001B[38;5;28mstr\u001B[39m(error):\n",
       "\n",
       "File \u001B[0;32m/databricks/python/lib/python3.12/site-packages/pyspark/sql/connect/client/core.py:2351\u001B[0m, in \u001B[0;36mSparkConnectClient._handle_rpc_error\u001B[0;34m(self, rpc_error)\u001B[0m\n",
       "\u001B[1;32m   2347\u001B[0m             logger\u001B[38;5;241m.\u001B[39mdebug(\u001B[38;5;124mf\u001B[39m\u001B[38;5;124m\"\u001B[39m\u001B[38;5;124mReceived ErrorInfo: \u001B[39m\u001B[38;5;132;01m{\u001B[39;00minfo\u001B[38;5;132;01m}\u001B[39;00m\u001B[38;5;124m\"\u001B[39m)\n",
       "\u001B[1;32m   2349\u001B[0m             \u001B[38;5;28mself\u001B[39m\u001B[38;5;241m.\u001B[39m_handle_rpc_error_with_error_info(info, status\u001B[38;5;241m.\u001B[39mmessage, status_code)  \u001B[38;5;66;03m# EDGE\u001B[39;00m\n",
       "\u001B[0;32m-> 2351\u001B[0m             \u001B[38;5;28;01mraise\u001B[39;00m convert_exception(\n",
       "\u001B[1;32m   2352\u001B[0m                 info,\n",
       "\u001B[1;32m   2353\u001B[0m                 status\u001B[38;5;241m.\u001B[39mmessage,\n",
       "\u001B[1;32m   2354\u001B[0m                 \u001B[38;5;28mself\u001B[39m\u001B[38;5;241m.\u001B[39m_fetch_enriched_error(info),\n",
       "\u001B[1;32m   2355\u001B[0m                 \u001B[38;5;28mself\u001B[39m\u001B[38;5;241m.\u001B[39m_display_server_stack_trace(),\n",
       "\u001B[1;32m   2356\u001B[0m             ) \u001B[38;5;28;01mfrom\u001B[39;00m \u001B[38;5;28;01mNone\u001B[39;00m\n",
       "\u001B[1;32m   2358\u001B[0m     \u001B[38;5;28;01mraise\u001B[39;00m SparkConnectGrpcException(\n",
       "\u001B[1;32m   2359\u001B[0m         message\u001B[38;5;241m=\u001B[39mstatus\u001B[38;5;241m.\u001B[39mmessage,\n",
       "\u001B[1;32m   2360\u001B[0m         sql_state\u001B[38;5;241m=\u001B[39mErrorCode\u001B[38;5;241m.\u001B[39mCLIENT_UNEXPECTED_MISSING_SQL_STATE,  \u001B[38;5;66;03m# EDGE\u001B[39;00m\n",
       "\u001B[1;32m   2361\u001B[0m     ) \u001B[38;5;28;01mfrom\u001B[39;00m \u001B[38;5;28;01mNone\u001B[39;00m\n",
       "\u001B[1;32m   2362\u001B[0m \u001B[38;5;28;01melse\u001B[39;00m:\n",
       "\n",
       "\u001B[0;31mSparkConnectGrpcException\u001B[0m: (shaded.databricks.azurebfs.org.apache.hadoop.fs.azurebfs.contracts.exceptions.AbfsRestOperationException) Operation failed: \"Forbidden\", 403, HEAD, Access to storage destination is denied because of serverless network policy, http://synechron25092025.dfs.core.windows.net/users/?upn=false&action=getAccessControl&timeout=90\n",
       "\n",
       "JVM stacktrace:\n",
       "shaded.databricks.azurebfs.org.apache.hadoop.fs.azurebfs.contracts.exceptions.AbfsRestOperationException\n",
       "\tat shaded.databricks.azurebfs.org.apache.hadoop.fs.azurebfs.services.AbfsRestOperation.completeExecute(AbfsRestOperation.java:317)\n",
       "\tat shaded.databricks.azurebfs.org.apache.hadoop.fs.azurebfs.services.AbfsRestOperation.lambda$execute$0(AbfsRestOperation.java:242)\n",
       "\tat org.apache.hadoop.fs.statistics.impl.IOStatisticsBinding.measureDurationOfInvocation(IOStatisticsBinding.java:494)\n",
       "\tat org.apache.hadoop.fs.statistics.impl.IOStatisticsBinding.trackDurationOfInvocation(IOStatisticsBinding.java:465)\n",
       "\tat shaded.databricks.azurebfs.org.apache.hadoop.fs.azurebfs.services.AbfsRestOperation.execute(AbfsRestOperation.java:240)\n",
       "\tat shaded.databricks.azurebfs.org.apache.hadoop.fs.azurebfs.services.AbfsClient.getAclStatus(AbfsClient.java:1472)\n",
       "\tat shaded.databricks.azurebfs.org.apache.hadoop.fs.azurebfs.services.AbfsClient.getAclStatus(AbfsClient.java:1454)\n",
       "\tat shaded.databricks.azurebfs.org.apache.hadoop.fs.azurebfs.AzureBlobFileSystemStore.getIsNamespaceEnabled(AzureBlobFileSystemStore.java:521)\n",
       "\tat shaded.databricks.azurebfs.org.apache.hadoop.fs.azurebfs.AzureBlobFileSystemStore.getFileStatus(AzureBlobFileSystemStore.java:1380)\n",
       "\tat shaded.databricks.azurebfs.org.apache.hadoop.fs.azurebfs.AzureBlobFileSystem.getFileStatus(AzureBlobFileSystem.java:1029)\n",
       "\tat shaded.databricks.azurebfs.org.apache.hadoop.fs.azurebfs.AzureBlobFileSystem.getFileStatus(AzureBlobFileSystem.java:1019)\n",
       "\tat com.databricks.common.filesystem.LokiABFS.getFileStatusNoCache(LokiABFS.scala:54)\n",
       "\tat com.databricks.common.filesystem.LokiABFS.getFileStatus(LokiABFS.scala:44)\n",
       "\tat com.databricks.sql.io.LokiFileSystem.$anonfun$getFileStatusNoCache$3(LokiFileSystem.scala:268)\n",
       "\tat com.databricks.sql.io.LokiFileSystem.tryWithNativeIO(LokiFileSystem.scala:251)\n",
       "\tat com.databricks.sql.io.LokiFileSystem.getFileStatusNoCache(LokiFileSystem.scala:268)\n",
       "\tat com.databricks.sql.io.LokiFileSystem.getFileStatus(LokiFileSystem.scala:273)\n",
       "\tat com.databricks.sql.acl.fs.CredentialScopeFileSystem.getFileStatus(CredentialScopeFileSystem.scala:332)\n",
       "\tat org.apache.spark.deploy.SparkHadoopUtil$.isDirectory(SparkHadoopUtil.scala:769)\n",
       "\tat org.apache.spark.sql.execution.streaming.FileStreamSink$.hasMetadata(FileStreamSink.scala:63)\n",
       "\tat org.apache.spark.sql.execution.datasources.DataSource.resolveRelation(DataSource.scala:432)\n",
       "\tat org.apache.spark.sql.catalyst.analysis.ResolveDataSource.org$apache$spark$sql$catalyst$analysis$ResolveDataSource$$loadV1BatchSource(ResolveDataSource.scala:248)\n",
       "\tat org.apache.spark.sql.catalyst.analysis.ResolveDataSource$$anonfun$apply$1.$anonfun$applyOrElse$2(ResolveDataSource.scala:97)\n",
       "\tat scala.Option.getOrElse(Option.scala:201)\n",
       "\tat org.apache.spark.sql.catalyst.analysis.ResolveDataSource$$anonfun$apply$1.applyOrElse(ResolveDataSource.scala:97)\n",
       "\tat org.apache.spark.sql.catalyst.analysis.ResolveDataSource$$anonfun$apply$1.applyOrElse(ResolveDataSource.scala:58)\n",
       "\tat org.apache.spark.sql.catalyst.plans.logical.AnalysisHelper.$anonfun$resolveOperatorsUpWithPruning$3(AnalysisHelper.scala:141)\n",
       "\tat org.apache.spark.sql.catalyst.trees.CurrentOrigin$.withOrigin(origin.scala:121)\n",
       "\tat org.apache.spark.sql.catalyst.plans.logical.AnalysisHelper.$anonfun$resolveOperatorsUpWithPruning$1(AnalysisHelper.scala:141)\n",
       "\tat org.apache.spark.sql.catalyst.plans.logical.AnalysisHelper$.allowInvokingTransformsInAnalyzer(AnalysisHelper.scala:418)\n",
       "\tat org.apache.spark.sql.catalyst.plans.logical.AnalysisHelper.resolveOperatorsUpWithPruning(AnalysisHelper.scala:137)\n",
       "\tat org.apache.spark.sql.catalyst.plans.logical.AnalysisHelper.resolveOperatorsUpWithPruning$(AnalysisHelper.scala:133)\n",
       "\tat org.apache.spark.sql.catalyst.plans.logical.LogicalPlan.resolveOperatorsUpWithPruning(LogicalPlan.scala:45)\n",
       "\tat org.apache.spark.sql.catalyst.plans.logical.AnalysisHelper.resolveOperatorsUp(AnalysisHelper.scala:114)\n",
       "\tat org.apache.spark.sql.catalyst.plans.logical.AnalysisHelper.resolveOperatorsUp$(AnalysisHelper.scala:113)\n",
       "\tat org.apache.spark.sql.catalyst.plans.logical.LogicalPlan.resolveOperatorsUp(LogicalPlan.scala:45)\n",
       "\tat org.apache.spark.sql.catalyst.analysis.ResolveDataSource.apply(ResolveDataSource.scala:58)\n",
       "\tat org.apache.spark.sql.catalyst.analysis.ResolveDataSource.apply(ResolveDataSource.scala:56)\n",
       "\tat org.apache.spark.sql.catalyst.rules.RuleExecutor.$anonfun$execute$17(RuleExecutor.scala:503)\n",
       "\tat org.apache.spark.sql.catalyst.rules.RecoverableRuleExecutionHelper.processRule(RuleExecutor.scala:657)\n",
       "\tat org.apache.spark.sql.catalyst.rules.RecoverableRuleExecutionHelper.processRule$(RuleExecutor.scala:641)\n",
       "\tat org.apache.spark.sql.catalyst.rules.RuleExecutor.processRule(RuleExecutor.scala:137)\n",
       "\tat org.apache.spark.sql.catalyst.rules.RuleExecutor.$anonfun$execute$16(RuleExecutor.scala:503)\n",
       "\tat com.databricks.spark.util.MemoryTracker$.withThreadAllocatedBytes(MemoryTracker.scala:51)\n",
       "\tat org.apache.spark.sql.catalyst.QueryPlanningTracker$.measureRule(QueryPlanningTracker.scala:352)\n",
       "\tat org.apache.spark.sql.catalyst.rules.RuleExecutor.$anonfun$execute$15(RuleExecutor.scala:501)\n",
       "\tat com.databricks.spark.util.FrameProfiler$.$anonfun$record$1(FrameProfiler.scala:114)\n",
       "\tat com.databricks.spark.util.FrameProfilerExporter$.maybeExportFrameProfiler(FrameProfilerExporter.scala:200)\n",
       "\tat com.databricks.spark.util.FrameProfiler$.record(FrameProfiler.scala:105)\n",
       "\tat org.apache.spark.sql.catalyst.rules.RuleExecutor.$anonfun$execute$14(RuleExecutor.scala:500)\n",
       "\tat scala.collection.LinearSeqOps.foldLeft(LinearSeq.scala:183)\n",
       "\tat scala.collection.LinearSeqOps.foldLeft$(LinearSeq.scala:179)\n",
       "\tat scala.collection.immutable.List.foldLeft(List.scala:79)\n",
       "\tat org.apache.spark.sql.catalyst.rules.RuleExecutor.$anonfun$execute$13(RuleExecutor.scala:492)\n",
       "\tat scala.runtime.java8.JFunction0$mcV$sp.apply(JFunction0$mcV$sp.scala:18)\n",
       "\tat com.databricks.spark.util.FrameProfiler$.$anonfun$record$1(FrameProfiler.scala:114)\n",
       "\tat com.databricks.spark.util.FrameProfilerExporter$.maybeExportFrameProfiler(FrameProfilerExporter.scala:200)\n",
       "\tat com.databricks.spark.util.FrameProfiler$.record(FrameProfiler.scala:105)\n",
       "\tat org.apache.spark.sql.catalyst.rules.RuleExecutor.executeBatch$1(RuleExecutor.scala:466)\n",
       "\tat org.apache.spark.sql.catalyst.rules.RuleExecutor.$anonfun$execute$23(RuleExecutor.scala:613)\n",
       "\tat org.apache.spark.sql.catalyst.rules.RuleExecutor.$anonfun$execute$23$adapted(RuleExecutor.scala:613)\n",
       "\tat scala.collection.immutable.List.foreach(List.scala:334)\n",
       "\tat org.apache.spark.sql.catalyst.rules.RuleExecutor.$anonfun$execute$1(RuleExecutor.scala:613)\n",
       "\tat com.databricks.spark.util.FrameProfiler$.$anonfun$record$1(FrameProfiler.scala:114)\n",
       "\tat com.databricks.spark.util.FrameProfilerExporter$.maybeExportFrameProfiler(FrameProfilerExporter.scala:200)\n",
       "\tat com.databricks.spark.util.FrameProfiler$.record(FrameProfiler.scala:105)\n",
       "\tat org.apache.spark.sql.catalyst.rules.RuleExecutor.execute(RuleExecutor.scala:359)\n",
       "\tat org.apache.spark.sql.catalyst.analysis.Analyzer.super$execute(Analyzer.scala:620)\n",
       "\tat org.apache.spark.sql.catalyst.analysis.Analyzer.$anonfun$executeSameContext$1(Analyzer.scala:620)\n",
       "\tat com.databricks.sql.unity.SAMSnapshotHelper$.visitPlansDuringAnalysis(SAMSnapshotHelper.scala:41)\n",
       "\tat org.apache.spark.sql.catalyst.analysis.Analyzer.executeSameContext(Analyzer.scala:619)\n",
       "\tat org.apache.spark.sql.catalyst.analysis.Analyzer.$anonfun$execute$1(Analyzer.scala:611)\n",
       "\tat org.apache.spark.sql.catalyst.analysis.AnalysisContext$.withNewAnalysisContext(Analyzer.scala:420)\n",
       "\tat org.apache.spark.sql.catalyst.analysis.Analyzer.execute(Analyzer.scala:611)\n",
       "\tat org.apache.spark.sql.catalyst.analysis.Analyzer.execute(Analyzer.scala:542)\n",
       "\tat org.apache.spark.sql.catalyst.rules.RuleExecutor.$anonfun$executeAndTrack$1(RuleExecutor.scala:347)\n",
       "\tat org.apache.spark.sql.catalyst.QueryPlanningTracker$.withTracker(QueryPlanningTracker.scala:267)\n",
       "\tat org.apache.spark.sql.catalyst.rules.RuleExecutor.executeAndTrack(RuleExecutor.scala:347)\n",
       "\tat org.apache.spark.sql.catalyst.analysis.resolver.HybridAnalyzer.resolveInFixedPoint(HybridAnalyzer.scala:411)\n",
       "\tat org.apache.spark.sql.catalyst.analysis.resolver.HybridAnalyzer.$anonfun$apply$1(HybridAnalyzer.scala:99)\n",
       "\tat org.apache.spark.sql.catalyst.analysis.resolver.HybridAnalyzer.withTrackedAnalyzerBridgeState(HybridAnalyzer.scala:136)\n",
       "\tat org.apache.spark.sql.catalyst.analysis.resolver.HybridAnalyzer.apply(HybridAnalyzer.scala:92)\n",
       "\tat org.apache.spark.sql.catalyst.analysis.Analyzer.$anonfun$executeAndCheck$2(Analyzer.scala:598)\n",
       "\tat org.apache.spark.sql.catalyst.plans.logical.AnalysisHelper$.markInAnalyzer(AnalysisHelper.scala:425)\n",
       "\tat org.apache.spark.sql.catalyst.analysis.Analyzer.$anonfun$executeAndCheck$1(Analyzer.scala:598)\n",
       "\tat com.databricks.sql.unity.SAMSnapshotHelper$.visitPlansDuringAnalysis(SAMSnapshotHelper.scala:41)\n",
       "\tat org.apache.spark.sql.catalyst.analysis.Analyzer.executeAndCheck(Analyzer.scala:591)\n",
       "\tat org.apache.spark.sql.execution.QueryExecution.$anonfun$lazyAnalyzed$3(QueryExecution.scala:341)\n",
       "\tat com.databricks.spark.util.FrameProfiler$.$anonfun$record$1(FrameProfiler.scala:114)\n",
       "\tat com.databricks.spark.util.FrameProfilerExporter$.maybeExportFrameProfiler(FrameProfilerExporter.scala:200)\n",
       "\tat com.databricks.spark.util.FrameProfiler$.record(FrameProfiler.scala:105)\n",
       "\tat org.apache.spark.sql.catalyst.QueryPlanningTracker.measurePhase(QueryPlanningTracker.scala:675)\n",
       "\tat org.apache.spark.sql.execution.QueryExecution.$anonfun$executePhase$8(QueryExecution.scala:826)\n",
       "\tat org.apache.spark.sql.execution.SQLExecution$.$anonfun$withExecutionPhase$1(SQLExecution.scala:157)\n",
       "\tat com.databricks.logging.AttributionContext$.$anonfun$withValue$1(AttributionContext.scala:328)\n",
       "\tat scala.util.DynamicVariable.withValue(DynamicVariable.scala:59)\n",
       "\tat com.databricks.logging.AttributionContext$.withValue(AttributionContext.scala:324)\n",
       "\tat com.databricks.util.TracingSpanUtils$.$anonfun$withTracing$4(TracingSpanUtils.scala:235)\n",
       "\tat com.databricks.util.TracingSpanUtils$.withTracing(TracingSpanUtils.scala:129)\n",
       "\tat com.databricks.util.TracingSpanUtils$.withTracing(TracingSpanUtils.scala:233)\n",
       "\tat com.databricks.tracing.TracingUtils$.withTracing(TracingUtils.scala:296)\n",
       "\tat com.databricks.spark.util.DatabricksTracingHelper.withSpan(DatabricksSparkTracingHelper.scala:115)\n",
       "\tat com.databricks.spark.util.DBRTracing$.withSpan(DBRTracing.scala:47)\n",
       "\tat org.apache.spark.sql.execution.SQLExecution$.withExecutionPhase(SQLExecution.scala:138)\n",
       "\tat org.apache.spark.sql.execution.QueryExecution.$anonfun$executePhase$7(QueryExecution.scala:826)\n",
       "\tat org.apache.spark.sql.execution.QueryExecution$.withInternalError(QueryExecution.scala:1472)\n",
       "\tat org.apache.spark.sql.execution.QueryExecution.$anonfun$executePhase$5(QueryExecution.scala:819)\n",
       "\tat com.databricks.util.LexicalThreadLocal$Handle.runWith(LexicalThreadLocal.scala:63)\n",
       "\tat org.apache.spark.sql.execution.QueryExecution.$anonfun$executePhase$4(QueryExecution.scala:816)\n",
       "\tat com.databricks.util.LexicalThreadLocal$Handle.runWith(LexicalThreadLocal.scala:63)\n",
       "\tat org.apache.spark.sql.execution.QueryExecution.$anonfun$executePhase$3(QueryExecution.scala:816)\n",
       "\tat com.databricks.util.LexicalThreadLocal$Handle.runWith(LexicalThreadLocal.scala:63)\n",
       "\tat org.apache.spark.sql.execution.QueryExecution.$anonfun$executePhase$2(QueryExecution.scala:815)\n",
       "\tat com.databricks.util.LexicalThreadLocal$Handle.runWith(LexicalThreadLocal.scala:63)\n",
       "\tat org.apache.spark.sql.execution.QueryExecution.withQueryExecutionId(QueryExecution.scala:803)\n",
       "\tat org.apache.spark.sql.execution.QueryExecution.$anonfun$executePhase$1(QueryExecution.scala:814)\n",
       "\tat org.apache.spark.sql.SparkSession.withActive(SparkSession.scala:860)\n",
       "\tat org.apache.spark.sql.execution.QueryExecution.executePhase(QueryExecution.scala:813)\n",
       "\tat org.apache.spark.sql.execution.QueryExecution.$anonfun$lazyAnalyzed$2(QueryExecution.scala:323)\n",
       "\tat com.databricks.sql.util.MemoryTrackerHelper.withMemoryTracking(MemoryTrackerHelper.scala:111)\n",
       "\tat org.apache.spark.sql.execution.QueryExecution.$anonfun$lazyAnalyzed$1(QueryExecution.scala:322)\n",
       "\tat scala.util.Try$.apply(Try.scala:217)\n",
       "\tat org.apache.spark.util.Utils$.doTryWithCallerStacktrace(Utils.scala:1687)\n",
       "\tat org.apache.spark.util.Utils$.getTryWithCallerStacktrace(Utils.scala:1748)\n",
       "\tat org.apache.spark.util.LazyTry.get(LazyTry.scala:75)\n",
       "\tat org.apache.spark.sql.execution.QueryExecution.analyzed(QueryExecution.scala:383)\n",
       "\tat org.apache.spark.sql.execution.QueryExecution.assertAnalyzed(QueryExecution.scala:302)\n",
       "\tat org.apache.spark.sql.classic.Dataset$.$anonfun$ofRows$1(Dataset.scala:129)\n",
       "\tat org.apache.spark.sql.SparkSession.withActive(SparkSession.scala:860)\n",
       "\tat org.apache.spark.sql.classic.SparkSession.$anonfun$withActiveAndFrameProfiler$1(SparkSession.scala:1077)\n",
       "\tat com.databricks.spark.util.FrameProfiler$.$anonfun$record$1(FrameProfiler.scala:114)\n",
       "\tat com.databricks.spark.util.FrameProfilerExporter$.maybeExportFrameProfiler(FrameProfilerExporter.scala:200)\n",
       "\tat com.databricks.spark.util.FrameProfiler$.record(FrameProfiler.scala:105)\n",
       "\tat org.apache.spark.sql.classic.SparkSession.withActiveAndFrameProfiler(SparkSession.scala:1077)\n",
       "\tat org.apache.spark.sql.classic.Dataset$.ofRows(Dataset.scala:127)\n",
       "\tat org.apache.spark.sql.classic.DataFrameReader.load(DataFrameReader.scala:170)\n",
       "\tat org.apache.spark.sql.classic.DataFrameReader.load(DataFrameReader.scala:148)\n",
       "\tat org.apache.spark.sql.connect.planner.SparkConnectPlanner.transformReadRel(SparkConnectPlanner.scala:1997)\n",
       "\tat org.apache.spark.sql.connect.planner.SparkConnectPlanner.$anonfun$transformRelation$1(SparkConnectPlanner.scala:217)\n",
       "\tat org.apache.spark.sql.connect.service.SessionHolder.$anonfun$usePlanCache$8(SessionHolder.scala:629)\n",
       "\tat org.apache.spark.sql.connect.service.SessionHolder.measureSubtreeRelationNodes(SessionHolder.scala:645)\n",
       "\tat org.apache.spark.sql.connect.service.SessionHolder.$anonfun$usePlanCache$6(SessionHolder.scala:628)\n",
       "\tat scala.Option.getOrElse(Option.scala:201)\n",
       "\tat org.apache.spark.sql.connect.service.SessionHolder.usePlanCache(SessionHolder.scala:626)\n",
       "\tat org.apache.spark.sql.connect.planner.SparkConnectPlanner.transformRelation(SparkConnectPlanner.scala:212)\n",
       "\tat org.apache.spark.sql.connect.service.SparkConnectAnalyzeHandler.transformRelation$1(SparkConnectAnalyzeHandler.scala:93)\n",
       "\tat org.apache.spark.sql.connect.service.SparkConnectAnalyzeHandler.process(SparkConnectAnalyzeHandler.scala:189)\n",
       "\tat org.apache.spark.sql.connect.service.SparkConnectAnalyzeHandler.$anonfun$handle$3(SparkConnectAnalyzeHandler.scala:78)\n",
       "\tat org.apache.spark.sql.connect.service.SparkConnectAnalyzeHandler.$anonfun$handle$3$adapted(SparkConnectAnalyzeHandler.scala:70)\n",
       "\tat org.apache.spark.sql.connect.service.SessionHolder.$anonfun$withSession$2(SessionHolder.scala:474)\n",
       "\tat org.apache.spark.sql.SparkSession.withActive(SparkSession.scala:860)\n",
       "\tat org.apache.spark.sql.connect.service.SessionHolder.$anonfun$withSession$1(SessionHolder.scala:474)\n",
       "\tat org.apache.spark.JobArtifactSet$.withActiveJobArtifactState(JobArtifactSet.scala:97)\n",
       "\tat org.apache.spark.sql.artifact.ArtifactManager.$anonfun$withResources$1(ArtifactManager.scala:121)\n",
       "\tat org.apache.spark.sql.artifact.ArtifactManager.withClassLoaderIfNeeded(ArtifactManager.scala:115)\n",
       "\tat org.apache.spark.sql.artifact.ArtifactManager.withResources(ArtifactManager.scala:120)\n",
       "\tat org.apache.spark.sql.connect.service.SessionHolder.withSession(SessionHolder.scala:473)\n",
       "\tat org.apache.spark.sql.connect.service.SparkConnectAnalyzeHandler.$anonfun$handle$1(SparkConnectAnalyzeHandler.scala:70)\n",
       "\tat org.apache.spark.sql.connect.service.SparkConnectAnalyzeHandler.$anonfun$handle$1$adapted(SparkConnectAnalyzeHandler.scala:55)\n",
       "\tat com.databricks.spark.connect.logging.rpc.SparkConnectRpcMetricsCollectorUtils$.collectMetrics(SparkConnectRpcMetricsCollector.scala:263)\n",
       "\tat org.apache.spark.sql.connect.service.SparkConnectAnalyzeHandler.handle(SparkConnectAnalyzeHandler.scala:54)\n",
       "\tat org.apache.spark.sql.connect.service.SparkConnectService.analyzePlan(SparkConnectService.scala:113)\n",
       "\tat org.apache.spark.connect.proto.SparkConnectServiceGrpc$MethodHandlers.invoke(SparkConnectServiceGrpc.java:870)\n",
       "\tat org.sparkproject.connect.io.grpc.stub.ServerCalls$UnaryServerCallHandler$UnaryServerCallListener.onHalfClose(ServerCalls.java:182)\n",
       "\tat org.sparkproject.connect.io.grpc.PartialForwardingServerCallListener.onHalfClose(PartialForwardingServerCallListener.java:35)\n",
       "\tat org.sparkproject.connect.io.grpc.ForwardingServerCallListener.onHalfClose(ForwardingServerCallListener.java:23)\n",
       "\tat org.sparkproject.connect.io.grpc.ForwardingServerCallListener$SimpleForwardingServerCallListener.onHalfClose(ForwardingServerCallListener.java:40)\n",
       "\tat org.sparkproject.connect.io.grpc.PartialForwardingServerCallListener.onHalfClose(PartialForwardingServerCallListener.java:35)\n",
       "\tat org.sparkproject.connect.io.grpc.ForwardingServerCallListener.onHalfClose(ForwardingServerCallListener.java:23)\n",
       "\tat org.sparkproject.connect.io.grpc.ForwardingServerCallListener$SimpleForwardingServerCallListener.onHalfClose(ForwardingServerCallListener.java:40)\n",
       "\tat com.databricks.spark.connect.service.AuthenticationInterceptor$AuthenticatedServerCallListener.$anonfun$onHalfClose$1(AuthenticationInterceptor.scala:419)\n",
       "\tat scala.runtime.java8.JFunction0$mcV$sp.apply(JFunction0$mcV$sp.scala:18)\n",
       "\tat com.databricks.unity.UCSEphemeralState$Handle.runWith(UCSEphemeralState.scala:51)\n",
       "\tat com.databricks.unity.HandleImpl.runWith(UCSHandle.scala:104)\n",
       "\tat com.databricks.spark.connect.service.RequestContext.$anonfun$runWith$4(RequestContext.scala:366)\n",
       "\tat com.databricks.logging.AttributionContextTracing.$anonfun$withAttributionContext$1(AttributionContextTracing.scala:49)\n",
       "\tat com.databricks.logging.AttributionContext$.$anonfun$withValue$1(AttributionContext.scala:328)\n",
       "\tat scala.util.DynamicVariable.withValue(DynamicVariable.scala:59)\n",
       "\tat com.databricks.logging.AttributionContext$.withValue(AttributionContext.scala:324)\n",
       "\tat com.databricks.logging.AttributionContextTracing.withAttributionContext(AttributionContextTracing.scala:47)\n",
       "\tat com.databricks.logging.AttributionContextTracing.withAttributionContext$(AttributionContextTracing.scala:44)\n",
       "\tat com.databricks.spark.util.DatabricksTracingHelper.withAttributionContext(DatabricksSparkTracingHelper.scala:65)\n",
       "\tat com.databricks.spark.util.DatabricksTracingHelper.withSpanFromRequest(DatabricksSparkTracingHelper.scala:92)\n",
       "\tat com.databricks.spark.util.DBRTracing$.withSpanFromRequest(DBRTracing.scala:43)\n",
       "\tat com.databricks.spark.connect.service.RequestContext.runWithSpanFromTags(RequestContext.scala:388)\n",
       "\tat com.databricks.spark.connect.service.RequestContext.$anonfun$runWith$3(RequestContext.scala:366)\n",
       "\tat com.databricks.spark.connect.service.RequestContext$.com$databricks$spark$connect$service$RequestContext$$withLocalProperties(RequestContext.scala:584)\n",
       "\tat com.databricks.spark.connect.service.RequestContext.$anonfun$runWith$2(RequestContext.scala:365)\n",
       "\tat com.databricks.logging.AttributionContextTracing.$anonfun$withAttributionContext$1(AttributionContextTracing.scala:49)\n",
       "\tat com.databricks.logging.AttributionContext$.$anonfun$withValue$1(AttributionContext.scala:328)\n",
       "\tat scala.util.DynamicVariable.withValue(DynamicVariable.scala:59)\n",
       "\tat com.databricks.logging.AttributionContext$.withValue(AttributionContext.scala:324)\n",
       "\tat com.databricks.logging.AttributionContextTracing.withAttributionContext(AttributionContextTracing.scala:47)\n",
       "\tat com.databricks.logging.AttributionContextTracing.withAttributionContext$(AttributionContextTracing.scala:44)\n",
       "\tat com.databricks.spark.util.PublicDBLogging.withAttributionContext(DatabricksSparkUsageLogger.scala:30)\n",
       "\tat com.databricks.spark.util.UniverseAttributionContextWrapper.withValue(AttributionContextUtils.scala:242)\n",
       "\tat com.databricks.spark.connect.service.RequestContext.$anonfun$runWith$1(RequestContext.scala:364)\n",
       "\tat com.databricks.spark.connect.service.RequestContext.withContext(RequestContext.scala:396)\n",
       "\tat com.databricks.spark.connect.service.RequestContext.runWith(RequestContext.scala:357)\n",
       "\tat com.databricks.spark.connect.service.AuthenticationInterceptor$AuthenticatedServerCallListener.onHalfClose(AuthenticationInterceptor.scala:419)\n",
       "\tat org.sparkproject.connect.io.grpc.PartialForwardingServerCallListener.onHalfClose(PartialForwardingServerCallListener.java:35)\n",
       "\tat org.sparkproject.connect.io.grpc.ForwardingServerCallListener.onHalfClose(ForwardingServerCallListener.java:23)\n",
       "\tat org.sparkproject.connect.io.grpc.ForwardingServerCallListener$SimpleForwardingServerCallListener.onHalfClose(ForwardingServerCallListener.java:40)\n",
       "\tat org.sparkproject.connect.io.grpc.internal.ServerCallImpl$ServerStreamListenerImpl.halfClosed(ServerCallImpl.java:356)\n",
       "\tat org.sparkproject.connect.io.grpc.internal.ServerImpl$JumpToApplicationThreadServerStreamListener$1HalfClosed.runInContext(ServerImpl.java:861)\n",
       "\tat org.sparkproject.connect.io.grpc.internal.ContextRunnable.run(ContextRunnable.java:37)\n",
       "\tat org.sparkproject.connect.io.grpc.internal.SerializingExecutor.run(SerializingExecutor.java:133)\n",
       "\tat org.apache.spark.util.threads.SparkThreadLocalCapturingRunnable.$anonfun$run$1(SparkThreadLocalForwardingThreadPoolExecutor.scala:165)\n",
       "\tat scala.runtime.java8.JFunction0$mcV$sp.apply(JFunction0$mcV$sp.scala:18)\n",
       "\tat com.databricks.util.LexicalThreadLocal$Handle.runWith(LexicalThreadLocal.scala:63)\n",
       "\tat org.apache.spark.util.threads.SparkThreadLocalCapturingHelper.$anonfun$runWithCaptured$6(SparkThreadLocalForwardingThreadPoolExecutor.scala:119)\n",
       "\tat com.databricks.sql.transaction.tahoe.mst.MSTThreadHelper$.runWithMstTxnId(MSTThreadHelper.scala:57)\n",
       "\tat org.apache.spark.util.threads.SparkThreadLocalCapturingHelper.$anonfun$runWithCaptured$5(SparkThreadLocalForwardingThreadPoolExecutor.scala:118)\n",
       "\tat com.databricks.spark.util.IdentityClaim$.withClaim(IdentityClaim.scala:48)\n",
       "\tat org.apache.spark.util.threads.SparkThreadLocalCapturingHelper.$anonfun$runWithCaptured$4(SparkThreadLocalForwardingThreadPoolExecutor.scala:117)\n",
       "\tat com.databricks.unity.UCSEphemeralState$Handle.runWith(UCSEphemeralState.scala:51)\n",
       "\tat org.apache.spark.util.threads.SparkThreadLocalCapturingHelper.runWithCaptured(SparkThreadLocalForwardingThreadPoolExecutor.scala:116)\n",
       "\tat org.apache.spark.util.threads.SparkThreadLocalCapturingHelper.runWithCaptured$(SparkThreadLocalForwardingThreadPoolExecutor.scala:93)\n",
       "\tat org.apache.spark.util.threads.SparkThreadLocalCapturingRunnable.runWithCaptured(SparkThreadLocalForwardingThreadPoolExecutor.scala:162)\n",
       "\tat org.apache.spark.util.threads.SparkThreadLocalCapturingRunnable.run(SparkThreadLocalForwardingThreadPoolExecutor.scala:165)\n",
       "\tat java.util.concurrent.ThreadPoolExecutor.runWorker(ThreadPoolExecutor.java:1136)\n",
       "\tat java.util.concurrent.ThreadPoolExecutor$Worker.run(ThreadPoolExecutor.java:635)\n",
       "\tat java.lang.Thread.run(Thread.java:840)"
      ]
     },
     "metadata": {
      "application/vnd.databricks.v1+output": {
       "addedWidgets": {},
       "arguments": {},
       "datasetInfos": [],
       "jupyterProps": {
        "ename": "SparkConnectGrpcException",
        "evalue": "(shaded.databricks.azurebfs.org.apache.hadoop.fs.azurebfs.contracts.exceptions.AbfsRestOperationException) Operation failed: \"Forbidden\", 403, HEAD, Access to storage destination is denied because of serverless network policy, http://synechron25092025.dfs.core.windows.net/users/?upn=false&action=getAccessControl&timeout=90\n\nJVM stacktrace:\nshaded.databricks.azurebfs.org.apache.hadoop.fs.azurebfs.contracts.exceptions.AbfsRestOperationException\n\tat shaded.databricks.azurebfs.org.apache.hadoop.fs.azurebfs.services.AbfsRestOperation.completeExecute(AbfsRestOperation.java:317)\n\tat shaded.databricks.azurebfs.org.apache.hadoop.fs.azurebfs.services.AbfsRestOperation.lambda$execute$0(AbfsRestOperation.java:242)\n\tat org.apache.hadoop.fs.statistics.impl.IOStatisticsBinding.measureDurationOfInvocation(IOStatisticsBinding.java:494)\n\tat org.apache.hadoop.fs.statistics.impl.IOStatisticsBinding.trackDurationOfInvocation(IOStatisticsBinding.java:465)\n\tat shaded.databricks.azurebfs.org.apache.hadoop.fs.azurebfs.services.AbfsRestOperation.execute(AbfsRestOperation.java:240)\n\tat shaded.databricks.azurebfs.org.apache.hadoop.fs.azurebfs.services.AbfsClient.getAclStatus(AbfsClient.java:1472)\n\tat shaded.databricks.azurebfs.org.apache.hadoop.fs.azurebfs.services.AbfsClient.getAclStatus(AbfsClient.java:1454)\n\tat shaded.databricks.azurebfs.org.apache.hadoop.fs.azurebfs.AzureBlobFileSystemStore.getIsNamespaceEnabled(AzureBlobFileSystemStore.java:521)\n\tat shaded.databricks.azurebfs.org.apache.hadoop.fs.azurebfs.AzureBlobFileSystemStore.getFileStatus(AzureBlobFileSystemStore.java:1380)\n\tat shaded.databricks.azurebfs.org.apache.hadoop.fs.azurebfs.AzureBlobFileSystem.getFileStatus(AzureBlobFileSystem.java:1029)\n\tat shaded.databricks.azurebfs.org.apache.hadoop.fs.azurebfs.AzureBlobFileSystem.getFileStatus(AzureBlobFileSystem.java:1019)\n\tat com.databricks.common.filesystem.LokiABFS.getFileStatusNoCache(LokiABFS.scala:54)\n\tat com.databricks.common.filesystem.LokiABFS.getFileStatus(LokiABFS.scala:44)\n\tat com.databricks.sql.io.LokiFileSystem.$anonfun$getFileStatusNoCache$3(LokiFileSystem.scala:268)\n\tat com.databricks.sql.io.LokiFileSystem.tryWithNativeIO(LokiFileSystem.scala:251)\n\tat com.databricks.sql.io.LokiFileSystem.getFileStatusNoCache(LokiFileSystem.scala:268)\n\tat com.databricks.sql.io.LokiFileSystem.getFileStatus(LokiFileSystem.scala:273)\n\tat com.databricks.sql.acl.fs.CredentialScopeFileSystem.getFileStatus(CredentialScopeFileSystem.scala:332)\n\tat org.apache.spark.deploy.SparkHadoopUtil$.isDirectory(SparkHadoopUtil.scala:769)\n\tat org.apache.spark.sql.execution.streaming.FileStreamSink$.hasMetadata(FileStreamSink.scala:63)\n\tat org.apache.spark.sql.execution.datasources.DataSource.resolveRelation(DataSource.scala:432)\n\tat org.apache.spark.sql.catalyst.analysis.ResolveDataSource.org$apache$spark$sql$catalyst$analysis$ResolveDataSource$$loadV1BatchSource(ResolveDataSource.scala:248)\n\tat org.apache.spark.sql.catalyst.analysis.ResolveDataSource$$anonfun$apply$1.$anonfun$applyOrElse$2(ResolveDataSource.scala:97)\n\tat scala.Option.getOrElse(Option.scala:201)\n\tat org.apache.spark.sql.catalyst.analysis.ResolveDataSource$$anonfun$apply$1.applyOrElse(ResolveDataSource.scala:97)\n\tat org.apache.spark.sql.catalyst.analysis.ResolveDataSource$$anonfun$apply$1.applyOrElse(ResolveDataSource.scala:58)\n\tat org.apache.spark.sql.catalyst.plans.logical.AnalysisHelper.$anonfun$resolveOperatorsUpWithPruning$3(AnalysisHelper.scala:141)\n\tat org.apache.spark.sql.catalyst.trees.CurrentOrigin$.withOrigin(origin.scala:121)\n\tat org.apache.spark.sql.catalyst.plans.logical.AnalysisHelper.$anonfun$resolveOperatorsUpWithPruning$1(AnalysisHelper.scala:141)\n\tat org.apache.spark.sql.catalyst.plans.logical.AnalysisHelper$.allowInvokingTransformsInAnalyzer(AnalysisHelper.scala:418)\n\tat org.apache.spark.sql.catalyst.plans.logical.AnalysisHelper.resolveOperatorsUpWithPruning(AnalysisHelper.scala:137)\n\tat org.apache.spark.sql.catalyst.plans.logical.AnalysisHelper.resolveOperatorsUpWithPruning$(AnalysisHelper.scala:133)\n\tat org.apache.spark.sql.catalyst.plans.logical.LogicalPlan.resolveOperatorsUpWithPruning(LogicalPlan.scala:45)\n\tat org.apache.spark.sql.catalyst.plans.logical.AnalysisHelper.resolveOperatorsUp(AnalysisHelper.scala:114)\n\tat org.apache.spark.sql.catalyst.plans.logical.AnalysisHelper.resolveOperatorsUp$(AnalysisHelper.scala:113)\n\tat org.apache.spark.sql.catalyst.plans.logical.LogicalPlan.resolveOperatorsUp(LogicalPlan.scala:45)\n\tat org.apache.spark.sql.catalyst.analysis.ResolveDataSource.apply(ResolveDataSource.scala:58)\n\tat org.apache.spark.sql.catalyst.analysis.ResolveDataSource.apply(ResolveDataSource.scala:56)\n\tat org.apache.spark.sql.catalyst.rules.RuleExecutor.$anonfun$execute$17(RuleExecutor.scala:503)\n\tat org.apache.spark.sql.catalyst.rules.RecoverableRuleExecutionHelper.processRule(RuleExecutor.scala:657)\n\tat org.apache.spark.sql.catalyst.rules.RecoverableRuleExecutionHelper.processRule$(RuleExecutor.scala:641)\n\tat org.apache.spark.sql.catalyst.rules.RuleExecutor.processRule(RuleExecutor.scala:137)\n\tat org.apache.spark.sql.catalyst.rules.RuleExecutor.$anonfun$execute$16(RuleExecutor.scala:503)\n\tat com.databricks.spark.util.MemoryTracker$.withThreadAllocatedBytes(MemoryTracker.scala:51)\n\tat org.apache.spark.sql.catalyst.QueryPlanningTracker$.measureRule(QueryPlanningTracker.scala:352)\n\tat org.apache.spark.sql.catalyst.rules.RuleExecutor.$anonfun$execute$15(RuleExecutor.scala:501)\n\tat com.databricks.spark.util.FrameProfiler$.$anonfun$record$1(FrameProfiler.scala:114)\n\tat com.databricks.spark.util.FrameProfilerExporter$.maybeExportFrameProfiler(FrameProfilerExporter.scala:200)\n\tat com.databricks.spark.util.FrameProfiler$.record(FrameProfiler.scala:105)\n\tat org.apache.spark.sql.catalyst.rules.RuleExecutor.$anonfun$execute$14(RuleExecutor.scala:500)\n\tat scala.collection.LinearSeqOps.foldLeft(LinearSeq.scala:183)\n\tat scala.collection.LinearSeqOps.foldLeft$(LinearSeq.scala:179)\n\tat scala.collection.immutable.List.foldLeft(List.scala:79)\n\tat org.apache.spark.sql.catalyst.rules.RuleExecutor.$anonfun$execute$13(RuleExecutor.scala:492)\n\tat scala.runtime.java8.JFunction0$mcV$sp.apply(JFunction0$mcV$sp.scala:18)\n\tat com.databricks.spark.util.FrameProfiler$.$anonfun$record$1(FrameProfiler.scala:114)\n\tat com.databricks.spark.util.FrameProfilerExporter$.maybeExportFrameProfiler(FrameProfilerExporter.scala:200)\n\tat com.databricks.spark.util.FrameProfiler$.record(FrameProfiler.scala:105)\n\tat org.apache.spark.sql.catalyst.rules.RuleExecutor.executeBatch$1(RuleExecutor.scala:466)\n\tat org.apache.spark.sql.catalyst.rules.RuleExecutor.$anonfun$execute$23(RuleExecutor.scala:613)\n\tat org.apache.spark.sql.catalyst.rules.RuleExecutor.$anonfun$execute$23$adapted(RuleExecutor.scala:613)\n\tat scala.collection.immutable.List.foreach(List.scala:334)\n\tat org.apache.spark.sql.catalyst.rules.RuleExecutor.$anonfun$execute$1(RuleExecutor.scala:613)\n\tat com.databricks.spark.util.FrameProfiler$.$anonfun$record$1(FrameProfiler.scala:114)\n\tat com.databricks.spark.util.FrameProfilerExporter$.maybeExportFrameProfiler(FrameProfilerExporter.scala:200)\n\tat com.databricks.spark.util.FrameProfiler$.record(FrameProfiler.scala:105)\n\tat org.apache.spark.sql.catalyst.rules.RuleExecutor.execute(RuleExecutor.scala:359)\n\tat org.apache.spark.sql.catalyst.analysis.Analyzer.super$execute(Analyzer.scala:620)\n\tat org.apache.spark.sql.catalyst.analysis.Analyzer.$anonfun$executeSameContext$1(Analyzer.scala:620)\n\tat com.databricks.sql.unity.SAMSnapshotHelper$.visitPlansDuringAnalysis(SAMSnapshotHelper.scala:41)\n\tat org.apache.spark.sql.catalyst.analysis.Analyzer.executeSameContext(Analyzer.scala:619)\n\tat org.apache.spark.sql.catalyst.analysis.Analyzer.$anonfun$execute$1(Analyzer.scala:611)\n\tat org.apache.spark.sql.catalyst.analysis.AnalysisContext$.withNewAnalysisContext(Analyzer.scala:420)\n\tat org.apache.spark.sql.catalyst.analysis.Analyzer.execute(Analyzer.scala:611)\n\tat org.apache.spark.sql.catalyst.analysis.Analyzer.execute(Analyzer.scala:542)\n\tat org.apache.spark.sql.catalyst.rules.RuleExecutor.$anonfun$executeAndTrack$1(RuleExecutor.scala:347)\n\tat org.apache.spark.sql.catalyst.QueryPlanningTracker$.withTracker(QueryPlanningTracker.scala:267)\n\tat org.apache.spark.sql.catalyst.rules.RuleExecutor.executeAndTrack(RuleExecutor.scala:347)\n\tat org.apache.spark.sql.catalyst.analysis.resolver.HybridAnalyzer.resolveInFixedPoint(HybridAnalyzer.scala:411)\n\tat org.apache.spark.sql.catalyst.analysis.resolver.HybridAnalyzer.$anonfun$apply$1(HybridAnalyzer.scala:99)\n\tat org.apache.spark.sql.catalyst.analysis.resolver.HybridAnalyzer.withTrackedAnalyzerBridgeState(HybridAnalyzer.scala:136)\n\tat org.apache.spark.sql.catalyst.analysis.resolver.HybridAnalyzer.apply(HybridAnalyzer.scala:92)\n\tat org.apache.spark.sql.catalyst.analysis.Analyzer.$anonfun$executeAndCheck$2(Analyzer.scala:598)\n\tat org.apache.spark.sql.catalyst.plans.logical.AnalysisHelper$.markInAnalyzer(AnalysisHelper.scala:425)\n\tat org.apache.spark.sql.catalyst.analysis.Analyzer.$anonfun$executeAndCheck$1(Analyzer.scala:598)\n\tat com.databricks.sql.unity.SAMSnapshotHelper$.visitPlansDuringAnalysis(SAMSnapshotHelper.scala:41)\n\tat org.apache.spark.sql.catalyst.analysis.Analyzer.executeAndCheck(Analyzer.scala:591)\n\tat org.apache.spark.sql.execution.QueryExecution.$anonfun$lazyAnalyzed$3(QueryExecution.scala:341)\n\tat com.databricks.spark.util.FrameProfiler$.$anonfun$record$1(FrameProfiler.scala:114)\n\tat com.databricks.spark.util.FrameProfilerExporter$.maybeExportFrameProfiler(FrameProfilerExporter.scala:200)\n\tat com.databricks.spark.util.FrameProfiler$.record(FrameProfiler.scala:105)\n\tat org.apache.spark.sql.catalyst.QueryPlanningTracker.measurePhase(QueryPlanningTracker.scala:675)\n\tat org.apache.spark.sql.execution.QueryExecution.$anonfun$executePhase$8(QueryExecution.scala:826)\n\tat org.apache.spark.sql.execution.SQLExecution$.$anonfun$withExecutionPhase$1(SQLExecution.scala:157)\n\tat com.databricks.logging.AttributionContext$.$anonfun$withValue$1(AttributionContext.scala:328)\n\tat scala.util.DynamicVariable.withValue(DynamicVariable.scala:59)\n\tat com.databricks.logging.AttributionContext$.withValue(AttributionContext.scala:324)\n\tat com.databricks.util.TracingSpanUtils$.$anonfun$withTracing$4(TracingSpanUtils.scala:235)\n\tat com.databricks.util.TracingSpanUtils$.withTracing(TracingSpanUtils.scala:129)\n\tat com.databricks.util.TracingSpanUtils$.withTracing(TracingSpanUtils.scala:233)\n\tat com.databricks.tracing.TracingUtils$.withTracing(TracingUtils.scala:296)\n\tat com.databricks.spark.util.DatabricksTracingHelper.withSpan(DatabricksSparkTracingHelper.scala:115)\n\tat com.databricks.spark.util.DBRTracing$.withSpan(DBRTracing.scala:47)\n\tat org.apache.spark.sql.execution.SQLExecution$.withExecutionPhase(SQLExecution.scala:138)\n\tat org.apache.spark.sql.execution.QueryExecution.$anonfun$executePhase$7(QueryExecution.scala:826)\n\tat org.apache.spark.sql.execution.QueryExecution$.withInternalError(QueryExecution.scala:1472)\n\tat org.apache.spark.sql.execution.QueryExecution.$anonfun$executePhase$5(QueryExecution.scala:819)\n\tat com.databricks.util.LexicalThreadLocal$Handle.runWith(LexicalThreadLocal.scala:63)\n\tat org.apache.spark.sql.execution.QueryExecution.$anonfun$executePhase$4(QueryExecution.scala:816)\n\tat com.databricks.util.LexicalThreadLocal$Handle.runWith(LexicalThreadLocal.scala:63)\n\tat org.apache.spark.sql.execution.QueryExecution.$anonfun$executePhase$3(QueryExecution.scala:816)\n\tat com.databricks.util.LexicalThreadLocal$Handle.runWith(LexicalThreadLocal.scala:63)\n\tat org.apache.spark.sql.execution.QueryExecution.$anonfun$executePhase$2(QueryExecution.scala:815)\n\tat com.databricks.util.LexicalThreadLocal$Handle.runWith(LexicalThreadLocal.scala:63)\n\tat org.apache.spark.sql.execution.QueryExecution.withQueryExecutionId(QueryExecution.scala:803)\n\tat org.apache.spark.sql.execution.QueryExecution.$anonfun$executePhase$1(QueryExecution.scala:814)\n\tat org.apache.spark.sql.SparkSession.withActive(SparkSession.scala:860)\n\tat org.apache.spark.sql.execution.QueryExecution.executePhase(QueryExecution.scala:813)\n\tat org.apache.spark.sql.execution.QueryExecution.$anonfun$lazyAnalyzed$2(QueryExecution.scala:323)\n\tat com.databricks.sql.util.MemoryTrackerHelper.withMemoryTracking(MemoryTrackerHelper.scala:111)\n\tat org.apache.spark.sql.execution.QueryExecution.$anonfun$lazyAnalyzed$1(QueryExecution.scala:322)\n\tat scala.util.Try$.apply(Try.scala:217)\n\tat org.apache.spark.util.Utils$.doTryWithCallerStacktrace(Utils.scala:1687)\n\tat org.apache.spark.util.Utils$.getTryWithCallerStacktrace(Utils.scala:1748)\n\tat org.apache.spark.util.LazyTry.get(LazyTry.scala:75)\n\tat org.apache.spark.sql.execution.QueryExecution.analyzed(QueryExecution.scala:383)\n\tat org.apache.spark.sql.execution.QueryExecution.assertAnalyzed(QueryExecution.scala:302)\n\tat org.apache.spark.sql.classic.Dataset$.$anonfun$ofRows$1(Dataset.scala:129)\n\tat org.apache.spark.sql.SparkSession.withActive(SparkSession.scala:860)\n\tat org.apache.spark.sql.classic.SparkSession.$anonfun$withActiveAndFrameProfiler$1(SparkSession.scala:1077)\n\tat com.databricks.spark.util.FrameProfiler$.$anonfun$record$1(FrameProfiler.scala:114)\n\tat com.databricks.spark.util.FrameProfilerExporter$.maybeExportFrameProfiler(FrameProfilerExporter.scala:200)\n\tat com.databricks.spark.util.FrameProfiler$.record(FrameProfiler.scala:105)\n\tat org.apache.spark.sql.classic.SparkSession.withActiveAndFrameProfiler(SparkSession.scala:1077)\n\tat org.apache.spark.sql.classic.Dataset$.ofRows(Dataset.scala:127)\n\tat org.apache.spark.sql.classic.DataFrameReader.load(DataFrameReader.scala:170)\n\tat org.apache.spark.sql.classic.DataFrameReader.load(DataFrameReader.scala:148)\n\tat org.apache.spark.sql.connect.planner.SparkConnectPlanner.transformReadRel(SparkConnectPlanner.scala:1997)\n\tat org.apache.spark.sql.connect.planner.SparkConnectPlanner.$anonfun$transformRelation$1(SparkConnectPlanner.scala:217)\n\tat org.apache.spark.sql.connect.service.SessionHolder.$anonfun$usePlanCache$8(SessionHolder.scala:629)\n\tat org.apache.spark.sql.connect.service.SessionHolder.measureSubtreeRelationNodes(SessionHolder.scala:645)\n\tat org.apache.spark.sql.connect.service.SessionHolder.$anonfun$usePlanCache$6(SessionHolder.scala:628)\n\tat scala.Option.getOrElse(Option.scala:201)\n\tat org.apache.spark.sql.connect.service.SessionHolder.usePlanCache(SessionHolder.scala:626)\n\tat org.apache.spark.sql.connect.planner.SparkConnectPlanner.transformRelation(SparkConnectPlanner.scala:212)\n\tat org.apache.spark.sql.connect.service.SparkConnectAnalyzeHandler.transformRelation$1(SparkConnectAnalyzeHandler.scala:93)\n\tat org.apache.spark.sql.connect.service.SparkConnectAnalyzeHandler.process(SparkConnectAnalyzeHandler.scala:189)\n\tat org.apache.spark.sql.connect.service.SparkConnectAnalyzeHandler.$anonfun$handle$3(SparkConnectAnalyzeHandler.scala:78)\n\tat org.apache.spark.sql.connect.service.SparkConnectAnalyzeHandler.$anonfun$handle$3$adapted(SparkConnectAnalyzeHandler.scala:70)\n\tat org.apache.spark.sql.connect.service.SessionHolder.$anonfun$withSession$2(SessionHolder.scala:474)\n\tat org.apache.spark.sql.SparkSession.withActive(SparkSession.scala:860)\n\tat org.apache.spark.sql.connect.service.SessionHolder.$anonfun$withSession$1(SessionHolder.scala:474)\n\tat org.apache.spark.JobArtifactSet$.withActiveJobArtifactState(JobArtifactSet.scala:97)\n\tat org.apache.spark.sql.artifact.ArtifactManager.$anonfun$withResources$1(ArtifactManager.scala:121)\n\tat org.apache.spark.sql.artifact.ArtifactManager.withClassLoaderIfNeeded(ArtifactManager.scala:115)\n\tat org.apache.spark.sql.artifact.ArtifactManager.withResources(ArtifactManager.scala:120)\n\tat org.apache.spark.sql.connect.service.SessionHolder.withSession(SessionHolder.scala:473)\n\tat org.apache.spark.sql.connect.service.SparkConnectAnalyzeHandler.$anonfun$handle$1(SparkConnectAnalyzeHandler.scala:70)\n\tat org.apache.spark.sql.connect.service.SparkConnectAnalyzeHandler.$anonfun$handle$1$adapted(SparkConnectAnalyzeHandler.scala:55)\n\tat com.databricks.spark.connect.logging.rpc.SparkConnectRpcMetricsCollectorUtils$.collectMetrics(SparkConnectRpcMetricsCollector.scala:263)\n\tat org.apache.spark.sql.connect.service.SparkConnectAnalyzeHandler.handle(SparkConnectAnalyzeHandler.scala:54)\n\tat org.apache.spark.sql.connect.service.SparkConnectService.analyzePlan(SparkConnectService.scala:113)\n\tat org.apache.spark.connect.proto.SparkConnectServiceGrpc$MethodHandlers.invoke(SparkConnectServiceGrpc.java:870)\n\tat org.sparkproject.connect.io.grpc.stub.ServerCalls$UnaryServerCallHandler$UnaryServerCallListener.onHalfClose(ServerCalls.java:182)\n\tat org.sparkproject.connect.io.grpc.PartialForwardingServerCallListener.onHalfClose(PartialForwardingServerCallListener.java:35)\n\tat org.sparkproject.connect.io.grpc.ForwardingServerCallListener.onHalfClose(ForwardingServerCallListener.java:23)\n\tat org.sparkproject.connect.io.grpc.ForwardingServerCallListener$SimpleForwardingServerCallListener.onHalfClose(ForwardingServerCallListener.java:40)\n\tat org.sparkproject.connect.io.grpc.PartialForwardingServerCallListener.onHalfClose(PartialForwardingServerCallListener.java:35)\n\tat org.sparkproject.connect.io.grpc.ForwardingServerCallListener.onHalfClose(ForwardingServerCallListener.java:23)\n\tat org.sparkproject.connect.io.grpc.ForwardingServerCallListener$SimpleForwardingServerCallListener.onHalfClose(ForwardingServerCallListener.java:40)\n\tat com.databricks.spark.connect.service.AuthenticationInterceptor$AuthenticatedServerCallListener.$anonfun$onHalfClose$1(AuthenticationInterceptor.scala:419)\n\tat scala.runtime.java8.JFunction0$mcV$sp.apply(JFunction0$mcV$sp.scala:18)\n\tat com.databricks.unity.UCSEphemeralState$Handle.runWith(UCSEphemeralState.scala:51)\n\tat com.databricks.unity.HandleImpl.runWith(UCSHandle.scala:104)\n\tat com.databricks.spark.connect.service.RequestContext.$anonfun$runWith$4(RequestContext.scala:366)\n\tat com.databricks.logging.AttributionContextTracing.$anonfun$withAttributionContext$1(AttributionContextTracing.scala:49)\n\tat com.databricks.logging.AttributionContext$.$anonfun$withValue$1(AttributionContext.scala:328)\n\tat scala.util.DynamicVariable.withValue(DynamicVariable.scala:59)\n\tat com.databricks.logging.AttributionContext$.withValue(AttributionContext.scala:324)\n\tat com.databricks.logging.AttributionContextTracing.withAttributionContext(AttributionContextTracing.scala:47)\n\tat com.databricks.logging.AttributionContextTracing.withAttributionContext$(AttributionContextTracing.scala:44)\n\tat com.databricks.spark.util.DatabricksTracingHelper.withAttributionContext(DatabricksSparkTracingHelper.scala:65)\n\tat com.databricks.spark.util.DatabricksTracingHelper.withSpanFromRequest(DatabricksSparkTracingHelper.scala:92)\n\tat com.databricks.spark.util.DBRTracing$.withSpanFromRequest(DBRTracing.scala:43)\n\tat com.databricks.spark.connect.service.RequestContext.runWithSpanFromTags(RequestContext.scala:388)\n\tat com.databricks.spark.connect.service.RequestContext.$anonfun$runWith$3(RequestContext.scala:366)\n\tat com.databricks.spark.connect.service.RequestContext$.com$databricks$spark$connect$service$RequestContext$$withLocalProperties(RequestContext.scala:584)\n\tat com.databricks.spark.connect.service.RequestContext.$anonfun$runWith$2(RequestContext.scala:365)\n\tat com.databricks.logging.AttributionContextTracing.$anonfun$withAttributionContext$1(AttributionContextTracing.scala:49)\n\tat com.databricks.logging.AttributionContext$.$anonfun$withValue$1(AttributionContext.scala:328)\n\tat scala.util.DynamicVariable.withValue(DynamicVariable.scala:59)\n\tat com.databricks.logging.AttributionContext$.withValue(AttributionContext.scala:324)\n\tat com.databricks.logging.AttributionContextTracing.withAttributionContext(AttributionContextTracing.scala:47)\n\tat com.databricks.logging.AttributionContextTracing.withAttributionContext$(AttributionContextTracing.scala:44)\n\tat com.databricks.spark.util.PublicDBLogging.withAttributionContext(DatabricksSparkUsageLogger.scala:30)\n\tat com.databricks.spark.util.UniverseAttributionContextWrapper.withValue(AttributionContextUtils.scala:242)\n\tat com.databricks.spark.connect.service.RequestContext.$anonfun$runWith$1(RequestContext.scala:364)\n\tat com.databricks.spark.connect.service.RequestContext.withContext(RequestContext.scala:396)\n\tat com.databricks.spark.connect.service.RequestContext.runWith(RequestContext.scala:357)\n\tat com.databricks.spark.connect.service.AuthenticationInterceptor$AuthenticatedServerCallListener.onHalfClose(AuthenticationInterceptor.scala:419)\n\tat org.sparkproject.connect.io.grpc.PartialForwardingServerCallListener.onHalfClose(PartialForwardingServerCallListener.java:35)\n\tat org.sparkproject.connect.io.grpc.ForwardingServerCallListener.onHalfClose(ForwardingServerCallListener.java:23)\n\tat org.sparkproject.connect.io.grpc.ForwardingServerCallListener$SimpleForwardingServerCallListener.onHalfClose(ForwardingServerCallListener.java:40)\n\tat org.sparkproject.connect.io.grpc.internal.ServerCallImpl$ServerStreamListenerImpl.halfClosed(ServerCallImpl.java:356)\n\tat org.sparkproject.connect.io.grpc.internal.ServerImpl$JumpToApplicationThreadServerStreamListener$1HalfClosed.runInContext(ServerImpl.java:861)\n\tat org.sparkproject.connect.io.grpc.internal.ContextRunnable.run(ContextRunnable.java:37)\n\tat org.sparkproject.connect.io.grpc.internal.SerializingExecutor.run(SerializingExecutor.java:133)\n\tat org.apache.spark.util.threads.SparkThreadLocalCapturingRunnable.$anonfun$run$1(SparkThreadLocalForwardingThreadPoolExecutor.scala:165)\n\tat scala.runtime.java8.JFunction0$mcV$sp.apply(JFunction0$mcV$sp.scala:18)\n\tat com.databricks.util.LexicalThreadLocal$Handle.runWith(LexicalThreadLocal.scala:63)\n\tat org.apache.spark.util.threads.SparkThreadLocalCapturingHelper.$anonfun$runWithCaptured$6(SparkThreadLocalForwardingThreadPoolExecutor.scala:119)\n\tat com.databricks.sql.transaction.tahoe.mst.MSTThreadHelper$.runWithMstTxnId(MSTThreadHelper.scala:57)\n\tat org.apache.spark.util.threads.SparkThreadLocalCapturingHelper.$anonfun$runWithCaptured$5(SparkThreadLocalForwardingThreadPoolExecutor.scala:118)\n\tat com.databricks.spark.util.IdentityClaim$.withClaim(IdentityClaim.scala:48)\n\tat org.apache.spark.util.threads.SparkThreadLocalCapturingHelper.$anonfun$runWithCaptured$4(SparkThreadLocalForwardingThreadPoolExecutor.scala:117)\n\tat com.databricks.unity.UCSEphemeralState$Handle.runWith(UCSEphemeralState.scala:51)\n\tat org.apache.spark.util.threads.SparkThreadLocalCapturingHelper.runWithCaptured(SparkThreadLocalForwardingThreadPoolExecutor.scala:116)\n\tat org.apache.spark.util.threads.SparkThreadLocalCapturingHelper.runWithCaptured$(SparkThreadLocalForwardingThreadPoolExecutor.scala:93)\n\tat org.apache.spark.util.threads.SparkThreadLocalCapturingRunnable.runWithCaptured(SparkThreadLocalForwardingThreadPoolExecutor.scala:162)\n\tat org.apache.spark.util.threads.SparkThreadLocalCapturingRunnable.run(SparkThreadLocalForwardingThreadPoolExecutor.scala:165)\n\tat java.util.concurrent.ThreadPoolExecutor.runWorker(ThreadPoolExecutor.java:1136)\n\tat java.util.concurrent.ThreadPoolExecutor$Worker.run(ThreadPoolExecutor.java:635)\n\tat java.lang.Thread.run(Thread.java:840)"
       },
       "metadata": {
        "errorSummary": "(shaded.databricks.azurebfs.org.apache.hadoop.fs.azurebfs.contracts.exceptions.AbfsRestOperationException) Operation failed: \"Forbidden\", 403, HEAD, Access to storage destination is denied because of serverless network policy, http://synechron25092025.dfs.core.windows.net/users/?upn=false&action=getAccessControl&timeout=90\n\nJVM stacktrace:\nshaded.databricks.azurebfs.org.apache.hadoop.fs.azurebfs.contracts.exceptions.AbfsRestOperationException\n\tat shaded.databricks.azurebfs.org.apache.hadoop.fs.azurebfs.services.AbfsRestOperation.completeExecute(AbfsRestOperation.java:317)\n\tat shaded.databricks.azurebfs.org.apache.hadoop.fs.azurebfs.services.AbfsRestOperation.lambda$execute$0(AbfsRestOperation.java:242)\n\tat org.apache.hadoop.fs.statistics.impl.IOStatisticsBinding.measureDurationOfInvocation(IOStatisticsBinding.java:494)\n\tat org.apache.hadoop.fs.statistics.impl.IOStatisticsBinding.trackDurationOfInvocation(IOStatisticsBinding.java:465)\n\tat shaded.databricks.azurebfs.org.apache.hadoop.fs.azurebfs.services.AbfsRestOperation.execute(AbfsRestOperation.java:240)\n\tat shaded.databricks.azurebfs.org.apache.hadoop.fs.azurebfs.services.AbfsClient.getAclStatus(AbfsClient.java:1472)\n\tat shaded.databricks.azurebfs.org.apache.hadoop.fs.azurebfs.services.AbfsClient.getAclStatus(AbfsClient.java:1454)\n\tat shaded.databricks.azurebfs.org.apache.hadoop.fs.azurebfs.AzureBlobFileSystemStore.getIsNamespaceEnabled(AzureBlobFileSystemStore.java:521)\n\tat shaded.databricks.azurebfs.org.apache.hadoop.fs.azurebfs.AzureBlobFileSystemStore.getFileStatus(AzureBlobFileSystemStore.java:1380)\n\tat shaded.databricks.azurebfs.org.apache.hadoop.fs.azurebfs.AzureBlobFileSystem.getFileStatus(AzureBlobFileSystem.java:1029)\n\tat shaded.databricks.azurebfs.org.apache.hadoop.fs.azurebfs.AzureBlobFileSystem.getFileStatus(AzureBlobFileSystem.java:1019)\n\tat com.databricks.common.filesystem.LokiABFS.getFileStatusNoCache(LokiABFS.scala:54)\n\tat com.databricks.common.filesystem.LokiABFS.getFileStatus(LokiABFS.scala:44)\n\tat com.databricks.sql.io.LokiFileSystem.$anonfun$getFileStatusNoCache$3(LokiFileSystem.scala:268)\n\tat com.databricks.sql.io.LokiFileSystem.tryWithNativeIO(LokiFileSystem.scala:251)\n\tat com.databricks.sql.io.LokiFileSystem.getFileStatusNoCache(LokiFileSystem.scala:268)\n\tat com.databricks.sql.io.LokiFileSystem.getFileStatus(LokiFileSystem.scala:273)\n\tat com.databricks.sql.acl.fs.CredentialScopeFileSystem.getFileStatus(CredentialScopeFileSystem.scala:332)\n\tat org.apache.spark.deploy.SparkHadoopUtil$.isDirectory(SparkHadoopUtil.scala:769)\n\tat org.apache.spark.sql.execution.streaming.FileStreamSink$.hasMetadata(FileStreamSink.scala:63)\n\tat org.apache.spark.sql.execution.datasources.DataSource.resolveRelation(DataSource.scala:432)\n\tat org.apache.spark.sql.catalyst.analysis.ResolveDataSource.org$apache$spark$sql$catalyst$analysis$ResolveDataSource$$loadV1BatchSource(ResolveDataSource.scala:248)\n\tat org.apache.spark.sql.catalyst.analysis.ResolveDataSource$$anonfun$apply$1.$anonfun$applyOrElse$2(ResolveDataSource.scala:97)\n\tat scala.Option.getOrElse(Option.scala:201)\n\tat org.apache.spark.sql.catalyst.analysis.ResolveDataSource$$anonfun$apply$1.applyOrElse(ResolveDataSource.scala:97)\n\tat org.apache.spark.sql.catalyst.analysis.ResolveDataSource$$anonfun$apply$1.applyOrElse(ResolveDataSource.scala:58)\n\tat org.apache.spark.sql.catalyst.plans.logical.AnalysisHelper.$anonfun$resolveOperatorsUpWithPruning$3(AnalysisHelper.scala:141)\n\tat org.apache.spark.sql.catalyst.trees.CurrentOrigin$.withOrigin(origin.scala:121)\n\tat org.apache.spark.sql.catalyst.plans.logical.AnalysisHelper.$anonfun$resolveOperatorsUpWithPruning$1(AnalysisHelper.scala:141)\n\tat org.apache.spark.sql.catalyst.plans.logical.AnalysisHelper$.allowInvokingTransformsInAnalyzer(AnalysisHelper.scala:418)\n\tat org.apache.spark.sql.catalyst.plans.logical.AnalysisHelper.resolveOperatorsUpWithPruning(AnalysisHelper.scala:137)\n\tat org.apache.spark.sql.catalyst.plans.logical.AnalysisHelper.resolveOperatorsUpWithPruning$(AnalysisHelper.scala:133)\n\tat org.apache.spark.sql.catalyst.plans.logical.LogicalPlan.resolveOperatorsUpWithPruning(LogicalPlan.scala:45)\n\tat org.apache.spark.sql.catalyst.plans.logical.AnalysisHelper.resolveOperatorsUp(AnalysisHelper.scala:114)\n\tat org.apache.spark.sql.catalyst.plans.logical.AnalysisHelper.resolveOperatorsUp$(AnalysisHelper.scala:113)\n\tat org.apache.spark.sql.catalyst.plans.logical.LogicalPlan.resolveOperatorsUp(LogicalPlan.scala:45)\n\tat org.apache.spark.sql.catalyst.analysis.ResolveDataSource.apply(ResolveDataSource.scala:58)\n\tat org.apache.spark.sql.catalyst.analysis.ResolveDataSource.apply(ResolveDataSource.scala:56)\n\tat org.apache.spark.sql.catalyst.rules.RuleExecutor.$anonfun$execute$17(RuleExecutor.scala:503)\n\tat org.apache.spark.sql.catalyst.rules.RecoverableRuleExecutionHelper.processRule(RuleExecutor.scala:657)\n\tat org.apache.spark.sql.catalyst.rules.RecoverableRuleExecutionHelper.processRule$(RuleExecutor.scala:641)\n\tat org.apache.spark.sql.catalyst.rules.RuleExecutor.processRule(RuleExecutor.scala:137)\n\tat org.apache.spark.sql.catalyst.rules.RuleExecutor.$anonfun$execute$16(RuleExecutor.scala:503)\n\tat com.databricks.spark.util.MemoryTracker$.withThreadAllocatedBytes(MemoryTracker.scala:51)\n\tat org.apache.spark.sql.catalyst.QueryPlanningTracker$.measureRule(QueryPlanningTracker.scala:352)\n\tat org.apache.spark.sql.catalyst.rules.RuleExecutor.$anonfun$execute$15(RuleExecutor.scala:501)\n\tat com.databricks.spark.util.FrameProfiler$.$anonfun$record$1(FrameProfiler.scala:114)\n\tat com.databricks.spark.util.FrameProfilerExporter$.maybeExportFrameProfiler(FrameProfilerExporter.scala:200)\n\tat com.databricks.spark.util.FrameProfiler$.record(FrameProfiler.scala:105)\n\tat org.apache.spark.sql.catalyst.rules.RuleExecutor.$anonfun$execute$14(RuleExecutor.scala:500)\n\tat scala.collection.LinearSeqOps.foldLeft(LinearSeq.scala:183)\n\tat scala.collection.LinearSeqOps.foldLeft$(LinearSeq.scala:179)\n\tat scala.collection.immutable.List.foldLeft(List.scala:79)\n\tat org.apache.spark.sql.catalyst.rules.RuleExecutor.$anonfun$execute$13(RuleExecutor.scala:492)\n\tat scala.runtime.java8.JFunction0$mcV$sp.apply(JFunction0$mcV$sp.scala:18)\n\tat com.databricks.spark.util.FrameProfiler$.$anonfun$record$1(FrameProfiler.scala:114)\n\tat com.databricks.spark.util.FrameProfilerExporter$.maybeExportFrameProfiler(FrameProfilerExporter.scala:200)\n\tat com.databricks.spark.util.FrameProfiler$.record(FrameProfiler.scala:105)\n\tat org.apache.spark.sql.catalyst.rules.RuleExecutor.executeBatch$1(RuleExecutor.scala:466)\n\tat org.apache.spark.sql.catalyst.rules.RuleExecutor.$anonfun$execute$23(RuleExecutor.scala:613)\n\tat org.apache.spark.sql.catalyst.rules.RuleExecutor.$anonfun$execute$23$adapted(RuleExecutor.scala:613)\n\tat scala.collection.immutable.List.foreach(List.scala:334)\n\tat org.apache.spark.sql.catalyst.rules.RuleExecutor.$anonfun$execute$1(RuleExecutor.scala:613)\n\tat com.databricks.spark.util.FrameProfiler$.$anonfun$record$1(FrameProfiler.scala:114)\n\tat com.databricks.spark.util.FrameProfilerExporter$.maybeExportFrameProfiler(FrameProfilerExporter.scala:200)\n\tat com.databricks.spark.util.FrameProfiler$.record(FrameProfiler.scala:105)\n\tat org.apache.spark.sql.catalyst.rules.RuleExecutor.execute(RuleExecutor.scala:359)\n\tat org.apache.spark.sql.catalyst.analysis.Analyzer.super$execute(Analyzer.scala:620)\n\tat org.apache.spark.sql.catalyst.analysis.Analyzer.$anonfun$executeSameContext$1(Analyzer.scala:620)\n\tat com.databricks.sql.unity.SAMSnapshotHelper$.visitPlansDuringAnalysis(SAMSnapshotHelper.scala:41)\n\tat org.apache.spark.sql.catalyst.analysis.Analyzer.executeSameContext(Analyzer.scala:619)\n\tat org.apache.spark.sql.catalyst.analysis.Analyzer.$anonfun$execute$1(Analyzer.scala:611)\n\tat org.apache.spark.sql.catalyst.analysis.AnalysisContext$.withNewAnalysisContext(Analyzer.scala:420)\n\tat org.apache.spark.sql.catalyst.analysis.Analyzer.execute(Analyzer.scala:611)\n\tat org.apache.spark.sql.catalyst.analysis.Analyzer.execute(Analyzer.scala:542)\n\tat org.apache.spark.sql.catalyst.rules.RuleExecutor.$anonfun$executeAndTrack$1(RuleExecutor.scala:347)\n\tat org.apache.spark.sql.catalyst.QueryPlanningTracker$.withTracker(QueryPlanningTracker.scala:267)\n\tat org.apache.spark.sql.catalyst.rules.RuleExecutor.executeAndTrack(RuleExecutor.scala:347)\n\tat org.apache.spark.sql.catalyst.analysis.resolver.HybridAnalyzer.resolveInFixedPoint(HybridAnalyzer.scala:411)\n\tat org.apache.spark.sql.catalyst.analysis.resolver.HybridAnalyzer.$anonfun$apply$1(HybridAnalyzer.scala:99)\n\tat org.apache.spark.sql.catalyst.analysis.resolver.HybridAnalyzer.withTrackedAnalyzerBridgeState(HybridAnalyzer.scala:136)\n\tat org.apache.spark.sql.catalyst.analysis.resolver.HybridAnalyzer.apply(HybridAnalyzer.scala:92)\n\tat org.apache.spark.sql.catalyst.analysis.Analyzer.$anonfun$executeAndCheck$2(Analyzer.scala:598)\n\tat org.apache.spark.sql.catalyst.plans.logical.AnalysisHelper$.markInAnalyzer(AnalysisHelper.scala:425)\n\tat org.apache.spark.sql.catalyst.analysis.Analyzer.$anonfun$executeAndCheck$1(Analyzer.scala:598)\n\tat com.databricks.sql.unity.SAMSnapshotHelper$.visitPlansDuringAnalysis(SAMSnapshotHelper.scala:41)\n\tat org.apache.spark.sql.catalyst.analysis.Analyzer.executeAndCheck(Analyzer.scala:591)\n\tat org.apache.spark.sql.execution.QueryExecution.$anonfun$lazyAnalyzed$3(QueryExecution.scala:341)\n\tat com.databricks.spark.util.FrameProfiler$.$anonfun$record$1(FrameProfiler.scala:114)\n\tat com.databricks.spark.util.FrameProfilerExporter$.maybeExportFrameProfiler(FrameProfilerExporter.scala:200)\n\tat com.databricks.spark.util.FrameProfiler$.record(FrameProfiler.scala:105)\n\tat org.apache.spark.sql.catalyst.QueryPlanningTracker.measurePhase(QueryPlanningTracker.scala:675)\n\tat org.apache.spark.sql.execution.QueryExecution.$anonfun$executePhase$8(QueryExecution.scala:826)\n\tat org.apache.spark.sql.execution.SQLExecution$.$anonfun$withExecutionPhase$1(SQLExecution.scala:157)\n\tat com.databricks.logging.AttributionContext$.$anonfun$withValue$1(AttributionContext.scala:328)\n\tat scala.util.DynamicVariable.withValue(DynamicVariable.scala:59)\n\tat com.databricks.logging.AttributionContext$.withValue(AttributionContext.scala:324)\n\tat com.databricks.util.TracingSpanUtils$.$anonfun$withTracing$4(TracingSpanUtils.scala:235)\n\tat com.databricks.util.TracingSpanUtils$.withTracing(TracingSpanUtils.scala:129)\n\tat com.databricks.util.TracingSpanUtils$.withTracing(TracingSpanUtils.scala:233)\n\tat com.databricks.tracing.TracingUtils$.withTracing(TracingUtils.scala:296)\n\tat com.databricks.spark.util.DatabricksTracingHelper.withSpan(DatabricksSparkTracingHelper.scala:115)\n\tat com.databricks.spark.util.DBRTracing$.withSpan(DBRTracing.scala:47)\n\tat org.apache.spark.sql.execution.SQLExecution$.withExecutionPhase(SQLExecution.scala:138)\n\tat org.apache.spark.sql.execution.QueryExecution.$anonfun$executePhase$7(QueryExecution.scala:826)\n\tat org.apache.spark.sql.execution.QueryExecution$.withInternalError(QueryExecution.scala:1472)\n\tat org.apache.spark.sql.execution.QueryExecution.$anonfun$executePhase$5(QueryExecution.scala:819)\n\tat com.databricks.util.LexicalThreadLocal$Handle.runWith(LexicalThreadLocal.scala:63)\n\tat org.apache.spark.sql.execution.QueryExecution.$anonfun$executePhase$4(QueryExecution.scala:816)\n\tat com.databricks.util.LexicalThreadLocal$Handle.runWith(LexicalThreadLocal.scala:63)\n\tat org.apache.spark.sql.execution.QueryExecution.$anonfun$executePhase$3(QueryExecution.scala:816)\n\tat com.databricks.util.LexicalThreadLocal$Handle.runWith(LexicalThreadLocal.scala:63)\n\tat org.apache.spark.sql.execution.QueryExecution.$anonfun$executePhase$2(QueryExecution.scala:815)\n\tat com.databricks.util.LexicalThreadLocal$Handle.runWith(LexicalThreadLocal.scala:63)\n\tat org.apache.spark.sql.execution.QueryExecution.withQueryExecutionId(QueryExecution.scala:803)\n\tat org.apache.spark.sql.execution.QueryExecution.$anonfun$executePhase$1(QueryExecution.scala:814)\n\tat org.apache.spark.sql.SparkSession.withActive(SparkSession.scala:860)\n\tat org.apache.spark.sql.execution.QueryExecution.executePhase(QueryExecution.scala:813)\n\tat org.apache.spark.sql.execution.QueryExecution.$anonfun$lazyAnalyzed$2(QueryExecution.scala:323)\n\tat com.databricks.sql.util.MemoryTrackerHelper.withMemoryTracking(MemoryTrackerHelper.scala:111)\n\tat org.apache.spark.sql.execution.QueryExecution.$anonfun$lazyAnalyzed$1(QueryExecution.scala:322)\n\tat scala.util.Try$.apply(Try.scala:217)\n\tat org.apache.spark.util.Utils$.doTryWithCallerStacktrace(Utils.scala:1687)\n\tat org.apache.spark.util.Utils$.getTryWithCallerStacktrace(Utils.scala:1748)\n\tat org.apache.spark.util.LazyTry.get(LazyTry.scala:75)\n\tat org.apache.spark.sql.execution.QueryExecution.analyzed(QueryExecution.scala:383)\n\tat org.apache.spark.sql.execution.QueryExecution.assertAnalyzed(QueryExecution.scala:302)\n\tat org.apache.spark.sql.classic.Dataset$.$anonfun$ofRows$1(Dataset.scala:129)\n\tat org.apache.spark.sql.SparkSession.withActive(SparkSession.scala:860)\n\tat org.apache.spark.sql.classic.SparkSession.$anonfun$withActiveAndFrameProfiler$1(SparkSession.scala:1077)\n\tat com.databricks.spark.util.FrameProfiler$.$anonfun$record$1(FrameProfiler.scala:114)\n\tat com.databricks.spark.util.FrameProfilerExporter$.maybeExportFrameProfiler(FrameProfilerExporter.scala:200)\n\tat com.databricks.spark.util.FrameProfiler$.record(FrameProfiler.scala:105)\n\tat org.apache.spark.sql.classic.SparkSession.withActiveAndFrameProfiler(SparkSession.scala:1077)\n\tat org.apache.spark.sql.classic.Dataset$.ofRows(Dataset.scala:127)\n\tat org.apache.spark.sql.classic.DataFrameReader.load(DataFrameReader.scala:170)\n\tat org.apache.spark.sql.classic.DataFrameReader.load(DataFrameReader.scala:148)\n\tat org.apache.spark.sql.connect.planner.SparkConnectPlanner.transformReadRel(SparkConnectPlanner.scala:1997)\n\tat org.apache.spark.sql.connect.planner.SparkConnectPlanner.$anonfun$transformRelation$1(SparkConnectPlanner.scala:217)\n\tat org.apache.spark.sql.connect.service.SessionHolder.$anonfun$usePlanCache$8(SessionHolder.scala:629)\n\tat org.apache.spark.sql.connect.service.SessionHolder.measureSubtreeRelationNodes(SessionHolder.scala:645)\n\tat org.apache.spark.sql.connect.service.SessionHolder.$anonfun$usePlanCache$6(SessionHolder.scala:628)\n\tat scala.Option.getOrElse(Option.scala:201)\n\tat org.apache.spark.sql.connect.service.SessionHolder.usePlanCache(SessionHolder.scala:626)\n\tat org.apache.spark.sql.connect.planner.SparkConnectPlanner.transformRelation(SparkConnectPlanner.scala:212)\n\tat org.apache.spark.sql.connect.service.SparkConnectAnalyzeHandler.transformRelation$1(SparkConnectAnalyzeHandler.scala:93)\n\tat org.apache.spark.sql.connect.service.SparkConnectAnalyzeHandler.process(SparkConnectAnalyzeHandler.scala:189)\n\tat org.apache.spark.sql.connect.service.SparkConnectAnalyzeHandler.$anonfun$handle$3(SparkConnectAnalyzeHandler.scala:78)\n\tat org.apache.spark.sql.connect.service.SparkConnectAnalyzeHandler.$anonfun$handle$3$adapted(SparkConnectAnalyzeHandler.scala:70)\n\tat org.apache.spark.sql.connect.service.SessionHolder.$anonfun$withSession$2(SessionHolder.scala:474)\n\tat org.apache.spark.sql.SparkSession.withActive(SparkSession.scala:860)\n\tat org.apache.spark.sql.connect.service.SessionHolder.$anonfun$withSession$1(SessionHolder.scala:474)\n\tat org.apache.spark.JobArtifactSet$.withActiveJobArtifactState(JobArtifactSet.scala:97)\n\tat org.apache.spark.sql.artifact.ArtifactManager.$anonfun$withResources$1(ArtifactManager.scala:121)\n\tat org.apache.spark.sql.artifact.ArtifactManager.withClassLoaderIfNeeded(ArtifactManager.scala:115)\n\tat org.apache.spark.sql.artifact.ArtifactManager.withResources(ArtifactManager.scala:120)\n\tat org.apache.spark.sql.connect.service.SessionHolder.withSession(SessionHolder.scala:473)\n\tat org.apache.spark.sql.connect.service.SparkConnectAnalyzeHandler.$anonfun$handle$1(SparkConnectAnalyzeHandler.scala:70)\n\tat org.apache.spark.sql.connect.service.SparkConnectAnalyzeHandler.$anonfun$handle$1$adapted(SparkConnectAnalyzeHandler.scala:55)\n\tat com.databricks.spark.connect.logging.rpc.SparkConnectRpcMetricsCollectorUtils$.collectMetrics(SparkConnectRpcMetricsCollector.scala:263)\n\tat org.apache.spark.sql.connect.service.SparkConnectAnalyzeHandler.handle(SparkConnectAnalyzeHandler.scala:54)\n\tat org.apache.spark.sql.connect.service.SparkConnectService.analyzePlan(SparkConnectService.scala:113)\n\tat org.apache.spark.connect.proto.SparkConnectServiceGrpc$MethodHandlers.invoke(SparkConnectServiceGrpc.java:870)\n\tat org.sparkproject.connect.io.grpc.stub.ServerCalls$UnaryServerCallHandler$UnaryServerCallListener.onHalfClose(ServerCalls.java:182)\n\tat org.sparkproject.connect.io.grpc.PartialForwardingServerCallListener.onHalfClose(PartialForwardingServerCallListener.java:35)\n\tat org.sparkproject.connect.io.grpc.ForwardingServerCallListener.onHalfClose(ForwardingServerCallListener.java:23)\n\tat org.sparkproject.connect.io.grpc.ForwardingServerCallListener$SimpleForwardingServerCallListener.onHalfClose(ForwardingServerCallListener.java:40)\n\tat org.sparkproject.connect.io.grpc.PartialForwardingServerCallListener.onHalfClose(PartialForwardingServerCallListener.java:35)\n\tat org.sparkproject.connect.io.grpc.ForwardingServerCallListener.onHalfClose(ForwardingServerCallListener.java:23)\n\tat org.sparkproject.connect.io.grpc.ForwardingServerCallListener$SimpleForwardingServerCallListener.onHalfClose(ForwardingServerCallListener.java:40)\n\tat com.databricks.spark.connect.service.AuthenticationInterceptor$AuthenticatedServerCallListener.$anonfun$onHalfClose$1(AuthenticationInterceptor.scala:419)\n\tat scala.runtime.java8.JFunction0$mcV$sp.apply(JFunction0$mcV$sp.scala:18)\n\tat com.databricks.unity.UCSEphemeralState$Handle.runWith(UCSEphemeralState.scala:51)\n\tat com.databricks.unity.HandleImpl.runWith(UCSHandle.scala:104)\n\tat com.databricks.spark.connect.service.RequestContext.$anonfun$runWith$4(RequestContext.scala:366)\n\tat com.databricks.logging.AttributionContextTracing.$anonfun$withAttributionContext$1(AttributionContextTracing.scala:49)\n\tat com.databricks.logging.AttributionContext$.$anonfun$withValue$1(AttributionContext.scala:328)\n\tat scala.util.DynamicVariable.withValue(DynamicVariable.scala:59)\n\tat com.databricks.logging.AttributionContext$.withValue(AttributionContext.scala:324)\n\tat com.databricks.logging.AttributionContextTracing.withAttributionContext(AttributionContextTracing.scala:47)\n\tat com.databricks.logging.AttributionContextTracing.withAttributionContext$(AttributionContextTracing.scala:44)\n\tat com.databricks.spark.util.DatabricksTracingHelper.withAttributionContext(DatabricksSparkTracingHelper.scala:65)\n\tat com.databricks.spark.util.DatabricksTracingHelper.withSpanFromRequest(DatabricksSparkTracingHelper.scala:92)\n\tat com.databricks.spark.util.DBRTracing$.withSpanFromRequest(DBRTracing.scala:43)\n\tat com.databricks.spark.connect.service.RequestContext.runWithSpanFromTags(RequestContext.scala:388)\n\tat com.databricks.spark.connect.service.RequestContext.$anonfun$runWith$3(RequestContext.scala:366)\n\tat com.databricks.spark.connect.service.RequestContext$.com$databricks$spark$connect$service$RequestContext$$withLocalProperties(RequestContext.scala:584)\n\tat com.databricks.spark.connect.service.RequestContext.$anonfun$runWith$2(RequestContext.scala:365)\n\tat com.databricks.logging.AttributionContextTracing.$anonfun$withAttributionContext$1(AttributionContextTracing.scala:49)\n\tat com.databricks.logging.AttributionContext$.$anonfun$withValue$1(AttributionContext.scala:328)\n\tat scala.util.DynamicVariable.withValue(DynamicVariable.scala:59)\n\tat com.databricks.logging.AttributionContext$.withValue(AttributionContext.scala:324)\n\tat com.databricks.logging.AttributionContextTracing.withAttributionContext(AttributionContextTracing.scala:47)\n\tat com.databricks.logging.AttributionContextTracing.withAttributionContext$(AttributionContextTracing.scala:44)\n\tat com.databricks.spark.util.PublicDBLogging.withAttributionContext(DatabricksSparkUsageLogger.scala:30)\n\tat com.databricks.spark.util.UniverseAttributionContextWrapper.withValue(AttributionContextUtils.scala:242)\n\tat com.databricks.spark.connect.service.RequestContext.$anonfun$runWith$1(RequestContext.scala:364)\n\tat com.databricks.spark.connect.service.RequestContext.withContext(RequestContext.scala:396)\n\tat com.databricks.spark.connect.service.RequestContext.runWith(RequestContext.scala:357)\n\tat com.databricks.spark.connect.service.AuthenticationInterceptor$AuthenticatedServerCallListener.onHalfClose(AuthenticationInterceptor.scala:419)\n\tat org.sparkproject.connect.io.grpc.PartialForwardingServerCallListener.onHalfClose(PartialForwardingServerCallListener.java:35)\n\tat org.sparkproject.connect.io.grpc.ForwardingServerCallListener.onHalfClose(ForwardingServerCallListener.java:23)\n\tat org.sparkproject.connect.io.grpc.ForwardingServerCallListener$SimpleForwardingServerCallListener.onHalfClose(ForwardingServerCallListener.java:40)\n\tat org.sparkproject.connect.io.grpc.internal.ServerCallImpl$ServerStreamListenerImpl.halfClosed(ServerCallImpl.java:356)\n\tat org.sparkproject.connect.io.grpc.internal.ServerImpl$JumpToApplicationThreadServerStreamListener$1HalfClosed.runInContext(ServerImpl.java:861)\n\tat org.sparkproject.connect.io.grpc.internal.ContextRunnable.run(ContextRunnable.java:37)\n\tat org.sparkproject.connect.io.grpc.internal.SerializingExecutor.run(SerializingExecutor.java:133)\n\tat org.apache.spark.util.threads.SparkThreadLocalCapturingRunnable.$anonfun$run$1(SparkThreadLocalForwardingThreadPoolExecutor.scala:165)\n\tat scala.runtime.java8.JFunction0$mcV$sp.apply(JFunction0$mcV$sp.scala:18)\n\tat com.databricks.util.LexicalThreadLocal$Handle.runWith(LexicalThreadLocal.scala:63)\n\tat org.apache.spark.util.threads.SparkThreadLocalCapturingHelper.$anonfun$runWithCaptured$6(SparkThreadLocalForwardingThreadPoolExecutor.scala:119)\n\tat com.databricks.sql.transaction.tahoe.mst.MSTThreadHelper$.runWithMstTxnId(MSTThreadHelper.scala:57)\n\tat org.apache.spark.util.threads.SparkThreadLocalCapturingHelper.$anonfun$runWithCaptured$5(SparkThreadLocalForwardingThreadPoolExecutor.scala:118)\n\tat com.databricks.spark.util.IdentityClaim$.withClaim(IdentityClaim.scala:48)\n\tat org.apache.spark.util.threads.SparkThreadLocalCapturingHelper.$anonfun$runWithCaptured$4(SparkThreadLocalForwardingThreadPoolExecutor.scala:117)\n\tat com.databricks.unity.UCSEphemeralState$Handle.runWith(UCSEphemeralState.scala:51)\n\tat org.apache.spark.util.threads.SparkThreadLocalCapturingHelper.runWithCaptured(SparkThreadLocalForwardingThreadPoolExecutor.scala:116)\n\tat org.apache.spark.util.threads.SparkThreadLocalCapturingHelper.runWithCaptured$(SparkThreadLocalForwardingThreadPoolExecutor.scala:93)\n\tat org.apache.spark.util.threads.SparkThreadLocalCapturingRunnable.runWithCaptured(SparkThreadLocalForwardingThreadPoolExecutor.scala:162)\n\tat org.apache.spark.util.threads.SparkThreadLocalCapturingRunnable.run(SparkThreadLocalForwardingThreadPoolExecutor.scala:165)\n\tat java.util.concurrent.ThreadPoolExecutor.runWorker(ThreadPoolExecutor.java:1136)\n\tat java.util.concurrent.ThreadPoolExecutor$Worker.run(ThreadPoolExecutor.java:635)\n\tat java.lang.Thread.run(Thread.java:840)"
       },
       "removedWidgets": [],
       "sqlProps": {
        "breakingChangeInfo": null,
        "errorClass": "",
        "pysparkCallSite": "",
        "pysparkFragment": "",
        "pysparkSummary": "",
        "sqlState": "XXKCM",
        "stackTrace": "shaded.databricks.azurebfs.org.apache.hadoop.fs.azurebfs.contracts.exceptions.AbfsRestOperationException\n\tat shaded.databricks.azurebfs.org.apache.hadoop.fs.azurebfs.services.AbfsRestOperation.completeExecute(AbfsRestOperation.java:317)\n\tat shaded.databricks.azurebfs.org.apache.hadoop.fs.azurebfs.services.AbfsRestOperation.lambda$execute$0(AbfsRestOperation.java:242)\n\tat org.apache.hadoop.fs.statistics.impl.IOStatisticsBinding.measureDurationOfInvocation(IOStatisticsBinding.java:494)\n\tat org.apache.hadoop.fs.statistics.impl.IOStatisticsBinding.trackDurationOfInvocation(IOStatisticsBinding.java:465)\n\tat shaded.databricks.azurebfs.org.apache.hadoop.fs.azurebfs.services.AbfsRestOperation.execute(AbfsRestOperation.java:240)\n\tat shaded.databricks.azurebfs.org.apache.hadoop.fs.azurebfs.services.AbfsClient.getAclStatus(AbfsClient.java:1472)\n\tat shaded.databricks.azurebfs.org.apache.hadoop.fs.azurebfs.services.AbfsClient.getAclStatus(AbfsClient.java:1454)\n\tat shaded.databricks.azurebfs.org.apache.hadoop.fs.azurebfs.AzureBlobFileSystemStore.getIsNamespaceEnabled(AzureBlobFileSystemStore.java:521)\n\tat shaded.databricks.azurebfs.org.apache.hadoop.fs.azurebfs.AzureBlobFileSystemStore.getFileStatus(AzureBlobFileSystemStore.java:1380)\n\tat shaded.databricks.azurebfs.org.apache.hadoop.fs.azurebfs.AzureBlobFileSystem.getFileStatus(AzureBlobFileSystem.java:1029)\n\tat shaded.databricks.azurebfs.org.apache.hadoop.fs.azurebfs.AzureBlobFileSystem.getFileStatus(AzureBlobFileSystem.java:1019)\n\tat com.databricks.common.filesystem.LokiABFS.getFileStatusNoCache(LokiABFS.scala:54)\n\tat com.databricks.common.filesystem.LokiABFS.getFileStatus(LokiABFS.scala:44)\n\tat com.databricks.sql.io.LokiFileSystem.$anonfun$getFileStatusNoCache$3(LokiFileSystem.scala:268)\n\tat com.databricks.sql.io.LokiFileSystem.tryWithNativeIO(LokiFileSystem.scala:251)\n\tat com.databricks.sql.io.LokiFileSystem.getFileStatusNoCache(LokiFileSystem.scala:268)\n\tat com.databricks.sql.io.LokiFileSystem.getFileStatus(LokiFileSystem.scala:273)\n\tat com.databricks.sql.acl.fs.CredentialScopeFileSystem.getFileStatus(CredentialScopeFileSystem.scala:332)\n\tat org.apache.spark.deploy.SparkHadoopUtil$.isDirectory(SparkHadoopUtil.scala:769)\n\tat org.apache.spark.sql.execution.streaming.FileStreamSink$.hasMetadata(FileStreamSink.scala:63)\n\tat org.apache.spark.sql.execution.datasources.DataSource.resolveRelation(DataSource.scala:432)\n\tat org.apache.spark.sql.catalyst.analysis.ResolveDataSource.org$apache$spark$sql$catalyst$analysis$ResolveDataSource$$loadV1BatchSource(ResolveDataSource.scala:248)\n\tat org.apache.spark.sql.catalyst.analysis.ResolveDataSource$$anonfun$apply$1.$anonfun$applyOrElse$2(ResolveDataSource.scala:97)\n\tat scala.Option.getOrElse(Option.scala:201)\n\tat org.apache.spark.sql.catalyst.analysis.ResolveDataSource$$anonfun$apply$1.applyOrElse(ResolveDataSource.scala:97)\n\tat org.apache.spark.sql.catalyst.analysis.ResolveDataSource$$anonfun$apply$1.applyOrElse(ResolveDataSource.scala:58)\n\tat org.apache.spark.sql.catalyst.plans.logical.AnalysisHelper.$anonfun$resolveOperatorsUpWithPruning$3(AnalysisHelper.scala:141)\n\tat org.apache.spark.sql.catalyst.trees.CurrentOrigin$.withOrigin(origin.scala:121)\n\tat org.apache.spark.sql.catalyst.plans.logical.AnalysisHelper.$anonfun$resolveOperatorsUpWithPruning$1(AnalysisHelper.scala:141)\n\tat org.apache.spark.sql.catalyst.plans.logical.AnalysisHelper$.allowInvokingTransformsInAnalyzer(AnalysisHelper.scala:418)\n\tat org.apache.spark.sql.catalyst.plans.logical.AnalysisHelper.resolveOperatorsUpWithPruning(AnalysisHelper.scala:137)\n\tat org.apache.spark.sql.catalyst.plans.logical.AnalysisHelper.resolveOperatorsUpWithPruning$(AnalysisHelper.scala:133)\n\tat org.apache.spark.sql.catalyst.plans.logical.LogicalPlan.resolveOperatorsUpWithPruning(LogicalPlan.scala:45)\n\tat org.apache.spark.sql.catalyst.plans.logical.AnalysisHelper.resolveOperatorsUp(AnalysisHelper.scala:114)\n\tat org.apache.spark.sql.catalyst.plans.logical.AnalysisHelper.resolveOperatorsUp$(AnalysisHelper.scala:113)\n\tat org.apache.spark.sql.catalyst.plans.logical.LogicalPlan.resolveOperatorsUp(LogicalPlan.scala:45)\n\tat org.apache.spark.sql.catalyst.analysis.ResolveDataSource.apply(ResolveDataSource.scala:58)\n\tat org.apache.spark.sql.catalyst.analysis.ResolveDataSource.apply(ResolveDataSource.scala:56)\n\tat org.apache.spark.sql.catalyst.rules.RuleExecutor.$anonfun$execute$17(RuleExecutor.scala:503)\n\tat org.apache.spark.sql.catalyst.rules.RecoverableRuleExecutionHelper.processRule(RuleExecutor.scala:657)\n\tat org.apache.spark.sql.catalyst.rules.RecoverableRuleExecutionHelper.processRule$(RuleExecutor.scala:641)\n\tat org.apache.spark.sql.catalyst.rules.RuleExecutor.processRule(RuleExecutor.scala:137)\n\tat org.apache.spark.sql.catalyst.rules.RuleExecutor.$anonfun$execute$16(RuleExecutor.scala:503)\n\tat com.databricks.spark.util.MemoryTracker$.withThreadAllocatedBytes(MemoryTracker.scala:51)\n\tat org.apache.spark.sql.catalyst.QueryPlanningTracker$.measureRule(QueryPlanningTracker.scala:352)\n\tat org.apache.spark.sql.catalyst.rules.RuleExecutor.$anonfun$execute$15(RuleExecutor.scala:501)\n\tat com.databricks.spark.util.FrameProfiler$.$anonfun$record$1(FrameProfiler.scala:114)\n\tat com.databricks.spark.util.FrameProfilerExporter$.maybeExportFrameProfiler(FrameProfilerExporter.scala:200)\n\tat com.databricks.spark.util.FrameProfiler$.record(FrameProfiler.scala:105)\n\tat org.apache.spark.sql.catalyst.rules.RuleExecutor.$anonfun$execute$14(RuleExecutor.scala:500)\n\tat scala.collection.LinearSeqOps.foldLeft(LinearSeq.scala:183)\n\tat scala.collection.LinearSeqOps.foldLeft$(LinearSeq.scala:179)\n\tat scala.collection.immutable.List.foldLeft(List.scala:79)\n\tat org.apache.spark.sql.catalyst.rules.RuleExecutor.$anonfun$execute$13(RuleExecutor.scala:492)\n\tat scala.runtime.java8.JFunction0$mcV$sp.apply(JFunction0$mcV$sp.scala:18)\n\tat com.databricks.spark.util.FrameProfiler$.$anonfun$record$1(FrameProfiler.scala:114)\n\tat com.databricks.spark.util.FrameProfilerExporter$.maybeExportFrameProfiler(FrameProfilerExporter.scala:200)\n\tat com.databricks.spark.util.FrameProfiler$.record(FrameProfiler.scala:105)\n\tat org.apache.spark.sql.catalyst.rules.RuleExecutor.executeBatch$1(RuleExecutor.scala:466)\n\tat org.apache.spark.sql.catalyst.rules.RuleExecutor.$anonfun$execute$23(RuleExecutor.scala:613)\n\tat org.apache.spark.sql.catalyst.rules.RuleExecutor.$anonfun$execute$23$adapted(RuleExecutor.scala:613)\n\tat scala.collection.immutable.List.foreach(List.scala:334)\n\tat org.apache.spark.sql.catalyst.rules.RuleExecutor.$anonfun$execute$1(RuleExecutor.scala:613)\n\tat com.databricks.spark.util.FrameProfiler$.$anonfun$record$1(FrameProfiler.scala:114)\n\tat com.databricks.spark.util.FrameProfilerExporter$.maybeExportFrameProfiler(FrameProfilerExporter.scala:200)\n\tat com.databricks.spark.util.FrameProfiler$.record(FrameProfiler.scala:105)\n\tat org.apache.spark.sql.catalyst.rules.RuleExecutor.execute(RuleExecutor.scala:359)\n\tat org.apache.spark.sql.catalyst.analysis.Analyzer.super$execute(Analyzer.scala:620)\n\tat org.apache.spark.sql.catalyst.analysis.Analyzer.$anonfun$executeSameContext$1(Analyzer.scala:620)\n\tat com.databricks.sql.unity.SAMSnapshotHelper$.visitPlansDuringAnalysis(SAMSnapshotHelper.scala:41)\n\tat org.apache.spark.sql.catalyst.analysis.Analyzer.executeSameContext(Analyzer.scala:619)\n\tat org.apache.spark.sql.catalyst.analysis.Analyzer.$anonfun$execute$1(Analyzer.scala:611)\n\tat org.apache.spark.sql.catalyst.analysis.AnalysisContext$.withNewAnalysisContext(Analyzer.scala:420)\n\tat org.apache.spark.sql.catalyst.analysis.Analyzer.execute(Analyzer.scala:611)\n\tat org.apache.spark.sql.catalyst.analysis.Analyzer.execute(Analyzer.scala:542)\n\tat org.apache.spark.sql.catalyst.rules.RuleExecutor.$anonfun$executeAndTrack$1(RuleExecutor.scala:347)\n\tat org.apache.spark.sql.catalyst.QueryPlanningTracker$.withTracker(QueryPlanningTracker.scala:267)\n\tat org.apache.spark.sql.catalyst.rules.RuleExecutor.executeAndTrack(RuleExecutor.scala:347)\n\tat org.apache.spark.sql.catalyst.analysis.resolver.HybridAnalyzer.resolveInFixedPoint(HybridAnalyzer.scala:411)\n\tat org.apache.spark.sql.catalyst.analysis.resolver.HybridAnalyzer.$anonfun$apply$1(HybridAnalyzer.scala:99)\n\tat org.apache.spark.sql.catalyst.analysis.resolver.HybridAnalyzer.withTrackedAnalyzerBridgeState(HybridAnalyzer.scala:136)\n\tat org.apache.spark.sql.catalyst.analysis.resolver.HybridAnalyzer.apply(HybridAnalyzer.scala:92)\n\tat org.apache.spark.sql.catalyst.analysis.Analyzer.$anonfun$executeAndCheck$2(Analyzer.scala:598)\n\tat org.apache.spark.sql.catalyst.plans.logical.AnalysisHelper$.markInAnalyzer(AnalysisHelper.scala:425)\n\tat org.apache.spark.sql.catalyst.analysis.Analyzer.$anonfun$executeAndCheck$1(Analyzer.scala:598)\n\tat com.databricks.sql.unity.SAMSnapshotHelper$.visitPlansDuringAnalysis(SAMSnapshotHelper.scala:41)\n\tat org.apache.spark.sql.catalyst.analysis.Analyzer.executeAndCheck(Analyzer.scala:591)\n\tat org.apache.spark.sql.execution.QueryExecution.$anonfun$lazyAnalyzed$3(QueryExecution.scala:341)\n\tat com.databricks.spark.util.FrameProfiler$.$anonfun$record$1(FrameProfiler.scala:114)\n\tat com.databricks.spark.util.FrameProfilerExporter$.maybeExportFrameProfiler(FrameProfilerExporter.scala:200)\n\tat com.databricks.spark.util.FrameProfiler$.record(FrameProfiler.scala:105)\n\tat org.apache.spark.sql.catalyst.QueryPlanningTracker.measurePhase(QueryPlanningTracker.scala:675)\n\tat org.apache.spark.sql.execution.QueryExecution.$anonfun$executePhase$8(QueryExecution.scala:826)\n\tat org.apache.spark.sql.execution.SQLExecution$.$anonfun$withExecutionPhase$1(SQLExecution.scala:157)\n\tat com.databricks.logging.AttributionContext$.$anonfun$withValue$1(AttributionContext.scala:328)\n\tat scala.util.DynamicVariable.withValue(DynamicVariable.scala:59)\n\tat com.databricks.logging.AttributionContext$.withValue(AttributionContext.scala:324)\n\tat com.databricks.util.TracingSpanUtils$.$anonfun$withTracing$4(TracingSpanUtils.scala:235)\n\tat com.databricks.util.TracingSpanUtils$.withTracing(TracingSpanUtils.scala:129)\n\tat com.databricks.util.TracingSpanUtils$.withTracing(TracingSpanUtils.scala:233)\n\tat com.databricks.tracing.TracingUtils$.withTracing(TracingUtils.scala:296)\n\tat com.databricks.spark.util.DatabricksTracingHelper.withSpan(DatabricksSparkTracingHelper.scala:115)\n\tat com.databricks.spark.util.DBRTracing$.withSpan(DBRTracing.scala:47)\n\tat org.apache.spark.sql.execution.SQLExecution$.withExecutionPhase(SQLExecution.scala:138)\n\tat org.apache.spark.sql.execution.QueryExecution.$anonfun$executePhase$7(QueryExecution.scala:826)\n\tat org.apache.spark.sql.execution.QueryExecution$.withInternalError(QueryExecution.scala:1472)\n\tat org.apache.spark.sql.execution.QueryExecution.$anonfun$executePhase$5(QueryExecution.scala:819)\n\tat com.databricks.util.LexicalThreadLocal$Handle.runWith(LexicalThreadLocal.scala:63)\n\tat org.apache.spark.sql.execution.QueryExecution.$anonfun$executePhase$4(QueryExecution.scala:816)\n\tat com.databricks.util.LexicalThreadLocal$Handle.runWith(LexicalThreadLocal.scala:63)\n\tat org.apache.spark.sql.execution.QueryExecution.$anonfun$executePhase$3(QueryExecution.scala:816)\n\tat com.databricks.util.LexicalThreadLocal$Handle.runWith(LexicalThreadLocal.scala:63)\n\tat org.apache.spark.sql.execution.QueryExecution.$anonfun$executePhase$2(QueryExecution.scala:815)\n\tat com.databricks.util.LexicalThreadLocal$Handle.runWith(LexicalThreadLocal.scala:63)\n\tat org.apache.spark.sql.execution.QueryExecution.withQueryExecutionId(QueryExecution.scala:803)\n\tat org.apache.spark.sql.execution.QueryExecution.$anonfun$executePhase$1(QueryExecution.scala:814)\n\tat org.apache.spark.sql.SparkSession.withActive(SparkSession.scala:860)\n\tat org.apache.spark.sql.execution.QueryExecution.executePhase(QueryExecution.scala:813)\n\tat org.apache.spark.sql.execution.QueryExecution.$anonfun$lazyAnalyzed$2(QueryExecution.scala:323)\n\tat com.databricks.sql.util.MemoryTrackerHelper.withMemoryTracking(MemoryTrackerHelper.scala:111)\n\tat org.apache.spark.sql.execution.QueryExecution.$anonfun$lazyAnalyzed$1(QueryExecution.scala:322)\n\tat scala.util.Try$.apply(Try.scala:217)\n\tat org.apache.spark.util.Utils$.doTryWithCallerStacktrace(Utils.scala:1687)\n\tat org.apache.spark.util.Utils$.getTryWithCallerStacktrace(Utils.scala:1748)\n\tat org.apache.spark.util.LazyTry.get(LazyTry.scala:75)\n\tat org.apache.spark.sql.execution.QueryExecution.analyzed(QueryExecution.scala:383)\n\tat org.apache.spark.sql.execution.QueryExecution.assertAnalyzed(QueryExecution.scala:302)\n\tat org.apache.spark.sql.classic.Dataset$.$anonfun$ofRows$1(Dataset.scala:129)\n\tat org.apache.spark.sql.SparkSession.withActive(SparkSession.scala:860)\n\tat org.apache.spark.sql.classic.SparkSession.$anonfun$withActiveAndFrameProfiler$1(SparkSession.scala:1077)\n\tat com.databricks.spark.util.FrameProfiler$.$anonfun$record$1(FrameProfiler.scala:114)\n\tat com.databricks.spark.util.FrameProfilerExporter$.maybeExportFrameProfiler(FrameProfilerExporter.scala:200)\n\tat com.databricks.spark.util.FrameProfiler$.record(FrameProfiler.scala:105)\n\tat org.apache.spark.sql.classic.SparkSession.withActiveAndFrameProfiler(SparkSession.scala:1077)\n\tat org.apache.spark.sql.classic.Dataset$.ofRows(Dataset.scala:127)\n\tat org.apache.spark.sql.classic.DataFrameReader.load(DataFrameReader.scala:170)\n\tat org.apache.spark.sql.classic.DataFrameReader.load(DataFrameReader.scala:148)\n\tat org.apache.spark.sql.connect.planner.SparkConnectPlanner.transformReadRel(SparkConnectPlanner.scala:1997)\n\tat org.apache.spark.sql.connect.planner.SparkConnectPlanner.$anonfun$transformRelation$1(SparkConnectPlanner.scala:217)\n\tat org.apache.spark.sql.connect.service.SessionHolder.$anonfun$usePlanCache$8(SessionHolder.scala:629)\n\tat org.apache.spark.sql.connect.service.SessionHolder.measureSubtreeRelationNodes(SessionHolder.scala:645)\n\tat org.apache.spark.sql.connect.service.SessionHolder.$anonfun$usePlanCache$6(SessionHolder.scala:628)\n\tat scala.Option.getOrElse(Option.scala:201)\n\tat org.apache.spark.sql.connect.service.SessionHolder.usePlanCache(SessionHolder.scala:626)\n\tat org.apache.spark.sql.connect.planner.SparkConnectPlanner.transformRelation(SparkConnectPlanner.scala:212)\n\tat org.apache.spark.sql.connect.service.SparkConnectAnalyzeHandler.transformRelation$1(SparkConnectAnalyzeHandler.scala:93)\n\tat org.apache.spark.sql.connect.service.SparkConnectAnalyzeHandler.process(SparkConnectAnalyzeHandler.scala:189)\n\tat org.apache.spark.sql.connect.service.SparkConnectAnalyzeHandler.$anonfun$handle$3(SparkConnectAnalyzeHandler.scala:78)\n\tat org.apache.spark.sql.connect.service.SparkConnectAnalyzeHandler.$anonfun$handle$3$adapted(SparkConnectAnalyzeHandler.scala:70)\n\tat org.apache.spark.sql.connect.service.SessionHolder.$anonfun$withSession$2(SessionHolder.scala:474)\n\tat org.apache.spark.sql.SparkSession.withActive(SparkSession.scala:860)\n\tat org.apache.spark.sql.connect.service.SessionHolder.$anonfun$withSession$1(SessionHolder.scala:474)\n\tat org.apache.spark.JobArtifactSet$.withActiveJobArtifactState(JobArtifactSet.scala:97)\n\tat org.apache.spark.sql.artifact.ArtifactManager.$anonfun$withResources$1(ArtifactManager.scala:121)\n\tat org.apache.spark.sql.artifact.ArtifactManager.withClassLoaderIfNeeded(ArtifactManager.scala:115)\n\tat org.apache.spark.sql.artifact.ArtifactManager.withResources(ArtifactManager.scala:120)\n\tat org.apache.spark.sql.connect.service.SessionHolder.withSession(SessionHolder.scala:473)\n\tat org.apache.spark.sql.connect.service.SparkConnectAnalyzeHandler.$anonfun$handle$1(SparkConnectAnalyzeHandler.scala:70)\n\tat org.apache.spark.sql.connect.service.SparkConnectAnalyzeHandler.$anonfun$handle$1$adapted(SparkConnectAnalyzeHandler.scala:55)\n\tat com.databricks.spark.connect.logging.rpc.SparkConnectRpcMetricsCollectorUtils$.collectMetrics(SparkConnectRpcMetricsCollector.scala:263)\n\tat org.apache.spark.sql.connect.service.SparkConnectAnalyzeHandler.handle(SparkConnectAnalyzeHandler.scala:54)\n\tat org.apache.spark.sql.connect.service.SparkConnectService.analyzePlan(SparkConnectService.scala:113)\n\tat org.apache.spark.connect.proto.SparkConnectServiceGrpc$MethodHandlers.invoke(SparkConnectServiceGrpc.java:870)\n\tat org.sparkproject.connect.io.grpc.stub.ServerCalls$UnaryServerCallHandler$UnaryServerCallListener.onHalfClose(ServerCalls.java:182)\n\tat org.sparkproject.connect.io.grpc.PartialForwardingServerCallListener.onHalfClose(PartialForwardingServerCallListener.java:35)\n\tat org.sparkproject.connect.io.grpc.ForwardingServerCallListener.onHalfClose(ForwardingServerCallListener.java:23)\n\tat org.sparkproject.connect.io.grpc.ForwardingServerCallListener$SimpleForwardingServerCallListener.onHalfClose(ForwardingServerCallListener.java:40)\n\tat org.sparkproject.connect.io.grpc.PartialForwardingServerCallListener.onHalfClose(PartialForwardingServerCallListener.java:35)\n\tat org.sparkproject.connect.io.grpc.ForwardingServerCallListener.onHalfClose(ForwardingServerCallListener.java:23)\n\tat org.sparkproject.connect.io.grpc.ForwardingServerCallListener$SimpleForwardingServerCallListener.onHalfClose(ForwardingServerCallListener.java:40)\n\tat com.databricks.spark.connect.service.AuthenticationInterceptor$AuthenticatedServerCallListener.$anonfun$onHalfClose$1(AuthenticationInterceptor.scala:419)\n\tat scala.runtime.java8.JFunction0$mcV$sp.apply(JFunction0$mcV$sp.scala:18)\n\tat com.databricks.unity.UCSEphemeralState$Handle.runWith(UCSEphemeralState.scala:51)\n\tat com.databricks.unity.HandleImpl.runWith(UCSHandle.scala:104)\n\tat com.databricks.spark.connect.service.RequestContext.$anonfun$runWith$4(RequestContext.scala:366)\n\tat com.databricks.logging.AttributionContextTracing.$anonfun$withAttributionContext$1(AttributionContextTracing.scala:49)\n\tat com.databricks.logging.AttributionContext$.$anonfun$withValue$1(AttributionContext.scala:328)\n\tat scala.util.DynamicVariable.withValue(DynamicVariable.scala:59)\n\tat com.databricks.logging.AttributionContext$.withValue(AttributionContext.scala:324)\n\tat com.databricks.logging.AttributionContextTracing.withAttributionContext(AttributionContextTracing.scala:47)\n\tat com.databricks.logging.AttributionContextTracing.withAttributionContext$(AttributionContextTracing.scala:44)\n\tat com.databricks.spark.util.DatabricksTracingHelper.withAttributionContext(DatabricksSparkTracingHelper.scala:65)\n\tat com.databricks.spark.util.DatabricksTracingHelper.withSpanFromRequest(DatabricksSparkTracingHelper.scala:92)\n\tat com.databricks.spark.util.DBRTracing$.withSpanFromRequest(DBRTracing.scala:43)\n\tat com.databricks.spark.connect.service.RequestContext.runWithSpanFromTags(RequestContext.scala:388)\n\tat com.databricks.spark.connect.service.RequestContext.$anonfun$runWith$3(RequestContext.scala:366)\n\tat com.databricks.spark.connect.service.RequestContext$.com$databricks$spark$connect$service$RequestContext$$withLocalProperties(RequestContext.scala:584)\n\tat com.databricks.spark.connect.service.RequestContext.$anonfun$runWith$2(RequestContext.scala:365)\n\tat com.databricks.logging.AttributionContextTracing.$anonfun$withAttributionContext$1(AttributionContextTracing.scala:49)\n\tat com.databricks.logging.AttributionContext$.$anonfun$withValue$1(AttributionContext.scala:328)\n\tat scala.util.DynamicVariable.withValue(DynamicVariable.scala:59)\n\tat com.databricks.logging.AttributionContext$.withValue(AttributionContext.scala:324)\n\tat com.databricks.logging.AttributionContextTracing.withAttributionContext(AttributionContextTracing.scala:47)\n\tat com.databricks.logging.AttributionContextTracing.withAttributionContext$(AttributionContextTracing.scala:44)\n\tat com.databricks.spark.util.PublicDBLogging.withAttributionContext(DatabricksSparkUsageLogger.scala:30)\n\tat com.databricks.spark.util.UniverseAttributionContextWrapper.withValue(AttributionContextUtils.scala:242)\n\tat com.databricks.spark.connect.service.RequestContext.$anonfun$runWith$1(RequestContext.scala:364)\n\tat com.databricks.spark.connect.service.RequestContext.withContext(RequestContext.scala:396)\n\tat com.databricks.spark.connect.service.RequestContext.runWith(RequestContext.scala:357)\n\tat com.databricks.spark.connect.service.AuthenticationInterceptor$AuthenticatedServerCallListener.onHalfClose(AuthenticationInterceptor.scala:419)\n\tat org.sparkproject.connect.io.grpc.PartialForwardingServerCallListener.onHalfClose(PartialForwardingServerCallListener.java:35)\n\tat org.sparkproject.connect.io.grpc.ForwardingServerCallListener.onHalfClose(ForwardingServerCallListener.java:23)\n\tat org.sparkproject.connect.io.grpc.ForwardingServerCallListener$SimpleForwardingServerCallListener.onHalfClose(ForwardingServerCallListener.java:40)\n\tat org.sparkproject.connect.io.grpc.internal.ServerCallImpl$ServerStreamListenerImpl.halfClosed(ServerCallImpl.java:356)\n\tat org.sparkproject.connect.io.grpc.internal.ServerImpl$JumpToApplicationThreadServerStreamListener$1HalfClosed.runInContext(ServerImpl.java:861)\n\tat org.sparkproject.connect.io.grpc.internal.ContextRunnable.run(ContextRunnable.java:37)\n\tat org.sparkproject.connect.io.grpc.internal.SerializingExecutor.run(SerializingExecutor.java:133)\n\tat org.apache.spark.util.threads.SparkThreadLocalCapturingRunnable.$anonfun$run$1(SparkThreadLocalForwardingThreadPoolExecutor.scala:165)\n\tat scala.runtime.java8.JFunction0$mcV$sp.apply(JFunction0$mcV$sp.scala:18)\n\tat com.databricks.util.LexicalThreadLocal$Handle.runWith(LexicalThreadLocal.scala:63)\n\tat org.apache.spark.util.threads.SparkThreadLocalCapturingHelper.$anonfun$runWithCaptured$6(SparkThreadLocalForwardingThreadPoolExecutor.scala:119)\n\tat com.databricks.sql.transaction.tahoe.mst.MSTThreadHelper$.runWithMstTxnId(MSTThreadHelper.scala:57)\n\tat org.apache.spark.util.threads.SparkThreadLocalCapturingHelper.$anonfun$runWithCaptured$5(SparkThreadLocalForwardingThreadPoolExecutor.scala:118)\n\tat com.databricks.spark.util.IdentityClaim$.withClaim(IdentityClaim.scala:48)\n\tat org.apache.spark.util.threads.SparkThreadLocalCapturingHelper.$anonfun$runWithCaptured$4(SparkThreadLocalForwardingThreadPoolExecutor.scala:117)\n\tat com.databricks.unity.UCSEphemeralState$Handle.runWith(UCSEphemeralState.scala:51)\n\tat org.apache.spark.util.threads.SparkThreadLocalCapturingHelper.runWithCaptured(SparkThreadLocalForwardingThreadPoolExecutor.scala:116)\n\tat org.apache.spark.util.threads.SparkThreadLocalCapturingHelper.runWithCaptured$(SparkThreadLocalForwardingThreadPoolExecutor.scala:93)\n\tat org.apache.spark.util.threads.SparkThreadLocalCapturingRunnable.runWithCaptured(SparkThreadLocalForwardingThreadPoolExecutor.scala:162)\n\tat org.apache.spark.util.threads.SparkThreadLocalCapturingRunnable.run(SparkThreadLocalForwardingThreadPoolExecutor.scala:165)\n\tat java.util.concurrent.ThreadPoolExecutor.runWorker(ThreadPoolExecutor.java:1136)\n\tat java.util.concurrent.ThreadPoolExecutor$Worker.run(ThreadPoolExecutor.java:635)\n\tat java.lang.Thread.run(Thread.java:840)",
        "startIndex": null,
        "stopIndex": null
       },
       "stackFrames": [
        "\u001B[0;31m---------------------------------------------------------------------------\u001B[0m",
        "\u001B[0;31mSparkConnectGrpcException\u001B[0m                 Traceback (most recent call last)",
        "File \u001B[0;32m<command-5729732916150092>, line 12\u001B[0m\n\u001B[1;32m      5\u001B[0m file_path \u001B[38;5;241m=\u001B[39m \u001B[38;5;124mf\u001B[39m\u001B[38;5;124m\"\u001B[39m\u001B[38;5;124mabfss://\u001B[39m\u001B[38;5;132;01m{\u001B[39;00mcontainer_name\u001B[38;5;132;01m}\u001B[39;00m\u001B[38;5;124m@\u001B[39m\u001B[38;5;132;01m{\u001B[39;00mstorage_account_name\u001B[38;5;132;01m}\u001B[39;00m\u001B[38;5;124m.dfs.core.windows.net/users_001.csv\u001B[39m\u001B[38;5;124m\"\u001B[39m\n\u001B[1;32m      7\u001B[0m spark_conf_key_for_access \u001B[38;5;241m=\u001B[39m (\n\u001B[1;32m      8\u001B[0m     \u001B[38;5;124mf\u001B[39m\u001B[38;5;124m\"\u001B[39m\u001B[38;5;124mfs.azure.account.key.\u001B[39m\u001B[38;5;132;01m{\u001B[39;00mstorage_account_name\u001B[38;5;132;01m}\u001B[39;00m\u001B[38;5;124m.dfs.core.windows.net\u001B[39m\u001B[38;5;124m\"\u001B[39m\n\u001B[1;32m      9\u001B[0m )\n\u001B[1;32m     10\u001B[0m spark\u001B[38;5;241m.\u001B[39mread\u001B[38;5;241m.\u001B[39moption(spark_conf_key_for_access, azure_access_keys)\u001B[38;5;241m.\u001B[39mcsv(\n\u001B[1;32m     11\u001B[0m     path\u001B[38;5;241m=\u001B[39mfile_path, header\u001B[38;5;241m=\u001B[39m\u001B[38;5;28;01mTrue\u001B[39;00m, inferSchema\u001B[38;5;241m=\u001B[39m\u001B[38;5;28;01mTrue\u001B[39;00m\n\u001B[0;32m---> 12\u001B[0m )\u001B[38;5;241m.\u001B[39mdisplay()\n",
        "File \u001B[0;32m/databricks/python_shell/lib/dbruntime/monkey_patches.py:72\u001B[0m, in \u001B[0;36mapply_dataframe_display_patch.<locals>.df_display\u001B[0;34m(df, *args, **kwargs)\u001B[0m\n\u001B[1;32m     68\u001B[0m \u001B[38;5;28;01mdef\u001B[39;00m \u001B[38;5;21mdf_display\u001B[39m(df, \u001B[38;5;241m*\u001B[39margs, \u001B[38;5;241m*\u001B[39m\u001B[38;5;241m*\u001B[39mkwargs):\n\u001B[1;32m     69\u001B[0m \u001B[38;5;250m    \u001B[39m\u001B[38;5;124;03m\"\"\"\u001B[39;00m\n\u001B[1;32m     70\u001B[0m \u001B[38;5;124;03m    df.display() is an alias for display(df). Run help(display) for more information.\u001B[39;00m\n\u001B[1;32m     71\u001B[0m \u001B[38;5;124;03m    \"\"\"\u001B[39;00m\n\u001B[0;32m---> 72\u001B[0m     display(df, \u001B[38;5;241m*\u001B[39margs, \u001B[38;5;241m*\u001B[39m\u001B[38;5;241m*\u001B[39mkwargs)\n",
        "File \u001B[0;32m/databricks/python_shell/lib/dbruntime/display.py:133\u001B[0m, in \u001B[0;36mDisplay.display\u001B[0;34m(self, input, *args, **kwargs)\u001B[0m\n\u001B[1;32m    131\u001B[0m     \u001B[38;5;28;01mpass\u001B[39;00m\n\u001B[1;32m    132\u001B[0m \u001B[38;5;28;01melif\u001B[39;00m \u001B[38;5;28mself\u001B[39m\u001B[38;5;241m.\u001B[39m_cf_helper \u001B[38;5;129;01mis\u001B[39;00m \u001B[38;5;129;01mnot\u001B[39;00m \u001B[38;5;28;01mNone\u001B[39;00m \u001B[38;5;129;01mand\u001B[39;00m \u001B[38;5;28misinstance\u001B[39m(\u001B[38;5;28minput\u001B[39m, ConnectDataFrame):\n\u001B[0;32m--> 133\u001B[0m     \u001B[38;5;28mself\u001B[39m\u001B[38;5;241m.\u001B[39mdisplay_connect_table(\u001B[38;5;28minput\u001B[39m, \u001B[38;5;241m*\u001B[39m\u001B[38;5;241m*\u001B[39mkwargs)\n\u001B[1;32m    134\u001B[0m \u001B[38;5;28;01melif\u001B[39;00m \u001B[38;5;28misinstance\u001B[39m(\u001B[38;5;28minput\u001B[39m, ConnectDataFrame):\n\u001B[1;32m    135\u001B[0m     \u001B[38;5;28;01mif\u001B[39;00m \u001B[38;5;28minput\u001B[39m\u001B[38;5;241m.\u001B[39misStreaming:\n",
        "File \u001B[0;32m/databricks/python_shell/lib/dbruntime/display.py:93\u001B[0m, in \u001B[0;36mDisplay.display_connect_table\u001B[0;34m(self, df, **kwargs)\u001B[0m\n\u001B[1;32m     88\u001B[0m \u001B[38;5;28;01mexcept\u001B[39;00m \u001B[38;5;167;01mException\u001B[39;00m \u001B[38;5;28;01mas\u001B[39;00m e:\n\u001B[1;32m     89\u001B[0m     \u001B[38;5;28;01mraise\u001B[39;00m \u001B[38;5;28mtype\u001B[39m(\n\u001B[1;32m     90\u001B[0m         e\n\u001B[1;32m     91\u001B[0m     )(\u001B[38;5;124m\"\u001B[39m\u001B[38;5;124mIPython shell encountered an error or was missing data, please restart the notebook or contact Databricks support\u001B[39m\u001B[38;5;124m\"\u001B[39m\n\u001B[1;32m     92\u001B[0m       ) \u001B[38;5;28;01mfrom\u001B[39;00m \u001B[38;5;21;01me\u001B[39;00m\n\u001B[0;32m---> 93\u001B[0m \u001B[38;5;28;01mif\u001B[39;00m df\u001B[38;5;241m.\u001B[39misStreaming:\n\u001B[1;32m     94\u001B[0m     \u001B[38;5;28mself\u001B[39m\u001B[38;5;241m.\u001B[39mcf_helper\u001B[38;5;241m.\u001B[39mdisplay_streaming_dataframe(df, config, \u001B[38;5;28mself\u001B[39m\u001B[38;5;241m.\u001B[39mstreaming_listener,\n\u001B[1;32m     95\u001B[0m                                                \u001B[38;5;241m*\u001B[39m\u001B[38;5;241m*\u001B[39mkwargs)\n\u001B[1;32m     96\u001B[0m \u001B[38;5;28;01melse\u001B[39;00m:\n",
        "File \u001B[0;32m/usr/lib/python3.12/functools.py:995\u001B[0m, in \u001B[0;36mcached_property.__get__\u001B[0;34m(self, instance, owner)\u001B[0m\n\u001B[1;32m    993\u001B[0m val \u001B[38;5;241m=\u001B[39m cache\u001B[38;5;241m.\u001B[39mget(\u001B[38;5;28mself\u001B[39m\u001B[38;5;241m.\u001B[39mattrname, _NOT_FOUND)\n\u001B[1;32m    994\u001B[0m \u001B[38;5;28;01mif\u001B[39;00m val \u001B[38;5;129;01mis\u001B[39;00m _NOT_FOUND:\n\u001B[0;32m--> 995\u001B[0m     val \u001B[38;5;241m=\u001B[39m \u001B[38;5;28mself\u001B[39m\u001B[38;5;241m.\u001B[39mfunc(instance)\n\u001B[1;32m    996\u001B[0m     \u001B[38;5;28;01mtry\u001B[39;00m:\n\u001B[1;32m    997\u001B[0m         cache[\u001B[38;5;28mself\u001B[39m\u001B[38;5;241m.\u001B[39mattrname] \u001B[38;5;241m=\u001B[39m val\n",
        "File \u001B[0;32m/databricks/python/lib/python3.12/site-packages/pyspark/sql/connect/dataframe.py:2067\u001B[0m, in \u001B[0;36mDataFrame.isStreaming\u001B[0;34m(self)\u001B[0m\n\u001B[1;32m   2064\u001B[0m \u001B[38;5;129m@functools\u001B[39m\u001B[38;5;241m.\u001B[39mcached_property\n\u001B[1;32m   2065\u001B[0m \u001B[38;5;28;01mdef\u001B[39;00m \u001B[38;5;21misStreaming\u001B[39m(\u001B[38;5;28mself\u001B[39m) \u001B[38;5;241m-\u001B[39m\u001B[38;5;241m>\u001B[39m \u001B[38;5;28mbool\u001B[39m:\n\u001B[1;32m   2066\u001B[0m     query \u001B[38;5;241m=\u001B[39m \u001B[38;5;28mself\u001B[39m\u001B[38;5;241m.\u001B[39m_plan\u001B[38;5;241m.\u001B[39mto_proto(\u001B[38;5;28mself\u001B[39m\u001B[38;5;241m.\u001B[39m_session\u001B[38;5;241m.\u001B[39mclient)\n\u001B[0;32m-> 2067\u001B[0m     result \u001B[38;5;241m=\u001B[39m \u001B[38;5;28mself\u001B[39m\u001B[38;5;241m.\u001B[39m_session\u001B[38;5;241m.\u001B[39mclient\u001B[38;5;241m.\u001B[39m_analyze(method\u001B[38;5;241m=\u001B[39m\u001B[38;5;124m\"\u001B[39m\u001B[38;5;124mis_streaming\u001B[39m\u001B[38;5;124m\"\u001B[39m, plan\u001B[38;5;241m=\u001B[39mquery)\u001B[38;5;241m.\u001B[39mis_streaming\n\u001B[1;32m   2068\u001B[0m     \u001B[38;5;28;01massert\u001B[39;00m result \u001B[38;5;129;01mis\u001B[39;00m \u001B[38;5;129;01mnot\u001B[39;00m \u001B[38;5;28;01mNone\u001B[39;00m\n\u001B[1;32m   2069\u001B[0m     \u001B[38;5;28;01mreturn\u001B[39;00m result\n",
        "File \u001B[0;32m/databricks/python/lib/python3.12/site-packages/pyspark/sql/connect/client/core.py:1745\u001B[0m, in \u001B[0;36mSparkConnectClient._analyze\u001B[0;34m(self, method, **kwargs)\u001B[0m\n\u001B[1;32m   1743\u001B[0m     \u001B[38;5;28;01mraise\u001B[39;00m SparkConnectException(\u001B[38;5;124m\"\u001B[39m\u001B[38;5;124mInvalid state during retry exception handling.\u001B[39m\u001B[38;5;124m\"\u001B[39m)\n\u001B[1;32m   1744\u001B[0m \u001B[38;5;28;01mexcept\u001B[39;00m \u001B[38;5;167;01mException\u001B[39;00m \u001B[38;5;28;01mas\u001B[39;00m error:\n\u001B[0;32m-> 1745\u001B[0m     \u001B[38;5;28mself\u001B[39m\u001B[38;5;241m.\u001B[39m_handle_error(error)\n",
        "File \u001B[0;32m/databricks/python/lib/python3.12/site-packages/pyspark/sql/connect/client/core.py:2268\u001B[0m, in \u001B[0;36mSparkConnectClient._handle_error\u001B[0;34m(self, error)\u001B[0m\n\u001B[1;32m   2266\u001B[0m \u001B[38;5;28mself\u001B[39m\u001B[38;5;241m.\u001B[39mthread_local\u001B[38;5;241m.\u001B[39minside_error_handling \u001B[38;5;241m=\u001B[39m \u001B[38;5;28;01mTrue\u001B[39;00m\n\u001B[1;32m   2267\u001B[0m \u001B[38;5;28;01mif\u001B[39;00m \u001B[38;5;28misinstance\u001B[39m(error, grpc\u001B[38;5;241m.\u001B[39mRpcError):\n\u001B[0;32m-> 2268\u001B[0m     \u001B[38;5;28mself\u001B[39m\u001B[38;5;241m.\u001B[39m_handle_rpc_error(error)\n\u001B[1;32m   2269\u001B[0m \u001B[38;5;28;01melif\u001B[39;00m \u001B[38;5;28misinstance\u001B[39m(error, \u001B[38;5;167;01mValueError\u001B[39;00m):\n\u001B[1;32m   2270\u001B[0m     \u001B[38;5;28;01mif\u001B[39;00m \u001B[38;5;124m\"\u001B[39m\u001B[38;5;124mCannot invoke RPC\u001B[39m\u001B[38;5;124m\"\u001B[39m \u001B[38;5;129;01min\u001B[39;00m \u001B[38;5;28mstr\u001B[39m(error) \u001B[38;5;129;01mand\u001B[39;00m \u001B[38;5;124m\"\u001B[39m\u001B[38;5;124mclosed\u001B[39m\u001B[38;5;124m\"\u001B[39m \u001B[38;5;129;01min\u001B[39;00m \u001B[38;5;28mstr\u001B[39m(error):\n",
        "File \u001B[0;32m/databricks/python/lib/python3.12/site-packages/pyspark/sql/connect/client/core.py:2351\u001B[0m, in \u001B[0;36mSparkConnectClient._handle_rpc_error\u001B[0;34m(self, rpc_error)\u001B[0m\n\u001B[1;32m   2347\u001B[0m             logger\u001B[38;5;241m.\u001B[39mdebug(\u001B[38;5;124mf\u001B[39m\u001B[38;5;124m\"\u001B[39m\u001B[38;5;124mReceived ErrorInfo: \u001B[39m\u001B[38;5;132;01m{\u001B[39;00minfo\u001B[38;5;132;01m}\u001B[39;00m\u001B[38;5;124m\"\u001B[39m)\n\u001B[1;32m   2349\u001B[0m             \u001B[38;5;28mself\u001B[39m\u001B[38;5;241m.\u001B[39m_handle_rpc_error_with_error_info(info, status\u001B[38;5;241m.\u001B[39mmessage, status_code)  \u001B[38;5;66;03m# EDGE\u001B[39;00m\n\u001B[0;32m-> 2351\u001B[0m             \u001B[38;5;28;01mraise\u001B[39;00m convert_exception(\n\u001B[1;32m   2352\u001B[0m                 info,\n\u001B[1;32m   2353\u001B[0m                 status\u001B[38;5;241m.\u001B[39mmessage,\n\u001B[1;32m   2354\u001B[0m                 \u001B[38;5;28mself\u001B[39m\u001B[38;5;241m.\u001B[39m_fetch_enriched_error(info),\n\u001B[1;32m   2355\u001B[0m                 \u001B[38;5;28mself\u001B[39m\u001B[38;5;241m.\u001B[39m_display_server_stack_trace(),\n\u001B[1;32m   2356\u001B[0m             ) \u001B[38;5;28;01mfrom\u001B[39;00m \u001B[38;5;28;01mNone\u001B[39;00m\n\u001B[1;32m   2358\u001B[0m     \u001B[38;5;28;01mraise\u001B[39;00m SparkConnectGrpcException(\n\u001B[1;32m   2359\u001B[0m         message\u001B[38;5;241m=\u001B[39mstatus\u001B[38;5;241m.\u001B[39mmessage,\n\u001B[1;32m   2360\u001B[0m         sql_state\u001B[38;5;241m=\u001B[39mErrorCode\u001B[38;5;241m.\u001B[39mCLIENT_UNEXPECTED_MISSING_SQL_STATE,  \u001B[38;5;66;03m# EDGE\u001B[39;00m\n\u001B[1;32m   2361\u001B[0m     ) \u001B[38;5;28;01mfrom\u001B[39;00m \u001B[38;5;28;01mNone\u001B[39;00m\n\u001B[1;32m   2362\u001B[0m \u001B[38;5;28;01melse\u001B[39;00m:\n",
        "\u001B[0;31mSparkConnectGrpcException\u001B[0m: (shaded.databricks.azurebfs.org.apache.hadoop.fs.azurebfs.contracts.exceptions.AbfsRestOperationException) Operation failed: \"Forbidden\", 403, HEAD, Access to storage destination is denied because of serverless network policy, http://synechron25092025.dfs.core.windows.net/users/?upn=false&action=getAccessControl&timeout=90\n\nJVM stacktrace:\nshaded.databricks.azurebfs.org.apache.hadoop.fs.azurebfs.contracts.exceptions.AbfsRestOperationException\n\tat shaded.databricks.azurebfs.org.apache.hadoop.fs.azurebfs.services.AbfsRestOperation.completeExecute(AbfsRestOperation.java:317)\n\tat shaded.databricks.azurebfs.org.apache.hadoop.fs.azurebfs.services.AbfsRestOperation.lambda$execute$0(AbfsRestOperation.java:242)\n\tat org.apache.hadoop.fs.statistics.impl.IOStatisticsBinding.measureDurationOfInvocation(IOStatisticsBinding.java:494)\n\tat org.apache.hadoop.fs.statistics.impl.IOStatisticsBinding.trackDurationOfInvocation(IOStatisticsBinding.java:465)\n\tat shaded.databricks.azurebfs.org.apache.hadoop.fs.azurebfs.services.AbfsRestOperation.execute(AbfsRestOperation.java:240)\n\tat shaded.databricks.azurebfs.org.apache.hadoop.fs.azurebfs.services.AbfsClient.getAclStatus(AbfsClient.java:1472)\n\tat shaded.databricks.azurebfs.org.apache.hadoop.fs.azurebfs.services.AbfsClient.getAclStatus(AbfsClient.java:1454)\n\tat shaded.databricks.azurebfs.org.apache.hadoop.fs.azurebfs.AzureBlobFileSystemStore.getIsNamespaceEnabled(AzureBlobFileSystemStore.java:521)\n\tat shaded.databricks.azurebfs.org.apache.hadoop.fs.azurebfs.AzureBlobFileSystemStore.getFileStatus(AzureBlobFileSystemStore.java:1380)\n\tat shaded.databricks.azurebfs.org.apache.hadoop.fs.azurebfs.AzureBlobFileSystem.getFileStatus(AzureBlobFileSystem.java:1029)\n\tat shaded.databricks.azurebfs.org.apache.hadoop.fs.azurebfs.AzureBlobFileSystem.getFileStatus(AzureBlobFileSystem.java:1019)\n\tat com.databricks.common.filesystem.LokiABFS.getFileStatusNoCache(LokiABFS.scala:54)\n\tat com.databricks.common.filesystem.LokiABFS.getFileStatus(LokiABFS.scala:44)\n\tat com.databricks.sql.io.LokiFileSystem.$anonfun$getFileStatusNoCache$3(LokiFileSystem.scala:268)\n\tat com.databricks.sql.io.LokiFileSystem.tryWithNativeIO(LokiFileSystem.scala:251)\n\tat com.databricks.sql.io.LokiFileSystem.getFileStatusNoCache(LokiFileSystem.scala:268)\n\tat com.databricks.sql.io.LokiFileSystem.getFileStatus(LokiFileSystem.scala:273)\n\tat com.databricks.sql.acl.fs.CredentialScopeFileSystem.getFileStatus(CredentialScopeFileSystem.scala:332)\n\tat org.apache.spark.deploy.SparkHadoopUtil$.isDirectory(SparkHadoopUtil.scala:769)\n\tat org.apache.spark.sql.execution.streaming.FileStreamSink$.hasMetadata(FileStreamSink.scala:63)\n\tat org.apache.spark.sql.execution.datasources.DataSource.resolveRelation(DataSource.scala:432)\n\tat org.apache.spark.sql.catalyst.analysis.ResolveDataSource.org$apache$spark$sql$catalyst$analysis$ResolveDataSource$$loadV1BatchSource(ResolveDataSource.scala:248)\n\tat org.apache.spark.sql.catalyst.analysis.ResolveDataSource$$anonfun$apply$1.$anonfun$applyOrElse$2(ResolveDataSource.scala:97)\n\tat scala.Option.getOrElse(Option.scala:201)\n\tat org.apache.spark.sql.catalyst.analysis.ResolveDataSource$$anonfun$apply$1.applyOrElse(ResolveDataSource.scala:97)\n\tat org.apache.spark.sql.catalyst.analysis.ResolveDataSource$$anonfun$apply$1.applyOrElse(ResolveDataSource.scala:58)\n\tat org.apache.spark.sql.catalyst.plans.logical.AnalysisHelper.$anonfun$resolveOperatorsUpWithPruning$3(AnalysisHelper.scala:141)\n\tat org.apache.spark.sql.catalyst.trees.CurrentOrigin$.withOrigin(origin.scala:121)\n\tat org.apache.spark.sql.catalyst.plans.logical.AnalysisHelper.$anonfun$resolveOperatorsUpWithPruning$1(AnalysisHelper.scala:141)\n\tat org.apache.spark.sql.catalyst.plans.logical.AnalysisHelper$.allowInvokingTransformsInAnalyzer(AnalysisHelper.scala:418)\n\tat org.apache.spark.sql.catalyst.plans.logical.AnalysisHelper.resolveOperatorsUpWithPruning(AnalysisHelper.scala:137)\n\tat org.apache.spark.sql.catalyst.plans.logical.AnalysisHelper.resolveOperatorsUpWithPruning$(AnalysisHelper.scala:133)\n\tat org.apache.spark.sql.catalyst.plans.logical.LogicalPlan.resolveOperatorsUpWithPruning(LogicalPlan.scala:45)\n\tat org.apache.spark.sql.catalyst.plans.logical.AnalysisHelper.resolveOperatorsUp(AnalysisHelper.scala:114)\n\tat org.apache.spark.sql.catalyst.plans.logical.AnalysisHelper.resolveOperatorsUp$(AnalysisHelper.scala:113)\n\tat org.apache.spark.sql.catalyst.plans.logical.LogicalPlan.resolveOperatorsUp(LogicalPlan.scala:45)\n\tat org.apache.spark.sql.catalyst.analysis.ResolveDataSource.apply(ResolveDataSource.scala:58)\n\tat org.apache.spark.sql.catalyst.analysis.ResolveDataSource.apply(ResolveDataSource.scala:56)\n\tat org.apache.spark.sql.catalyst.rules.RuleExecutor.$anonfun$execute$17(RuleExecutor.scala:503)\n\tat org.apache.spark.sql.catalyst.rules.RecoverableRuleExecutionHelper.processRule(RuleExecutor.scala:657)\n\tat org.apache.spark.sql.catalyst.rules.RecoverableRuleExecutionHelper.processRule$(RuleExecutor.scala:641)\n\tat org.apache.spark.sql.catalyst.rules.RuleExecutor.processRule(RuleExecutor.scala:137)\n\tat org.apache.spark.sql.catalyst.rules.RuleExecutor.$anonfun$execute$16(RuleExecutor.scala:503)\n\tat com.databricks.spark.util.MemoryTracker$.withThreadAllocatedBytes(MemoryTracker.scala:51)\n\tat org.apache.spark.sql.catalyst.QueryPlanningTracker$.measureRule(QueryPlanningTracker.scala:352)\n\tat org.apache.spark.sql.catalyst.rules.RuleExecutor.$anonfun$execute$15(RuleExecutor.scala:501)\n\tat com.databricks.spark.util.FrameProfiler$.$anonfun$record$1(FrameProfiler.scala:114)\n\tat com.databricks.spark.util.FrameProfilerExporter$.maybeExportFrameProfiler(FrameProfilerExporter.scala:200)\n\tat com.databricks.spark.util.FrameProfiler$.record(FrameProfiler.scala:105)\n\tat org.apache.spark.sql.catalyst.rules.RuleExecutor.$anonfun$execute$14(RuleExecutor.scala:500)\n\tat scala.collection.LinearSeqOps.foldLeft(LinearSeq.scala:183)\n\tat scala.collection.LinearSeqOps.foldLeft$(LinearSeq.scala:179)\n\tat scala.collection.immutable.List.foldLeft(List.scala:79)\n\tat org.apache.spark.sql.catalyst.rules.RuleExecutor.$anonfun$execute$13(RuleExecutor.scala:492)\n\tat scala.runtime.java8.JFunction0$mcV$sp.apply(JFunction0$mcV$sp.scala:18)\n\tat com.databricks.spark.util.FrameProfiler$.$anonfun$record$1(FrameProfiler.scala:114)\n\tat com.databricks.spark.util.FrameProfilerExporter$.maybeExportFrameProfiler(FrameProfilerExporter.scala:200)\n\tat com.databricks.spark.util.FrameProfiler$.record(FrameProfiler.scala:105)\n\tat org.apache.spark.sql.catalyst.rules.RuleExecutor.executeBatch$1(RuleExecutor.scala:466)\n\tat org.apache.spark.sql.catalyst.rules.RuleExecutor.$anonfun$execute$23(RuleExecutor.scala:613)\n\tat org.apache.spark.sql.catalyst.rules.RuleExecutor.$anonfun$execute$23$adapted(RuleExecutor.scala:613)\n\tat scala.collection.immutable.List.foreach(List.scala:334)\n\tat org.apache.spark.sql.catalyst.rules.RuleExecutor.$anonfun$execute$1(RuleExecutor.scala:613)\n\tat com.databricks.spark.util.FrameProfiler$.$anonfun$record$1(FrameProfiler.scala:114)\n\tat com.databricks.spark.util.FrameProfilerExporter$.maybeExportFrameProfiler(FrameProfilerExporter.scala:200)\n\tat com.databricks.spark.util.FrameProfiler$.record(FrameProfiler.scala:105)\n\tat org.apache.spark.sql.catalyst.rules.RuleExecutor.execute(RuleExecutor.scala:359)\n\tat org.apache.spark.sql.catalyst.analysis.Analyzer.super$execute(Analyzer.scala:620)\n\tat org.apache.spark.sql.catalyst.analysis.Analyzer.$anonfun$executeSameContext$1(Analyzer.scala:620)\n\tat com.databricks.sql.unity.SAMSnapshotHelper$.visitPlansDuringAnalysis(SAMSnapshotHelper.scala:41)\n\tat org.apache.spark.sql.catalyst.analysis.Analyzer.executeSameContext(Analyzer.scala:619)\n\tat org.apache.spark.sql.catalyst.analysis.Analyzer.$anonfun$execute$1(Analyzer.scala:611)\n\tat org.apache.spark.sql.catalyst.analysis.AnalysisContext$.withNewAnalysisContext(Analyzer.scala:420)\n\tat org.apache.spark.sql.catalyst.analysis.Analyzer.execute(Analyzer.scala:611)\n\tat org.apache.spark.sql.catalyst.analysis.Analyzer.execute(Analyzer.scala:542)\n\tat org.apache.spark.sql.catalyst.rules.RuleExecutor.$anonfun$executeAndTrack$1(RuleExecutor.scala:347)\n\tat org.apache.spark.sql.catalyst.QueryPlanningTracker$.withTracker(QueryPlanningTracker.scala:267)\n\tat org.apache.spark.sql.catalyst.rules.RuleExecutor.executeAndTrack(RuleExecutor.scala:347)\n\tat org.apache.spark.sql.catalyst.analysis.resolver.HybridAnalyzer.resolveInFixedPoint(HybridAnalyzer.scala:411)\n\tat org.apache.spark.sql.catalyst.analysis.resolver.HybridAnalyzer.$anonfun$apply$1(HybridAnalyzer.scala:99)\n\tat org.apache.spark.sql.catalyst.analysis.resolver.HybridAnalyzer.withTrackedAnalyzerBridgeState(HybridAnalyzer.scala:136)\n\tat org.apache.spark.sql.catalyst.analysis.resolver.HybridAnalyzer.apply(HybridAnalyzer.scala:92)\n\tat org.apache.spark.sql.catalyst.analysis.Analyzer.$anonfun$executeAndCheck$2(Analyzer.scala:598)\n\tat org.apache.spark.sql.catalyst.plans.logical.AnalysisHelper$.markInAnalyzer(AnalysisHelper.scala:425)\n\tat org.apache.spark.sql.catalyst.analysis.Analyzer.$anonfun$executeAndCheck$1(Analyzer.scala:598)\n\tat com.databricks.sql.unity.SAMSnapshotHelper$.visitPlansDuringAnalysis(SAMSnapshotHelper.scala:41)\n\tat org.apache.spark.sql.catalyst.analysis.Analyzer.executeAndCheck(Analyzer.scala:591)\n\tat org.apache.spark.sql.execution.QueryExecution.$anonfun$lazyAnalyzed$3(QueryExecution.scala:341)\n\tat com.databricks.spark.util.FrameProfiler$.$anonfun$record$1(FrameProfiler.scala:114)\n\tat com.databricks.spark.util.FrameProfilerExporter$.maybeExportFrameProfiler(FrameProfilerExporter.scala:200)\n\tat com.databricks.spark.util.FrameProfiler$.record(FrameProfiler.scala:105)\n\tat org.apache.spark.sql.catalyst.QueryPlanningTracker.measurePhase(QueryPlanningTracker.scala:675)\n\tat org.apache.spark.sql.execution.QueryExecution.$anonfun$executePhase$8(QueryExecution.scala:826)\n\tat org.apache.spark.sql.execution.SQLExecution$.$anonfun$withExecutionPhase$1(SQLExecution.scala:157)\n\tat com.databricks.logging.AttributionContext$.$anonfun$withValue$1(AttributionContext.scala:328)\n\tat scala.util.DynamicVariable.withValue(DynamicVariable.scala:59)\n\tat com.databricks.logging.AttributionContext$.withValue(AttributionContext.scala:324)\n\tat com.databricks.util.TracingSpanUtils$.$anonfun$withTracing$4(TracingSpanUtils.scala:235)\n\tat com.databricks.util.TracingSpanUtils$.withTracing(TracingSpanUtils.scala:129)\n\tat com.databricks.util.TracingSpanUtils$.withTracing(TracingSpanUtils.scala:233)\n\tat com.databricks.tracing.TracingUtils$.withTracing(TracingUtils.scala:296)\n\tat com.databricks.spark.util.DatabricksTracingHelper.withSpan(DatabricksSparkTracingHelper.scala:115)\n\tat com.databricks.spark.util.DBRTracing$.withSpan(DBRTracing.scala:47)\n\tat org.apache.spark.sql.execution.SQLExecution$.withExecutionPhase(SQLExecution.scala:138)\n\tat org.apache.spark.sql.execution.QueryExecution.$anonfun$executePhase$7(QueryExecution.scala:826)\n\tat org.apache.spark.sql.execution.QueryExecution$.withInternalError(QueryExecution.scala:1472)\n\tat org.apache.spark.sql.execution.QueryExecution.$anonfun$executePhase$5(QueryExecution.scala:819)\n\tat com.databricks.util.LexicalThreadLocal$Handle.runWith(LexicalThreadLocal.scala:63)\n\tat org.apache.spark.sql.execution.QueryExecution.$anonfun$executePhase$4(QueryExecution.scala:816)\n\tat com.databricks.util.LexicalThreadLocal$Handle.runWith(LexicalThreadLocal.scala:63)\n\tat org.apache.spark.sql.execution.QueryExecution.$anonfun$executePhase$3(QueryExecution.scala:816)\n\tat com.databricks.util.LexicalThreadLocal$Handle.runWith(LexicalThreadLocal.scala:63)\n\tat org.apache.spark.sql.execution.QueryExecution.$anonfun$executePhase$2(QueryExecution.scala:815)\n\tat com.databricks.util.LexicalThreadLocal$Handle.runWith(LexicalThreadLocal.scala:63)\n\tat org.apache.spark.sql.execution.QueryExecution.withQueryExecutionId(QueryExecution.scala:803)\n\tat org.apache.spark.sql.execution.QueryExecution.$anonfun$executePhase$1(QueryExecution.scala:814)\n\tat org.apache.spark.sql.SparkSession.withActive(SparkSession.scala:860)\n\tat org.apache.spark.sql.execution.QueryExecution.executePhase(QueryExecution.scala:813)\n\tat org.apache.spark.sql.execution.QueryExecution.$anonfun$lazyAnalyzed$2(QueryExecution.scala:323)\n\tat com.databricks.sql.util.MemoryTrackerHelper.withMemoryTracking(MemoryTrackerHelper.scala:111)\n\tat org.apache.spark.sql.execution.QueryExecution.$anonfun$lazyAnalyzed$1(QueryExecution.scala:322)\n\tat scala.util.Try$.apply(Try.scala:217)\n\tat org.apache.spark.util.Utils$.doTryWithCallerStacktrace(Utils.scala:1687)\n\tat org.apache.spark.util.Utils$.getTryWithCallerStacktrace(Utils.scala:1748)\n\tat org.apache.spark.util.LazyTry.get(LazyTry.scala:75)\n\tat org.apache.spark.sql.execution.QueryExecution.analyzed(QueryExecution.scala:383)\n\tat org.apache.spark.sql.execution.QueryExecution.assertAnalyzed(QueryExecution.scala:302)\n\tat org.apache.spark.sql.classic.Dataset$.$anonfun$ofRows$1(Dataset.scala:129)\n\tat org.apache.spark.sql.SparkSession.withActive(SparkSession.scala:860)\n\tat org.apache.spark.sql.classic.SparkSession.$anonfun$withActiveAndFrameProfiler$1(SparkSession.scala:1077)\n\tat com.databricks.spark.util.FrameProfiler$.$anonfun$record$1(FrameProfiler.scala:114)\n\tat com.databricks.spark.util.FrameProfilerExporter$.maybeExportFrameProfiler(FrameProfilerExporter.scala:200)\n\tat com.databricks.spark.util.FrameProfiler$.record(FrameProfiler.scala:105)\n\tat org.apache.spark.sql.classic.SparkSession.withActiveAndFrameProfiler(SparkSession.scala:1077)\n\tat org.apache.spark.sql.classic.Dataset$.ofRows(Dataset.scala:127)\n\tat org.apache.spark.sql.classic.DataFrameReader.load(DataFrameReader.scala:170)\n\tat org.apache.spark.sql.classic.DataFrameReader.load(DataFrameReader.scala:148)\n\tat org.apache.spark.sql.connect.planner.SparkConnectPlanner.transformReadRel(SparkConnectPlanner.scala:1997)\n\tat org.apache.spark.sql.connect.planner.SparkConnectPlanner.$anonfun$transformRelation$1(SparkConnectPlanner.scala:217)\n\tat org.apache.spark.sql.connect.service.SessionHolder.$anonfun$usePlanCache$8(SessionHolder.scala:629)\n\tat org.apache.spark.sql.connect.service.SessionHolder.measureSubtreeRelationNodes(SessionHolder.scala:645)\n\tat org.apache.spark.sql.connect.service.SessionHolder.$anonfun$usePlanCache$6(SessionHolder.scala:628)\n\tat scala.Option.getOrElse(Option.scala:201)\n\tat org.apache.spark.sql.connect.service.SessionHolder.usePlanCache(SessionHolder.scala:626)\n\tat org.apache.spark.sql.connect.planner.SparkConnectPlanner.transformRelation(SparkConnectPlanner.scala:212)\n\tat org.apache.spark.sql.connect.service.SparkConnectAnalyzeHandler.transformRelation$1(SparkConnectAnalyzeHandler.scala:93)\n\tat org.apache.spark.sql.connect.service.SparkConnectAnalyzeHandler.process(SparkConnectAnalyzeHandler.scala:189)\n\tat org.apache.spark.sql.connect.service.SparkConnectAnalyzeHandler.$anonfun$handle$3(SparkConnectAnalyzeHandler.scala:78)\n\tat org.apache.spark.sql.connect.service.SparkConnectAnalyzeHandler.$anonfun$handle$3$adapted(SparkConnectAnalyzeHandler.scala:70)\n\tat org.apache.spark.sql.connect.service.SessionHolder.$anonfun$withSession$2(SessionHolder.scala:474)\n\tat org.apache.spark.sql.SparkSession.withActive(SparkSession.scala:860)\n\tat org.apache.spark.sql.connect.service.SessionHolder.$anonfun$withSession$1(SessionHolder.scala:474)\n\tat org.apache.spark.JobArtifactSet$.withActiveJobArtifactState(JobArtifactSet.scala:97)\n\tat org.apache.spark.sql.artifact.ArtifactManager.$anonfun$withResources$1(ArtifactManager.scala:121)\n\tat org.apache.spark.sql.artifact.ArtifactManager.withClassLoaderIfNeeded(ArtifactManager.scala:115)\n\tat org.apache.spark.sql.artifact.ArtifactManager.withResources(ArtifactManager.scala:120)\n\tat org.apache.spark.sql.connect.service.SessionHolder.withSession(SessionHolder.scala:473)\n\tat org.apache.spark.sql.connect.service.SparkConnectAnalyzeHandler.$anonfun$handle$1(SparkConnectAnalyzeHandler.scala:70)\n\tat org.apache.spark.sql.connect.service.SparkConnectAnalyzeHandler.$anonfun$handle$1$adapted(SparkConnectAnalyzeHandler.scala:55)\n\tat com.databricks.spark.connect.logging.rpc.SparkConnectRpcMetricsCollectorUtils$.collectMetrics(SparkConnectRpcMetricsCollector.scala:263)\n\tat org.apache.spark.sql.connect.service.SparkConnectAnalyzeHandler.handle(SparkConnectAnalyzeHandler.scala:54)\n\tat org.apache.spark.sql.connect.service.SparkConnectService.analyzePlan(SparkConnectService.scala:113)\n\tat org.apache.spark.connect.proto.SparkConnectServiceGrpc$MethodHandlers.invoke(SparkConnectServiceGrpc.java:870)\n\tat org.sparkproject.connect.io.grpc.stub.ServerCalls$UnaryServerCallHandler$UnaryServerCallListener.onHalfClose(ServerCalls.java:182)\n\tat org.sparkproject.connect.io.grpc.PartialForwardingServerCallListener.onHalfClose(PartialForwardingServerCallListener.java:35)\n\tat org.sparkproject.connect.io.grpc.ForwardingServerCallListener.onHalfClose(ForwardingServerCallListener.java:23)\n\tat org.sparkproject.connect.io.grpc.ForwardingServerCallListener$SimpleForwardingServerCallListener.onHalfClose(ForwardingServerCallListener.java:40)\n\tat org.sparkproject.connect.io.grpc.PartialForwardingServerCallListener.onHalfClose(PartialForwardingServerCallListener.java:35)\n\tat org.sparkproject.connect.io.grpc.ForwardingServerCallListener.onHalfClose(ForwardingServerCallListener.java:23)\n\tat org.sparkproject.connect.io.grpc.ForwardingServerCallListener$SimpleForwardingServerCallListener.onHalfClose(ForwardingServerCallListener.java:40)\n\tat com.databricks.spark.connect.service.AuthenticationInterceptor$AuthenticatedServerCallListener.$anonfun$onHalfClose$1(AuthenticationInterceptor.scala:419)\n\tat scala.runtime.java8.JFunction0$mcV$sp.apply(JFunction0$mcV$sp.scala:18)\n\tat com.databricks.unity.UCSEphemeralState$Handle.runWith(UCSEphemeralState.scala:51)\n\tat com.databricks.unity.HandleImpl.runWith(UCSHandle.scala:104)\n\tat com.databricks.spark.connect.service.RequestContext.$anonfun$runWith$4(RequestContext.scala:366)\n\tat com.databricks.logging.AttributionContextTracing.$anonfun$withAttributionContext$1(AttributionContextTracing.scala:49)\n\tat com.databricks.logging.AttributionContext$.$anonfun$withValue$1(AttributionContext.scala:328)\n\tat scala.util.DynamicVariable.withValue(DynamicVariable.scala:59)\n\tat com.databricks.logging.AttributionContext$.withValue(AttributionContext.scala:324)\n\tat com.databricks.logging.AttributionContextTracing.withAttributionContext(AttributionContextTracing.scala:47)\n\tat com.databricks.logging.AttributionContextTracing.withAttributionContext$(AttributionContextTracing.scala:44)\n\tat com.databricks.spark.util.DatabricksTracingHelper.withAttributionContext(DatabricksSparkTracingHelper.scala:65)\n\tat com.databricks.spark.util.DatabricksTracingHelper.withSpanFromRequest(DatabricksSparkTracingHelper.scala:92)\n\tat com.databricks.spark.util.DBRTracing$.withSpanFromRequest(DBRTracing.scala:43)\n\tat com.databricks.spark.connect.service.RequestContext.runWithSpanFromTags(RequestContext.scala:388)\n\tat com.databricks.spark.connect.service.RequestContext.$anonfun$runWith$3(RequestContext.scala:366)\n\tat com.databricks.spark.connect.service.RequestContext$.com$databricks$spark$connect$service$RequestContext$$withLocalProperties(RequestContext.scala:584)\n\tat com.databricks.spark.connect.service.RequestContext.$anonfun$runWith$2(RequestContext.scala:365)\n\tat com.databricks.logging.AttributionContextTracing.$anonfun$withAttributionContext$1(AttributionContextTracing.scala:49)\n\tat com.databricks.logging.AttributionContext$.$anonfun$withValue$1(AttributionContext.scala:328)\n\tat scala.util.DynamicVariable.withValue(DynamicVariable.scala:59)\n\tat com.databricks.logging.AttributionContext$.withValue(AttributionContext.scala:324)\n\tat com.databricks.logging.AttributionContextTracing.withAttributionContext(AttributionContextTracing.scala:47)\n\tat com.databricks.logging.AttributionContextTracing.withAttributionContext$(AttributionContextTracing.scala:44)\n\tat com.databricks.spark.util.PublicDBLogging.withAttributionContext(DatabricksSparkUsageLogger.scala:30)\n\tat com.databricks.spark.util.UniverseAttributionContextWrapper.withValue(AttributionContextUtils.scala:242)\n\tat com.databricks.spark.connect.service.RequestContext.$anonfun$runWith$1(RequestContext.scala:364)\n\tat com.databricks.spark.connect.service.RequestContext.withContext(RequestContext.scala:396)\n\tat com.databricks.spark.connect.service.RequestContext.runWith(RequestContext.scala:357)\n\tat com.databricks.spark.connect.service.AuthenticationInterceptor$AuthenticatedServerCallListener.onHalfClose(AuthenticationInterceptor.scala:419)\n\tat org.sparkproject.connect.io.grpc.PartialForwardingServerCallListener.onHalfClose(PartialForwardingServerCallListener.java:35)\n\tat org.sparkproject.connect.io.grpc.ForwardingServerCallListener.onHalfClose(ForwardingServerCallListener.java:23)\n\tat org.sparkproject.connect.io.grpc.ForwardingServerCallListener$SimpleForwardingServerCallListener.onHalfClose(ForwardingServerCallListener.java:40)\n\tat org.sparkproject.connect.io.grpc.internal.ServerCallImpl$ServerStreamListenerImpl.halfClosed(ServerCallImpl.java:356)\n\tat org.sparkproject.connect.io.grpc.internal.ServerImpl$JumpToApplicationThreadServerStreamListener$1HalfClosed.runInContext(ServerImpl.java:861)\n\tat org.sparkproject.connect.io.grpc.internal.ContextRunnable.run(ContextRunnable.java:37)\n\tat org.sparkproject.connect.io.grpc.internal.SerializingExecutor.run(SerializingExecutor.java:133)\n\tat org.apache.spark.util.threads.SparkThreadLocalCapturingRunnable.$anonfun$run$1(SparkThreadLocalForwardingThreadPoolExecutor.scala:165)\n\tat scala.runtime.java8.JFunction0$mcV$sp.apply(JFunction0$mcV$sp.scala:18)\n\tat com.databricks.util.LexicalThreadLocal$Handle.runWith(LexicalThreadLocal.scala:63)\n\tat org.apache.spark.util.threads.SparkThreadLocalCapturingHelper.$anonfun$runWithCaptured$6(SparkThreadLocalForwardingThreadPoolExecutor.scala:119)\n\tat com.databricks.sql.transaction.tahoe.mst.MSTThreadHelper$.runWithMstTxnId(MSTThreadHelper.scala:57)\n\tat org.apache.spark.util.threads.SparkThreadLocalCapturingHelper.$anonfun$runWithCaptured$5(SparkThreadLocalForwardingThreadPoolExecutor.scala:118)\n\tat com.databricks.spark.util.IdentityClaim$.withClaim(IdentityClaim.scala:48)\n\tat org.apache.spark.util.threads.SparkThreadLocalCapturingHelper.$anonfun$runWithCaptured$4(SparkThreadLocalForwardingThreadPoolExecutor.scala:117)\n\tat com.databricks.unity.UCSEphemeralState$Handle.runWith(UCSEphemeralState.scala:51)\n\tat org.apache.spark.util.threads.SparkThreadLocalCapturingHelper.runWithCaptured(SparkThreadLocalForwardingThreadPoolExecutor.scala:116)\n\tat org.apache.spark.util.threads.SparkThreadLocalCapturingHelper.runWithCaptured$(SparkThreadLocalForwardingThreadPoolExecutor.scala:93)\n\tat org.apache.spark.util.threads.SparkThreadLocalCapturingRunnable.runWithCaptured(SparkThreadLocalForwardingThreadPoolExecutor.scala:162)\n\tat org.apache.spark.util.threads.SparkThreadLocalCapturingRunnable.run(SparkThreadLocalForwardingThreadPoolExecutor.scala:165)\n\tat java.util.concurrent.ThreadPoolExecutor.runWorker(ThreadPoolExecutor.java:1136)\n\tat java.util.concurrent.ThreadPoolExecutor$Worker.run(ThreadPoolExecutor.java:635)\n\tat java.lang.Thread.run(Thread.java:840)"
       ],
       "type": "baseError"
      }
     },
     "output_type": "display_data"
    }
   ],
   "source": [
    "storage_account_name = \"synechron25092025\"\n",
    "container_name = \"users\"\n",
    "azure_access_keys = \"okaX3mprGoyrhfFCB9gBSivZz3UZjMiBwR7XHBzU9OCzU/wJfSI7LfmgSAFRqLuVOExoG+AMLVbJ+AStrHi6Ug==\"\n",
    " \n",
    "file_path = f\"abfss://{container_name}@{storage_account_name}.dfs.core.windows.net/users_001.csv\"\n",
    " \n",
    "spark_conf_key_for_access = (\n",
    "    f\"fs.azure.account.key.{storage_account_name}.dfs.core.windows.net\"\n",
    ")\n",
    "spark.read.option(spark_conf_key_for_access, azure_access_keys).csv(\n",
    "    path=file_path, header=True, inferSchema=True\n",
    ").display()"
   ]
  },
  {
   "cell_type": "markdown",
   "metadata": {
    "application/vnd.databricks.v1+cell": {
     "cellMetadata": {},
     "inputWidgets": {},
     "nuid": "b7426459-b873-47b9-a251-a9aedd4e9692",
     "showTitle": false,
     "tableResultSettingsMap": {},
     "title": ""
    }
   },
   "source": [
    "## Copy the data in AWS S3, Google Cloud Storage (Assignment)"
   ]
  },
  {
   "cell_type": "markdown",
   "metadata": {
    "application/vnd.databricks.v1+cell": {
     "cellMetadata": {},
     "inputWidgets": {},
     "nuid": "7034a8ee-abde-41eb-99d7-18d78d0de047",
     "showTitle": false,
     "tableResultSettingsMap": {},
     "title": ""
    }
   },
   "source": [
    "## Custom Schema"
   ]
  },
  {
   "cell_type": "code",
   "execution_count": 0,
   "metadata": {
    "application/vnd.databricks.v1+cell": {
     "cellMetadata": {
      "byteLimit": 2048000,
      "rowLimit": 10000
     },
     "inputWidgets": {},
     "nuid": "97def752-9d14-4018-9ef0-0ba2622cbe9b",
     "showTitle": false,
     "tableResultSettingsMap": {},
     "title": ""
    }
   },
   "outputs": [
    {
     "output_type": "display_data",
     "data": {
      "text/html": [
       "<style scoped>\n",
       "  .table-result-container {\n",
       "    max-height: 300px;\n",
       "    overflow: auto;\n",
       "  }\n",
       "  table, th, td {\n",
       "    border: 1px solid black;\n",
       "    border-collapse: collapse;\n",
       "  }\n",
       "  th, td {\n",
       "    padding: 5px;\n",
       "  }\n",
       "  th {\n",
       "    text-align: left;\n",
       "  }\n",
       "</style><div class='table-result-container'><table class='table-result'><thead style='background-color: white'><tr><th>id</th><th>age</th><th>gen</th><th>desig</th><th>salary</th></tr></thead><tbody><tr><td>1</td><td>26</td><td>M</td><td>Technician</td><td>85711</td></tr><tr><td>2</td><td>53</td><td>F</td><td>Other</td><td>94043</td></tr><tr><td>3</td><td>23</td><td>M</td><td>Writer</td><td>32067</td></tr><tr><td>4</td><td>26</td><td>M</td><td>technician</td><td>43537</td></tr><tr><td>5</td><td>33</td><td>F</td><td>Other</td><td>15213</td></tr><tr><td>6</td><td>42</td><td>M</td><td>Cheif Executive Officer</td><td>98101</td></tr><tr><td>7</td><td>57</td><td>M</td><td>Administrator</td><td>91344</td></tr><tr><td>8</td><td>36</td><td>M</td><td>Administrator</td><td>5201</td></tr><tr><td>9</td><td>29</td><td>M</td><td>Student</td><td>1002</td></tr><tr><td>10</td><td>53</td><td>M</td><td>Lawyer</td><td>90703</td></tr><tr><td>11</td><td>39</td><td>F</td><td>Other</td><td>30329</td></tr><tr><td>12</td><td>28</td><td>F</td><td>Other</td><td>6405</td></tr><tr><td>13</td><td>47</td><td>M</td><td>Educator</td><td>29206</td></tr><tr><td>14</td><td>45</td><td>M</td><td>Scientist</td><td>55106</td></tr><tr><td>15</td><td>49</td><td>F</td><td>Educator</td><td>97301</td></tr><tr><td>16</td><td>21</td><td>M</td><td>Entertainment</td><td>10309</td></tr><tr><td>17</td><td>30</td><td>M</td><td>Programmer</td><td>6355</td></tr><tr><td>18</td><td>35</td><td>F</td><td>Other</td><td>37212</td></tr><tr><td>19</td><td>40</td><td>M</td><td>Librarian</td><td>2138</td></tr><tr><td>20</td><td>42</td><td>F</td><td>Homemaker</td><td>95660</td></tr><tr><td>21</td><td>26</td><td>M</td><td>Writer</td><td>30068</td></tr><tr><td>22</td><td>25</td><td>M</td><td>Writer</td><td>40206</td></tr><tr><td>23</td><td>30</td><td>F</td><td>Artist</td><td>48197</td></tr><tr><td>24</td><td>21</td><td>F</td><td>Artist</td><td>94533</td></tr><tr><td>25</td><td>39</td><td>M</td><td>Engineer</td><td>55107</td></tr><tr><td>26</td><td>49</td><td>M</td><td>Engineer</td><td>21044</td></tr><tr><td>27</td><td>40</td><td>F</td><td>Librarian</td><td>30030</td></tr><tr><td>28</td><td>32</td><td>M</td><td>Writer</td><td>55369</td></tr><tr><td>29</td><td>41</td><td>M</td><td>Programmer</td><td>94043</td></tr><tr><td>30</td><td>7</td><td>M</td><td>Student</td><td>55436</td></tr><tr><td>31</td><td>24</td><td>M</td><td>Artist</td><td>10003</td></tr><tr><td>32</td><td>28</td><td>F</td><td>Student</td><td>78741</td></tr><tr><td>33</td><td>23</td><td>M</td><td>Student</td><td>27510</td></tr><tr><td>34</td><td>38</td><td>F</td><td>Administrator</td><td>42141</td></tr><tr><td>35</td><td>20</td><td>F</td><td>Homemaker</td><td>42459</td></tr><tr><td>36</td><td>19</td><td>F</td><td>Student</td><td>93117</td></tr><tr><td>37</td><td>23</td><td>M</td><td>Student</td><td>55105</td></tr><tr><td>38</td><td>28</td><td>F</td><td>Other</td><td>54467</td></tr><tr><td>39</td><td>41</td><td>M</td><td>Entertainment</td><td>1040</td></tr><tr><td>40</td><td>38</td><td>M</td><td>Scientist</td><td>27514</td></tr><tr><td>41</td><td>33</td><td>M</td><td>Engineer</td><td>80525</td></tr><tr><td>42</td><td>30</td><td>M</td><td>Administrator</td><td>17870</td></tr><tr><td>43</td><td>29</td><td>F</td><td>Librarian</td><td>20854</td></tr><tr><td>44</td><td>26</td><td>M</td><td>Technician</td><td>46260</td></tr><tr><td>45</td><td>29</td><td>M</td><td>Programmer</td><td>50233</td></tr><tr><td>46</td><td>27</td><td>F</td><td>marketing</td><td>46538</td></tr><tr><td>47</td><td>53</td><td>M</td><td>marketing</td><td>7102</td></tr><tr><td>48</td><td>45</td><td>M</td><td>Administrator</td><td>12550</td></tr><tr><td>49</td><td>23</td><td>F</td><td>Student</td><td>76111</td></tr><tr><td>50</td><td>21</td><td>M</td><td>Writer</td><td>52245</td></tr><tr><td>51</td><td>28</td><td>M</td><td>Educator</td><td>16509</td></tr><tr><td>52</td><td>18</td><td>F</td><td>Student</td><td>55105</td></tr><tr><td>53</td><td>26</td><td>M</td><td>Programmer</td><td>55414</td></tr><tr><td>54</td><td>22</td><td>M</td><td>Cheif Executive Officer</td><td>66315</td></tr><tr><td>55</td><td>37</td><td>M</td><td>Programmer</td><td>1331</td></tr><tr><td>56</td><td>25</td><td>M</td><td>Librarian</td><td>46260</td></tr><tr><td>57</td><td>16</td><td>M</td><td>Cheif Executive Officer</td><td>84010</td></tr><tr><td>58</td><td>27</td><td>M</td><td>Programmer</td><td>52246</td></tr><tr><td>59</td><td>49</td><td>M</td><td>Educator</td><td>8403</td></tr><tr><td>60</td><td>50</td><td>M</td><td>healthcare</td><td>6472</td></tr><tr><td>61</td><td>36</td><td>M</td><td>Engineer</td><td>30040</td></tr><tr><td>62</td><td>27</td><td>F</td><td>Administrator</td><td>97214</td></tr><tr><td>63</td><td>31</td><td>M</td><td>marketing</td><td>75240</td></tr><tr><td>64</td><td>32</td><td>M</td><td>Educator</td><td>43202</td></tr><tr><td>65</td><td>51</td><td>F</td><td>Educator</td><td>48118</td></tr><tr><td>66</td><td>23</td><td>M</td><td>Student</td><td>80521</td></tr><tr><td>67</td><td>17</td><td>M</td><td>Student</td><td>60402</td></tr><tr><td>68</td><td>19</td><td>M</td><td>Student</td><td>22904</td></tr><tr><td>69</td><td>24</td><td>M</td><td>Engineer</td><td>55337</td></tr><tr><td>70</td><td>27</td><td>M</td><td>Engineer</td><td>60067</td></tr><tr><td>71</td><td>39</td><td>M</td><td>Scientist</td><td>98034</td></tr><tr><td>72</td><td>48</td><td>F</td><td>Administrator</td><td>73034</td></tr><tr><td>73</td><td>24</td><td>M</td><td>Student</td><td>41850</td></tr><tr><td>74</td><td>39</td><td>M</td><td>Scientist</td><td>41850</td></tr><tr><td>75</td><td>24</td><td>M</td><td>Entertainment</td><td>8816</td></tr><tr><td>76</td><td>20</td><td>M</td><td>Student</td><td>2215</td></tr><tr><td>77</td><td>30</td><td>M</td><td>Technician</td><td>29379</td></tr><tr><td>78</td><td>26</td><td>M</td><td>Administrator</td><td>61801</td></tr><tr><td>79</td><td>39</td><td>F</td><td>Administrator</td><td>3755</td></tr><tr><td>80</td><td>34</td><td>F</td><td>Administrator</td><td>52241</td></tr><tr><td>81</td><td>21</td><td>M</td><td>Student</td><td>21218</td></tr><tr><td>82</td><td>50</td><td>M</td><td>Programmer</td><td>22902</td></tr><tr><td>83</td><td>40</td><td>M</td><td>Other</td><td>44133</td></tr><tr><td>84</td><td>32</td><td>M</td><td>Cheif Executive Officer</td><td>55369</td></tr><tr><td>85</td><td>51</td><td>M</td><td>Educator</td><td>20003</td></tr><tr><td>86</td><td>26</td><td>M</td><td>Administrator</td><td>46005</td></tr><tr><td>87</td><td>47</td><td>M</td><td>Administrator</td><td>89503</td></tr><tr><td>88</td><td>49</td><td>F</td><td>Librarian</td><td>11701</td></tr><tr><td>89</td><td>43</td><td>F</td><td>Administrator</td><td>68106</td></tr><tr><td>90</td><td>60</td><td>M</td><td>Educator</td><td>78155</td></tr><tr><td>91</td><td>55</td><td>M</td><td>marketing</td><td>1913</td></tr><tr><td>92</td><td>32</td><td>M</td><td>Entertainment</td><td>80525</td></tr><tr><td>93</td><td>48</td><td>M</td><td>Cheif Executive Officer</td><td>23112</td></tr><tr><td>94</td><td>26</td><td>M</td><td>Student</td><td>71457</td></tr><tr><td>95</td><td>31</td><td>M</td><td>Administrator</td><td>10707</td></tr><tr><td>96</td><td>25</td><td>F</td><td>Artist</td><td>75206</td></tr><tr><td>97</td><td>43</td><td>M</td><td>Artist</td><td>98006</td></tr><tr><td>98</td><td>49</td><td>F</td><td>Cheif Executive Officer</td><td>90291</td></tr><tr><td>99</td><td>20</td><td>M</td><td>Student</td><td>63129</td></tr><tr><td>100</td><td>36</td><td>M</td><td>Cheif Executive Officer</td><td>90254</td></tr><tr><td>101</td><td>15</td><td>M</td><td>Student</td><td>5146</td></tr><tr><td>102</td><td>38</td><td>M</td><td>Programmer</td><td>30220</td></tr><tr><td>103</td><td>26</td><td>M</td><td>Student</td><td>55108</td></tr><tr><td>104</td><td>27</td><td>M</td><td>Student</td><td>55108</td></tr><tr><td>105</td><td>24</td><td>M</td><td>Engineer</td><td>94043</td></tr><tr><td>106</td><td>61</td><td>M</td><td>retired</td><td>55125</td></tr><tr><td>107</td><td>39</td><td>M</td><td>Scientist</td><td>60466</td></tr><tr><td>108</td><td>44</td><td>M</td><td>Educator</td><td>63130</td></tr><tr><td>109</td><td>29</td><td>M</td><td>Other</td><td>55423</td></tr><tr><td>110</td><td>19</td><td>M</td><td>Student</td><td>77840</td></tr><tr><td>111</td><td>57</td><td>M</td><td>Engineer</td><td>90630</td></tr><tr><td>112</td><td>30</td><td>M</td><td>salesman</td><td>60613</td></tr><tr><td>113</td><td>47</td><td>M</td><td>Cheif Executive Officer</td><td>95032</td></tr><tr><td>114</td><td>27</td><td>M</td><td>Programmer</td><td>75013</td></tr><tr><td>115</td><td>31</td><td>M</td><td>Engineer</td><td>17110</td></tr><tr><td>116</td><td>40</td><td>M</td><td>healthcare</td><td>97232</td></tr><tr><td>117</td><td>20</td><td>M</td><td>Student</td><td>16125</td></tr><tr><td>118</td><td>21</td><td>M</td><td>Administrator</td><td>90210</td></tr><tr><td>119</td><td>32</td><td>M</td><td>Programmer</td><td>67401</td></tr><tr><td>120</td><td>47</td><td>F</td><td>Other</td><td>6260</td></tr><tr><td>121</td><td>54</td><td>M</td><td>Librarian</td><td>99603</td></tr><tr><td>122</td><td>32</td><td>F</td><td>Writer</td><td>22206</td></tr><tr><td>123</td><td>48</td><td>F</td><td>Artist</td><td>20008</td></tr><tr><td>124</td><td>34</td><td>M</td><td>Student</td><td>60615</td></tr><tr><td>125</td><td>30</td><td>M</td><td>Lawyer</td><td>22202</td></tr><tr><td>126</td><td>28</td><td>F</td><td>Lawyer</td><td>20015</td></tr><tr><td>127</td><td>33</td><td>M</td><td>cheif Cheif Executive Officer Officer</td><td>73439</td></tr><tr><td>128</td><td>24</td><td>F</td><td>marketing</td><td>20009</td></tr><tr><td>129</td><td>36</td><td>F</td><td>marketing</td><td>7039</td></tr><tr><td>130</td><td>20</td><td>M</td><td>cheif Cheif Executive Officer Officer</td><td>60115</td></tr><tr><td>131</td><td>59</td><td>F</td><td>Administrator</td><td>15237</td></tr><tr><td>132</td><td>24</td><td>M</td><td>Other</td><td>94612</td></tr><tr><td>133</td><td>53</td><td>M</td><td>Engineer</td><td>78602</td></tr><tr><td>134</td><td>31</td><td>M</td><td>Programmer</td><td>80236</td></tr><tr><td>135</td><td>23</td><td>M</td><td>Student</td><td>38401</td></tr><tr><td>136</td><td>51</td><td>M</td><td>Other</td><td>97365</td></tr><tr><td>137</td><td>50</td><td>M</td><td>Educator</td><td>84408</td></tr><tr><td>138</td><td>46</td><td>M</td><td>doctor</td><td>53211</td></tr><tr><td>139</td><td>20</td><td>M</td><td>Student</td><td>8904</td></tr><tr><td>140</td><td>30</td><td>F</td><td>Student</td><td>32250</td></tr><tr><td>141</td><td>49</td><td>M</td><td>Programmer</td><td>36117</td></tr><tr><td>142</td><td>13</td><td>M</td><td>Other</td><td>48118</td></tr><tr><td>143</td><td>42</td><td>M</td><td>Technician</td><td>8832</td></tr><tr><td>144</td><td>53</td><td>M</td><td>Programmer</td><td>20910</td></tr><tr><td>145</td><td>31</td><td>M</td><td>Entertainment</td><td>20910</td></tr><tr><td>146</td><td>45</td><td>M</td><td>Artist</td><td>83814</td></tr><tr><td>147</td><td>40</td><td>F</td><td>Librarian</td><td>2143</td></tr><tr><td>148</td><td>33</td><td>M</td><td>Engineer</td><td>97006</td></tr><tr><td>149</td><td>35</td><td>F</td><td>marketing</td><td>17325</td></tr><tr><td>150</td><td>20</td><td>F</td><td>Artist</td><td>2139</td></tr><tr><td>151</td><td>38</td><td>F</td><td>Administrator</td><td>48103</td></tr><tr><td>152</td><td>33</td><td>F</td><td>Educator</td><td>68767</td></tr><tr><td>153</td><td>25</td><td>M</td><td>Student</td><td>60641</td></tr><tr><td>154</td><td>25</td><td>M</td><td>Student</td><td>53703</td></tr><tr><td>155</td><td>32</td><td>F</td><td>Other</td><td>11217</td></tr><tr><td>156</td><td>25</td><td>M</td><td>Educator</td><td>8360</td></tr><tr><td>157</td><td>57</td><td>M</td><td>Engineer</td><td>70808</td></tr><tr><td>158</td><td>50</td><td>M</td><td>Educator</td><td>27606</td></tr><tr><td>159</td><td>23</td><td>F</td><td>Student</td><td>55346</td></tr><tr><td>160</td><td>27</td><td>M</td><td>Programmer</td><td>66215</td></tr><tr><td>161</td><td>50</td><td>M</td><td>Lawyer</td><td>55104</td></tr><tr><td>162</td><td>25</td><td>M</td><td>Artist</td><td>15610</td></tr><tr><td>163</td><td>49</td><td>M</td><td>Administrator</td><td>97212</td></tr><tr><td>164</td><td>47</td><td>M</td><td>healthcare</td><td>80123</td></tr><tr><td>165</td><td>20</td><td>F</td><td>Other</td><td>53715</td></tr><tr><td>166</td><td>47</td><td>M</td><td>Educator</td><td>55113</td></tr><tr><td>167</td><td>37</td><td>M</td><td>Other</td><td>55113</td></tr><tr><td>168</td><td>48</td><td>M</td><td>Other</td><td>80127</td></tr><tr><td>169</td><td>52</td><td>F</td><td>Other</td><td>53705</td></tr><tr><td>170</td><td>53</td><td>F</td><td>healthcare</td><td>30067</td></tr><tr><td>171</td><td>48</td><td>F</td><td>Educator</td><td>78750</td></tr><tr><td>172</td><td>55</td><td>M</td><td>marketing</td><td>22207</td></tr><tr><td>173</td><td>56</td><td>M</td><td>Other</td><td>22306</td></tr><tr><td>174</td><td>30</td><td>F</td><td>Administrator</td><td>52302</td></tr><tr><td>175</td><td>26</td><td>F</td><td>Scientist</td><td>21911</td></tr><tr><td>176</td><td>28</td><td>M</td><td>Scientist</td><td>7030</td></tr><tr><td>177</td><td>20</td><td>M</td><td>Programmer</td><td>19104</td></tr><tr><td>178</td><td>26</td><td>M</td><td>Other</td><td>49512</td></tr><tr><td>179</td><td>15</td><td>M</td><td>Entertainment</td><td>20755</td></tr><tr><td>180</td><td>22</td><td>F</td><td>Administrator</td><td>60202</td></tr><tr><td>181</td><td>26</td><td>M</td><td>Cheif Executive Officer</td><td>21218</td></tr><tr><td>182</td><td>36</td><td>M</td><td>Programmer</td><td>33884</td></tr><tr><td>183</td><td>33</td><td>M</td><td>Scientist</td><td>27708</td></tr><tr><td>184</td><td>37</td><td>M</td><td>Librarian</td><td>76013</td></tr><tr><td>185</td><td>53</td><td>F</td><td>Librarian</td><td>97403</td></tr><tr><td>186</td><td>39</td><td>F</td><td>Cheif Executive Officer</td><td>0</td></tr><tr><td>187</td><td>26</td><td>M</td><td>Educator</td><td>16801</td></tr><tr><td>188</td><td>42</td><td>M</td><td>Student</td><td>29440</td></tr><tr><td>189</td><td>32</td><td>M</td><td>Artist</td><td>95014</td></tr><tr><td>190</td><td>30</td><td>M</td><td>Administrator</td><td>95938</td></tr><tr><td>191</td><td>33</td><td>M</td><td>Administrator</td><td>95161</td></tr><tr><td>192</td><td>42</td><td>M</td><td>Educator</td><td>90840</td></tr><tr><td>193</td><td>29</td><td>M</td><td>Student</td><td>49931</td></tr><tr><td>194</td><td>38</td><td>M</td><td>Administrator</td><td>2154</td></tr><tr><td>195</td><td>42</td><td>M</td><td>Scientist</td><td>93555</td></tr><tr><td>196</td><td>49</td><td>M</td><td>Writer</td><td>55105</td></tr><tr><td>197</td><td>55</td><td>M</td><td>Technician</td><td>75094</td></tr><tr><td>198</td><td>21</td><td>F</td><td>Student</td><td>55414</td></tr><tr><td>199</td><td>30</td><td>M</td><td>Writer</td><td>17604</td></tr><tr><td>200</td><td>40</td><td>M</td><td>Programmer</td><td>93402</td></tr><tr><td>201</td><td>27</td><td>M</td><td>Writer</td><td>93402</td></tr><tr><td>202</td><td>41</td><td>F</td><td>Educator</td><td>60201</td></tr><tr><td>203</td><td>25</td><td>F</td><td>Student</td><td>32301</td></tr><tr><td>204</td><td>52</td><td>F</td><td>Librarian</td><td>10960</td></tr><tr><td>205</td><td>47</td><td>M</td><td>Lawyer</td><td>6371</td></tr><tr><td>206</td><td>14</td><td>F</td><td>Student</td><td>53115</td></tr><tr><td>207</td><td>39</td><td>M</td><td>marketing</td><td>92037</td></tr><tr><td>208</td><td>43</td><td>M</td><td>Engineer</td><td>1720</td></tr><tr><td>209</td><td>33</td><td>F</td><td>Educator</td><td>85710</td></tr><tr><td>210</td><td>39</td><td>M</td><td>Engineer</td><td>3060</td></tr><tr><td>211</td><td>66</td><td>M</td><td>salesman</td><td>32605</td></tr><tr><td>212</td><td>49</td><td>F</td><td>Educator</td><td>61401</td></tr><tr><td>213</td><td>33</td><td>M</td><td>Cheif Executive Officer</td><td>55345</td></tr><tr><td>214</td><td>26</td><td>F</td><td>Librarian</td><td>11231</td></tr><tr><td>215</td><td>35</td><td>M</td><td>Programmer</td><td>63033</td></tr><tr><td>216</td><td>22</td><td>M</td><td>Engineer</td><td>2215</td></tr><tr><td>217</td><td>22</td><td>M</td><td>Other</td><td>11727</td></tr><tr><td>218</td><td>37</td><td>M</td><td>Administrator</td><td>6513</td></tr><tr><td>219</td><td>32</td><td>M</td><td>Programmer</td><td>43212</td></tr><tr><td>220</td><td>30</td><td>M</td><td>Librarian</td><td>78205</td></tr><tr><td>221</td><td>19</td><td>M</td><td>Student</td><td>20685</td></tr><tr><td>222</td><td>29</td><td>M</td><td>Programmer</td><td>27502</td></tr><tr><td>223</td><td>19</td><td>F</td><td>Student</td><td>47906</td></tr><tr><td>224</td><td>31</td><td>F</td><td>Educator</td><td>43512</td></tr><tr><td>225</td><td>51</td><td>F</td><td>Administrator</td><td>58202</td></tr><tr><td>226</td><td>28</td><td>M</td><td>Student</td><td>92103</td></tr><tr><td>227</td><td>46</td><td>M</td><td>Cheif Executive Officer</td><td>60659</td></tr><tr><td>228</td><td>21</td><td>F</td><td>Student</td><td>22003</td></tr><tr><td>229</td><td>29</td><td>F</td><td>Librarian</td><td>22903</td></tr><tr><td>230</td><td>28</td><td>F</td><td>Student</td><td>14476</td></tr><tr><td>231</td><td>48</td><td>M</td><td>Librarian</td><td>1080</td></tr><tr><td>232</td><td>45</td><td>M</td><td>Scientist</td><td>99709</td></tr><tr><td>233</td><td>38</td><td>M</td><td>Engineer</td><td>98682</td></tr><tr><td>234</td><td>60</td><td>M</td><td>retired</td><td>94702</td></tr><tr><td>235</td><td>37</td><td>M</td><td>Educator</td><td>22973</td></tr><tr><td>236</td><td>44</td><td>F</td><td>Writer</td><td>53214</td></tr><tr><td>237</td><td>49</td><td>M</td><td>Administrator</td><td>63146</td></tr><tr><td>238</td><td>42</td><td>F</td><td>Administrator</td><td>44124</td></tr><tr><td>239</td><td>39</td><td>M</td><td>Artist</td><td>95628</td></tr><tr><td>240</td><td>23</td><td>F</td><td>Educator</td><td>20784</td></tr><tr><td>241</td><td>26</td><td>F</td><td>Student</td><td>20001</td></tr><tr><td>242</td><td>33</td><td>M</td><td>Educator</td><td>31404</td></tr><tr><td>243</td><td>33</td><td>M</td><td>Educator</td><td>60201</td></tr><tr><td>244</td><td>28</td><td>M</td><td>Technician</td><td>100005</td></tr><tr><td>245</td><td>26</td><td>F</td><td>Technician</td><td>110000</td></tr></tbody></table></div>"
      ]
     },
     "metadata": {
      "application/vnd.databricks.v1+output": {
       "addedWidgets": {},
       "aggData": [],
       "aggError": "",
       "aggOverflow": false,
       "aggSchema": [],
       "aggSeriesLimitReached": false,
       "aggType": "",
       "arguments": {},
       "columnCustomDisplayInfos": {},
       "data": [
        [
         1,
         26,
         "M",
         "Technician",
         85711
        ],
        [
         2,
         53,
         "F",
         "Other",
         94043
        ],
        [
         3,
         23,
         "M",
         "Writer",
         32067
        ],
        [
         4,
         26,
         "M",
         "technician",
         43537
        ],
        [
         5,
         33,
         "F",
         "Other",
         15213
        ],
        [
         6,
         42,
         "M",
         "Cheif Executive Officer",
         98101
        ],
        [
         7,
         57,
         "M",
         "Administrator",
         91344
        ],
        [
         8,
         36,
         "M",
         "Administrator",
         5201
        ],
        [
         9,
         29,
         "M",
         "Student",
         1002
        ],
        [
         10,
         53,
         "M",
         "Lawyer",
         90703
        ],
        [
         11,
         39,
         "F",
         "Other",
         30329
        ],
        [
         12,
         28,
         "F",
         "Other",
         6405
        ],
        [
         13,
         47,
         "M",
         "Educator",
         29206
        ],
        [
         14,
         45,
         "M",
         "Scientist",
         55106
        ],
        [
         15,
         49,
         "F",
         "Educator",
         97301
        ],
        [
         16,
         21,
         "M",
         "Entertainment",
         10309
        ],
        [
         17,
         30,
         "M",
         "Programmer",
         6355
        ],
        [
         18,
         35,
         "F",
         "Other",
         37212
        ],
        [
         19,
         40,
         "M",
         "Librarian",
         2138
        ],
        [
         20,
         42,
         "F",
         "Homemaker",
         95660
        ],
        [
         21,
         26,
         "M",
         "Writer",
         30068
        ],
        [
         22,
         25,
         "M",
         "Writer",
         40206
        ],
        [
         23,
         30,
         "F",
         "Artist",
         48197
        ],
        [
         24,
         21,
         "F",
         "Artist",
         94533
        ],
        [
         25,
         39,
         "M",
         "Engineer",
         55107
        ],
        [
         26,
         49,
         "M",
         "Engineer",
         21044
        ],
        [
         27,
         40,
         "F",
         "Librarian",
         30030
        ],
        [
         28,
         32,
         "M",
         "Writer",
         55369
        ],
        [
         29,
         41,
         "M",
         "Programmer",
         94043
        ],
        [
         30,
         7,
         "M",
         "Student",
         55436
        ],
        [
         31,
         24,
         "M",
         "Artist",
         10003
        ],
        [
         32,
         28,
         "F",
         "Student",
         78741
        ],
        [
         33,
         23,
         "M",
         "Student",
         27510
        ],
        [
         34,
         38,
         "F",
         "Administrator",
         42141
        ],
        [
         35,
         20,
         "F",
         "Homemaker",
         42459
        ],
        [
         36,
         19,
         "F",
         "Student",
         93117
        ],
        [
         37,
         23,
         "M",
         "Student",
         55105
        ],
        [
         38,
         28,
         "F",
         "Other",
         54467
        ],
        [
         39,
         41,
         "M",
         "Entertainment",
         1040
        ],
        [
         40,
         38,
         "M",
         "Scientist",
         27514
        ],
        [
         41,
         33,
         "M",
         "Engineer",
         80525
        ],
        [
         42,
         30,
         "M",
         "Administrator",
         17870
        ],
        [
         43,
         29,
         "F",
         "Librarian",
         20854
        ],
        [
         44,
         26,
         "M",
         "Technician",
         46260
        ],
        [
         45,
         29,
         "M",
         "Programmer",
         50233
        ],
        [
         46,
         27,
         "F",
         "marketing",
         46538
        ],
        [
         47,
         53,
         "M",
         "marketing",
         7102
        ],
        [
         48,
         45,
         "M",
         "Administrator",
         12550
        ],
        [
         49,
         23,
         "F",
         "Student",
         76111
        ],
        [
         50,
         21,
         "M",
         "Writer",
         52245
        ],
        [
         51,
         28,
         "M",
         "Educator",
         16509
        ],
        [
         52,
         18,
         "F",
         "Student",
         55105
        ],
        [
         53,
         26,
         "M",
         "Programmer",
         55414
        ],
        [
         54,
         22,
         "M",
         "Cheif Executive Officer",
         66315
        ],
        [
         55,
         37,
         "M",
         "Programmer",
         1331
        ],
        [
         56,
         25,
         "M",
         "Librarian",
         46260
        ],
        [
         57,
         16,
         "M",
         "Cheif Executive Officer",
         84010
        ],
        [
         58,
         27,
         "M",
         "Programmer",
         52246
        ],
        [
         59,
         49,
         "M",
         "Educator",
         8403
        ],
        [
         60,
         50,
         "M",
         "healthcare",
         6472
        ],
        [
         61,
         36,
         "M",
         "Engineer",
         30040
        ],
        [
         62,
         27,
         "F",
         "Administrator",
         97214
        ],
        [
         63,
         31,
         "M",
         "marketing",
         75240
        ],
        [
         64,
         32,
         "M",
         "Educator",
         43202
        ],
        [
         65,
         51,
         "F",
         "Educator",
         48118
        ],
        [
         66,
         23,
         "M",
         "Student",
         80521
        ],
        [
         67,
         17,
         "M",
         "Student",
         60402
        ],
        [
         68,
         19,
         "M",
         "Student",
         22904
        ],
        [
         69,
         24,
         "M",
         "Engineer",
         55337
        ],
        [
         70,
         27,
         "M",
         "Engineer",
         60067
        ],
        [
         71,
         39,
         "M",
         "Scientist",
         98034
        ],
        [
         72,
         48,
         "F",
         "Administrator",
         73034
        ],
        [
         73,
         24,
         "M",
         "Student",
         41850
        ],
        [
         74,
         39,
         "M",
         "Scientist",
         41850
        ],
        [
         75,
         24,
         "M",
         "Entertainment",
         8816
        ],
        [
         76,
         20,
         "M",
         "Student",
         2215
        ],
        [
         77,
         30,
         "M",
         "Technician",
         29379
        ],
        [
         78,
         26,
         "M",
         "Administrator",
         61801
        ],
        [
         79,
         39,
         "F",
         "Administrator",
         3755
        ],
        [
         80,
         34,
         "F",
         "Administrator",
         52241
        ],
        [
         81,
         21,
         "M",
         "Student",
         21218
        ],
        [
         82,
         50,
         "M",
         "Programmer",
         22902
        ],
        [
         83,
         40,
         "M",
         "Other",
         44133
        ],
        [
         84,
         32,
         "M",
         "Cheif Executive Officer",
         55369
        ],
        [
         85,
         51,
         "M",
         "Educator",
         20003
        ],
        [
         86,
         26,
         "M",
         "Administrator",
         46005
        ],
        [
         87,
         47,
         "M",
         "Administrator",
         89503
        ],
        [
         88,
         49,
         "F",
         "Librarian",
         11701
        ],
        [
         89,
         43,
         "F",
         "Administrator",
         68106
        ],
        [
         90,
         60,
         "M",
         "Educator",
         78155
        ],
        [
         91,
         55,
         "M",
         "marketing",
         1913
        ],
        [
         92,
         32,
         "M",
         "Entertainment",
         80525
        ],
        [
         93,
         48,
         "M",
         "Cheif Executive Officer",
         23112
        ],
        [
         94,
         26,
         "M",
         "Student",
         71457
        ],
        [
         95,
         31,
         "M",
         "Administrator",
         10707
        ],
        [
         96,
         25,
         "F",
         "Artist",
         75206
        ],
        [
         97,
         43,
         "M",
         "Artist",
         98006
        ],
        [
         98,
         49,
         "F",
         "Cheif Executive Officer",
         90291
        ],
        [
         99,
         20,
         "M",
         "Student",
         63129
        ],
        [
         100,
         36,
         "M",
         "Cheif Executive Officer",
         90254
        ],
        [
         101,
         15,
         "M",
         "Student",
         5146
        ],
        [
         102,
         38,
         "M",
         "Programmer",
         30220
        ],
        [
         103,
         26,
         "M",
         "Student",
         55108
        ],
        [
         104,
         27,
         "M",
         "Student",
         55108
        ],
        [
         105,
         24,
         "M",
         "Engineer",
         94043
        ],
        [
         106,
         61,
         "M",
         "retired",
         55125
        ],
        [
         107,
         39,
         "M",
         "Scientist",
         60466
        ],
        [
         108,
         44,
         "M",
         "Educator",
         63130
        ],
        [
         109,
         29,
         "M",
         "Other",
         55423
        ],
        [
         110,
         19,
         "M",
         "Student",
         77840
        ],
        [
         111,
         57,
         "M",
         "Engineer",
         90630
        ],
        [
         112,
         30,
         "M",
         "salesman",
         60613
        ],
        [
         113,
         47,
         "M",
         "Cheif Executive Officer",
         95032
        ],
        [
         114,
         27,
         "M",
         "Programmer",
         75013
        ],
        [
         115,
         31,
         "M",
         "Engineer",
         17110
        ],
        [
         116,
         40,
         "M",
         "healthcare",
         97232
        ],
        [
         117,
         20,
         "M",
         "Student",
         16125
        ],
        [
         118,
         21,
         "M",
         "Administrator",
         90210
        ],
        [
         119,
         32,
         "M",
         "Programmer",
         67401
        ],
        [
         120,
         47,
         "F",
         "Other",
         6260
        ],
        [
         121,
         54,
         "M",
         "Librarian",
         99603
        ],
        [
         122,
         32,
         "F",
         "Writer",
         22206
        ],
        [
         123,
         48,
         "F",
         "Artist",
         20008
        ],
        [
         124,
         34,
         "M",
         "Student",
         60615
        ],
        [
         125,
         30,
         "M",
         "Lawyer",
         22202
        ],
        [
         126,
         28,
         "F",
         "Lawyer",
         20015
        ],
        [
         127,
         33,
         "M",
         "cheif Cheif Executive Officer Officer",
         73439
        ],
        [
         128,
         24,
         "F",
         "marketing",
         20009
        ],
        [
         129,
         36,
         "F",
         "marketing",
         7039
        ],
        [
         130,
         20,
         "M",
         "cheif Cheif Executive Officer Officer",
         60115
        ],
        [
         131,
         59,
         "F",
         "Administrator",
         15237
        ],
        [
         132,
         24,
         "M",
         "Other",
         94612
        ],
        [
         133,
         53,
         "M",
         "Engineer",
         78602
        ],
        [
         134,
         31,
         "M",
         "Programmer",
         80236
        ],
        [
         135,
         23,
         "M",
         "Student",
         38401
        ],
        [
         136,
         51,
         "M",
         "Other",
         97365
        ],
        [
         137,
         50,
         "M",
         "Educator",
         84408
        ],
        [
         138,
         46,
         "M",
         "doctor",
         53211
        ],
        [
         139,
         20,
         "M",
         "Student",
         8904
        ],
        [
         140,
         30,
         "F",
         "Student",
         32250
        ],
        [
         141,
         49,
         "M",
         "Programmer",
         36117
        ],
        [
         142,
         13,
         "M",
         "Other",
         48118
        ],
        [
         143,
         42,
         "M",
         "Technician",
         8832
        ],
        [
         144,
         53,
         "M",
         "Programmer",
         20910
        ],
        [
         145,
         31,
         "M",
         "Entertainment",
         20910
        ],
        [
         146,
         45,
         "M",
         "Artist",
         83814
        ],
        [
         147,
         40,
         "F",
         "Librarian",
         2143
        ],
        [
         148,
         33,
         "M",
         "Engineer",
         97006
        ],
        [
         149,
         35,
         "F",
         "marketing",
         17325
        ],
        [
         150,
         20,
         "F",
         "Artist",
         2139
        ],
        [
         151,
         38,
         "F",
         "Administrator",
         48103
        ],
        [
         152,
         33,
         "F",
         "Educator",
         68767
        ],
        [
         153,
         25,
         "M",
         "Student",
         60641
        ],
        [
         154,
         25,
         "M",
         "Student",
         53703
        ],
        [
         155,
         32,
         "F",
         "Other",
         11217
        ],
        [
         156,
         25,
         "M",
         "Educator",
         8360
        ],
        [
         157,
         57,
         "M",
         "Engineer",
         70808
        ],
        [
         158,
         50,
         "M",
         "Educator",
         27606
        ],
        [
         159,
         23,
         "F",
         "Student",
         55346
        ],
        [
         160,
         27,
         "M",
         "Programmer",
         66215
        ],
        [
         161,
         50,
         "M",
         "Lawyer",
         55104
        ],
        [
         162,
         25,
         "M",
         "Artist",
         15610
        ],
        [
         163,
         49,
         "M",
         "Administrator",
         97212
        ],
        [
         164,
         47,
         "M",
         "healthcare",
         80123
        ],
        [
         165,
         20,
         "F",
         "Other",
         53715
        ],
        [
         166,
         47,
         "M",
         "Educator",
         55113
        ],
        [
         167,
         37,
         "M",
         "Other",
         55113
        ],
        [
         168,
         48,
         "M",
         "Other",
         80127
        ],
        [
         169,
         52,
         "F",
         "Other",
         53705
        ],
        [
         170,
         53,
         "F",
         "healthcare",
         30067
        ],
        [
         171,
         48,
         "F",
         "Educator",
         78750
        ],
        [
         172,
         55,
         "M",
         "marketing",
         22207
        ],
        [
         173,
         56,
         "M",
         "Other",
         22306
        ],
        [
         174,
         30,
         "F",
         "Administrator",
         52302
        ],
        [
         175,
         26,
         "F",
         "Scientist",
         21911
        ],
        [
         176,
         28,
         "M",
         "Scientist",
         7030
        ],
        [
         177,
         20,
         "M",
         "Programmer",
         19104
        ],
        [
         178,
         26,
         "M",
         "Other",
         49512
        ],
        [
         179,
         15,
         "M",
         "Entertainment",
         20755
        ],
        [
         180,
         22,
         "F",
         "Administrator",
         60202
        ],
        [
         181,
         26,
         "M",
         "Cheif Executive Officer",
         21218
        ],
        [
         182,
         36,
         "M",
         "Programmer",
         33884
        ],
        [
         183,
         33,
         "M",
         "Scientist",
         27708
        ],
        [
         184,
         37,
         "M",
         "Librarian",
         76013
        ],
        [
         185,
         53,
         "F",
         "Librarian",
         97403
        ],
        [
         186,
         39,
         "F",
         "Cheif Executive Officer",
         0
        ],
        [
         187,
         26,
         "M",
         "Educator",
         16801
        ],
        [
         188,
         42,
         "M",
         "Student",
         29440
        ],
        [
         189,
         32,
         "M",
         "Artist",
         95014
        ],
        [
         190,
         30,
         "M",
         "Administrator",
         95938
        ],
        [
         191,
         33,
         "M",
         "Administrator",
         95161
        ],
        [
         192,
         42,
         "M",
         "Educator",
         90840
        ],
        [
         193,
         29,
         "M",
         "Student",
         49931
        ],
        [
         194,
         38,
         "M",
         "Administrator",
         2154
        ],
        [
         195,
         42,
         "M",
         "Scientist",
         93555
        ],
        [
         196,
         49,
         "M",
         "Writer",
         55105
        ],
        [
         197,
         55,
         "M",
         "Technician",
         75094
        ],
        [
         198,
         21,
         "F",
         "Student",
         55414
        ],
        [
         199,
         30,
         "M",
         "Writer",
         17604
        ],
        [
         200,
         40,
         "M",
         "Programmer",
         93402
        ],
        [
         201,
         27,
         "M",
         "Writer",
         93402
        ],
        [
         202,
         41,
         "F",
         "Educator",
         60201
        ],
        [
         203,
         25,
         "F",
         "Student",
         32301
        ],
        [
         204,
         52,
         "F",
         "Librarian",
         10960
        ],
        [
         205,
         47,
         "M",
         "Lawyer",
         6371
        ],
        [
         206,
         14,
         "F",
         "Student",
         53115
        ],
        [
         207,
         39,
         "M",
         "marketing",
         92037
        ],
        [
         208,
         43,
         "M",
         "Engineer",
         1720
        ],
        [
         209,
         33,
         "F",
         "Educator",
         85710
        ],
        [
         210,
         39,
         "M",
         "Engineer",
         3060
        ],
        [
         211,
         66,
         "M",
         "salesman",
         32605
        ],
        [
         212,
         49,
         "F",
         "Educator",
         61401
        ],
        [
         213,
         33,
         "M",
         "Cheif Executive Officer",
         55345
        ],
        [
         214,
         26,
         "F",
         "Librarian",
         11231
        ],
        [
         215,
         35,
         "M",
         "Programmer",
         63033
        ],
        [
         216,
         22,
         "M",
         "Engineer",
         2215
        ],
        [
         217,
         22,
         "M",
         "Other",
         11727
        ],
        [
         218,
         37,
         "M",
         "Administrator",
         6513
        ],
        [
         219,
         32,
         "M",
         "Programmer",
         43212
        ],
        [
         220,
         30,
         "M",
         "Librarian",
         78205
        ],
        [
         221,
         19,
         "M",
         "Student",
         20685
        ],
        [
         222,
         29,
         "M",
         "Programmer",
         27502
        ],
        [
         223,
         19,
         "F",
         "Student",
         47906
        ],
        [
         224,
         31,
         "F",
         "Educator",
         43512
        ],
        [
         225,
         51,
         "F",
         "Administrator",
         58202
        ],
        [
         226,
         28,
         "M",
         "Student",
         92103
        ],
        [
         227,
         46,
         "M",
         "Cheif Executive Officer",
         60659
        ],
        [
         228,
         21,
         "F",
         "Student",
         22003
        ],
        [
         229,
         29,
         "F",
         "Librarian",
         22903
        ],
        [
         230,
         28,
         "F",
         "Student",
         14476
        ],
        [
         231,
         48,
         "M",
         "Librarian",
         1080
        ],
        [
         232,
         45,
         "M",
         "Scientist",
         99709
        ],
        [
         233,
         38,
         "M",
         "Engineer",
         98682
        ],
        [
         234,
         60,
         "M",
         "retired",
         94702
        ],
        [
         235,
         37,
         "M",
         "Educator",
         22973
        ],
        [
         236,
         44,
         "F",
         "Writer",
         53214
        ],
        [
         237,
         49,
         "M",
         "Administrator",
         63146
        ],
        [
         238,
         42,
         "F",
         "Administrator",
         44124
        ],
        [
         239,
         39,
         "M",
         "Artist",
         95628
        ],
        [
         240,
         23,
         "F",
         "Educator",
         20784
        ],
        [
         241,
         26,
         "F",
         "Student",
         20001
        ],
        [
         242,
         33,
         "M",
         "Educator",
         31404
        ],
        [
         243,
         33,
         "M",
         "Educator",
         60201
        ],
        [
         244,
         28,
         "M",
         "Technician",
         100005
        ],
        [
         245,
         26,
         "F",
         "Technician",
         110000
        ]
       ],
       "datasetInfos": [],
       "dbfsResultPath": null,
       "isJsonSchema": true,
       "metadata": {},
       "overflow": false,
       "plotOptions": {
        "customPlotOptions": {},
        "displayType": "table",
        "pivotAggregation": null,
        "pivotColumns": null,
        "xColumns": null,
        "yColumns": null
       },
       "removedWidgets": [],
       "schema": [
        {
         "metadata": "{}",
         "name": "id",
         "type": "\"integer\""
        },
        {
         "metadata": "{}",
         "name": "age",
         "type": "\"integer\""
        },
        {
         "metadata": "{}",
         "name": "gen",
         "type": "\"string\""
        },
        {
         "metadata": "{}",
         "name": "desig",
         "type": "\"string\""
        },
        {
         "metadata": "{}",
         "name": "salary",
         "type": "\"integer\""
        }
       ],
       "type": "table"
      }
     },
     "output_type": "display_data"
    }
   ],
   "source": [
    "from pyspark.sql.types import *\n",
    " \n",
    "CUSTOM_SCHEMA = StructType(\n",
    "    [\n",
    "        StructField(\"id\", IntegerType()),\n",
    "        StructField(\"age\", IntegerType()),\n",
    "        StructField(\"gen\", StringType()),\n",
    "        StructField(\"desig\", StringType()),\n",
    "        StructField(\"salary\", IntegerType()),\n",
    "    ]\n",
    ")\n",
    " \n",
    "spark.read.csv(\n",
    "    path=\"/Volumes/quickstart_catalog/quickstart_schema/sandbox/dataset/sample_dataset/users_001.csv\",\n",
    "    header=True,\n",
    "    schema=CUSTOM_SCHEMA,\n",
    ").display()"
   ]
  },
  {
   "cell_type": "markdown",
   "metadata": {
    "application/vnd.databricks.v1+cell": {
     "cellMetadata": {},
     "inputWidgets": {},
     "nuid": "d3ca020b-954b-4b69-9212-15581840a45b",
     "showTitle": false,
     "tableResultSettingsMap": {},
     "title": ""
    }
   },
   "source": [
    "# Handling Bad Records"
   ]
  },
  {
   "cell_type": "markdown",
   "metadata": {
    "application/vnd.databricks.v1+cell": {
     "cellMetadata": {},
     "inputWidgets": {},
     "nuid": "f7a678a4-4775-4a9b-abe1-05a3013540f7",
     "showTitle": false,
     "tableResultSettingsMap": {},
     "title": ""
    }
   },
   "source": [
    "### PERMISSIVE (Default) - Bad Record in _courrupt_record  column however we can specify the name of the column"
   ]
  },
  {
   "cell_type": "code",
   "execution_count": 0,
   "metadata": {
    "application/vnd.databricks.v1+cell": {
     "cellMetadata": {},
     "inputWidgets": {},
     "nuid": "2e300af9-e17e-48b2-8bb3-10e711901d15",
     "showTitle": false,
     "tableResultSettingsMap": {},
     "title": ""
    }
   },
   "outputs": [],
   "source": [
    "spark.read.option(\"columnNameOfCorruptRecord\", \"bad_record\").json(\n",
    "    path=\"/Volumes/quickstart_catalog/quickstart_schema/sandbox/dataset/access_logs.json\",\n",
    "    mode=\"PERMISSIVE\",\n",
    ").display()"
   ]
  },
  {
   "cell_type": "markdown",
   "metadata": {
    "application/vnd.databricks.v1+cell": {
     "cellMetadata": {},
     "inputWidgets": {},
     "nuid": "77e7e24f-0adc-44bd-9ce0-02c5b242daca",
     "showTitle": false,
     "tableResultSettingsMap": {},
     "title": ""
    }
   },
   "source": [
    "### DROPMALFORMED - Rejected the bad record"
   ]
  },
  {
   "cell_type": "code",
   "execution_count": 0,
   "metadata": {
    "application/vnd.databricks.v1+cell": {
     "cellMetadata": {},
     "inputWidgets": {},
     "nuid": "1c0f97fc-a54f-4f1a-90d7-250780cc989e",
     "showTitle": false,
     "tableResultSettingsMap": {},
     "title": ""
    }
   },
   "outputs": [],
   "source": [
    "spark.read.json(\n",
    "    path=\"/Volumes/quickstart_catalog/quickstart_schema/sandbox/dataset/access_logs.json\",\n",
    "    mode=\"DROPMALFORMED\",\n",
    ").display()"
   ]
  },
  {
   "cell_type": "markdown",
   "metadata": {
    "application/vnd.databricks.v1+cell": {
     "cellMetadata": {},
     "inputWidgets": {},
     "nuid": "a44469a8-b4ab-424f-aaf6-fcb088feefe7",
     "showTitle": false,
     "tableResultSettingsMap": {},
     "title": ""
    }
   },
   "source": [
    "### FAILFAST - Does not allow to perform the function"
   ]
  },
  {
   "cell_type": "code",
   "execution_count": 0,
   "metadata": {
    "application/vnd.databricks.v1+cell": {
     "cellMetadata": {},
     "inputWidgets": {},
     "nuid": "8625b72a-e9c9-4f0d-95d6-72fb7521ffe0",
     "showTitle": false,
     "tableResultSettingsMap": {},
     "title": ""
    }
   },
   "outputs": [],
   "source": [
    "spark.read.json(\n",
    "    path=\"/Volumes/quickstart_catalog/quickstart_schema/sandbox/dataset/access_logs.json\",\n",
    "    mode=\"FAILFAST\",\n",
    ").display()"
   ]
  },
  {
   "cell_type": "markdown",
   "metadata": {
    "application/vnd.databricks.v1+cell": {
     "cellMetadata": {},
     "inputWidgets": {},
     "nuid": "df8fbbca-5134-41a0-9ea2-f61fa9a761ae",
     "showTitle": false,
     "tableResultSettingsMap": {},
     "title": ""
    }
   },
   "source": [
    "## Dataframe Writer API"
   ]
  },
  {
   "cell_type": "code",
   "execution_count": 0,
   "metadata": {
    "application/vnd.databricks.v1+cell": {
     "cellMetadata": {
      "byteLimit": 2048000,
      "rowLimit": 10000
     },
     "inputWidgets": {},
     "nuid": "b59eb6ca-aa9c-4dd6-902f-3727ae0ce885",
     "showTitle": false,
     "tableResultSettingsMap": {},
     "title": ""
    }
   },
   "outputs": [],
   "source": [
    "df = spark.read.csv(\n",
    "    path=\"/Volumes/quickstart_catalog/quickstart_schema/sandbox/dataset/sample_dataset/users_001.csv\",\n",
    "    header=True,\n",
    "    inferSchema=True\n",
    ")\n",
    "df.write.format(\"parquet\").save(\"/Volumes/quickstart_catalog/quickstart_schema/sandbox/output_parquet_new\")"
   ]
  },
  {
   "cell_type": "markdown",
   "metadata": {
    "application/vnd.databricks.v1+cell": {
     "cellMetadata": {},
     "inputWidgets": {},
     "nuid": "ab6d553e-3aff-4e79-9a89-682640fd90ce",
     "showTitle": false,
     "tableResultSettingsMap": {},
     "title": ""
    }
   },
   "source": [
    "## Output Modes"
   ]
  },
  {
   "cell_type": "markdown",
   "metadata": {
    "application/vnd.databricks.v1+cell": {
     "cellMetadata": {},
     "inputWidgets": {},
     "nuid": "3cffa662-feb2-4149-b000-0cd7954d9904",
     "showTitle": false,
     "tableResultSettingsMap": {},
     "title": ""
    }
   },
   "source": [
    "### errorifExist"
   ]
  },
  {
   "cell_type": "code",
   "execution_count": 0,
   "metadata": {
    "application/vnd.databricks.v1+cell": {
     "cellMetadata": {
      "byteLimit": 2048000,
      "rowLimit": 10000
     },
     "inputWidgets": {},
     "nuid": "4754b224-eb54-4cf6-a9b5-1a00318783ec",
     "showTitle": false,
     "tableResultSettingsMap": {},
     "title": ""
    }
   },
   "outputs": [
    {
     "output_type": "display_data",
     "data": {
      "text/plain": [
       "\u001B[0;31m---------------------------------------------------------------------------\u001B[0m\n",
       "\u001B[0;31mAnalysisException\u001B[0m                         Traceback (most recent call last)\n",
       "File \u001B[0;32m<command-4523288295027597>, line 6\u001B[0m\n",
       "\u001B[1;32m      1\u001B[0m df \u001B[38;5;241m=\u001B[39m spark\u001B[38;5;241m.\u001B[39mread\u001B[38;5;241m.\u001B[39mcsv(\n",
       "\u001B[1;32m      2\u001B[0m     path\u001B[38;5;241m=\u001B[39m\u001B[38;5;124m\"\u001B[39m\u001B[38;5;124m/Volumes/quickstart_catalog/quickstart_schema/sandbox/dataset/sample_dataset/users_001.csv\u001B[39m\u001B[38;5;124m\"\u001B[39m,\n",
       "\u001B[1;32m      3\u001B[0m     header\u001B[38;5;241m=\u001B[39m\u001B[38;5;28;01mTrue\u001B[39;00m,\n",
       "\u001B[1;32m      4\u001B[0m     inferSchema\u001B[38;5;241m=\u001B[39m\u001B[38;5;28;01mTrue\u001B[39;00m,\n",
       "\u001B[1;32m      5\u001B[0m )\n",
       "\u001B[0;32m----> 6\u001B[0m df\u001B[38;5;241m.\u001B[39mwrite\u001B[38;5;241m.\u001B[39mformat(\u001B[38;5;124m\"\u001B[39m\u001B[38;5;124mparquet\u001B[39m\u001B[38;5;124m\"\u001B[39m)\u001B[38;5;241m.\u001B[39msave(\n",
       "\u001B[1;32m      7\u001B[0m     \u001B[38;5;124m\"\u001B[39m\u001B[38;5;124m/Volumes/quickstart_catalog/quickstart_schema/sandbox/output_parquet_new\u001B[39m\u001B[38;5;124m\"\u001B[39m\n",
       "\u001B[1;32m      8\u001B[0m )\n",
       "\n",
       "File \u001B[0;32m/databricks/python/lib/python3.12/site-packages/pyspark/sql/connect/readwriter.py:679\u001B[0m, in \u001B[0;36mDataFrameWriter.save\u001B[0;34m(self, path, format, mode, partitionBy, **options)\u001B[0m\n",
       "\u001B[1;32m    677\u001B[0m     \u001B[38;5;28mself\u001B[39m\u001B[38;5;241m.\u001B[39mformat(\u001B[38;5;28mformat\u001B[39m)\n",
       "\u001B[1;32m    678\u001B[0m \u001B[38;5;28mself\u001B[39m\u001B[38;5;241m.\u001B[39m_write\u001B[38;5;241m.\u001B[39mpath \u001B[38;5;241m=\u001B[39m path\n",
       "\u001B[0;32m--> 679\u001B[0m _, _, ei \u001B[38;5;241m=\u001B[39m \u001B[38;5;28mself\u001B[39m\u001B[38;5;241m.\u001B[39m_spark\u001B[38;5;241m.\u001B[39mclient\u001B[38;5;241m.\u001B[39mexecute_command(\n",
       "\u001B[1;32m    680\u001B[0m     \u001B[38;5;28mself\u001B[39m\u001B[38;5;241m.\u001B[39m_write\u001B[38;5;241m.\u001B[39mcommand(\u001B[38;5;28mself\u001B[39m\u001B[38;5;241m.\u001B[39m_spark\u001B[38;5;241m.\u001B[39mclient), \u001B[38;5;28mself\u001B[39m\u001B[38;5;241m.\u001B[39m_write\u001B[38;5;241m.\u001B[39mobservations\n",
       "\u001B[1;32m    681\u001B[0m )\n",
       "\u001B[1;32m    682\u001B[0m \u001B[38;5;28mself\u001B[39m\u001B[38;5;241m.\u001B[39m_callback(ei)\n",
       "\n",
       "File \u001B[0;32m/databricks/python/lib/python3.12/site-packages/pyspark/sql/connect/client/core.py:1483\u001B[0m, in \u001B[0;36mSparkConnectClient.execute_command\u001B[0;34m(self, command, observations, extra_request_metadata)\u001B[0m\n",
       "\u001B[1;32m   1481\u001B[0m     req\u001B[38;5;241m.\u001B[39muser_context\u001B[38;5;241m.\u001B[39muser_id \u001B[38;5;241m=\u001B[39m \u001B[38;5;28mself\u001B[39m\u001B[38;5;241m.\u001B[39m_user_id\n",
       "\u001B[1;32m   1482\u001B[0m req\u001B[38;5;241m.\u001B[39mplan\u001B[38;5;241m.\u001B[39mcommand\u001B[38;5;241m.\u001B[39mCopyFrom(command)\n",
       "\u001B[0;32m-> 1483\u001B[0m data, _, metrics, observed_metrics, properties \u001B[38;5;241m=\u001B[39m \u001B[38;5;28mself\u001B[39m\u001B[38;5;241m.\u001B[39m_execute_and_fetch(\n",
       "\u001B[1;32m   1484\u001B[0m     req, observations \u001B[38;5;129;01mor\u001B[39;00m {}, extra_request_metadata\n",
       "\u001B[1;32m   1485\u001B[0m )\n",
       "\u001B[1;32m   1486\u001B[0m \u001B[38;5;66;03m# Create a query execution object.\u001B[39;00m\n",
       "\u001B[1;32m   1487\u001B[0m ei \u001B[38;5;241m=\u001B[39m ExecutionInfo(metrics, observed_metrics)\n",
       "\n",
       "File \u001B[0;32m/databricks/python/lib/python3.12/site-packages/pyspark/sql/connect/client/core.py:1972\u001B[0m, in \u001B[0;36mSparkConnectClient._execute_and_fetch\u001B[0;34m(self, req, observations, extra_request_metadata, self_destruct)\u001B[0m\n",
       "\u001B[1;32m   1969\u001B[0m properties: Dict[\u001B[38;5;28mstr\u001B[39m, Any] \u001B[38;5;241m=\u001B[39m {}\n",
       "\u001B[1;32m   1971\u001B[0m \u001B[38;5;28;01mwith\u001B[39;00m Progress(handlers\u001B[38;5;241m=\u001B[39m\u001B[38;5;28mself\u001B[39m\u001B[38;5;241m.\u001B[39m_progress_handlers, operation_id\u001B[38;5;241m=\u001B[39mreq\u001B[38;5;241m.\u001B[39moperation_id) \u001B[38;5;28;01mas\u001B[39;00m progress:\n",
       "\u001B[0;32m-> 1972\u001B[0m     \u001B[38;5;28;01mfor\u001B[39;00m response \u001B[38;5;129;01min\u001B[39;00m \u001B[38;5;28mself\u001B[39m\u001B[38;5;241m.\u001B[39m_execute_and_fetch_as_iterator(\n",
       "\u001B[1;32m   1973\u001B[0m         req, observations, extra_request_metadata \u001B[38;5;129;01mor\u001B[39;00m [], progress\u001B[38;5;241m=\u001B[39mprogress\n",
       "\u001B[1;32m   1974\u001B[0m     ):\n",
       "\u001B[1;32m   1975\u001B[0m         \u001B[38;5;28;01mif\u001B[39;00m \u001B[38;5;28misinstance\u001B[39m(response, StructType):\n",
       "\u001B[1;32m   1976\u001B[0m             schema \u001B[38;5;241m=\u001B[39m response\n",
       "\n",
       "File \u001B[0;32m/databricks/python/lib/python3.12/site-packages/pyspark/sql/connect/client/core.py:1948\u001B[0m, in \u001B[0;36mSparkConnectClient._execute_and_fetch_as_iterator\u001B[0;34m(self, req, observations, extra_request_metadata, progress)\u001B[0m\n",
       "\u001B[1;32m   1946\u001B[0m     \u001B[38;5;28;01mraise\u001B[39;00m kb\n",
       "\u001B[1;32m   1947\u001B[0m \u001B[38;5;28;01mexcept\u001B[39;00m \u001B[38;5;167;01mException\u001B[39;00m \u001B[38;5;28;01mas\u001B[39;00m error:\n",
       "\u001B[0;32m-> 1948\u001B[0m     \u001B[38;5;28mself\u001B[39m\u001B[38;5;241m.\u001B[39m_handle_error(error)\n",
       "\n",
       "File \u001B[0;32m/databricks/python/lib/python3.12/site-packages/pyspark/sql/connect/client/core.py:2268\u001B[0m, in \u001B[0;36mSparkConnectClient._handle_error\u001B[0;34m(self, error)\u001B[0m\n",
       "\u001B[1;32m   2266\u001B[0m \u001B[38;5;28mself\u001B[39m\u001B[38;5;241m.\u001B[39mthread_local\u001B[38;5;241m.\u001B[39minside_error_handling \u001B[38;5;241m=\u001B[39m \u001B[38;5;28;01mTrue\u001B[39;00m\n",
       "\u001B[1;32m   2267\u001B[0m \u001B[38;5;28;01mif\u001B[39;00m \u001B[38;5;28misinstance\u001B[39m(error, grpc\u001B[38;5;241m.\u001B[39mRpcError):\n",
       "\u001B[0;32m-> 2268\u001B[0m     \u001B[38;5;28mself\u001B[39m\u001B[38;5;241m.\u001B[39m_handle_rpc_error(error)\n",
       "\u001B[1;32m   2269\u001B[0m \u001B[38;5;28;01melif\u001B[39;00m \u001B[38;5;28misinstance\u001B[39m(error, \u001B[38;5;167;01mValueError\u001B[39;00m):\n",
       "\u001B[1;32m   2270\u001B[0m     \u001B[38;5;28;01mif\u001B[39;00m \u001B[38;5;124m\"\u001B[39m\u001B[38;5;124mCannot invoke RPC\u001B[39m\u001B[38;5;124m\"\u001B[39m \u001B[38;5;129;01min\u001B[39;00m \u001B[38;5;28mstr\u001B[39m(error) \u001B[38;5;129;01mand\u001B[39;00m \u001B[38;5;124m\"\u001B[39m\u001B[38;5;124mclosed\u001B[39m\u001B[38;5;124m\"\u001B[39m \u001B[38;5;129;01min\u001B[39;00m \u001B[38;5;28mstr\u001B[39m(error):\n",
       "\n",
       "File \u001B[0;32m/databricks/python/lib/python3.12/site-packages/pyspark/sql/connect/client/core.py:2351\u001B[0m, in \u001B[0;36mSparkConnectClient._handle_rpc_error\u001B[0;34m(self, rpc_error)\u001B[0m\n",
       "\u001B[1;32m   2347\u001B[0m             logger\u001B[38;5;241m.\u001B[39mdebug(\u001B[38;5;124mf\u001B[39m\u001B[38;5;124m\"\u001B[39m\u001B[38;5;124mReceived ErrorInfo: \u001B[39m\u001B[38;5;132;01m{\u001B[39;00minfo\u001B[38;5;132;01m}\u001B[39;00m\u001B[38;5;124m\"\u001B[39m)\n",
       "\u001B[1;32m   2349\u001B[0m             \u001B[38;5;28mself\u001B[39m\u001B[38;5;241m.\u001B[39m_handle_rpc_error_with_error_info(info, status\u001B[38;5;241m.\u001B[39mmessage, status_code)  \u001B[38;5;66;03m# EDGE\u001B[39;00m\n",
       "\u001B[0;32m-> 2351\u001B[0m             \u001B[38;5;28;01mraise\u001B[39;00m convert_exception(\n",
       "\u001B[1;32m   2352\u001B[0m                 info,\n",
       "\u001B[1;32m   2353\u001B[0m                 status\u001B[38;5;241m.\u001B[39mmessage,\n",
       "\u001B[1;32m   2354\u001B[0m                 \u001B[38;5;28mself\u001B[39m\u001B[38;5;241m.\u001B[39m_fetch_enriched_error(info),\n",
       "\u001B[1;32m   2355\u001B[0m                 \u001B[38;5;28mself\u001B[39m\u001B[38;5;241m.\u001B[39m_display_server_stack_trace(),\n",
       "\u001B[1;32m   2356\u001B[0m             ) \u001B[38;5;28;01mfrom\u001B[39;00m \u001B[38;5;28;01mNone\u001B[39;00m\n",
       "\u001B[1;32m   2358\u001B[0m     \u001B[38;5;28;01mraise\u001B[39;00m SparkConnectGrpcException(\n",
       "\u001B[1;32m   2359\u001B[0m         message\u001B[38;5;241m=\u001B[39mstatus\u001B[38;5;241m.\u001B[39mmessage,\n",
       "\u001B[1;32m   2360\u001B[0m         sql_state\u001B[38;5;241m=\u001B[39mErrorCode\u001B[38;5;241m.\u001B[39mCLIENT_UNEXPECTED_MISSING_SQL_STATE,  \u001B[38;5;66;03m# EDGE\u001B[39;00m\n",
       "\u001B[1;32m   2361\u001B[0m     ) \u001B[38;5;28;01mfrom\u001B[39;00m \u001B[38;5;28;01mNone\u001B[39;00m\n",
       "\u001B[1;32m   2362\u001B[0m \u001B[38;5;28;01melse\u001B[39;00m:\n",
       "\n",
       "\u001B[0;31mAnalysisException\u001B[0m: [PATH_ALREADY_EXISTS] Path dbfs:/Volumes/quickstart_catalog/quickstart_schema/sandbox/output_parquet_new already exists. Set mode as \"overwrite\" to overwrite the existing path. SQLSTATE: 42K04\n",
       "\n",
       "JVM stacktrace:\n",
       "org.apache.spark.sql.AnalysisException\n",
       "\tat org.apache.spark.sql.errors.QueryCompilationErrors$.outputPathAlreadyExistsError(QueryCompilationErrors.scala:2743)\n",
       "\tat org.apache.spark.sql.execution.datasources.InsertIntoHadoopFsRelationCommand.run(InsertIntoHadoopFsRelationCommand.scala:146)\n",
       "\tat org.apache.spark.sql.execution.command.DataWritingCommandExec.$anonfun$sideEffectResult$5(commands.scala:140)\n",
       "\tat org.apache.spark.sql.execution.SparkPlan.runCommandInAetherOrSpark(SparkPlan.scala:195)\n",
       "\tat org.apache.spark.sql.execution.command.DataWritingCommandExec.$anonfun$sideEffectResult$4(commands.scala:140)\n",
       "\tat com.databricks.spark.util.FrameProfiler$.$anonfun$record$1(FrameProfiler.scala:114)\n",
       "\tat com.databricks.spark.util.FrameProfilerExporter$.maybeExportFrameProfiler(FrameProfilerExporter.scala:200)\n",
       "\tat com.databricks.spark.util.FrameProfiler$.record(FrameProfiler.scala:105)\n",
       "\tat org.apache.spark.sql.execution.command.DataWritingCommandExec.sideEffectResult$lzycompute(commands.scala:136)\n",
       "\tat org.apache.spark.sql.execution.command.DataWritingCommandExec.sideEffectResult(commands.scala:135)\n",
       "\tat org.apache.spark.sql.execution.command.DataWritingCommandExec.executeCollect(commands.scala:152)\n",
       "\tat org.apache.spark.sql.execution.QueryExecution.$anonfun$eagerlyExecuteCommands$5(QueryExecution.scala:499)\n",
       "\tat com.databricks.util.LexicalThreadLocal$Handle.runWith(LexicalThreadLocal.scala:63)\n",
       "\tat org.apache.spark.sql.execution.QueryExecution.$anonfun$eagerlyExecuteCommands$4(QueryExecution.scala:499)\n",
       "\tat org.apache.spark.sql.catalyst.QueryPlanningTracker$.withTracker(QueryPlanningTracker.scala:267)\n",
       "\tat org.apache.spark.sql.execution.QueryExecution.$anonfun$eagerlyExecuteCommands$3(QueryExecution.scala:498)\n",
       "\tat org.apache.spark.sql.execution.SQLExecution$.$anonfun$withNewExecutionId0$17(SQLExecution.scala:582)\n",
       "\tat com.databricks.sql.util.MemoryTrackerHelper.withMemoryTracking(MemoryTrackerHelper.scala:111)\n",
       "\tat org.apache.spark.sql.execution.SQLExecution$.$anonfun$withNewExecutionId0$15(SQLExecution.scala:496)\n",
       "\tat org.apache.spark.sql.execution.SQLExecution$.withSessionTagsApplied(SQLExecution.scala:898)\n",
       "\tat org.apache.spark.sql.execution.SQLExecution$.$anonfun$withNewExecutionId0$14(SQLExecution.scala:418)\n",
       "\tat org.apache.spark.JobArtifactSet$.withActiveJobArtifactState(JobArtifactSet.scala:97)\n",
       "\tat org.apache.spark.sql.artifact.ArtifactManager.$anonfun$withResources$1(ArtifactManager.scala:121)\n",
       "\tat org.apache.spark.sql.artifact.ArtifactManager.withClassLoaderIfNeeded(ArtifactManager.scala:115)\n",
       "\tat org.apache.spark.sql.artifact.ArtifactManager.withResources(ArtifactManager.scala:120)\n",
       "\tat org.apache.spark.sql.execution.SQLExecution$.$anonfun$withNewExecutionId0$13(SQLExecution.scala:418)\n",
       "\tat org.apache.spark.sql.execution.SQLExecution$.withSQLConfPropagated(SQLExecution.scala:933)\n",
       "\tat org.apache.spark.sql.execution.SQLExecution$.$anonfun$withNewExecutionId0$1(SQLExecution.scala:417)\n",
       "\tat org.apache.spark.sql.SparkSession.withActive(SparkSession.scala:860)\n",
       "\tat org.apache.spark.sql.execution.SQLExecution$.withNewExecutionId0(SQLExecution.scala:240)\n",
       "\tat org.apache.spark.sql.execution.SQLExecution$.withNewExecutionId(SQLExecution.scala:851)\n",
       "\tat org.apache.spark.sql.execution.QueryExecution.$anonfun$eagerlyExecuteCommands$2(QueryExecution.scala:494)\n",
       "\tat org.apache.spark.sql.execution.QueryExecution$.withInternalError(QueryExecution.scala:1472)\n",
       "\tat org.apache.spark.sql.execution.QueryExecution.$anonfun$eagerlyExecuteCommands$1(QueryExecution.scala:490)\n",
       "\tat org.apache.spark.sql.execution.QueryExecution.withMVTagsIfNecessary(QueryExecution.scala:432)\n",
       "\tat org.apache.spark.sql.execution.QueryExecution.org$apache$spark$sql$execution$QueryExecution$$eagerlyExecute$1(QueryExecution.scala:488)\n",
       "\tat org.apache.spark.sql.execution.QueryExecution$$anonfun$$nestedInanonfun$eagerlyExecuteCommands$8$1.applyOrElse(QueryExecution.scala:591)\n",
       "\tat org.apache.spark.sql.execution.QueryExecution$$anonfun$$nestedInanonfun$eagerlyExecuteCommands$8$1.applyOrElse(QueryExecution.scala:583)\n",
       "\tat org.apache.spark.sql.catalyst.trees.TreeNode.$anonfun$transformDownWithPruning$1(TreeNode.scala:530)\n",
       "\tat org.apache.spark.sql.catalyst.trees.CurrentOrigin$.withOrigin(origin.scala:121)\n",
       "\tat org.apache.spark.sql.catalyst.trees.TreeNode.transformDownWithPruning(TreeNode.scala:530)\n",
       "\tat org.apache.spark.sql.catalyst.plans.logical.LogicalPlan.org$apache$spark$sql$catalyst$plans$logical$AnalysisHelper$$super$transformDownWithPruning(LogicalPlan.scala:45)\n",
       "\tat org.apache.spark.sql.catalyst.plans.logical.AnalysisHelper.transformDownWithPruning(AnalysisHelper.scala:361)\n",
       "\tat org.apache.spark.sql.catalyst.plans.logical.AnalysisHelper.transformDownWithPruning$(AnalysisHelper.scala:357)\n",
       "\tat org.apache.spark.sql.catalyst.plans.logical.LogicalPlan.transformDownWithPruning(LogicalPlan.scala:45)\n",
       "\tat org.apache.spark.sql.catalyst.plans.logical.LogicalPlan.transformDownWithPruning(LogicalPlan.scala:45)\n",
       "\tat org.apache.spark.sql.catalyst.trees.TreeNode.transformDown(TreeNode.scala:506)\n",
       "\tat org.apache.spark.sql.execution.QueryExecution.$anonfun$eagerlyExecuteCommands$8(QueryExecution.scala:583)\n",
       "\tat org.apache.spark.sql.catalyst.plans.logical.AnalysisHelper$.allowInvokingTransformsInAnalyzer(AnalysisHelper.scala:418)\n",
       "\tat org.apache.spark.sql.execution.QueryExecution.eagerlyExecuteCommands(QueryExecution.scala:583)\n",
       "\tat org.apache.spark.sql.execution.QueryExecution.$anonfun$lazyCommandExecuted$1(QueryExecution.scala:388)\n",
       "\tat scala.util.Try$.apply(Try.scala:217)\n",
       "\tat org.apache.spark.util.Utils$.doTryWithCallerStacktrace(Utils.scala:1687)\n",
       "\tat org.apache.spark.util.Utils$.getTryWithCallerStacktrace(Utils.scala:1748)\n",
       "\tat org.apache.spark.util.LazyTry.get(LazyTry.scala:75)\n",
       "\tat org.apache.spark.sql.execution.QueryExecution.commandExecuted(QueryExecution.scala:393)\n",
       "\tat org.apache.spark.sql.execution.QueryExecution.assertCommandExecuted(QueryExecution.scala:619)\n",
       "\tat org.apache.spark.sql.classic.DataFrameWriter.runCommand(DataFrameWriter.scala:815)\n",
       "\tat org.apache.spark.sql.classic.DataFrameWriter.saveToV1Source(DataFrameWriter.scala:341)\n",
       "\tat org.apache.spark.sql.classic.DataFrameWriter.saveInternal(DataFrameWriter.scala:303)\n",
       "\tat org.apache.spark.sql.classic.DataFrameWriter.save(DataFrameWriter.scala:150)\n",
       "\tat org.apache.spark.sql.connect.planner.SparkConnectPlanner.handleWriteOperation(SparkConnectPlanner.scala:3807)\n",
       "\tat org.apache.spark.sql.connect.planner.SparkConnectPlanner.process(SparkConnectPlanner.scala:3247)\n",
       "\tat org.apache.spark.sql.connect.execution.ExecuteThreadRunner.handleCommand(ExecuteThreadRunner.scala:383)\n",
       "\tat org.apache.spark.sql.connect.execution.ExecuteThreadRunner.$anonfun$executeInternal$1(ExecuteThreadRunner.scala:280)\n",
       "\tat org.apache.spark.sql.connect.execution.ExecuteThreadRunner.$anonfun$executeInternal$1$adapted(ExecuteThreadRunner.scala:237)\n",
       "\tat org.apache.spark.sql.connect.service.SessionHolder.$anonfun$withSession$2(SessionHolder.scala:474)\n",
       "\tat org.apache.spark.sql.SparkSession.withActive(SparkSession.scala:860)\n",
       "\tat org.apache.spark.sql.connect.service.SessionHolder.$anonfun$withSession$1(SessionHolder.scala:474)\n",
       "\tat org.apache.spark.JobArtifactSet$.withActiveJobArtifactState(JobArtifactSet.scala:97)\n",
       "\tat org.apache.spark.sql.artifact.ArtifactManager.$anonfun$withResources$1(ArtifactManager.scala:121)\n",
       "\tat org.apache.spark.sql.artifact.ArtifactManager.withClassLoaderIfNeeded(ArtifactManager.scala:115)\n",
       "\tat org.apache.spark.sql.artifact.ArtifactManager.withResources(ArtifactManager.scala:120)\n",
       "\tat org.apache.spark.sql.connect.service.SessionHolder.withSession(SessionHolder.scala:473)\n",
       "\tat org.apache.spark.sql.connect.execution.ExecuteThreadRunner.executeInternal(ExecuteThreadRunner.scala:237)\n",
       "\tat org.apache.spark.sql.connect.execution.ExecuteThreadRunner.$anonfun$execute$1(ExecuteThreadRunner.scala:140)\n",
       "\tat scala.runtime.java8.JFunction0$mcV$sp.apply(JFunction0$mcV$sp.scala:18)\n",
       "\tat com.databricks.spark.connect.service.UtilizationMetrics.recordActiveQueries(UtilizationMetrics.scala:43)\n",
       "\tat com.databricks.spark.connect.service.UtilizationMetrics.recordActiveQueries$(UtilizationMetrics.scala:40)\n",
       "\tat org.apache.spark.sql.connect.execution.ExecuteThreadRunner.recordActiveQueries(ExecuteThreadRunner.scala:52)\n",
       "\tat org.apache.spark.sql.connect.execution.ExecuteThreadRunner.org$apache$spark$sql$connect$execution$ExecuteThreadRunner$$execute(ExecuteThreadRunner.scala:138)\n",
       "\tat org.apache.spark.sql.connect.execution.ExecuteThreadRunner$ExecutionThread.$anonfun$run$2(ExecuteThreadRunner.scala:584)\n",
       "\tat scala.runtime.java8.JFunction0$mcV$sp.apply(JFunction0$mcV$sp.scala:18)\n",
       "\tat com.databricks.unity.UCSEphemeralState$Handle.runWith(UCSEphemeralState.scala:51)\n",
       "\tat com.databricks.unity.HandleImpl.runWith(UCSHandle.scala:104)\n",
       "\tat com.databricks.unity.HandleImpl.$anonfun$runWithAndClose$1(UCSHandle.scala:109)\n",
       "\tat scala.util.Using$.resource(Using.scala:296)\n",
       "\tat com.databricks.unity.HandleImpl.runWithAndClose(UCSHandle.scala:108)\n",
       "\tat org.apache.spark.sql.connect.execution.ExecuteThreadRunner$ExecutionThread.run(ExecuteThreadRunner.scala:584)"
      ]
     },
     "metadata": {
      "application/vnd.databricks.v1+output": {
       "addedWidgets": {},
       "arguments": {},
       "datasetInfos": [],
       "jupyterProps": {
        "ename": "AnalysisException",
        "evalue": "[PATH_ALREADY_EXISTS] Path dbfs:/Volumes/quickstart_catalog/quickstart_schema/sandbox/output_parquet_new already exists. Set mode as \"overwrite\" to overwrite the existing path. SQLSTATE: 42K04\n\nJVM stacktrace:\norg.apache.spark.sql.AnalysisException\n\tat org.apache.spark.sql.errors.QueryCompilationErrors$.outputPathAlreadyExistsError(QueryCompilationErrors.scala:2743)\n\tat org.apache.spark.sql.execution.datasources.InsertIntoHadoopFsRelationCommand.run(InsertIntoHadoopFsRelationCommand.scala:146)\n\tat org.apache.spark.sql.execution.command.DataWritingCommandExec.$anonfun$sideEffectResult$5(commands.scala:140)\n\tat org.apache.spark.sql.execution.SparkPlan.runCommandInAetherOrSpark(SparkPlan.scala:195)\n\tat org.apache.spark.sql.execution.command.DataWritingCommandExec.$anonfun$sideEffectResult$4(commands.scala:140)\n\tat com.databricks.spark.util.FrameProfiler$.$anonfun$record$1(FrameProfiler.scala:114)\n\tat com.databricks.spark.util.FrameProfilerExporter$.maybeExportFrameProfiler(FrameProfilerExporter.scala:200)\n\tat com.databricks.spark.util.FrameProfiler$.record(FrameProfiler.scala:105)\n\tat org.apache.spark.sql.execution.command.DataWritingCommandExec.sideEffectResult$lzycompute(commands.scala:136)\n\tat org.apache.spark.sql.execution.command.DataWritingCommandExec.sideEffectResult(commands.scala:135)\n\tat org.apache.spark.sql.execution.command.DataWritingCommandExec.executeCollect(commands.scala:152)\n\tat org.apache.spark.sql.execution.QueryExecution.$anonfun$eagerlyExecuteCommands$5(QueryExecution.scala:499)\n\tat com.databricks.util.LexicalThreadLocal$Handle.runWith(LexicalThreadLocal.scala:63)\n\tat org.apache.spark.sql.execution.QueryExecution.$anonfun$eagerlyExecuteCommands$4(QueryExecution.scala:499)\n\tat org.apache.spark.sql.catalyst.QueryPlanningTracker$.withTracker(QueryPlanningTracker.scala:267)\n\tat org.apache.spark.sql.execution.QueryExecution.$anonfun$eagerlyExecuteCommands$3(QueryExecution.scala:498)\n\tat org.apache.spark.sql.execution.SQLExecution$.$anonfun$withNewExecutionId0$17(SQLExecution.scala:582)\n\tat com.databricks.sql.util.MemoryTrackerHelper.withMemoryTracking(MemoryTrackerHelper.scala:111)\n\tat org.apache.spark.sql.execution.SQLExecution$.$anonfun$withNewExecutionId0$15(SQLExecution.scala:496)\n\tat org.apache.spark.sql.execution.SQLExecution$.withSessionTagsApplied(SQLExecution.scala:898)\n\tat org.apache.spark.sql.execution.SQLExecution$.$anonfun$withNewExecutionId0$14(SQLExecution.scala:418)\n\tat org.apache.spark.JobArtifactSet$.withActiveJobArtifactState(JobArtifactSet.scala:97)\n\tat org.apache.spark.sql.artifact.ArtifactManager.$anonfun$withResources$1(ArtifactManager.scala:121)\n\tat org.apache.spark.sql.artifact.ArtifactManager.withClassLoaderIfNeeded(ArtifactManager.scala:115)\n\tat org.apache.spark.sql.artifact.ArtifactManager.withResources(ArtifactManager.scala:120)\n\tat org.apache.spark.sql.execution.SQLExecution$.$anonfun$withNewExecutionId0$13(SQLExecution.scala:418)\n\tat org.apache.spark.sql.execution.SQLExecution$.withSQLConfPropagated(SQLExecution.scala:933)\n\tat org.apache.spark.sql.execution.SQLExecution$.$anonfun$withNewExecutionId0$1(SQLExecution.scala:417)\n\tat org.apache.spark.sql.SparkSession.withActive(SparkSession.scala:860)\n\tat org.apache.spark.sql.execution.SQLExecution$.withNewExecutionId0(SQLExecution.scala:240)\n\tat org.apache.spark.sql.execution.SQLExecution$.withNewExecutionId(SQLExecution.scala:851)\n\tat org.apache.spark.sql.execution.QueryExecution.$anonfun$eagerlyExecuteCommands$2(QueryExecution.scala:494)\n\tat org.apache.spark.sql.execution.QueryExecution$.withInternalError(QueryExecution.scala:1472)\n\tat org.apache.spark.sql.execution.QueryExecution.$anonfun$eagerlyExecuteCommands$1(QueryExecution.scala:490)\n\tat org.apache.spark.sql.execution.QueryExecution.withMVTagsIfNecessary(QueryExecution.scala:432)\n\tat org.apache.spark.sql.execution.QueryExecution.org$apache$spark$sql$execution$QueryExecution$$eagerlyExecute$1(QueryExecution.scala:488)\n\tat org.apache.spark.sql.execution.QueryExecution$$anonfun$$nestedInanonfun$eagerlyExecuteCommands$8$1.applyOrElse(QueryExecution.scala:591)\n\tat org.apache.spark.sql.execution.QueryExecution$$anonfun$$nestedInanonfun$eagerlyExecuteCommands$8$1.applyOrElse(QueryExecution.scala:583)\n\tat org.apache.spark.sql.catalyst.trees.TreeNode.$anonfun$transformDownWithPruning$1(TreeNode.scala:530)\n\tat org.apache.spark.sql.catalyst.trees.CurrentOrigin$.withOrigin(origin.scala:121)\n\tat org.apache.spark.sql.catalyst.trees.TreeNode.transformDownWithPruning(TreeNode.scala:530)\n\tat org.apache.spark.sql.catalyst.plans.logical.LogicalPlan.org$apache$spark$sql$catalyst$plans$logical$AnalysisHelper$$super$transformDownWithPruning(LogicalPlan.scala:45)\n\tat org.apache.spark.sql.catalyst.plans.logical.AnalysisHelper.transformDownWithPruning(AnalysisHelper.scala:361)\n\tat org.apache.spark.sql.catalyst.plans.logical.AnalysisHelper.transformDownWithPruning$(AnalysisHelper.scala:357)\n\tat org.apache.spark.sql.catalyst.plans.logical.LogicalPlan.transformDownWithPruning(LogicalPlan.scala:45)\n\tat org.apache.spark.sql.catalyst.plans.logical.LogicalPlan.transformDownWithPruning(LogicalPlan.scala:45)\n\tat org.apache.spark.sql.catalyst.trees.TreeNode.transformDown(TreeNode.scala:506)\n\tat org.apache.spark.sql.execution.QueryExecution.$anonfun$eagerlyExecuteCommands$8(QueryExecution.scala:583)\n\tat org.apache.spark.sql.catalyst.plans.logical.AnalysisHelper$.allowInvokingTransformsInAnalyzer(AnalysisHelper.scala:418)\n\tat org.apache.spark.sql.execution.QueryExecution.eagerlyExecuteCommands(QueryExecution.scala:583)\n\tat org.apache.spark.sql.execution.QueryExecution.$anonfun$lazyCommandExecuted$1(QueryExecution.scala:388)\n\tat scala.util.Try$.apply(Try.scala:217)\n\tat org.apache.spark.util.Utils$.doTryWithCallerStacktrace(Utils.scala:1687)\n\tat org.apache.spark.util.Utils$.getTryWithCallerStacktrace(Utils.scala:1748)\n\tat org.apache.spark.util.LazyTry.get(LazyTry.scala:75)\n\tat org.apache.spark.sql.execution.QueryExecution.commandExecuted(QueryExecution.scala:393)\n\tat org.apache.spark.sql.execution.QueryExecution.assertCommandExecuted(QueryExecution.scala:619)\n\tat org.apache.spark.sql.classic.DataFrameWriter.runCommand(DataFrameWriter.scala:815)\n\tat org.apache.spark.sql.classic.DataFrameWriter.saveToV1Source(DataFrameWriter.scala:341)\n\tat org.apache.spark.sql.classic.DataFrameWriter.saveInternal(DataFrameWriter.scala:303)\n\tat org.apache.spark.sql.classic.DataFrameWriter.save(DataFrameWriter.scala:150)\n\tat org.apache.spark.sql.connect.planner.SparkConnectPlanner.handleWriteOperation(SparkConnectPlanner.scala:3807)\n\tat org.apache.spark.sql.connect.planner.SparkConnectPlanner.process(SparkConnectPlanner.scala:3247)\n\tat org.apache.spark.sql.connect.execution.ExecuteThreadRunner.handleCommand(ExecuteThreadRunner.scala:383)\n\tat org.apache.spark.sql.connect.execution.ExecuteThreadRunner.$anonfun$executeInternal$1(ExecuteThreadRunner.scala:280)\n\tat org.apache.spark.sql.connect.execution.ExecuteThreadRunner.$anonfun$executeInternal$1$adapted(ExecuteThreadRunner.scala:237)\n\tat org.apache.spark.sql.connect.service.SessionHolder.$anonfun$withSession$2(SessionHolder.scala:474)\n\tat org.apache.spark.sql.SparkSession.withActive(SparkSession.scala:860)\n\tat org.apache.spark.sql.connect.service.SessionHolder.$anonfun$withSession$1(SessionHolder.scala:474)\n\tat org.apache.spark.JobArtifactSet$.withActiveJobArtifactState(JobArtifactSet.scala:97)\n\tat org.apache.spark.sql.artifact.ArtifactManager.$anonfun$withResources$1(ArtifactManager.scala:121)\n\tat org.apache.spark.sql.artifact.ArtifactManager.withClassLoaderIfNeeded(ArtifactManager.scala:115)\n\tat org.apache.spark.sql.artifact.ArtifactManager.withResources(ArtifactManager.scala:120)\n\tat org.apache.spark.sql.connect.service.SessionHolder.withSession(SessionHolder.scala:473)\n\tat org.apache.spark.sql.connect.execution.ExecuteThreadRunner.executeInternal(ExecuteThreadRunner.scala:237)\n\tat org.apache.spark.sql.connect.execution.ExecuteThreadRunner.$anonfun$execute$1(ExecuteThreadRunner.scala:140)\n\tat scala.runtime.java8.JFunction0$mcV$sp.apply(JFunction0$mcV$sp.scala:18)\n\tat com.databricks.spark.connect.service.UtilizationMetrics.recordActiveQueries(UtilizationMetrics.scala:43)\n\tat com.databricks.spark.connect.service.UtilizationMetrics.recordActiveQueries$(UtilizationMetrics.scala:40)\n\tat org.apache.spark.sql.connect.execution.ExecuteThreadRunner.recordActiveQueries(ExecuteThreadRunner.scala:52)\n\tat org.apache.spark.sql.connect.execution.ExecuteThreadRunner.org$apache$spark$sql$connect$execution$ExecuteThreadRunner$$execute(ExecuteThreadRunner.scala:138)\n\tat org.apache.spark.sql.connect.execution.ExecuteThreadRunner$ExecutionThread.$anonfun$run$2(ExecuteThreadRunner.scala:584)\n\tat scala.runtime.java8.JFunction0$mcV$sp.apply(JFunction0$mcV$sp.scala:18)\n\tat com.databricks.unity.UCSEphemeralState$Handle.runWith(UCSEphemeralState.scala:51)\n\tat com.databricks.unity.HandleImpl.runWith(UCSHandle.scala:104)\n\tat com.databricks.unity.HandleImpl.$anonfun$runWithAndClose$1(UCSHandle.scala:109)\n\tat scala.util.Using$.resource(Using.scala:296)\n\tat com.databricks.unity.HandleImpl.runWithAndClose(UCSHandle.scala:108)\n\tat org.apache.spark.sql.connect.execution.ExecuteThreadRunner$ExecutionThread.run(ExecuteThreadRunner.scala:584)"
       },
       "metadata": {
        "errorSummary": "[PATH_ALREADY_EXISTS] Path dbfs:/Volumes/quickstart_catalog/quickstart_schema/sandbox/output_parquet_new already exists. Set mode as \"overwrite\" to overwrite the existing path. SQLSTATE: 42K04"
       },
       "removedWidgets": [],
       "sqlProps": {
        "breakingChangeInfo": null,
        "errorClass": "PATH_ALREADY_EXISTS",
        "pysparkCallSite": "",
        "pysparkFragment": "",
        "pysparkSummary": "",
        "sqlState": "42K04",
        "stackTrace": "org.apache.spark.sql.AnalysisException\n\tat org.apache.spark.sql.errors.QueryCompilationErrors$.outputPathAlreadyExistsError(QueryCompilationErrors.scala:2743)\n\tat org.apache.spark.sql.execution.datasources.InsertIntoHadoopFsRelationCommand.run(InsertIntoHadoopFsRelationCommand.scala:146)\n\tat org.apache.spark.sql.execution.command.DataWritingCommandExec.$anonfun$sideEffectResult$5(commands.scala:140)\n\tat org.apache.spark.sql.execution.SparkPlan.runCommandInAetherOrSpark(SparkPlan.scala:195)\n\tat org.apache.spark.sql.execution.command.DataWritingCommandExec.$anonfun$sideEffectResult$4(commands.scala:140)\n\tat com.databricks.spark.util.FrameProfiler$.$anonfun$record$1(FrameProfiler.scala:114)\n\tat com.databricks.spark.util.FrameProfilerExporter$.maybeExportFrameProfiler(FrameProfilerExporter.scala:200)\n\tat com.databricks.spark.util.FrameProfiler$.record(FrameProfiler.scala:105)\n\tat org.apache.spark.sql.execution.command.DataWritingCommandExec.sideEffectResult$lzycompute(commands.scala:136)\n\tat org.apache.spark.sql.execution.command.DataWritingCommandExec.sideEffectResult(commands.scala:135)\n\tat org.apache.spark.sql.execution.command.DataWritingCommandExec.executeCollect(commands.scala:152)\n\tat org.apache.spark.sql.execution.QueryExecution.$anonfun$eagerlyExecuteCommands$5(QueryExecution.scala:499)\n\tat com.databricks.util.LexicalThreadLocal$Handle.runWith(LexicalThreadLocal.scala:63)\n\tat org.apache.spark.sql.execution.QueryExecution.$anonfun$eagerlyExecuteCommands$4(QueryExecution.scala:499)\n\tat org.apache.spark.sql.catalyst.QueryPlanningTracker$.withTracker(QueryPlanningTracker.scala:267)\n\tat org.apache.spark.sql.execution.QueryExecution.$anonfun$eagerlyExecuteCommands$3(QueryExecution.scala:498)\n\tat org.apache.spark.sql.execution.SQLExecution$.$anonfun$withNewExecutionId0$17(SQLExecution.scala:582)\n\tat com.databricks.sql.util.MemoryTrackerHelper.withMemoryTracking(MemoryTrackerHelper.scala:111)\n\tat org.apache.spark.sql.execution.SQLExecution$.$anonfun$withNewExecutionId0$15(SQLExecution.scala:496)\n\tat org.apache.spark.sql.execution.SQLExecution$.withSessionTagsApplied(SQLExecution.scala:898)\n\tat org.apache.spark.sql.execution.SQLExecution$.$anonfun$withNewExecutionId0$14(SQLExecution.scala:418)\n\tat org.apache.spark.JobArtifactSet$.withActiveJobArtifactState(JobArtifactSet.scala:97)\n\tat org.apache.spark.sql.artifact.ArtifactManager.$anonfun$withResources$1(ArtifactManager.scala:121)\n\tat org.apache.spark.sql.artifact.ArtifactManager.withClassLoaderIfNeeded(ArtifactManager.scala:115)\n\tat org.apache.spark.sql.artifact.ArtifactManager.withResources(ArtifactManager.scala:120)\n\tat org.apache.spark.sql.execution.SQLExecution$.$anonfun$withNewExecutionId0$13(SQLExecution.scala:418)\n\tat org.apache.spark.sql.execution.SQLExecution$.withSQLConfPropagated(SQLExecution.scala:933)\n\tat org.apache.spark.sql.execution.SQLExecution$.$anonfun$withNewExecutionId0$1(SQLExecution.scala:417)\n\tat org.apache.spark.sql.SparkSession.withActive(SparkSession.scala:860)\n\tat org.apache.spark.sql.execution.SQLExecution$.withNewExecutionId0(SQLExecution.scala:240)\n\tat org.apache.spark.sql.execution.SQLExecution$.withNewExecutionId(SQLExecution.scala:851)\n\tat org.apache.spark.sql.execution.QueryExecution.$anonfun$eagerlyExecuteCommands$2(QueryExecution.scala:494)\n\tat org.apache.spark.sql.execution.QueryExecution$.withInternalError(QueryExecution.scala:1472)\n\tat org.apache.spark.sql.execution.QueryExecution.$anonfun$eagerlyExecuteCommands$1(QueryExecution.scala:490)\n\tat org.apache.spark.sql.execution.QueryExecution.withMVTagsIfNecessary(QueryExecution.scala:432)\n\tat org.apache.spark.sql.execution.QueryExecution.org$apache$spark$sql$execution$QueryExecution$$eagerlyExecute$1(QueryExecution.scala:488)\n\tat org.apache.spark.sql.execution.QueryExecution$$anonfun$$nestedInanonfun$eagerlyExecuteCommands$8$1.applyOrElse(QueryExecution.scala:591)\n\tat org.apache.spark.sql.execution.QueryExecution$$anonfun$$nestedInanonfun$eagerlyExecuteCommands$8$1.applyOrElse(QueryExecution.scala:583)\n\tat org.apache.spark.sql.catalyst.trees.TreeNode.$anonfun$transformDownWithPruning$1(TreeNode.scala:530)\n\tat org.apache.spark.sql.catalyst.trees.CurrentOrigin$.withOrigin(origin.scala:121)\n\tat org.apache.spark.sql.catalyst.trees.TreeNode.transformDownWithPruning(TreeNode.scala:530)\n\tat org.apache.spark.sql.catalyst.plans.logical.LogicalPlan.org$apache$spark$sql$catalyst$plans$logical$AnalysisHelper$$super$transformDownWithPruning(LogicalPlan.scala:45)\n\tat org.apache.spark.sql.catalyst.plans.logical.AnalysisHelper.transformDownWithPruning(AnalysisHelper.scala:361)\n\tat org.apache.spark.sql.catalyst.plans.logical.AnalysisHelper.transformDownWithPruning$(AnalysisHelper.scala:357)\n\tat org.apache.spark.sql.catalyst.plans.logical.LogicalPlan.transformDownWithPruning(LogicalPlan.scala:45)\n\tat org.apache.spark.sql.catalyst.plans.logical.LogicalPlan.transformDownWithPruning(LogicalPlan.scala:45)\n\tat org.apache.spark.sql.catalyst.trees.TreeNode.transformDown(TreeNode.scala:506)\n\tat org.apache.spark.sql.execution.QueryExecution.$anonfun$eagerlyExecuteCommands$8(QueryExecution.scala:583)\n\tat org.apache.spark.sql.catalyst.plans.logical.AnalysisHelper$.allowInvokingTransformsInAnalyzer(AnalysisHelper.scala:418)\n\tat org.apache.spark.sql.execution.QueryExecution.eagerlyExecuteCommands(QueryExecution.scala:583)\n\tat org.apache.spark.sql.execution.QueryExecution.$anonfun$lazyCommandExecuted$1(QueryExecution.scala:388)\n\tat scala.util.Try$.apply(Try.scala:217)\n\tat org.apache.spark.util.Utils$.doTryWithCallerStacktrace(Utils.scala:1687)\n\tat org.apache.spark.util.Utils$.getTryWithCallerStacktrace(Utils.scala:1748)\n\tat org.apache.spark.util.LazyTry.get(LazyTry.scala:75)\n\tat org.apache.spark.sql.execution.QueryExecution.commandExecuted(QueryExecution.scala:393)\n\tat org.apache.spark.sql.execution.QueryExecution.assertCommandExecuted(QueryExecution.scala:619)\n\tat org.apache.spark.sql.classic.DataFrameWriter.runCommand(DataFrameWriter.scala:815)\n\tat org.apache.spark.sql.classic.DataFrameWriter.saveToV1Source(DataFrameWriter.scala:341)\n\tat org.apache.spark.sql.classic.DataFrameWriter.saveInternal(DataFrameWriter.scala:303)\n\tat org.apache.spark.sql.classic.DataFrameWriter.save(DataFrameWriter.scala:150)\n\tat org.apache.spark.sql.connect.planner.SparkConnectPlanner.handleWriteOperation(SparkConnectPlanner.scala:3807)\n\tat org.apache.spark.sql.connect.planner.SparkConnectPlanner.process(SparkConnectPlanner.scala:3247)\n\tat org.apache.spark.sql.connect.execution.ExecuteThreadRunner.handleCommand(ExecuteThreadRunner.scala:383)\n\tat org.apache.spark.sql.connect.execution.ExecuteThreadRunner.$anonfun$executeInternal$1(ExecuteThreadRunner.scala:280)\n\tat org.apache.spark.sql.connect.execution.ExecuteThreadRunner.$anonfun$executeInternal$1$adapted(ExecuteThreadRunner.scala:237)\n\tat org.apache.spark.sql.connect.service.SessionHolder.$anonfun$withSession$2(SessionHolder.scala:474)\n\tat org.apache.spark.sql.SparkSession.withActive(SparkSession.scala:860)\n\tat org.apache.spark.sql.connect.service.SessionHolder.$anonfun$withSession$1(SessionHolder.scala:474)\n\tat org.apache.spark.JobArtifactSet$.withActiveJobArtifactState(JobArtifactSet.scala:97)\n\tat org.apache.spark.sql.artifact.ArtifactManager.$anonfun$withResources$1(ArtifactManager.scala:121)\n\tat org.apache.spark.sql.artifact.ArtifactManager.withClassLoaderIfNeeded(ArtifactManager.scala:115)\n\tat org.apache.spark.sql.artifact.ArtifactManager.withResources(ArtifactManager.scala:120)\n\tat org.apache.spark.sql.connect.service.SessionHolder.withSession(SessionHolder.scala:473)\n\tat org.apache.spark.sql.connect.execution.ExecuteThreadRunner.executeInternal(ExecuteThreadRunner.scala:237)\n\tat org.apache.spark.sql.connect.execution.ExecuteThreadRunner.$anonfun$execute$1(ExecuteThreadRunner.scala:140)\n\tat scala.runtime.java8.JFunction0$mcV$sp.apply(JFunction0$mcV$sp.scala:18)\n\tat com.databricks.spark.connect.service.UtilizationMetrics.recordActiveQueries(UtilizationMetrics.scala:43)\n\tat com.databricks.spark.connect.service.UtilizationMetrics.recordActiveQueries$(UtilizationMetrics.scala:40)\n\tat org.apache.spark.sql.connect.execution.ExecuteThreadRunner.recordActiveQueries(ExecuteThreadRunner.scala:52)\n\tat org.apache.spark.sql.connect.execution.ExecuteThreadRunner.org$apache$spark$sql$connect$execution$ExecuteThreadRunner$$execute(ExecuteThreadRunner.scala:138)\n\tat org.apache.spark.sql.connect.execution.ExecuteThreadRunner$ExecutionThread.$anonfun$run$2(ExecuteThreadRunner.scala:584)\n\tat scala.runtime.java8.JFunction0$mcV$sp.apply(JFunction0$mcV$sp.scala:18)\n\tat com.databricks.unity.UCSEphemeralState$Handle.runWith(UCSEphemeralState.scala:51)\n\tat com.databricks.unity.HandleImpl.runWith(UCSHandle.scala:104)\n\tat com.databricks.unity.HandleImpl.$anonfun$runWithAndClose$1(UCSHandle.scala:109)\n\tat scala.util.Using$.resource(Using.scala:296)\n\tat com.databricks.unity.HandleImpl.runWithAndClose(UCSHandle.scala:108)\n\tat org.apache.spark.sql.connect.execution.ExecuteThreadRunner$ExecutionThread.run(ExecuteThreadRunner.scala:584)",
        "startIndex": null,
        "stopIndex": null
       },
       "stackFrames": [
        "\u001B[0;31m---------------------------------------------------------------------------\u001B[0m",
        "\u001B[0;31mAnalysisException\u001B[0m                         Traceback (most recent call last)",
        "File \u001B[0;32m<command-4523288295027597>, line 6\u001B[0m\n\u001B[1;32m      1\u001B[0m df \u001B[38;5;241m=\u001B[39m spark\u001B[38;5;241m.\u001B[39mread\u001B[38;5;241m.\u001B[39mcsv(\n\u001B[1;32m      2\u001B[0m     path\u001B[38;5;241m=\u001B[39m\u001B[38;5;124m\"\u001B[39m\u001B[38;5;124m/Volumes/quickstart_catalog/quickstart_schema/sandbox/dataset/sample_dataset/users_001.csv\u001B[39m\u001B[38;5;124m\"\u001B[39m,\n\u001B[1;32m      3\u001B[0m     header\u001B[38;5;241m=\u001B[39m\u001B[38;5;28;01mTrue\u001B[39;00m,\n\u001B[1;32m      4\u001B[0m     inferSchema\u001B[38;5;241m=\u001B[39m\u001B[38;5;28;01mTrue\u001B[39;00m,\n\u001B[1;32m      5\u001B[0m )\n\u001B[0;32m----> 6\u001B[0m df\u001B[38;5;241m.\u001B[39mwrite\u001B[38;5;241m.\u001B[39mformat(\u001B[38;5;124m\"\u001B[39m\u001B[38;5;124mparquet\u001B[39m\u001B[38;5;124m\"\u001B[39m)\u001B[38;5;241m.\u001B[39msave(\n\u001B[1;32m      7\u001B[0m     \u001B[38;5;124m\"\u001B[39m\u001B[38;5;124m/Volumes/quickstart_catalog/quickstart_schema/sandbox/output_parquet_new\u001B[39m\u001B[38;5;124m\"\u001B[39m\n\u001B[1;32m      8\u001B[0m )\n",
        "File \u001B[0;32m/databricks/python/lib/python3.12/site-packages/pyspark/sql/connect/readwriter.py:679\u001B[0m, in \u001B[0;36mDataFrameWriter.save\u001B[0;34m(self, path, format, mode, partitionBy, **options)\u001B[0m\n\u001B[1;32m    677\u001B[0m     \u001B[38;5;28mself\u001B[39m\u001B[38;5;241m.\u001B[39mformat(\u001B[38;5;28mformat\u001B[39m)\n\u001B[1;32m    678\u001B[0m \u001B[38;5;28mself\u001B[39m\u001B[38;5;241m.\u001B[39m_write\u001B[38;5;241m.\u001B[39mpath \u001B[38;5;241m=\u001B[39m path\n\u001B[0;32m--> 679\u001B[0m _, _, ei \u001B[38;5;241m=\u001B[39m \u001B[38;5;28mself\u001B[39m\u001B[38;5;241m.\u001B[39m_spark\u001B[38;5;241m.\u001B[39mclient\u001B[38;5;241m.\u001B[39mexecute_command(\n\u001B[1;32m    680\u001B[0m     \u001B[38;5;28mself\u001B[39m\u001B[38;5;241m.\u001B[39m_write\u001B[38;5;241m.\u001B[39mcommand(\u001B[38;5;28mself\u001B[39m\u001B[38;5;241m.\u001B[39m_spark\u001B[38;5;241m.\u001B[39mclient), \u001B[38;5;28mself\u001B[39m\u001B[38;5;241m.\u001B[39m_write\u001B[38;5;241m.\u001B[39mobservations\n\u001B[1;32m    681\u001B[0m )\n\u001B[1;32m    682\u001B[0m \u001B[38;5;28mself\u001B[39m\u001B[38;5;241m.\u001B[39m_callback(ei)\n",
        "File \u001B[0;32m/databricks/python/lib/python3.12/site-packages/pyspark/sql/connect/client/core.py:1483\u001B[0m, in \u001B[0;36mSparkConnectClient.execute_command\u001B[0;34m(self, command, observations, extra_request_metadata)\u001B[0m\n\u001B[1;32m   1481\u001B[0m     req\u001B[38;5;241m.\u001B[39muser_context\u001B[38;5;241m.\u001B[39muser_id \u001B[38;5;241m=\u001B[39m \u001B[38;5;28mself\u001B[39m\u001B[38;5;241m.\u001B[39m_user_id\n\u001B[1;32m   1482\u001B[0m req\u001B[38;5;241m.\u001B[39mplan\u001B[38;5;241m.\u001B[39mcommand\u001B[38;5;241m.\u001B[39mCopyFrom(command)\n\u001B[0;32m-> 1483\u001B[0m data, _, metrics, observed_metrics, properties \u001B[38;5;241m=\u001B[39m \u001B[38;5;28mself\u001B[39m\u001B[38;5;241m.\u001B[39m_execute_and_fetch(\n\u001B[1;32m   1484\u001B[0m     req, observations \u001B[38;5;129;01mor\u001B[39;00m {}, extra_request_metadata\n\u001B[1;32m   1485\u001B[0m )\n\u001B[1;32m   1486\u001B[0m \u001B[38;5;66;03m# Create a query execution object.\u001B[39;00m\n\u001B[1;32m   1487\u001B[0m ei \u001B[38;5;241m=\u001B[39m ExecutionInfo(metrics, observed_metrics)\n",
        "File \u001B[0;32m/databricks/python/lib/python3.12/site-packages/pyspark/sql/connect/client/core.py:1972\u001B[0m, in \u001B[0;36mSparkConnectClient._execute_and_fetch\u001B[0;34m(self, req, observations, extra_request_metadata, self_destruct)\u001B[0m\n\u001B[1;32m   1969\u001B[0m properties: Dict[\u001B[38;5;28mstr\u001B[39m, Any] \u001B[38;5;241m=\u001B[39m {}\n\u001B[1;32m   1971\u001B[0m \u001B[38;5;28;01mwith\u001B[39;00m Progress(handlers\u001B[38;5;241m=\u001B[39m\u001B[38;5;28mself\u001B[39m\u001B[38;5;241m.\u001B[39m_progress_handlers, operation_id\u001B[38;5;241m=\u001B[39mreq\u001B[38;5;241m.\u001B[39moperation_id) \u001B[38;5;28;01mas\u001B[39;00m progress:\n\u001B[0;32m-> 1972\u001B[0m     \u001B[38;5;28;01mfor\u001B[39;00m response \u001B[38;5;129;01min\u001B[39;00m \u001B[38;5;28mself\u001B[39m\u001B[38;5;241m.\u001B[39m_execute_and_fetch_as_iterator(\n\u001B[1;32m   1973\u001B[0m         req, observations, extra_request_metadata \u001B[38;5;129;01mor\u001B[39;00m [], progress\u001B[38;5;241m=\u001B[39mprogress\n\u001B[1;32m   1974\u001B[0m     ):\n\u001B[1;32m   1975\u001B[0m         \u001B[38;5;28;01mif\u001B[39;00m \u001B[38;5;28misinstance\u001B[39m(response, StructType):\n\u001B[1;32m   1976\u001B[0m             schema \u001B[38;5;241m=\u001B[39m response\n",
        "File \u001B[0;32m/databricks/python/lib/python3.12/site-packages/pyspark/sql/connect/client/core.py:1948\u001B[0m, in \u001B[0;36mSparkConnectClient._execute_and_fetch_as_iterator\u001B[0;34m(self, req, observations, extra_request_metadata, progress)\u001B[0m\n\u001B[1;32m   1946\u001B[0m     \u001B[38;5;28;01mraise\u001B[39;00m kb\n\u001B[1;32m   1947\u001B[0m \u001B[38;5;28;01mexcept\u001B[39;00m \u001B[38;5;167;01mException\u001B[39;00m \u001B[38;5;28;01mas\u001B[39;00m error:\n\u001B[0;32m-> 1948\u001B[0m     \u001B[38;5;28mself\u001B[39m\u001B[38;5;241m.\u001B[39m_handle_error(error)\n",
        "File \u001B[0;32m/databricks/python/lib/python3.12/site-packages/pyspark/sql/connect/client/core.py:2268\u001B[0m, in \u001B[0;36mSparkConnectClient._handle_error\u001B[0;34m(self, error)\u001B[0m\n\u001B[1;32m   2266\u001B[0m \u001B[38;5;28mself\u001B[39m\u001B[38;5;241m.\u001B[39mthread_local\u001B[38;5;241m.\u001B[39minside_error_handling \u001B[38;5;241m=\u001B[39m \u001B[38;5;28;01mTrue\u001B[39;00m\n\u001B[1;32m   2267\u001B[0m \u001B[38;5;28;01mif\u001B[39;00m \u001B[38;5;28misinstance\u001B[39m(error, grpc\u001B[38;5;241m.\u001B[39mRpcError):\n\u001B[0;32m-> 2268\u001B[0m     \u001B[38;5;28mself\u001B[39m\u001B[38;5;241m.\u001B[39m_handle_rpc_error(error)\n\u001B[1;32m   2269\u001B[0m \u001B[38;5;28;01melif\u001B[39;00m \u001B[38;5;28misinstance\u001B[39m(error, \u001B[38;5;167;01mValueError\u001B[39;00m):\n\u001B[1;32m   2270\u001B[0m     \u001B[38;5;28;01mif\u001B[39;00m \u001B[38;5;124m\"\u001B[39m\u001B[38;5;124mCannot invoke RPC\u001B[39m\u001B[38;5;124m\"\u001B[39m \u001B[38;5;129;01min\u001B[39;00m \u001B[38;5;28mstr\u001B[39m(error) \u001B[38;5;129;01mand\u001B[39;00m \u001B[38;5;124m\"\u001B[39m\u001B[38;5;124mclosed\u001B[39m\u001B[38;5;124m\"\u001B[39m \u001B[38;5;129;01min\u001B[39;00m \u001B[38;5;28mstr\u001B[39m(error):\n",
        "File \u001B[0;32m/databricks/python/lib/python3.12/site-packages/pyspark/sql/connect/client/core.py:2351\u001B[0m, in \u001B[0;36mSparkConnectClient._handle_rpc_error\u001B[0;34m(self, rpc_error)\u001B[0m\n\u001B[1;32m   2347\u001B[0m             logger\u001B[38;5;241m.\u001B[39mdebug(\u001B[38;5;124mf\u001B[39m\u001B[38;5;124m\"\u001B[39m\u001B[38;5;124mReceived ErrorInfo: \u001B[39m\u001B[38;5;132;01m{\u001B[39;00minfo\u001B[38;5;132;01m}\u001B[39;00m\u001B[38;5;124m\"\u001B[39m)\n\u001B[1;32m   2349\u001B[0m             \u001B[38;5;28mself\u001B[39m\u001B[38;5;241m.\u001B[39m_handle_rpc_error_with_error_info(info, status\u001B[38;5;241m.\u001B[39mmessage, status_code)  \u001B[38;5;66;03m# EDGE\u001B[39;00m\n\u001B[0;32m-> 2351\u001B[0m             \u001B[38;5;28;01mraise\u001B[39;00m convert_exception(\n\u001B[1;32m   2352\u001B[0m                 info,\n\u001B[1;32m   2353\u001B[0m                 status\u001B[38;5;241m.\u001B[39mmessage,\n\u001B[1;32m   2354\u001B[0m                 \u001B[38;5;28mself\u001B[39m\u001B[38;5;241m.\u001B[39m_fetch_enriched_error(info),\n\u001B[1;32m   2355\u001B[0m                 \u001B[38;5;28mself\u001B[39m\u001B[38;5;241m.\u001B[39m_display_server_stack_trace(),\n\u001B[1;32m   2356\u001B[0m             ) \u001B[38;5;28;01mfrom\u001B[39;00m \u001B[38;5;28;01mNone\u001B[39;00m\n\u001B[1;32m   2358\u001B[0m     \u001B[38;5;28;01mraise\u001B[39;00m SparkConnectGrpcException(\n\u001B[1;32m   2359\u001B[0m         message\u001B[38;5;241m=\u001B[39mstatus\u001B[38;5;241m.\u001B[39mmessage,\n\u001B[1;32m   2360\u001B[0m         sql_state\u001B[38;5;241m=\u001B[39mErrorCode\u001B[38;5;241m.\u001B[39mCLIENT_UNEXPECTED_MISSING_SQL_STATE,  \u001B[38;5;66;03m# EDGE\u001B[39;00m\n\u001B[1;32m   2361\u001B[0m     ) \u001B[38;5;28;01mfrom\u001B[39;00m \u001B[38;5;28;01mNone\u001B[39;00m\n\u001B[1;32m   2362\u001B[0m \u001B[38;5;28;01melse\u001B[39;00m:\n",
        "\u001B[0;31mAnalysisException\u001B[0m: [PATH_ALREADY_EXISTS] Path dbfs:/Volumes/quickstart_catalog/quickstart_schema/sandbox/output_parquet_new already exists. Set mode as \"overwrite\" to overwrite the existing path. SQLSTATE: 42K04\n\nJVM stacktrace:\norg.apache.spark.sql.AnalysisException\n\tat org.apache.spark.sql.errors.QueryCompilationErrors$.outputPathAlreadyExistsError(QueryCompilationErrors.scala:2743)\n\tat org.apache.spark.sql.execution.datasources.InsertIntoHadoopFsRelationCommand.run(InsertIntoHadoopFsRelationCommand.scala:146)\n\tat org.apache.spark.sql.execution.command.DataWritingCommandExec.$anonfun$sideEffectResult$5(commands.scala:140)\n\tat org.apache.spark.sql.execution.SparkPlan.runCommandInAetherOrSpark(SparkPlan.scala:195)\n\tat org.apache.spark.sql.execution.command.DataWritingCommandExec.$anonfun$sideEffectResult$4(commands.scala:140)\n\tat com.databricks.spark.util.FrameProfiler$.$anonfun$record$1(FrameProfiler.scala:114)\n\tat com.databricks.spark.util.FrameProfilerExporter$.maybeExportFrameProfiler(FrameProfilerExporter.scala:200)\n\tat com.databricks.spark.util.FrameProfiler$.record(FrameProfiler.scala:105)\n\tat org.apache.spark.sql.execution.command.DataWritingCommandExec.sideEffectResult$lzycompute(commands.scala:136)\n\tat org.apache.spark.sql.execution.command.DataWritingCommandExec.sideEffectResult(commands.scala:135)\n\tat org.apache.spark.sql.execution.command.DataWritingCommandExec.executeCollect(commands.scala:152)\n\tat org.apache.spark.sql.execution.QueryExecution.$anonfun$eagerlyExecuteCommands$5(QueryExecution.scala:499)\n\tat com.databricks.util.LexicalThreadLocal$Handle.runWith(LexicalThreadLocal.scala:63)\n\tat org.apache.spark.sql.execution.QueryExecution.$anonfun$eagerlyExecuteCommands$4(QueryExecution.scala:499)\n\tat org.apache.spark.sql.catalyst.QueryPlanningTracker$.withTracker(QueryPlanningTracker.scala:267)\n\tat org.apache.spark.sql.execution.QueryExecution.$anonfun$eagerlyExecuteCommands$3(QueryExecution.scala:498)\n\tat org.apache.spark.sql.execution.SQLExecution$.$anonfun$withNewExecutionId0$17(SQLExecution.scala:582)\n\tat com.databricks.sql.util.MemoryTrackerHelper.withMemoryTracking(MemoryTrackerHelper.scala:111)\n\tat org.apache.spark.sql.execution.SQLExecution$.$anonfun$withNewExecutionId0$15(SQLExecution.scala:496)\n\tat org.apache.spark.sql.execution.SQLExecution$.withSessionTagsApplied(SQLExecution.scala:898)\n\tat org.apache.spark.sql.execution.SQLExecution$.$anonfun$withNewExecutionId0$14(SQLExecution.scala:418)\n\tat org.apache.spark.JobArtifactSet$.withActiveJobArtifactState(JobArtifactSet.scala:97)\n\tat org.apache.spark.sql.artifact.ArtifactManager.$anonfun$withResources$1(ArtifactManager.scala:121)\n\tat org.apache.spark.sql.artifact.ArtifactManager.withClassLoaderIfNeeded(ArtifactManager.scala:115)\n\tat org.apache.spark.sql.artifact.ArtifactManager.withResources(ArtifactManager.scala:120)\n\tat org.apache.spark.sql.execution.SQLExecution$.$anonfun$withNewExecutionId0$13(SQLExecution.scala:418)\n\tat org.apache.spark.sql.execution.SQLExecution$.withSQLConfPropagated(SQLExecution.scala:933)\n\tat org.apache.spark.sql.execution.SQLExecution$.$anonfun$withNewExecutionId0$1(SQLExecution.scala:417)\n\tat org.apache.spark.sql.SparkSession.withActive(SparkSession.scala:860)\n\tat org.apache.spark.sql.execution.SQLExecution$.withNewExecutionId0(SQLExecution.scala:240)\n\tat org.apache.spark.sql.execution.SQLExecution$.withNewExecutionId(SQLExecution.scala:851)\n\tat org.apache.spark.sql.execution.QueryExecution.$anonfun$eagerlyExecuteCommands$2(QueryExecution.scala:494)\n\tat org.apache.spark.sql.execution.QueryExecution$.withInternalError(QueryExecution.scala:1472)\n\tat org.apache.spark.sql.execution.QueryExecution.$anonfun$eagerlyExecuteCommands$1(QueryExecution.scala:490)\n\tat org.apache.spark.sql.execution.QueryExecution.withMVTagsIfNecessary(QueryExecution.scala:432)\n\tat org.apache.spark.sql.execution.QueryExecution.org$apache$spark$sql$execution$QueryExecution$$eagerlyExecute$1(QueryExecution.scala:488)\n\tat org.apache.spark.sql.execution.QueryExecution$$anonfun$$nestedInanonfun$eagerlyExecuteCommands$8$1.applyOrElse(QueryExecution.scala:591)\n\tat org.apache.spark.sql.execution.QueryExecution$$anonfun$$nestedInanonfun$eagerlyExecuteCommands$8$1.applyOrElse(QueryExecution.scala:583)\n\tat org.apache.spark.sql.catalyst.trees.TreeNode.$anonfun$transformDownWithPruning$1(TreeNode.scala:530)\n\tat org.apache.spark.sql.catalyst.trees.CurrentOrigin$.withOrigin(origin.scala:121)\n\tat org.apache.spark.sql.catalyst.trees.TreeNode.transformDownWithPruning(TreeNode.scala:530)\n\tat org.apache.spark.sql.catalyst.plans.logical.LogicalPlan.org$apache$spark$sql$catalyst$plans$logical$AnalysisHelper$$super$transformDownWithPruning(LogicalPlan.scala:45)\n\tat org.apache.spark.sql.catalyst.plans.logical.AnalysisHelper.transformDownWithPruning(AnalysisHelper.scala:361)\n\tat org.apache.spark.sql.catalyst.plans.logical.AnalysisHelper.transformDownWithPruning$(AnalysisHelper.scala:357)\n\tat org.apache.spark.sql.catalyst.plans.logical.LogicalPlan.transformDownWithPruning(LogicalPlan.scala:45)\n\tat org.apache.spark.sql.catalyst.plans.logical.LogicalPlan.transformDownWithPruning(LogicalPlan.scala:45)\n\tat org.apache.spark.sql.catalyst.trees.TreeNode.transformDown(TreeNode.scala:506)\n\tat org.apache.spark.sql.execution.QueryExecution.$anonfun$eagerlyExecuteCommands$8(QueryExecution.scala:583)\n\tat org.apache.spark.sql.catalyst.plans.logical.AnalysisHelper$.allowInvokingTransformsInAnalyzer(AnalysisHelper.scala:418)\n\tat org.apache.spark.sql.execution.QueryExecution.eagerlyExecuteCommands(QueryExecution.scala:583)\n\tat org.apache.spark.sql.execution.QueryExecution.$anonfun$lazyCommandExecuted$1(QueryExecution.scala:388)\n\tat scala.util.Try$.apply(Try.scala:217)\n\tat org.apache.spark.util.Utils$.doTryWithCallerStacktrace(Utils.scala:1687)\n\tat org.apache.spark.util.Utils$.getTryWithCallerStacktrace(Utils.scala:1748)\n\tat org.apache.spark.util.LazyTry.get(LazyTry.scala:75)\n\tat org.apache.spark.sql.execution.QueryExecution.commandExecuted(QueryExecution.scala:393)\n\tat org.apache.spark.sql.execution.QueryExecution.assertCommandExecuted(QueryExecution.scala:619)\n\tat org.apache.spark.sql.classic.DataFrameWriter.runCommand(DataFrameWriter.scala:815)\n\tat org.apache.spark.sql.classic.DataFrameWriter.saveToV1Source(DataFrameWriter.scala:341)\n\tat org.apache.spark.sql.classic.DataFrameWriter.saveInternal(DataFrameWriter.scala:303)\n\tat org.apache.spark.sql.classic.DataFrameWriter.save(DataFrameWriter.scala:150)\n\tat org.apache.spark.sql.connect.planner.SparkConnectPlanner.handleWriteOperation(SparkConnectPlanner.scala:3807)\n\tat org.apache.spark.sql.connect.planner.SparkConnectPlanner.process(SparkConnectPlanner.scala:3247)\n\tat org.apache.spark.sql.connect.execution.ExecuteThreadRunner.handleCommand(ExecuteThreadRunner.scala:383)\n\tat org.apache.spark.sql.connect.execution.ExecuteThreadRunner.$anonfun$executeInternal$1(ExecuteThreadRunner.scala:280)\n\tat org.apache.spark.sql.connect.execution.ExecuteThreadRunner.$anonfun$executeInternal$1$adapted(ExecuteThreadRunner.scala:237)\n\tat org.apache.spark.sql.connect.service.SessionHolder.$anonfun$withSession$2(SessionHolder.scala:474)\n\tat org.apache.spark.sql.SparkSession.withActive(SparkSession.scala:860)\n\tat org.apache.spark.sql.connect.service.SessionHolder.$anonfun$withSession$1(SessionHolder.scala:474)\n\tat org.apache.spark.JobArtifactSet$.withActiveJobArtifactState(JobArtifactSet.scala:97)\n\tat org.apache.spark.sql.artifact.ArtifactManager.$anonfun$withResources$1(ArtifactManager.scala:121)\n\tat org.apache.spark.sql.artifact.ArtifactManager.withClassLoaderIfNeeded(ArtifactManager.scala:115)\n\tat org.apache.spark.sql.artifact.ArtifactManager.withResources(ArtifactManager.scala:120)\n\tat org.apache.spark.sql.connect.service.SessionHolder.withSession(SessionHolder.scala:473)\n\tat org.apache.spark.sql.connect.execution.ExecuteThreadRunner.executeInternal(ExecuteThreadRunner.scala:237)\n\tat org.apache.spark.sql.connect.execution.ExecuteThreadRunner.$anonfun$execute$1(ExecuteThreadRunner.scala:140)\n\tat scala.runtime.java8.JFunction0$mcV$sp.apply(JFunction0$mcV$sp.scala:18)\n\tat com.databricks.spark.connect.service.UtilizationMetrics.recordActiveQueries(UtilizationMetrics.scala:43)\n\tat com.databricks.spark.connect.service.UtilizationMetrics.recordActiveQueries$(UtilizationMetrics.scala:40)\n\tat org.apache.spark.sql.connect.execution.ExecuteThreadRunner.recordActiveQueries(ExecuteThreadRunner.scala:52)\n\tat org.apache.spark.sql.connect.execution.ExecuteThreadRunner.org$apache$spark$sql$connect$execution$ExecuteThreadRunner$$execute(ExecuteThreadRunner.scala:138)\n\tat org.apache.spark.sql.connect.execution.ExecuteThreadRunner$ExecutionThread.$anonfun$run$2(ExecuteThreadRunner.scala:584)\n\tat scala.runtime.java8.JFunction0$mcV$sp.apply(JFunction0$mcV$sp.scala:18)\n\tat com.databricks.unity.UCSEphemeralState$Handle.runWith(UCSEphemeralState.scala:51)\n\tat com.databricks.unity.HandleImpl.runWith(UCSHandle.scala:104)\n\tat com.databricks.unity.HandleImpl.$anonfun$runWithAndClose$1(UCSHandle.scala:109)\n\tat scala.util.Using$.resource(Using.scala:296)\n\tat com.databricks.unity.HandleImpl.runWithAndClose(UCSHandle.scala:108)\n\tat org.apache.spark.sql.connect.execution.ExecuteThreadRunner$ExecutionThread.run(ExecuteThreadRunner.scala:584)"
       ],
       "type": "baseError"
      }
     },
     "output_type": "display_data"
    }
   ],
   "source": [
    "df = spark.read.csv(\n",
    "    path=\"/Volumes/quickstart_catalog/quickstart_schema/sandbox/dataset/sample_dataset/users_001.csv\",\n",
    "    header=True,\n",
    "    inferSchema=True,\n",
    ")\n",
    "df.write.format(\"parquet\").save(\n",
    "    \"/Volumes/quickstart_catalog/quickstart_schema/sandbox/output_parquet_new\"\n",
    ")"
   ]
  },
  {
   "cell_type": "markdown",
   "metadata": {
    "application/vnd.databricks.v1+cell": {
     "cellMetadata": {},
     "inputWidgets": {},
     "nuid": "7a8814a4-9c7e-4786-917d-74eeaebf9065",
     "showTitle": false,
     "tableResultSettingsMap": {},
     "title": ""
    }
   },
   "source": [
    "### overwrite"
   ]
  },
  {
   "cell_type": "code",
   "execution_count": 0,
   "metadata": {
    "application/vnd.databricks.v1+cell": {
     "cellMetadata": {
      "byteLimit": 2048000,
      "rowLimit": 10000
     },
     "inputWidgets": {},
     "nuid": "7da5f9f3-2136-4075-b1e5-092693926cc3",
     "showTitle": false,
     "tableResultSettingsMap": {},
     "title": ""
    }
   },
   "outputs": [],
   "source": [
    "df = spark.read.csv(\n",
    "    path=\"/Volumes/quickstart_catalog/quickstart_schema/sandbox/dataset/sample_dataset/users_001.csv\",\n",
    "    header=True,\n",
    "    inferSchema=True,\n",
    ")\n",
    "df.write.format(\"parquet\").save(\n",
    "    \"/Volumes/quickstart_catalog/quickstart_schema/sandbox/output_parquet_new\",\n",
    "    mode=\"overwrite\",\n",
    ")"
   ]
  },
  {
   "cell_type": "markdown",
   "metadata": {
    "application/vnd.databricks.v1+cell": {
     "cellMetadata": {},
     "inputWidgets": {},
     "nuid": "5ef53323-ff2a-4d53-b367-c4735f7e1c05",
     "showTitle": false,
     "tableResultSettingsMap": {},
     "title": ""
    }
   },
   "source": [
    "### append"
   ]
  },
  {
   "cell_type": "code",
   "execution_count": 0,
   "metadata": {
    "application/vnd.databricks.v1+cell": {
     "cellMetadata": {
      "byteLimit": 2048000,
      "rowLimit": 10000
     },
     "inputWidgets": {},
     "nuid": "694442f3-3bd5-426b-81e8-55f6e6c06621",
     "showTitle": false,
     "tableResultSettingsMap": {},
     "title": ""
    }
   },
   "outputs": [],
   "source": [
    "df = spark.read.csv(\n",
    "    path=\"/Volumes/quickstart_catalog/quickstart_schema/sandbox/dataset/sample_dataset/users_001.csv\",\n",
    "    header=True,\n",
    "    inferSchema=True,\n",
    ")\n",
    "df.write.format(\"parquet\").save(\n",
    "    \"/Volumes/quickstart_catalog/quickstart_schema/sandbox/output_parquet_new\",\n",
    "    mode=\"append\",\n",
    ")"
   ]
  },
  {
   "cell_type": "markdown",
   "metadata": {
    "application/vnd.databricks.v1+cell": {
     "cellMetadata": {},
     "inputWidgets": {},
     "nuid": "6bc0c138-527d-433e-9586-b28e3150d07f",
     "showTitle": false,
     "tableResultSettingsMap": {},
     "title": ""
    }
   },
   "source": [
    "### Ignore"
   ]
  },
  {
   "cell_type": "code",
   "execution_count": 0,
   "metadata": {
    "application/vnd.databricks.v1+cell": {
     "cellMetadata": {
      "byteLimit": 2048000,
      "rowLimit": 10000
     },
     "inputWidgets": {},
     "nuid": "53acba23-b13a-46bc-a8c6-93601005965b",
     "showTitle": false,
     "tableResultSettingsMap": {},
     "title": ""
    }
   },
   "outputs": [],
   "source": [
    "df = spark.read.csv(\n",
    "    path=\"/Volumes/quickstart_catalog/quickstart_schema/sandbox/dataset/sample_dataset/users_001.csv\",\n",
    "    header=True,\n",
    "    inferSchema=True,\n",
    ")\n",
    "df.write.format(\"parquet\").save(\n",
    "    \"/Volumes/quickstart_catalog/quickstart_schema/sandbox/output_parquet_new\",\n",
    "    mode=\"ignore\",\n",
    ")"
   ]
  },
  {
   "cell_type": "code",
   "execution_count": 0,
   "metadata": {
    "application/vnd.databricks.v1+cell": {
     "cellMetadata": {},
     "inputWidgets": {},
     "nuid": "6baab31e-207d-49a1-b57d-d53e7b3466e9",
     "showTitle": false,
     "tableResultSettingsMap": {},
     "title": ""
    }
   },
   "outputs": [],
   "source": [
    "import pyarrow.parquet as pq\n",
    "\n",
    "user_table = pq.read_table(\"/Volumes/quickstart_catalog/quickstart_schema/sandbox/output_parquet_new\")\n",
    "user_table.to_pandas().Head()"
   ]
  }
 ],
 "metadata": {
  "application/vnd.databricks.v1+notebook": {
   "computePreferences": {
    "hardware": {
     "accelerator": null,
     "gpuPoolId": null,
     "memory": null
    }
   },
   "dashboards": [],
   "environmentMetadata": {
    "base_environment": "",
    "environment_version": "3"
   },
   "inputWidgetPreferences": null,
   "language": "python",
   "notebookMetadata": {
    "pythonIndentUnit": 4
   },
   "notebookName": "01. Exploring Data Source API",
   "widgets": {}
  },
  "language_info": {
   "name": "python"
  }
 },
 "nbformat": 4,
 "nbformat_minor": 0
}