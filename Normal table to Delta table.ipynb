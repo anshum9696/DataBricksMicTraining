{
 "cells": [
  {
   "cell_type": "markdown",
   "metadata": {
    "application/vnd.databricks.v1+cell": {
     "cellMetadata": {},
     "inputWidgets": {},
     "nuid": "de518a8b-470d-4b11-ad1c-3cc39c59d5f0",
     "showTitle": false,
     "tableResultSettingsMap": {},
     "title": ""
    }
   },
   "source": [
    "1. Create a Normal table\n",
    "2. Load the data in normal table"
   ]
  },
  {
   "cell_type": "code",
   "execution_count": 0,
   "metadata": {
    "application/vnd.databricks.v1+cell": {
     "cellMetadata": {
      "byteLimit": 2048000,
      "implicitDf": true,
      "rowLimit": 10000
     },
     "inputWidgets": {},
     "nuid": "0ff8fbfe-833a-482f-8d22-4950d184a904",
     "showTitle": false,
     "tableResultSettingsMap": {},
     "title": ""
    }
   },
   "outputs": [],
   "source": [
    "%sql\n",
    "\n",
    "USE CATALOG dwlabdatabrickstest96_2668138938963399;\n",
    " \n",
    "CREATE TABLE if not EXISTS quickstart_schema.users_int_third (\n",
    "  id INT,\n",
    "  name STRING,\n",
    "  dob DATE,\n",
    "  email STRING,\n",
    "  gender STRING,\n",
    "  country STRING,\n",
    "  region STRING,\n",
    "  city STRING,\n",
    "  asset INT,\n",
    "  marital_status STRING\n",
    ") USING CSV LOCATION '/Volumes/dwlabdatabrickstest96_2668138938963399/quickstart_schema/sandbox/dataset/user_dataset_ext/';\n",
    " \n",
    "DESCRIBE EXTENDED quickstart_schema.users_int_third;"
   ]
  },
  {
   "cell_type": "code",
   "execution_count": 0,
   "metadata": {
    "application/vnd.databricks.v1+cell": {
     "cellMetadata": {},
     "inputWidgets": {},
     "nuid": "3a06e1ab-e64d-4c2a-b8de-5817248f16a9",
     "showTitle": false,
     "tableResultSettingsMap": {},
     "title": ""
    }
   },
   "outputs": [],
   "source": [
    "from pyspark.sql.functions import col\n",
    "df = spark.read.csv(\n",
    "    path=\"/Volumes/dwlabdatabrickstest96_2668138938963399/quickstart_schema/sandbox/dataset/user_dataset/users_001.csv\",\n",
    "    header=True,\n",
    "    inferSchema=True\n",
    ").filter(col(\"region\") == \"Karnataka\").write.saveAsTable(\"quickstart_schema.users_int_temp\", mode=\"overwrite\")"
   ]
  },
  {
   "cell_type": "markdown",
   "metadata": {
    "application/vnd.databricks.v1+cell": {
     "cellMetadata": {},
     "inputWidgets": {},
     "nuid": "369d9125-d34b-4783-9a3f-59098b1fae68",
     "showTitle": false,
     "tableResultSettingsMap": {},
     "title": ""
    }
   },
   "source": [
    "Convert normal table To DELTA parquet"
   ]
  },
  {
   "cell_type": "code",
   "execution_count": 0,
   "metadata": {
    "application/vnd.databricks.v1+cell": {
     "cellMetadata": {
      "byteLimit": 2048000,
      "implicitDf": true,
      "rowLimit": 10000
     },
     "inputWidgets": {},
     "nuid": "69e470cc-4f8d-460f-834f-81ad0360ba78",
     "showTitle": false,
     "tableResultSettingsMap": {},
     "title": ""
    }
   },
   "outputs": [],
   "source": [
    "%sql \n",
    "CONVERT to DELTA parquet.`/Volumes/dwlabdatabrickstest96_2668138938963399/quickstart_schema/sandbox/dataset/sample_dataset/Test/`"
   ]
  }
 ],
 "metadata": {
  "application/vnd.databricks.v1+notebook": {
   "computePreferences": null,
   "dashboards": [],
   "environmentMetadata": {
    "base_environment": "",
    "environment_version": "4"
   },
   "inputWidgetPreferences": null,
   "language": "python",
   "notebookMetadata": {
    "mostRecentlyExecutedCommandWithImplicitDF": {
     "commandId": 6673789372319153,
     "dataframes": [
      "_sqldf"
     ]
    },
    "pythonIndentUnit": 4
   },
   "notebookName": "Normal table to Delta table",
   "widgets": {}
  },
  "language_info": {
   "name": "python"
  }
 },
 "nbformat": 4,
 "nbformat_minor": 0
}
